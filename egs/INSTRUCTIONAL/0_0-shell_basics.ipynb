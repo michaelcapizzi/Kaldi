{
 "cells": [
  {
   "cell_type": "code",
   "execution_count": 8,
   "metadata": {},
   "outputs": [
    {
     "name": "stdout",
     "output_type": "stream",
     "text": [
      "/home/kaldi/egs/INSTRUCTIONAL\n"
     ]
    }
   ],
   "source": [
    "cd ${KALDI_INSTRUCTIONAL_PATH} && pwd"
   ]
  },
  {
   "cell_type": "markdown",
   "metadata": {},
   "source": [
    "# 0.0: `shell` Basics"
   ]
  },
  {
   "cell_type": "markdown",
   "metadata": {},
   "source": [
    "`kaldi` is written in `C++` and then wrapped, primarily in `shell`.  You will *not* be required to modify the `C++` code, but there will be an expectation that you can \"handle yourself\" in `shell`.\n",
    "\n",
    "Here's a good overall `shell` resource: http://www.tldp.org/LDP/Bash-Beginners-Guide/html/index.html"
   ]
  },
  {
   "cell_type": "markdown",
   "metadata": {},
   "source": [
    "Below is a very quick run through the commands that will be used most often:\n",
    " - `echo`\n",
    " - `pwd`\n",
    " - `cd`\n",
    " - `ls`\n",
    " - `mkdir`\n",
    " - `cp`\n",
    " - `mv`\n",
    " - `cat`/`more`\n",
    " - `head`/`tail`\n",
    " - `grep`\n",
    " - `|`\n",
    " - variables\n",
    " - `for` loop\n",
    " - `if`/`then`\n",
    " - `chmod`\n",
    " - `sudo`"
   ]
  },
  {
   "cell_type": "markdown",
   "metadata": {},
   "source": [
    "## `echo`: print"
   ]
  },
  {
   "cell_type": "code",
   "execution_count": 58,
   "metadata": {},
   "outputs": [
    {
     "name": "stdout",
     "output_type": "stream",
     "text": [
      "Hello world\n"
     ]
    }
   ],
   "source": [
    "echo \"Hello world\""
   ]
  },
  {
   "cell_type": "markdown",
   "metadata": {},
   "source": [
    "## `pwd`: print name of current/working directory\n",
    "`pwd` will print out your current (or working) directory"
   ]
  },
  {
   "cell_type": "code",
   "execution_count": 9,
   "metadata": {},
   "outputs": [
    {
     "name": "stdout",
     "output_type": "stream",
     "text": [
      "/home/kaldi/egs/INSTRUCTIONAL\n"
     ]
    }
   ],
   "source": [
    "pwd"
   ]
  },
  {
   "cell_type": "markdown",
   "metadata": {},
   "source": [
    "## `cd`: change directory\n",
    "`cd` changes your location.  If you give it no argument, it changes your working directory to `/root`; otherwise, it changes your working directory to the argument provided."
   ]
  },
  {
   "cell_type": "code",
   "execution_count": 10,
   "metadata": {},
   "outputs": [
    {
     "name": "stdout",
     "output_type": "stream",
     "text": [
      "/root\n"
     ]
    }
   ],
   "source": [
    "cd && pwd    # && can be put between two commands to do them consecutively"
   ]
  },
  {
   "cell_type": "code",
   "execution_count": 11,
   "metadata": {},
   "outputs": [
    {
     "name": "stdout",
     "output_type": "stream",
     "text": [
      "/home/kaldi/egs/INSTRUCTIONAL\n"
     ]
    }
   ],
   "source": [
    "cd /home/kaldi/egs/INSTRUCTIONAL && pwd"
   ]
  },
  {
   "cell_type": "markdown",
   "metadata": {},
   "source": [
    "To move *up* a nested directory tree, you can use `..`.  For example, `cd ..` will change the working directory to `/home/kaldi/egs/` whereas `cd ../..` will change the working directory to `/home/kaldi`.  \n",
    "\n",
    "You can also use a combination of `..` and a path to move *up* and then *back down* another branch."
   ]
  },
  {
   "cell_type": "code",
   "execution_count": 12,
   "metadata": {},
   "outputs": [
    {
     "name": "stdout",
     "output_type": "stream",
     "text": [
      "/home/kaldi/egs/mini_librispeech\n"
     ]
    }
   ],
   "source": [
    "cd ../mini_librispeech && pwd"
   ]
  },
  {
   "cell_type": "markdown",
   "metadata": {},
   "source": [
    "## `ls`: list directory contents\n",
    "`ls` lists directory contents.  If you give it no argument, it lists the contents of current directory; otherwise it lists the contents of the argument provided."
   ]
  },
  {
   "cell_type": "code",
   "execution_count": 13,
   "metadata": {},
   "outputs": [
    {
     "name": "stdout",
     "output_type": "stream",
     "text": [
      "/home/kaldi/egs/mini_librispeech\n",
      "\u001b[0m\u001b[01;34mraw_data\u001b[0m  \u001b[01;34ms5\u001b[0m\n"
     ]
    }
   ],
   "source": [
    "pwd && ls"
   ]
  },
  {
   "cell_type": "code",
   "execution_count": 14,
   "metadata": {},
   "outputs": [
    {
     "name": "stdout",
     "output_type": "stream",
     "text": [
      "\u001b[0m\u001b[01;32mRESULTS\u001b[0m  cmd.sh  \u001b[01;34mconf\u001b[0m  \u001b[01;34mdata\u001b[0m  \u001b[01;34mexp\u001b[0m  \u001b[01;34mlocal\u001b[0m  \u001b[01;34mmfcc\u001b[0m  \u001b[01;32mpath.sh\u001b[0m  \u001b[01;32mrun.sh\u001b[0m  \u001b[01;34msteps\u001b[0m  \u001b[01;34mutils\u001b[0m\n"
     ]
    }
   ],
   "source": [
    "ls ../mini_librispeech/s5"
   ]
  },
  {
   "cell_type": "markdown",
   "metadata": {},
   "source": [
    "Some useful `flag`s to add to `ls` are `-lah`.  \n",
    " - `-l` shows the permissions, size, and last edit date/time for each file\n",
    " - `-a` shows any hidden directories or files (starting with a `.`)\n",
    " - `-h` converts the file sizes to an easier-to-read form"
   ]
  },
  {
   "cell_type": "code",
   "execution_count": 15,
   "metadata": {},
   "outputs": [
    {
     "name": "stdout",
     "output_type": "stream",
     "text": [
      "total 16K\n",
      "drwxr-xr-x  4 root root 4.0K Oct 24 19:23 \u001b[0m\u001b[01;34m.\u001b[0m\n",
      "drwxr-xr-x 53 root root 4.0K Oct 24 19:18 \u001b[01;34m..\u001b[0m\n",
      "drwxr-xr-x  3 root root 4.0K Oct 24 19:23 \u001b[01;34mraw_data\u001b[0m\n",
      "drwxr-xr-x  9 root root 4.0K Oct 24 19:29 \u001b[01;34ms5\u001b[0m\n"
     ]
    }
   ],
   "source": [
    "ls -lah"
   ]
  },
  {
   "cell_type": "markdown",
   "metadata": {},
   "source": [
    "## `mkdir`: make a new directory\n",
    "`mkdir` build make a new directory (folder).  It's safest to use the `-p` flag, as well, as that will automatically build any intermediate directories that don't exist."
   ]
  },
  {
   "cell_type": "code",
   "execution_count": 16,
   "metadata": {},
   "outputs": [],
   "source": [
    "mkdir -p empty_folder_1/empty_folder_2"
   ]
  },
  {
   "cell_type": "code",
   "execution_count": 18,
   "metadata": {},
   "outputs": [
    {
     "name": "stdout",
     "output_type": "stream",
     "text": [
      "\u001b[0m\u001b[01;34mempty_folder_2\u001b[0m\n"
     ]
    }
   ],
   "source": [
    "ls empty_folder_1"
   ]
  },
  {
   "cell_type": "code",
   "execution_count": 19,
   "metadata": {},
   "outputs": [],
   "source": [
    "ls empty_folder_1/empty_folder_2"
   ]
  },
  {
   "cell_type": "markdown",
   "metadata": {},
   "source": [
    "## `cp`: copy files/directories\n",
    "`cp` will copy files and, with the `-r` flag, directories.  It takes two arguments, the first is the thing to copy and the second is the location to copy it to."
   ]
  },
  {
   "cell_type": "code",
   "execution_count": 20,
   "metadata": {},
   "outputs": [
    {
     "name": "stdout",
     "output_type": "stream",
     "text": [
      "0_0-shell_basics.ipynb                README.txt             \u001b[0m\u001b[01;34mnotebook_images\u001b[0m\n",
      "0_1-functionality_confirmation.ipynb  cmd.sh                 \u001b[01;32mpath.sh\u001b[0m\n",
      "1_1-download_librispeech_files.ipynb  kaldi_parameters.json  \u001b[01;32mstart_jupyter.sh\u001b[0m\n",
      "1_2-required_files.ipynb              \u001b[01;34mlocal\u001b[0m                  \u001b[01;34mutils\u001b[0m\n"
     ]
    }
   ],
   "source": [
    "cd ${KALDI_INSTRUCTIONAL_PATH} && ls"
   ]
  },
  {
   "cell_type": "code",
   "execution_count": 21,
   "metadata": {},
   "outputs": [
    {
     "name": "stdout",
     "output_type": "stream",
     "text": [
      "0_0-shell_basics.ipynb                README_2.txt           \u001b[0m\u001b[01;32mpath.sh\u001b[0m\n",
      "0_1-functionality_confirmation.ipynb  cmd.sh                 \u001b[01;32mstart_jupyter.sh\u001b[0m\n",
      "1_1-download_librispeech_files.ipynb  kaldi_parameters.json  \u001b[01;34mutils\u001b[0m\n",
      "1_2-required_files.ipynb              \u001b[01;34mlocal\u001b[0m\n",
      "README.txt                            \u001b[01;34mnotebook_images\u001b[0m\n"
     ]
    }
   ],
   "source": [
    "cp README.txt README_2.txt && ls"
   ]
  },
  {
   "cell_type": "markdown",
   "metadata": {},
   "source": [
    "In order to copy a directory, use the `-r` flag (for `recursive`)"
   ]
  },
  {
   "cell_type": "code",
   "execution_count": 23,
   "metadata": {},
   "outputs": [
    {
     "name": "stdout",
     "output_type": "stream",
     "text": [
      "\u001b[0m\u001b[01;35m0_0-code_breakdown.png\u001b[0m            \u001b[01;35m1_1-librispeech_data_files.png\u001b[0m\n",
      "\u001b[01;35m1_1-librispeech_audio_splits.png\u001b[0m\n"
     ]
    }
   ],
   "source": [
    "cp -r notebook_images notebook_images_copy && ls notebook_images_copy"
   ]
  },
  {
   "cell_type": "markdown",
   "metadata": {},
   "source": [
    "## `mv`: move files/directories\n",
    "`mv` will move a file or directory from one location to a new location.  It takes two argumeents, the first is the thing to move and the second is the location to move it to."
   ]
  },
  {
   "cell_type": "code",
   "execution_count": 24,
   "metadata": {},
   "outputs": [
    {
     "name": "stdout",
     "output_type": "stream",
     "text": [
      "0_0-shell_basics.ipynb                kaldi_parameters.json\n",
      "0_1-functionality_confirmation.ipynb  \u001b[0m\u001b[01;34mlocal\u001b[0m\n",
      "1_1-download_librispeech_files.ipynb  \u001b[01;34mnotebook_images\u001b[0m\n",
      "1_2-required_files.ipynb              \u001b[01;34mnotebook_images_copy\u001b[0m\n",
      "README.txt                            \u001b[01;32mpath.sh\u001b[0m\n",
      "README_2.txt                          \u001b[01;32mstart_jupyter.sh\u001b[0m\n",
      "cmd.sh                                \u001b[01;34mutils\u001b[0m\n"
     ]
    }
   ],
   "source": [
    "ls"
   ]
  },
  {
   "cell_type": "code",
   "execution_count": 25,
   "metadata": {},
   "outputs": [
    {
     "name": "stdout",
     "output_type": "stream",
     "text": [
      "\u001b[0m\u001b[01;34mINSTRUCTIONAL\u001b[0m      \u001b[01;34mchime2\u001b[0m                   \u001b[01;34mhkust\u001b[0m             \u001b[01;34msre10\u001b[0m\n",
      "README_2.txt       \u001b[01;34mchime3\u001b[0m                   \u001b[01;34mhub4_spanish\u001b[0m      \u001b[01;34msvhn\u001b[0m\n",
      "\u001b[01;34maishell\u001b[0m            \u001b[01;34mchime4\u001b[0m                   \u001b[01;34miban\u001b[0m              \u001b[01;34mswahili\u001b[0m\n",
      "\u001b[01;34mami\u001b[0m                \u001b[01;34mcifar\u001b[0m                    \u001b[01;34mlibrispeech\u001b[0m       \u001b[01;34mswbd\u001b[0m\n",
      "\u001b[01;34man4\u001b[0m                \u001b[01;34mcsj\u001b[0m                      \u001b[01;34mlre\u001b[0m               \u001b[01;34mtedlium\u001b[0m\n",
      "\u001b[01;34mapiai_decode\u001b[0m       \u001b[01;34mfame\u001b[0m                     \u001b[01;34mlre07\u001b[0m             \u001b[01;34mthchs30\u001b[0m\n",
      "\u001b[01;34maspire\u001b[0m             \u001b[01;34mfarsdat\u001b[0m                  \u001b[01;34mmini_librispeech\u001b[0m  \u001b[01;34mtidigits\u001b[0m\n",
      "\u001b[01;34maurora4\u001b[0m            \u001b[01;34mfisher_callhome_spanish\u001b[0m  \u001b[01;34mmulti_en\u001b[0m          \u001b[01;34mtimit\u001b[0m\n",
      "\u001b[01;34mbabel\u001b[0m              \u001b[01;34mfisher_english\u001b[0m           \u001b[01;34mreverb\u001b[0m            \u001b[01;34mvoxforge\u001b[0m\n",
      "\u001b[01;34mbabel_multilang\u001b[0m    \u001b[01;34mfisher_swbd\u001b[0m              \u001b[01;34mrm\u001b[0m                \u001b[01;34mvystadial_cz\u001b[0m\n",
      "\u001b[01;34mbn_music_speech\u001b[0m    \u001b[01;34mgale_arabic\u001b[0m              \u001b[01;34msprakbanken\u001b[0m       \u001b[01;34mvystadial_en\u001b[0m\n",
      "\u001b[01;34mcallhome_egyptian\u001b[0m  \u001b[01;34mgale_mandarin\u001b[0m            \u001b[01;34msprakbanken_swe\u001b[0m   \u001b[01;34mwsj\u001b[0m\n",
      "\u001b[01;34mchime1\u001b[0m             \u001b[01;34mgp\u001b[0m                       \u001b[01;34msre08\u001b[0m             \u001b[01;34myesno\u001b[0m\n"
     ]
    }
   ],
   "source": [
    "mv README_2.txt ../ && ls .."
   ]
  },
  {
   "cell_type": "markdown",
   "metadata": {},
   "source": [
    "You can move a directory with the same argument structure."
   ]
  },
  {
   "cell_type": "code",
   "execution_count": 29,
   "metadata": {},
   "outputs": [
    {
     "name": "stdout",
     "output_type": "stream",
     "text": [
      "0_0-shell_basics.ipynb                cmd.sh                 \u001b[0m\u001b[01;32mpath.sh\u001b[0m\n",
      "0_1-functionality_confirmation.ipynb  kaldi_parameters.json  \u001b[01;32mstart_jupyter.sh\u001b[0m\n",
      "1_1-download_librispeech_files.ipynb  \u001b[01;34mlocal\u001b[0m                  \u001b[01;34mutils\u001b[0m\n",
      "1_2-required_files.ipynb              \u001b[01;34mnotebook_images\u001b[0m\n",
      "README.txt                            \u001b[01;34mnotebook_images_copy\u001b[0m\n"
     ]
    }
   ],
   "source": [
    "ls"
   ]
  },
  {
   "cell_type": "code",
   "execution_count": 30,
   "metadata": {},
   "outputs": [
    {
     "name": "stdout",
     "output_type": "stream",
     "text": [
      "\u001b[0m\u001b[01;34mINSTRUCTIONAL\u001b[0m      \u001b[01;34mchime3\u001b[0m                   \u001b[01;34miban\u001b[0m                  \u001b[01;34mswahili\u001b[0m\n",
      "README_2.txt       \u001b[01;34mchime4\u001b[0m                   \u001b[01;34mlibrispeech\u001b[0m           \u001b[01;34mswbd\u001b[0m\n",
      "\u001b[01;34maishell\u001b[0m            \u001b[01;34mcifar\u001b[0m                    \u001b[01;34mlre\u001b[0m                   \u001b[01;34mtedlium\u001b[0m\n",
      "\u001b[01;34mami\u001b[0m                \u001b[01;34mcsj\u001b[0m                      \u001b[01;34mlre07\u001b[0m                 \u001b[01;34mthchs30\u001b[0m\n",
      "\u001b[01;34man4\u001b[0m                \u001b[01;34mfame\u001b[0m                     \u001b[01;34mmini_librispeech\u001b[0m      \u001b[01;34mtidigits\u001b[0m\n",
      "\u001b[01;34mapiai_decode\u001b[0m       \u001b[01;34mfarsdat\u001b[0m                  \u001b[01;34mmulti_en\u001b[0m              \u001b[01;34mtimit\u001b[0m\n",
      "\u001b[01;34maspire\u001b[0m             \u001b[01;34mfisher_callhome_spanish\u001b[0m  \u001b[01;34mnotebook_images_copy\u001b[0m  \u001b[01;34mvoxforge\u001b[0m\n",
      "\u001b[01;34maurora4\u001b[0m            \u001b[01;34mfisher_english\u001b[0m           \u001b[01;34mreverb\u001b[0m                \u001b[01;34mvystadial_cz\u001b[0m\n",
      "\u001b[01;34mbabel\u001b[0m              \u001b[01;34mfisher_swbd\u001b[0m              \u001b[01;34mrm\u001b[0m                    \u001b[01;34mvystadial_en\u001b[0m\n",
      "\u001b[01;34mbabel_multilang\u001b[0m    \u001b[01;34mgale_arabic\u001b[0m              \u001b[01;34msprakbanken\u001b[0m           \u001b[01;34mwsj\u001b[0m\n",
      "\u001b[01;34mbn_music_speech\u001b[0m    \u001b[01;34mgale_mandarin\u001b[0m            \u001b[01;34msprakbanken_swe\u001b[0m       \u001b[01;34myesno\u001b[0m\n",
      "\u001b[01;34mcallhome_egyptian\u001b[0m  \u001b[01;34mgp\u001b[0m                       \u001b[01;34msre08\u001b[0m\n",
      "\u001b[01;34mchime1\u001b[0m             \u001b[01;34mhkust\u001b[0m                    \u001b[01;34msre10\u001b[0m\n",
      "\u001b[01;34mchime2\u001b[0m             \u001b[01;34mhub4_spanish\u001b[0m             \u001b[01;34msvhn\u001b[0m\n"
     ]
    }
   ],
   "source": [
    "mv notebook_images_copy .. && ls .."
   ]
  },
  {
   "cell_type": "markdown",
   "metadata": {},
   "source": [
    "You can also use `mv` to *rename* a file (in other words, you change its name but *don't* move it anywhere)"
   ]
  },
  {
   "cell_type": "code",
   "execution_count": 32,
   "metadata": {},
   "outputs": [
    {
     "name": "stdout",
     "output_type": "stream",
     "text": [
      "\u001b[0m\u001b[01;34mINSTRUCTIONAL\u001b[0m      \u001b[01;34mchime3\u001b[0m                   \u001b[01;34miban\u001b[0m                  \u001b[01;34mswahili\u001b[0m\n",
      "README_2.txt       \u001b[01;34mchime4\u001b[0m                   \u001b[01;34mlibrispeech\u001b[0m           \u001b[01;34mswbd\u001b[0m\n",
      "\u001b[01;34maishell\u001b[0m            \u001b[01;34mcifar\u001b[0m                    \u001b[01;34mlre\u001b[0m                   \u001b[01;34mtedlium\u001b[0m\n",
      "\u001b[01;34mami\u001b[0m                \u001b[01;34mcsj\u001b[0m                      \u001b[01;34mlre07\u001b[0m                 \u001b[01;34mthchs30\u001b[0m\n",
      "\u001b[01;34man4\u001b[0m                \u001b[01;34mfame\u001b[0m                     \u001b[01;34mmini_librispeech\u001b[0m      \u001b[01;34mtidigits\u001b[0m\n",
      "\u001b[01;34mapiai_decode\u001b[0m       \u001b[01;34mfarsdat\u001b[0m                  \u001b[01;34mmulti_en\u001b[0m              \u001b[01;34mtimit\u001b[0m\n",
      "\u001b[01;34maspire\u001b[0m             \u001b[01;34mfisher_callhome_spanish\u001b[0m  \u001b[01;34mnotebook_images_copy\u001b[0m  \u001b[01;34mvoxforge\u001b[0m\n",
      "\u001b[01;34maurora4\u001b[0m            \u001b[01;34mfisher_english\u001b[0m           \u001b[01;34mreverb\u001b[0m                \u001b[01;34mvystadial_cz\u001b[0m\n",
      "\u001b[01;34mbabel\u001b[0m              \u001b[01;34mfisher_swbd\u001b[0m              \u001b[01;34mrm\u001b[0m                    \u001b[01;34mvystadial_en\u001b[0m\n",
      "\u001b[01;34mbabel_multilang\u001b[0m    \u001b[01;34mgale_arabic\u001b[0m              \u001b[01;34msprakbanken\u001b[0m           \u001b[01;34mwsj\u001b[0m\n",
      "\u001b[01;34mbn_music_speech\u001b[0m    \u001b[01;34mgale_mandarin\u001b[0m            \u001b[01;34msprakbanken_swe\u001b[0m       \u001b[01;34myesno\u001b[0m\n",
      "\u001b[01;34mcallhome_egyptian\u001b[0m  \u001b[01;34mgp\u001b[0m                       \u001b[01;34msre08\u001b[0m\n",
      "\u001b[01;34mchime1\u001b[0m             \u001b[01;34mhkust\u001b[0m                    \u001b[01;34msre10\u001b[0m\n",
      "\u001b[01;34mchime2\u001b[0m             \u001b[01;34mhub4_spanish\u001b[0m             \u001b[01;34msvhn\u001b[0m\n"
     ]
    }
   ],
   "source": [
    "ls .."
   ]
  },
  {
   "cell_type": "code",
   "execution_count": 33,
   "metadata": {},
   "outputs": [
    {
     "name": "stdout",
     "output_type": "stream",
     "text": [
      "\u001b[0m\u001b[01;34mINSTRUCTIONAL\u001b[0m      \u001b[01;34mchime3\u001b[0m                   \u001b[01;34miban\u001b[0m                  \u001b[01;34mswahili\u001b[0m\n",
      "README_copy.txt    \u001b[01;34mchime4\u001b[0m                   \u001b[01;34mlibrispeech\u001b[0m           \u001b[01;34mswbd\u001b[0m\n",
      "\u001b[01;34maishell\u001b[0m            \u001b[01;34mcifar\u001b[0m                    \u001b[01;34mlre\u001b[0m                   \u001b[01;34mtedlium\u001b[0m\n",
      "\u001b[01;34mami\u001b[0m                \u001b[01;34mcsj\u001b[0m                      \u001b[01;34mlre07\u001b[0m                 \u001b[01;34mthchs30\u001b[0m\n",
      "\u001b[01;34man4\u001b[0m                \u001b[01;34mfame\u001b[0m                     \u001b[01;34mmini_librispeech\u001b[0m      \u001b[01;34mtidigits\u001b[0m\n",
      "\u001b[01;34mapiai_decode\u001b[0m       \u001b[01;34mfarsdat\u001b[0m                  \u001b[01;34mmulti_en\u001b[0m              \u001b[01;34mtimit\u001b[0m\n",
      "\u001b[01;34maspire\u001b[0m             \u001b[01;34mfisher_callhome_spanish\u001b[0m  \u001b[01;34mnotebook_images_copy\u001b[0m  \u001b[01;34mvoxforge\u001b[0m\n",
      "\u001b[01;34maurora4\u001b[0m            \u001b[01;34mfisher_english\u001b[0m           \u001b[01;34mreverb\u001b[0m                \u001b[01;34mvystadial_cz\u001b[0m\n",
      "\u001b[01;34mbabel\u001b[0m              \u001b[01;34mfisher_swbd\u001b[0m              \u001b[01;34mrm\u001b[0m                    \u001b[01;34mvystadial_en\u001b[0m\n",
      "\u001b[01;34mbabel_multilang\u001b[0m    \u001b[01;34mgale_arabic\u001b[0m              \u001b[01;34msprakbanken\u001b[0m           \u001b[01;34mwsj\u001b[0m\n",
      "\u001b[01;34mbn_music_speech\u001b[0m    \u001b[01;34mgale_mandarin\u001b[0m            \u001b[01;34msprakbanken_swe\u001b[0m       \u001b[01;34myesno\u001b[0m\n",
      "\u001b[01;34mcallhome_egyptian\u001b[0m  \u001b[01;34mgp\u001b[0m                       \u001b[01;34msre08\u001b[0m\n",
      "\u001b[01;34mchime1\u001b[0m             \u001b[01;34mhkust\u001b[0m                    \u001b[01;34msre10\u001b[0m\n",
      "\u001b[01;34mchime2\u001b[0m             \u001b[01;34mhub4_spanish\u001b[0m             \u001b[01;34msvhn\u001b[0m\n"
     ]
    }
   ],
   "source": [
    "mv ../README_2.txt ../README_copy.txt && ls .."
   ]
  },
  {
   "cell_type": "markdown",
   "metadata": {},
   "source": [
    "## `cat`: print the contents of a file to the command line\n",
    "\n",
    "`cat` will print a file to the command line. "
   ]
  },
  {
   "cell_type": "code",
   "execution_count": 43,
   "metadata": {},
   "outputs": [
    {
     "name": "stdout",
     "output_type": "stream",
     "text": [
      "\n",
      " This is a simplified `eg` built for instructional purposes.\n",
      "\n",
      " It is designed to be data-agnostic, meaning that all data files are submitted to the individual\n",
      " scripts as needed.\n"
     ]
    }
   ],
   "source": [
    "cat README.txt"
   ]
  },
  {
   "cell_type": "markdown",
   "metadata": {},
   "source": [
    "## `head`/`tail`: print the `top` (or `bottom`) `n` lines of a file\n",
    "\n",
    "`head` will print the top 10 lines of a file (`tail` will print the bottom 10 lines).  Using the `-n` flag you can specify how many lines to show."
   ]
  },
  {
   "cell_type": "code",
   "execution_count": 44,
   "metadata": {},
   "outputs": [
    {
     "name": "stdout",
     "output_type": "stream",
     "text": [
      "\n",
      " This is a simplified `eg` built for instructional purposes.\n",
      "\n",
      " It is designed to be data-agnostic, meaning that all data files are submitted to the individual\n",
      " scripts as needed.\n"
     ]
    }
   ],
   "source": [
    "head README.txt"
   ]
  },
  {
   "cell_type": "code",
   "execution_count": 47,
   "metadata": {},
   "outputs": [
    {
     "name": "stdout",
     "output_type": "stream",
     "text": [
      "\n",
      " This is a simplified `eg` built for instructional purposes.\n",
      " scripts as needed.\n"
     ]
    }
   ],
   "source": [
    "head -n2 README.txt && tail -n1 README.txt"
   ]
  },
  {
   "cell_type": "markdown",
   "metadata": {},
   "source": [
    "## `grep`: find lines matching a pattern\n",
    "`grep` searches for a matching string pattern."
   ]
  },
  {
   "cell_type": "markdown",
   "metadata": {},
   "source": [
    "`grep` can search for any matching lines in a file of text."
   ]
  },
  {
   "cell_type": "code",
   "execution_count": 37,
   "metadata": {},
   "outputs": [
    {
     "name": "stdout",
     "output_type": "stream",
     "text": [
      "\n",
      " This is a simplified `eg` built for instructional purposes.\n",
      "\n",
      " It is designed to be data-agnostic, meaning that all data files are submitted to the individual\n",
      " scripts as needed.\n"
     ]
    }
   ],
   "source": [
    "cat README.txt"
   ]
  },
  {
   "cell_type": "code",
   "execution_count": 36,
   "metadata": {},
   "outputs": [
    {
     "name": "stdout",
     "output_type": "stream",
     "text": [
      " It is designed to be \u001b[01;31m\u001b[Kdata-agnostic\u001b[m\u001b[K, meaning that all data files are submitted to the individual\n"
     ]
    }
   ],
   "source": [
    "grep \"data-agnostic\" README.txt"
   ]
  },
  {
   "cell_type": "markdown",
   "metadata": {},
   "source": [
    "With the `-E` flag, you can have `grep` search for a `regular expression` pattern"
   ]
  },
  {
   "cell_type": "code",
   "execution_count": 49,
   "metadata": {},
   "outputs": [
    {
     "name": "stdout",
     "output_type": "stream",
     "text": [
      "        \"value\": \"/media/mcapizzi/data/DataFiles/language_model/fisher/fisher_\u001b[01;31m\u001b[K3\u001b[m\u001b[Kgram_from_saved_models.arpa\"\n",
      "        \"value\": \"/media/mcapizzi/data/Datasets/Fisher-Part\u001b[01;31m\u001b[K1\u001b[m\u001b[K/audio_wav/train_audio\"\n",
      "        \"value\": \"/media/mcapizzi/data/Datasets/Fisher-Part\u001b[01;31m\u001b[K1\u001b[m\u001b[K/audio_wav/test_audio\"\n",
      "        \"value\": \"conf/mfcc-\u001b[01;31m\u001b[K8\u001b[m\u001b[Kkhz-Josh-energy_false.conf\"\n",
      "        \"value\": \u001b[01;31m\u001b[K10\u001b[m\u001b[K\n",
      "        \"value\": \u001b[01;31m\u001b[K2000\u001b[m\u001b[K\n",
      "        \"value\": \u001b[01;31m\u001b[K500\u001b[m\u001b[K\n",
      "        \"value\": \u001b[01;31m\u001b[K20\u001b[m\u001b[K\n",
      "        \"value\": \u001b[01;31m\u001b[K10\u001b[m\u001b[K\n",
      "        \"value\": \"--num_iters \u001b[01;31m\u001b[K5\u001b[m\u001b[K\"\n",
      "        \"value\": \"--num_iters \u001b[01;31m\u001b[K5\u001b[m\u001b[K\"\n",
      "        \"value\": \"exp/triphones_\u001b[01;31m\u001b[K2\u001b[m\u001b[K_aligned\"\n",
      "  \"run_train_ivectors_nnet\u001b[01;31m\u001b[K2\u001b[m\u001b[K.sh\": {\n",
      "        \"value\": \u001b[01;31m\u001b[K4\u001b[m\u001b[K\n",
      "        \"value\": \u001b[01;31m\u001b[K1024\u001b[m\u001b[K\n",
      "        \"value\": \u001b[01;31m\u001b[K100\u001b[m\u001b[K\n",
      "        \"value\": \u001b[01;31m\u001b[K0\u001b[m\u001b[K.\u001b[01;31m\u001b[K1\u001b[m\u001b[K\n",
      "  \"run_train_nnet\u001b[01;31m\u001b[K2\u001b[m\u001b[K.sh\": {\n",
      "        \"value\": \u001b[01;31m\u001b[K5\u001b[m\u001b[K\n",
      "        \"value\": \u001b[01;31m\u001b[K0\u001b[m\u001b[K\n",
      "        \"value\": \u001b[01;31m\u001b[K0\u001b[m\u001b[K.\u001b[01;31m\u001b[K04\u001b[m\u001b[K\n",
      "        \"value\": \u001b[01;31m\u001b[K0\u001b[m\u001b[K.\u001b[01;31m\u001b[K004\u001b[m\u001b[K\n",
      "        \"value\": \u001b[01;31m\u001b[K25\u001b[m\u001b[K\n",
      "        \"value\": \u001b[01;31m\u001b[K3000\u001b[m\u001b[K\n",
      "        \"value\": \u001b[01;31m\u001b[K300\u001b[m\u001b[K\n",
      "        \"value\": \u001b[01;31m\u001b[K2\u001b[m\u001b[K\n",
      "        \"value\": \u001b[01;31m\u001b[K1\u001b[m\u001b[K\n",
      "        \"value\": \u001b[01;31m\u001b[K128\u001b[m\u001b[K\n",
      "        \"value\": \u001b[01;31m\u001b[K4\u001b[m\u001b[K\n",
      "        \"value\": \u001b[01;31m\u001b[K6\u001b[m\u001b[K\n",
      "        \"value\": \u001b[01;31m\u001b[K10\u001b[m\u001b[K\n"
     ]
    }
   ],
   "source": [
    "grep -E \"[0-9]+\" kaldi_parameters.json"
   ]
  },
  {
   "cell_type": "markdown",
   "metadata": {},
   "source": [
    "Note: Of course `grep` can do a lot more.  See some of it [here](https://www.panix.com/~elflord/unix/grep.html)"
   ]
  },
  {
   "cell_type": "markdown",
   "metadata": {},
   "source": [
    "## `|`: piping commands\n",
    "\n",
    "Putting the `|` between two commands will take the output from the first command and send it as input to the second command.  \n",
    "\n",
    "**Note:** `kaldi` uses an *inordinate amount* of `pipe`s; you'll see them everywhere!"
   ]
  },
  {
   "cell_type": "code",
   "execution_count": 50,
   "metadata": {},
   "outputs": [
    {
     "name": "stdout",
     "output_type": "stream",
     "text": [
      "0_0-shell_basics.ipynb                README.txt             \u001b[0m\u001b[01;34mnotebook_images\u001b[0m\n",
      "0_1-functionality_confirmation.ipynb  cmd.sh                 \u001b[01;32mpath.sh\u001b[0m\n",
      "1_1-download_librispeech_files.ipynb  kaldi_parameters.json  \u001b[01;32mstart_jupyter.sh\u001b[0m\n",
      "1_2-required_files.ipynb              \u001b[01;34mlocal\u001b[0m                  \u001b[01;34mutils\u001b[0m\n"
     ]
    }
   ],
   "source": [
    "ls"
   ]
  },
  {
   "cell_type": "code",
   "execution_count": 52,
   "metadata": {},
   "outputs": [
    {
     "name": "stdout",
     "output_type": "stream",
     "text": [
      "0_0-shell_basics.\u001b[01;31m\u001b[Kipynb\u001b[m\u001b[K\n",
      "0_1-functionality_confirmation.\u001b[01;31m\u001b[Kipynb\u001b[m\u001b[K\n",
      "1_1-download_librispeech_files.\u001b[01;31m\u001b[Kipynb\u001b[m\u001b[K\n",
      "1_2-required_files.\u001b[01;31m\u001b[Kipynb\u001b[m\u001b[K\n"
     ]
    }
   ],
   "source": [
    "ls | grep \"ipynb\""
   ]
  },
  {
   "cell_type": "code",
   "execution_count": 53,
   "metadata": {},
   "outputs": [
    {
     "name": "stdout",
     "output_type": "stream",
     "text": [
      " It is designed to be \u001b[01;31m\u001b[Kdata\u001b[m\u001b[K-agnostic, meaning that all \u001b[01;31m\u001b[Kdata\u001b[m\u001b[K files are submitted to the individual\n"
     ]
    }
   ],
   "source": [
    "cat README.txt | grep \"data\""
   ]
  },
  {
   "cell_type": "markdown",
   "metadata": {},
   "source": [
    "## `variables`\n",
    "\n",
    "Set a `variable` with the following syntax:\n",
    "\n",
    "```\n",
    "variable_name=\"string or number to capture\"\n",
    "```\n",
    "\n",
    "Then recover it with `$`.  `echo` will print the contents of the `variable`."
   ]
  },
  {
   "cell_type": "code",
   "execution_count": 57,
   "metadata": {},
   "outputs": [
    {
     "name": "stdout",
     "output_type": "stream",
     "text": [
      "I love cats.\n"
     ]
    }
   ],
   "source": [
    "some_variable=\"I love cats.\"\n",
    "echo ${some_variable}        # many people think {} wrapped around variables is a useful convention for clarity"
   ]
  },
  {
   "cell_type": "markdown",
   "metadata": {},
   "source": [
    "## `for` loop\n",
    "\n",
    "The syntax for a `for` loop is:\n",
    "\n",
    "```\n",
    "for [variable] in [list]; do\n",
    "    [some_command]\n",
    "done\n",
    "```"
   ]
  },
  {
   "cell_type": "code",
   "execution_count": 55,
   "metadata": {},
   "outputs": [
    {
     "name": "stdout",
     "output_type": "stream",
     "text": [
      "a\n",
      "b\n",
      "c\n"
     ]
    }
   ],
   "source": [
    "for letter in a b c; do\n",
    "    echo ${letter}        \n",
    "done"
   ]
  },
  {
   "cell_type": "markdown",
   "metadata": {},
   "source": [
    "## `if`/`then`"
   ]
  },
  {
   "cell_type": "markdown",
   "metadata": {},
   "source": [
    "The basic usage for `if`/`then` statments is:\n",
    "\n",
    "```\n",
    "if [ <condition> ]; then\n",
    "    some_command\n",
    "fi\n",
    "```\n",
    "\n",
    "It can get a bit more complicated depending on the `condition`.  [Here](https://ryanstutorials.net/bash-scripting-tutorial/bash-if-statements.php) is a good tutorial for `if`/`then` statements."
   ]
  },
  {
   "cell_type": "code",
   "execution_count": 69,
   "metadata": {},
   "outputs": [
    {
     "name": "stdout",
     "output_type": "stream",
     "text": [
      "At least it's not Monday\n"
     ]
    }
   ],
   "source": [
    "today=Tuesday\n",
    "if [ ${today} == \"Tuesday\" ]; then\n",
    "    echo \"At least it's not Monday\"\n",
    "fi"
   ]
  },
  {
   "cell_type": "markdown",
   "metadata": {},
   "source": [
    "You can easily add `elif` and `else` conditions."
   ]
  },
  {
   "cell_type": "code",
   "execution_count": 71,
   "metadata": {},
   "outputs": [
    {
     "name": "stdout",
     "output_type": "stream",
     "text": [
      "Can't wait for Friday\n"
     ]
    }
   ],
   "source": [
    "if [ ${today} == \"Monday\" ]; then\n",
    "    echo \"I hate Mondays\"\n",
    "elif [ ${today} == \"Friday\" ]; then\n",
    "    echo \"TGIF!  Woot!\"\n",
    "else\n",
    "    echo \"Can't wait for Friday\"\n",
    "fi"
   ]
  },
  {
   "cell_type": "markdown",
   "metadata": {},
   "source": [
    "## `chmod`: change permissions of file\n",
    "\n",
    "`chmod` changes the permissions of a file.  `chmod` gets very sophisticated (see [here](http://endlessgeek.com/2014/02/chmod-explained-linux-file-permissions/) for details), but in our case, we will only need to use if to ensure that a `shell` script (`.sh`) is executable.\n",
    "\n",
    "This can be done with `chmod a+rwx [file_name]`"
   ]
  },
  {
   "cell_type": "code",
   "execution_count": 72,
   "metadata": {},
   "outputs": [],
   "source": [
    "echo \"I love cats\" > sample_executable.sh   # make a quick script"
   ]
  },
  {
   "cell_type": "markdown",
   "metadata": {},
   "source": [
    "You can see here that the default permissions for this file are `read` only."
   ]
  },
  {
   "cell_type": "code",
   "execution_count": 73,
   "metadata": {},
   "outputs": [
    {
     "name": "stdout",
     "output_type": "stream",
     "text": [
      "-rw-r--r--  1 root root   12 Oct 24 20:57 \u001b[01;31m\u001b[Ksample_executable.sh\u001b[m\u001b[K\n"
     ]
    }
   ],
   "source": [
    "ls -lah | grep sample_executable.sh"
   ]
  },
  {
   "cell_type": "code",
   "execution_count": null,
   "metadata": {},
   "outputs": [],
   "source": [
    "We can update those permissions with `chmod a+rwx`"
   ]
  },
  {
   "cell_type": "code",
   "execution_count": 74,
   "metadata": {},
   "outputs": [
    {
     "name": "stdout",
     "output_type": "stream",
     "text": [
      "-rwxrwxrwx  1 root root   12 Oct 24 20:57 \u001b[01;31m\u001b[Ksample_executable.sh\u001b[m\u001b[K\n"
     ]
    }
   ],
   "source": [
    "chmod a+rwx sample_executable.sh && ls -lah | grep sample_executable.sh"
   ]
  },
  {
   "cell_type": "markdown",
   "metadata": {},
   "source": [
    "## `sudo`: become the super-user\n",
    "\n",
    "Without going into `sudo` (see [here](http://aplawrence.com/Basics/sudo.html) if you want to know about it), if you get an error saying `permission denied` (or any flavor of that), it's likely that you need to put `sudo` before the command (and may be asked to enter your password).  Unfortunately, this may come up at times when using `kaldi`."
   ]
  }
 ],
 "metadata": {
  "kernelspec": {
   "display_name": "Bash",
   "language": "bash",
   "name": "bash"
  },
  "language_info": {
   "codemirror_mode": "shell",
   "file_extension": ".sh",
   "mimetype": "text/x-sh",
   "name": "bash"
  }
 },
 "nbformat": 4,
 "nbformat_minor": 2
}
