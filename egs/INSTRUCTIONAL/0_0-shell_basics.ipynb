{
 "cells": [
  {
   "cell_type": "markdown",
   "metadata": {},
   "source": [
    "# 0.0: `shell` Basics"
   ]
  },
  {
   "cell_type": "markdown",
   "metadata": {},
   "source": [
    "`kaldi` is written in `C++` and then wrapped, primarily in `shell`.  You will *not* be required to modify the `C++` code, but there will be an expectation that you can \"handle yourself\" in `shell`."
   ]
  },
  {
   "cell_type": "markdown",
   "metadata": {},
   "source": [
    "![code_breakdown](notebook_images/0_0-code_breakdown.png)"
   ]
  },
  {
   "cell_type": "markdown",
   "metadata": {},
   "source": [
    "And so below is a very quick run through the commands that will be used most often:\n",
    " - `pwd`\n",
    " - `cd`\n",
    " - `ls`\n",
    " - `mv`\n",
    " - `cp`\n",
    " - "
   ]
  },
  {
   "cell_type": "markdown",
   "metadata": {},
   "source": [
    "## `pwd`: print name of current/working directory\n",
    "`pwd` will print out your current (or working) directory"
   ]
  },
  {
   "cell_type": "code",
   "execution_count": 5,
   "metadata": {},
   "outputs": [
    {
     "name": "stdout",
     "output_type": "stream",
     "text": [
      "/home/kaldi/egs/INSTRUCTIONAL\n"
     ]
    }
   ],
   "source": [
    "pwd"
   ]
  },
  {
   "cell_type": "markdown",
   "metadata": {},
   "source": [
    "## `cd`: change directory\n",
    "`cd` changes your location.  If you give it no argument, it changes your working directory to `/root`; otherwise, it changes your working directory to the argument provided."
   ]
  },
  {
   "cell_type": "code",
   "execution_count": 8,
   "metadata": {},
   "outputs": [
    {
     "name": "stdout",
     "output_type": "stream",
     "text": [
      "/root\n"
     ]
    }
   ],
   "source": [
    "cd && pwd    # && can be put between two commands to do them consecutively"
   ]
  },
  {
   "cell_type": "code",
   "execution_count": 16,
   "metadata": {},
   "outputs": [
    {
     "name": "stdout",
     "output_type": "stream",
     "text": [
      "/home/kaldi/egs/INSTRUCTIONAL\n"
     ]
    }
   ],
   "source": [
    "cd /home/kaldi/egs/INSTRUCTIONAL && pwd"
   ]
  },
  {
   "cell_type": "markdown",
   "metadata": {},
   "source": [
    "To move *up* a nested directory tree, you can use `..`.  For example, `cd ..` will change the working directory to `/home/kaldi/egs/` whereas `cd ../..` will change the working directory to `/home/kaldi`.  \n",
    "\n",
    "You can also use a combination of `..` and a path to move *up* and then *back down* another branch."
   ]
  },
  {
   "cell_type": "code",
   "execution_count": 17,
   "metadata": {},
   "outputs": [
    {
     "name": "stdout",
     "output_type": "stream",
     "text": [
      "/home/kaldi/egs/mini_librispeech\n"
     ]
    }
   ],
   "source": [
    "cd ../mini_librispeech && pwd"
   ]
  },
  {
   "cell_type": "markdown",
   "metadata": {},
   "source": [
    "## `ls`: list directory contents\n",
    "`ls` lists directory contents.  If you give it no argument, it lists the contents of current directory; otherwise it lists the contents of the argument provided."
   ]
  },
  {
   "cell_type": "code",
   "execution_count": 11,
   "metadata": {},
   "outputs": [
    {
     "name": "stdout",
     "output_type": "stream",
     "text": [
      "0_0-shell_basics.ipynb                cmd.sh                 \u001b[0m\u001b[01;32mpath.sh\u001b[0m\n",
      "0_1-functionality_confirmation.ipynb  kaldi_parameters.json  \u001b[01;32mstart_jupyter.sh\u001b[0m\n",
      "README.txt                            \u001b[01;34mnotebook_images\u001b[0m        \u001b[01;32mtest.sh\u001b[0m\n"
     ]
    }
   ],
   "source": [
    "ls"
   ]
  },
  {
   "cell_type": "code",
   "execution_count": null,
   "metadata": {},
   "outputs": [],
   "source": [
    "ls "
   ]
  }
 ],
 "metadata": {
  "kernelspec": {
   "display_name": "Bash",
   "language": "bash",
   "name": "bash"
  },
  "language_info": {
   "codemirror_mode": "shell",
   "file_extension": ".sh",
   "mimetype": "text/x-sh",
   "name": "bash"
  }
 },
 "nbformat": 4,
 "nbformat_minor": 2
}
