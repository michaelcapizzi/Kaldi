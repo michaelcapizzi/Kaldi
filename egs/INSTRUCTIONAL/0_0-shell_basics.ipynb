{
 "cells": [
  {
   "cell_type": "markdown",
   "metadata": {},
   "source": [
    "# 0.0: `shell` Basics"
   ]
  },
  {
   "cell_type": "markdown",
   "metadata": {},
   "source": [
    "`kaldi` is written in `C++` and then wrapped, primarily in `shell`.  You will *not* be required to modify the `C++` code, but there will be an expectation that you can \"handle yourself\" in `shell`."
   ]
  },
  {
   "cell_type": "markdown",
   "metadata": {},
   "source": [
    "![code_breakdown](notebook_images/0_0-code_breakdown.png)"
   ]
  },
  {
   "cell_type": "markdown",
   "metadata": {},
   "source": [
    "And so below is a very quick run through the commands that will be used most often:\n",
    " - `pwd`\n",
    " - `cd`\n",
    " - `ls`\n",
    " - `cp`\n",
    " - `mv`\n",
    " - `grep`\n",
    " - `sed`\n",
    " - `|`\n",
    " - `chmod`\n",
    " - `chown`"
   ]
  },
  {
   "cell_type": "markdown",
   "metadata": {},
   "source": [
    "## `pwd`: print name of current/working directory\n",
    "`pwd` will print out your current (or working) directory"
   ]
  },
  {
   "cell_type": "code",
   "execution_count": 5,
   "metadata": {},
   "outputs": [
    {
     "name": "stdout",
     "output_type": "stream",
     "text": [
      "/home/kaldi/egs/INSTRUCTIONAL\n"
     ]
    }
   ],
   "source": [
    "pwd"
   ]
  },
  {
   "cell_type": "markdown",
   "metadata": {},
   "source": [
    "## `cd`: change directory\n",
    "`cd` changes your location.  If you give it no argument, it changes your working directory to `/root`; otherwise, it changes your working directory to the argument provided."
   ]
  },
  {
   "cell_type": "code",
   "execution_count": 8,
   "metadata": {},
   "outputs": [
    {
     "name": "stdout",
     "output_type": "stream",
     "text": [
      "/root\n"
     ]
    }
   ],
   "source": [
    "cd && pwd    # && can be put between two commands to do them consecutively"
   ]
  },
  {
   "cell_type": "code",
   "execution_count": 16,
   "metadata": {},
   "outputs": [
    {
     "name": "stdout",
     "output_type": "stream",
     "text": [
      "/home/kaldi/egs/INSTRUCTIONAL\n"
     ]
    }
   ],
   "source": [
    "cd /home/kaldi/egs/INSTRUCTIONAL && pwd"
   ]
  },
  {
   "cell_type": "markdown",
   "metadata": {},
   "source": [
    "To move *up* a nested directory tree, you can use `..`.  For example, `cd ..` will change the working directory to `/home/kaldi/egs/` whereas `cd ../..` will change the working directory to `/home/kaldi`.  \n",
    "\n",
    "You can also use a combination of `..` and a path to move *up* and then *back down* another branch."
   ]
  },
  {
   "cell_type": "code",
   "execution_count": 17,
   "metadata": {},
   "outputs": [
    {
     "name": "stdout",
     "output_type": "stream",
     "text": [
      "/home/kaldi/egs/mini_librispeech\n"
     ]
    }
   ],
   "source": [
    "cd ../mini_librispeech && pwd"
   ]
  },
  {
   "cell_type": "markdown",
   "metadata": {},
   "source": [
    "## `ls`: list directory contents\n",
    "`ls` lists directory contents.  If you give it no argument, it lists the contents of current directory; otherwise it lists the contents of the argument provided."
   ]
  },
  {
   "cell_type": "code",
   "execution_count": 1,
   "metadata": {},
   "outputs": [
    {
     "name": "stdout",
     "output_type": "stream",
     "text": [
      "/home/kaldi/egs/INSTRUCTIONAL\n",
      "0_0-shell_basics.ipynb                \u001b[0m\u001b[01;34mdata\u001b[0m                   \u001b[01;32mpath.sh\u001b[0m\n",
      "0_1-functionality_confirmation.ipynb  \u001b[01;34mexp\u001b[0m                    \u001b[01;32mrun.sh\u001b[0m\n",
      "README.txt                            kaldi_parameters.json  \u001b[01;32mstart_jupyter.sh\u001b[0m\n",
      "cmd.sh                                \u001b[01;34mlocal\u001b[0m                  \u001b[01;34msteps\u001b[0m\n",
      "\u001b[01;34mconf\u001b[0m                                  \u001b[01;34mnotebook_images\u001b[0m        \u001b[01;34mutils\u001b[0m\n"
     ]
    }
   ],
   "source": [
    "pwd && ls"
   ]
  },
  {
   "cell_type": "code",
   "execution_count": 2,
   "metadata": {},
   "outputs": [
    {
     "name": "stdout",
     "output_type": "stream",
     "text": [
      "\u001b[0m\u001b[01;32mRESULTS\u001b[0m  cmd.sh  \u001b[01;34mconf\u001b[0m  \u001b[01;34mdata\u001b[0m  \u001b[01;34mexp\u001b[0m  \u001b[01;34mlocal\u001b[0m  \u001b[01;34mmfcc\u001b[0m  \u001b[01;32mpath.sh\u001b[0m  \u001b[01;32mrun.sh\u001b[0m  \u001b[01;34msteps\u001b[0m  \u001b[01;34mutils\u001b[0m\n"
     ]
    }
   ],
   "source": [
    "ls ../mini_librispeech/s5"
   ]
  },
  {
   "cell_type": "markdown",
   "metadata": {},
   "source": [
    "Some useful `flag`s to add to `ls` are `-lah`.  \n",
    " - `-l` shows the permissions, size, and last edit date/time for each file\n",
    " - `-a` shows any hidden directories or files (starting with a `.`)\n",
    " - `-h` converts the file sizes to an easier-to-read form"
   ]
  },
  {
   "cell_type": "code",
   "execution_count": 5,
   "metadata": {},
   "outputs": [
    {
     "name": "stdout",
     "output_type": "stream",
     "text": [
      "total 84K\n",
      "drwxr-xr-x 19 root root  646 Oct 19 20:53 \u001b[0m\u001b[01;34m.\u001b[0m\n",
      "drwxr-xr-x 54 root root 1.8K Oct 19 19:44 \u001b[01;34m..\u001b[0m\n",
      "-rw-r--r--  1 root root 6.1K Oct 19 19:44 .DS_Store\n",
      "drwxr-xr-x  4 root root  136 Oct 19 20:53 \u001b[01;34m.ipynb_checkpoints\u001b[0m\n",
      "-rw-r--r--  1 root root 5.0K Oct 19 20:53 0_0-shell_basics.ipynb\n",
      "-rw-r--r--  1 root root  26K Oct 19 20:46 0_1-functionality_confirmation.ipynb\n",
      "-rw-r--r--  1 root root  180 Oct  2 17:58 README.txt\n",
      "-rw-r--r--  1 root root  237 Oct  2 17:58 cmd.sh\n",
      "drwxr-xr-x  8 root root  272 Oct  2 15:28 \u001b[01;34mconf\u001b[0m\n",
      "drwxr-xr-x  3 root root  102 Oct 18 17:54 \u001b[01;34mdata\u001b[0m\n",
      "drwxr-xr-x  3 root root  102 Oct 18 17:54 \u001b[01;34mexp\u001b[0m\n",
      "-rw-r--r--  1 root root 7.1K Oct  2 17:58 kaldi_parameters.json\n",
      "drwxr-xr-x 25 root root  850 Oct  2 15:28 \u001b[01;34mlocal\u001b[0m\n",
      "drwxr-xr-x  3 root root  102 Oct 19 19:44 \u001b[01;34mnotebook_images\u001b[0m\n",
      "-rwxr-xr-x  1 root root 1.3K Oct  3 16:02 \u001b[01;32mpath.sh\u001b[0m\n",
      "-rwxr-xr-x  1 root root  16K Oct 11 17:51 \u001b[01;32mrun.sh\u001b[0m\n",
      "-rwxrwxrwx  1 root root  335 Oct 19 17:01 \u001b[01;32mstart_jupyter.sh\u001b[0m\n",
      "drwxr-xr-x 96 root root 3.2K Oct  2 15:28 \u001b[01;34msteps\u001b[0m\n",
      "drwxr-xr-x 76 root root 2.6K Oct  2 17:55 \u001b[01;34mutils\u001b[0m\n"
     ]
    }
   ],
   "source": [
    "ls -lah"
   ]
  },
  {
   "cell_type": "markdown",
   "metadata": {},
   "source": [
    "## `cp`: copy files/directories"
   ]
  },
  {
   "cell_type": "markdown",
   "metadata": {},
   "source": [
    "## `mv`: move files/directories"
   ]
  },
  {
   "cell_type": "markdown",
   "metadata": {},
   "source": [
    "## `grep`: find lines matching a pattern"
   ]
  },
  {
   "cell_type": "markdown",
   "metadata": {},
   "source": [
    "## `sed`: filtering and editing text"
   ]
  },
  {
   "cell_type": "markdown",
   "metadata": {},
   "source": [
    "## `|`: piping commands"
   ]
  }
 ],
 "metadata": {
  "kernelspec": {
   "display_name": "Bash",
   "language": "bash",
   "name": "bash"
  },
  "language_info": {
   "codemirror_mode": "shell",
   "file_extension": ".sh",
   "mimetype": "text/x-sh",
   "name": "bash"
  }
 },
 "nbformat": 4,
 "nbformat_minor": 2
}
