{
 "cells": [
  {
   "cell_type": "markdown",
   "metadata": {},
   "source": [
    "# 0.1: Confirming `docker` and `kaldi` functionality"
   ]
  },
  {
   "cell_type": "markdown",
   "metadata": {},
   "source": [
    "Your `docker image` should have some `global variables` saved that will be used later:"
   ]
  },
  {
   "cell_type": "code",
   "execution_count": null,
   "metadata": {},
   "outputs": [],
   "source": [
    "echo $KALDI_PATH && echo $KALDI_INSTRUCTIONAL_PATH"
   ]
  },
  {
   "cell_type": "markdown",
   "metadata": {},
   "source": [
    "## `mini_librispeech` `run.sh`"
   ]
  },
  {
   "cell_type": "markdown",
   "metadata": {},
   "source": [
    "If `kaldi` was properly compiled, the following `run` script (in the `mini_librispeech` `egs` directory) will run an *abbreviated* `training` and `testing` pipeline.  It will use a very small `subset` of the `librispeech` data (that we will be using later), but will still take at least ??? minutes to complete."
   ]
  },
  {
   "cell_type": "code",
   "execution_count": null,
   "metadata": {},
   "outputs": [],
   "source": [
    "cd ../mini_librispeech/s5"
   ]
  },
  {
   "cell_type": "markdown",
   "metadata": {},
   "source": [
    "You can see the available arguments (and default values below).  "
   ]
  },
  {
   "cell_type": "code",
   "execution_count": null,
   "metadata": {},
   "outputs": [],
   "source": [
    "head run.sh"
   ]
  },
  {
   "cell_type": "markdown",
   "metadata": {},
   "source": [
    "Here are the `stages` in case you need/want to resume in the middle of the process:\n",
    " - stage 0: downloading data\n",
    " - stage 1: preparing `data` directories\n",
    " - stage 2: feature extraction\n",
    " - stage 3: acoustic model - monophones\n",
    " - stage 4: acoustic model - triphones\n",
    " - stage 5: acoustic model - triphones + LDA\n",
    " - stage 6: acoustic model - triphones + LDA + SAT\n",
    " - stage 7: `word error rate` reporting"
   ]
  },
  {
   "cell_type": "code",
   "execution_count": null,
   "metadata": {},
   "outputs": [],
   "source": [
    "./run.sh -n 4"
   ]
  }
 ],
 "metadata": {
  "kernelspec": {
   "display_name": "Bash",
   "language": "bash",
   "name": "bash"
  },
  "language_info": {
   "codemirror_mode": "shell",
   "file_extension": ".sh",
   "mimetype": "text/x-sh",
   "name": "bash"
  }
 },
 "nbformat": 4,
 "nbformat_minor": 1
}
