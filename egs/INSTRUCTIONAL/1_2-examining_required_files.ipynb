{
 "cells": [
  {
   "cell_type": "markdown",
   "metadata": {},
   "source": [
    "# 1.2: Examining the *required* files"
   ]
  },
  {
   "cell_type": "markdown",
   "metadata": {},
   "source": [
    "Our version of the `kaldi` pipeline will depend on the files and directory structures explained in this notebook.\n",
    "\n",
    "**Note**: If you would like to run this pipeline with your **own data**, you **must** have all of the following before proceeding."
   ]
  },
  {
   "cell_type": "markdown",
   "metadata": {},
   "source": [
    "In our case, all of the things we need should now be in the directory, `raw_data`.  Here you will see the original `.tar.gz` downloads along with:\n",
    "\n",
    " - the `lexicon` file: `librispeech-lexicon.txt`\n",
    " - the `transcripts` file: `librispeech-transcripts.txt`\n",
    " - the different `language models`: `3-gram.arpa.gz`, `3-gram.pruned.*.arpa.gz`, `4-gram.arpa.gz`"
   ]
  },
  {
   "cell_type": "code",
   "execution_count": 20,
   "metadata": {},
   "outputs": [
    {
     "name": "stdout",
     "output_type": "stream",
     "text": [
      "\u001b[0m\u001b[01;31m3-gram.arpa.gz\u001b[0m              \u001b[01;31mdev-other.tar.gz\u001b[0m             \u001b[01;36mlm_tglarge.arpa.gz\u001b[0m\n",
      "\u001b[01;31m3-gram.pruned.1e-7.arpa.gz\u001b[0m  librispeech-lexicon.txt      \u001b[01;36mlm_tgmed.arpa.gz\u001b[0m\n",
      "\u001b[01;31m3-gram.pruned.3e-7.arpa.gz\u001b[0m  \u001b[01;31mlibrispeech-lm-norm.txt.gz\u001b[0m   \u001b[01;36mlm_tgsmall.arpa.gz\u001b[0m\n",
      "\u001b[01;31m4-gram.arpa.gz\u001b[0m              librispeech-transcripts.txt  \u001b[01;31mtest-clean.tar.gz\u001b[0m\n",
      "\u001b[01;34mLibriSpeech\u001b[0m                 librispeech-vocab.txt        \u001b[01;31mtest-other.tar.gz\u001b[0m\n",
      "\u001b[01;31mdev-clean.tar.gz\u001b[0m            \u001b[01;36mlm_fglarge.arpa.gz\u001b[0m           \u001b[01;31mtrain-clean-100.tar.gz\u001b[0m\n"
     ]
    }
   ],
   "source": [
    "ls raw_data"
   ]
  },
  {
   "cell_type": "markdown",
   "metadata": {},
   "source": [
    "Additional files for the different subsets of the dataset are in `raw_data/LibriSpeech`, including an `audio` file and a `data` file for each subset."
   ]
  },
  {
   "cell_type": "code",
   "execution_count": 22,
   "metadata": {},
   "outputs": [
    {
     "name": "stdout",
     "output_type": "stream",
     "text": [
      "BOOKS.TXT     SPEAKERS.TXT     \u001b[0m\u001b[01;34mdev-other_audio\u001b[0m   \u001b[01;34mtest-other\u001b[0m\n",
      "CHAPTERS.TXT  \u001b[01;34mdev-clean_audio\u001b[0m  \u001b[01;34mdev-other_data\u001b[0m    \u001b[01;34mtest-other_data\u001b[0m\n",
      "LICENSE.TXT   \u001b[01;34mdev-clean_data\u001b[0m   \u001b[01;34mtest-clean_audio\u001b[0m  \u001b[01;34mtrain-clean-100\u001b[0m\n",
      "README.TXT    \u001b[01;34mdev-other\u001b[0m        \u001b[01;34mtest-clean_data\u001b[0m   \u001b[01;34mtrain-clean-100_data\u001b[0m\n"
     ]
    }
   ],
   "source": [
    "ls raw_data/LibriSpeech"
   ]
  },
  {
   "cell_type": "markdown",
   "metadata": {},
   "source": [
    "## audio files\n",
    "\n",
    "All audio files for a particualr subset (*e.g.* `train`, `dev`, `test`, etc.) must be in a flat directory structure (*i.e.* without any sub-directories).  "
   ]
  },
  {
   "cell_type": "code",
   "execution_count": 10,
   "metadata": {},
   "outputs": [
    {
     "name": "stdout",
     "output_type": "stream",
     "text": [
      "1089-134686-0000.wav\n",
      "1089-134686-0001.wav\n",
      "1089-134686-0002.wav\n",
      "1089-134686-0003.wav\n",
      "1089-134686-0004.wav\n",
      "1089-134686-0005.wav\n",
      "1089-134686-0006.wav\n",
      "1089-134686-0007.wav\n",
      "1089-134686-0008.wav\n",
      "1089-134686-0009.wav\n",
      "ls: write error: Broken pipe\n"
     ]
    }
   ],
   "source": [
    "ls raw_data/LibriSpeech/test-clean_audio | head    # look at first 10 files in the directory to exhibit flat structure"
   ]
  },
  {
   "cell_type": "markdown",
   "metadata": {},
   "source": [
    "And the format of the audio is important as well.  `kaldi` expects the audio to be encoded with `16-bit signed little endian` (more information about this is [here](https://wiki.multimedia.cx/index.php/PCM)).  \n",
    "\n",
    "The sample rate of that audio is a hyperparameter that becomes important in a later step.  Most common is `16 kHz` for recorded audio and `8 kHz` for recorded phone calls.  In our case, we downsampled the `librispeech` data to also be `8 kHz`."
   ]
  },
  {
   "cell_type": "code",
   "execution_count": 13,
   "metadata": {},
   "outputs": [
    {
     "name": "stdout",
     "output_type": "stream",
     "text": [
      "raw_data/LibriSpeech/test-clean_audio/1089-134686-0000.wav: RIFF (little-endian) data, WAVE audio, Microsoft PCM, 16 bit, mono 8000 Hz\n"
     ]
    }
   ],
   "source": [
    "file raw_data/LibriSpeech/test-clean_audio/1089-134686-0000.wav"
   ]
  },
  {
   "cell_type": "markdown",
   "metadata": {},
   "source": [
    "The command below will generate counts for each subset."
   ]
  },
  {
   "cell_type": "code",
   "execution_count": 27,
   "metadata": {},
   "outputs": [
    {
     "name": "stdout",
     "output_type": "stream",
     "text": [
      "There are 17553 utterances in the train-clean-100_audio subset\n",
      "There are 2703 utterances in the dev-clean_audio subset\n",
      "There are 2864 utterances in the dev-other_audio subset\n",
      "There are 2620 utterances in the test-clean_audio subset\n",
      "There are 2939 utterances in the test-other_audio subset\n"
     ]
    }
   ],
   "source": [
    "for part in train-clean-100_audio dev-clean_audio dev-other_audio test-clean_audio test-other_audio; do\n",
    "    count=$(ls raw_data/LibriSpeech/${part} | wc -l)\n",
    "    echo \"There are ${count} utterances in the ${part} subset\"\n",
    "done"
   ]
  },
  {
   "cell_type": "markdown",
   "metadata": {},
   "source": [
    "## segments file \n",
    "#### (**UNUSED** for `librispeech`)\n",
    "\n",
    "The `librispeech` data is already segmented into small audio files (~2-10 seconds long).  `kaldi` *can* handle data that unsegmented, but it requires an additional `segments` file with the following format:\n",
    "\n",
    "```\n",
    "[utterance-id] [audio-basename] [utterance-start] [utterance-stop]\n",
    "[utterance-id] [audio-basename] [utterance-start] [utterance-stop]\n",
    "[utterance-id] [audio-basename] [utterance-start] [utterance-stop]\n",
    "```\n",
    "\n",
    "This allows `kaldi` to process **each segment** as a separate audio file."
   ]
  },
  {
   "cell_type": "markdown",
   "metadata": {},
   "source": [
    "## transcript file\n",
    "\n",
    "All transcripts for all audio subsets should be in one text file with the following format:\n",
    "```\n",
    "[utterance-id] [transcript text]\n",
    "[utterance-id] [transcript text]\n",
    "[utterance-id] [transcript text]\n",
    "```\n",
    "\n",
    "The `utterance-id` is used to identify the particular utterance.  In the case of **segmented** audio like the `librispeech` dataset, this will **also** be the audio basename (*i.e.* without `.wav`)."
   ]
  },
  {
   "cell_type": "code",
   "execution_count": 28,
   "metadata": {},
   "outputs": [
    {
     "name": "stdout",
     "output_type": "stream",
     "text": [
      "1272-128104-0000 MISTER QUILTER IS THE APOSTLE OF THE MIDDLE CLASSES AND WE ARE GLAD TO WELCOME HIS GOSPEL\n",
      "1272-128104-0001 NOR IS MISTER QUILTER'S MANNER LESS INTERESTING THAN HIS MATTER\n",
      "1272-128104-0002 HE TELLS US THAT AT THIS FESTIVE SEASON OF THE YEAR WITH CHRISTMAS AND ROAST BEEF LOOMING BEFORE US SIMILES DRAWN FROM EATING AND ITS RESULTS OCCUR MOST READILY TO THE MIND\n",
      "1272-128104-0003 HE HAS GRAVE DOUBTS WHETHER SIR FREDERICK LEIGHTON'S WORK IS REALLY GREEK AFTER ALL AND CAN DISCOVER IN IT BUT LITTLE OF ROCKY ITHACA\n",
      "1272-128104-0004 LINNELL'S PICTURES ARE A SORT OF UP GUARDS AND AT EM PAINTINGS AND MASON'S EXQUISITE IDYLLS ARE AS NATIONAL AS A JINGO POEM MISTER BIRKET FOSTER'S LANDSCAPES SMILE AT ONE MUCH IN THE SAME WAY THAT MISTER CARKER USED TO FLASH HIS TEETH AND MISTER JOHN COLLIER GIVES HIS SITTER A CHEERFUL SLAP ON THE BACK BEFORE HE SAYS LIKE A SHAMPOOER IN A TURKISH BATH NEXT MAN\n",
      "1272-128104-0005 IT IS OBVIOUSLY UNNECESSARY FOR US TO POINT OUT HOW LUMINOUS THESE CRITICISMS ARE HOW DELICATE IN EXPRESSION\n",
      "1272-128104-0006 ON THE GENERAL PRINCIPLES OF ART MISTER QUILTER WRITES WITH EQUAL LUCIDITY\n",
      "1272-128104-0007 PAINTING HE TELLS US IS OF A DIFFERENT QUALITY TO MATHEMATICS AND FINISH IN ART IS ADDING MORE FACT\n",
      "1272-128104-0008 AS FOR ETCHINGS THEY ARE OF TWO KINDS BRITISH AND FOREIGN\n",
      "1272-128104-0009 HE LAMENTS MOST BITTERLY THE DIVORCE THAT HAS BEEN MADE BETWEEN DECORATIVE ART AND WHAT WE USUALLY CALL PICTURES MAKES THE CUSTOMARY APPEAL TO THE LAST JUDGMENT AND REMINDS US THAT IN THE GREAT DAYS OF ART MICHAEL ANGELO WAS THE FURNISHING UPHOLSTERER\n"
     ]
    }
   ],
   "source": [
    "head raw_data/librispeech-transcripts.txt"
   ]
  },
  {
   "cell_type": "markdown",
   "metadata": {},
   "source": [
    "## phones file\n",
    "\n",
    "This file contains a list of all the phones used to make up the words in our `lexicon`.\n",
    "\n",
    "It takes the following format:\n",
    "\n",
    "```\n",
    "[phone_1]\n",
    "[phone_2]\n",
    "[phone_3\n",
    "```"
   ]
  },
  {
   "cell_type": "code",
   "execution_count": 36,
   "metadata": {},
   "outputs": [
    {
     "name": "stdout",
     "output_type": "stream",
     "text": [
      "AA0\n",
      "AA1\n",
      "AA2\n",
      "AE0\n",
      "AE1\n",
      "AE2\n",
      "AH0\n",
      "AH1\n",
      "AH2\n",
      "AO0\n",
      "UH1\n",
      "UH2\n",
      "UW0\n",
      "UW1\n",
      "UW2\n",
      "V\n",
      "W\n",
      "Y\n",
      "Z\n",
      "ZH\n"
     ]
    }
   ],
   "source": [
    "head raw_data/librispeech-phones.txt\n",
    "tail raw_data/librispeech-phones.txt"
   ]
  },
  {
   "cell_type": "markdown",
   "metadata": {},
   "source": [
    "You'll notice that some phones have a digit at their end.  This allows for us to distinguish different stresses or tones of a phone."
   ]
  },
  {
   "cell_type": "markdown",
   "metadata": {},
   "source": [
    "## lexicon\n",
    "\n",
    "The `lexicon` is a file containing all the words in our vocabulary **and** their pronunciations.  \n",
    "\n",
    "**Note:** Only words that appear in this `lexicon` will be words that our `ASR` system predicts.  In other words, if the word is **not** in this `lexicon`, then our system will **never** be able to predict it.\n",
    "\n",
    "It takes the following format:\n",
    "\n",
    "```\n",
    "[short_word]    [phone_1] [phone_2] [phone_3]\n",
    "[longer_word]   [phone_1] [phone_2] [phone_3] [phone_4] [phone_5]\n",
    "[another_word]  [phone_1] [phone_2] [phone_3]\n",
    "```\n",
    "\n",
    "**Note:** The first `whitespace` is a `tab`, the remaining are `space`.\n",
    "**Note:** While it is convenient for humans, `kaldi` does **not** require that this file be in alphabetical order."
   ]
  },
  {
   "cell_type": "code",
   "execution_count": 32,
   "metadata": {},
   "outputs": [
    {
     "name": "stdout",
     "output_type": "stream",
     "text": [
      "A  AH0\n",
      "A  EY1\n",
      "A''S\tEY1 Z\n",
      "A'BODY\tEY1 B AA2 D IY0\n",
      "A'COURT\tEY1 K AO2 R T\n",
      "ZYNOOL'S\tZ IH1 N UW1 L Z\n",
      "ZYOBOR\tZ AY1 OW0 B AO0 R\n",
      "ZZ\tZ\n",
      "ZZZ\tZ Z\n",
      "ZZZZ\tZ AH0 Z\n"
     ]
    }
   ],
   "source": [
    "head -n5 raw_data/librispeech-lexicon.txt\n",
    "tail -n5 raw_data/librispeech-lexicon.txt"
   ]
  },
  {
   "cell_type": "markdown",
   "metadata": {},
   "source": [
    "## language model"
   ]
  }
 ],
 "metadata": {
  "kernelspec": {
   "display_name": "Bash",
   "language": "bash",
   "name": "bash"
  },
  "language_info": {
   "codemirror_mode": "shell",
   "file_extension": ".sh",
   "mimetype": "text/x-sh",
   "name": "bash"
  }
 },
 "nbformat": 4,
 "nbformat_minor": 2
}
