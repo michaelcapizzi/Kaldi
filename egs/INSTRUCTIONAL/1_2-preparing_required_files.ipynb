{
 "cells": [
  {
   "cell_type": "markdown",
   "metadata": {},
   "source": [
    "# 1.2: Preparing the *required* files"
   ]
  },
  {
   "cell_type": "markdown",
   "metadata": {},
   "source": [
    "The scripts below will prepare the required files.  The next notebook (`1.3: Examining the *required* files`) will look at their format, file structures, and the roles they play in our `ASR` pipeline."
   ]
  },
  {
   "cell_type": "markdown",
   "metadata": {},
   "source": [
    "The following command will build the following required files for **each** subset:\n",
    " - `wav.scp`\n",
    " - `spk2utt`\n",
    " - `utt2spk`\n",
    " - `text`"
   ]
  },
  {
   "cell_type": "code",
   "execution_count": null,
   "metadata": {},
   "outputs": [],
   "source": [
    "# location of downloaded audio data\n",
    "data=${KALDI_INSTRUCTIONAL_PATH}/raw_data\n",
    "\n",
    "for part in dev-clean test-clean dev-other test-other train-clean-100; do\n",
    "      # use underscore-separated names in data directories.\n",
    "      ${KALDI_INSTRUCTIONAL_PATH}/local/data_prep.sh \\\n",
    "          $data/LibriSpeech/$part \\\n",
    "          ${KALDI_INSTRUCTIONAL_PATH}/data/$(echo $part | sed s/-/_/g)\n",
    "done"
   ]
  },
  {
   "cell_type": "markdown",
   "metadata": {},
   "source": [
    "We will use `ffmpeg` to `downsample` and `convert` the `librispeech` audio files from `16kHz flac` to `8kHz wav` (with `16-bit signed little endian encoding`).  \n",
    "\n",
    "We will also consolidate all the `train`, `dev`, and `test` audio subsets into respective, flat directories:\n",
    " - `train_clean_audio`\n",
    " - `dev_clean_audio`\n",
    " - `dev_other_audio`\n",
    " - `test_clean_audio`\n",
    " - `test_other_audio`\n",
    " \n",
    "**Note:** This step could take up to `1 hr` to complete."
   ]
  },
  {
   "cell_type": "code",
   "execution_count": null,
   "metadata": {},
   "outputs": [],
   "source": [
    "for part in dev-clean test-clean dev-other test-other train-clean-100; do\n",
    "    ${KALDI_INSTRUCTIONAL_PATH}/utils/data/convert_audio_directory.sh \\\n",
    "        -i ${KALDI_INSTRUCTIONAL_PATH}/raw_data/LibriSpeech/${part} \\\n",
    "        -o ${KALDI_INSTRUCTIONAL_PATH}/raw_data/LibriSpeech/${part}_audio \\\n",
    "        -s 8000 \\\n",
    "        -r\n",
    "done"
   ]
  },
  {
   "cell_type": "markdown",
   "metadata": {},
   "source": [
    "Then another quick pass to clean up the filenames."
   ]
  },
  {
   "cell_type": "code",
   "execution_count": null,
   "metadata": {
    "scrolled": true
   },
   "outputs": [],
   "source": [
    "for part in dev-clean_audio test-clean_audio dev-other_audio test-other_audio train-clean-100_audio; do\n",
    "    ${KALDI_INSTRUCTIONAL_PATH}/utils/data/strip_duplicate_filetype.sh \\\n",
    "        ${KALDI_INSTRUCTIONAL_PATH}/raw_data/Librispeech/${part}\n",
    "done\n",
    "\n",
    "echo  \"process is completed\""
   ]
  },
  {
   "cell_type": "markdown",
   "metadata": {},
   "source": [
    "But since we've restructured the audio, we will need to rebuild the `wav.scp` files for each subset."
   ]
  }
 ],
 "metadata": {
  "kernelspec": {
   "display_name": "Bash",
   "language": "bash",
   "name": "bash"
  },
  "language_info": {
   "codemirror_mode": "shell",
   "file_extension": ".sh",
   "mimetype": "text/x-sh",
   "name": "bash"
  }
 },
 "nbformat": 4,
 "nbformat_minor": 2
}
