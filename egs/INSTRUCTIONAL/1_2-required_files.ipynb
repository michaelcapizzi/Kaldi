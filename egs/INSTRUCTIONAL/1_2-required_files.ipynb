{
 "cells": [
  {
   "cell_type": "markdown",
   "metadata": {},
   "source": [
    "# 1.2: Examining the *required* files"
   ]
  },
  {
   "cell_type": "markdown",
   "metadata": {},
   "source": [
    "The `kaldi` pipeline we will be using is built to be data-agnostic, meaning that it can handle any data you'd like **as long as** it is organized according to the expectations laid out in this `notebook`.  The remaining steps below will set up our `librispeech` data according to these expectations."
   ]
  },
  {
   "cell_type": "markdown",
   "metadata": {},
   "source": [
    "## audio files"
   ]
  },
  {
   "cell_type": "markdown",
   "metadata": {},
   "source": [
    "### Expected format and file structure"
   ]
  },
  {
   "cell_type": "markdown",
   "metadata": {},
   "source": [
    "### Preparing the audio files"
   ]
  },
  {
   "cell_type": "markdown",
   "metadata": {},
   "source": [
    "The following command will prepare all the audio files and ???"
   ]
  },
  {
   "cell_type": "code",
   "execution_count": 2,
   "metadata": {},
   "outputs": [
    {
     "name": "stdout",
     "output_type": "stream",
     "text": [
      "local/data_prep.sh: line 75: utils/utt2spk_to_spk2utt.pl: No such file or directory\n",
      "local/data_prep.sh: line 75: utils/utt2spk_to_spk2utt.pl: No such file or directory\n",
      "local/data_prep.sh: line 75: utils/utt2spk_to_spk2utt.pl: No such file or directory\n",
      "local/data_prep.sh: line 75: utils/utt2spk_to_spk2utt.pl: No such file or directory\n",
      "\n"
     ]
    }
   ],
   "source": [
    "# location of downloaded audio data\n",
    "data=${KALDI_INSTRUCTIONAL_PATH}/raw_data\n",
    "\n",
    "for part in dev-clean test-clean dev-other test-other train-clean-100; do\n",
    "  # use underscore-separated names in data directories.\n",
    "  \n",
    "  # TODO rewrite this step to be data-agnostic\n",
    "  local/data_prep.sh $data/LibriSpeech/$part data/$(echo $part | sed s/-/_/g)\n",
    "done"
   ]
  },
  {
   "cell_type": "markdown",
   "metadata": {},
   "source": [
    "### Examining the audio files"
   ]
  },
  {
   "cell_type": "markdown",
   "metadata": {},
   "source": [
    "## `transcript` file"
   ]
  },
  {
   "cell_type": "markdown",
   "metadata": {},
   "source": [
    "### Expected format and file structure"
   ]
  },
  {
   "cell_type": "code",
   "execution_count": null,
   "metadata": {},
   "outputs": [],
   "source": []
  }
 ],
 "metadata": {
  "kernelspec": {
   "display_name": "Bash",
   "language": "bash",
   "name": "bash"
  },
  "language_info": {
   "codemirror_mode": "shell",
   "file_extension": ".sh",
   "mimetype": "text/x-sh",
   "name": "bash"
  }
 },
 "nbformat": 4,
 "nbformat_minor": 2
}
