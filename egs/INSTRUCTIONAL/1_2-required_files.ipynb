{
 "cells": [
  {
   "cell_type": "markdown",
   "metadata": {},
   "source": [
    "# 1.2: Examining the *required* files"
   ]
  },
  {
   "cell_type": "markdown",
   "metadata": {},
   "source": [
    "The `kaldi` pipeline we will be using is built to be data-agnostic, meaning that it can handle any data you'd like **as long as** it is organized according to the expectations laid out in this `notebook`.  The remaining steps below will set up our `librispeech` data according to these expectations."
   ]
  },
  {
   "cell_type": "markdown",
   "metadata": {},
   "source": [
    "## audio files"
   ]
  },
  {
   "cell_type": "markdown",
   "metadata": {},
   "source": [
    "### Expected format and file structure"
   ]
  },
  {
   "cell_type": "markdown",
   "metadata": {},
   "source": [
    "### Preparing the audio files"
   ]
  },
  {
   "cell_type": "markdown",
   "metadata": {},
   "source": [
    "The following command will prepare all the audio files and ???"
   ]
  },
  {
   "cell_type": "code",
   "execution_count": null,
   "metadata": {},
   "outputs": [
    {
     "name": "stdout",
     "output_type": "stream",
     "text": [
      "utils/data/get_utt2dur.sh: segments file does not exist so getting durations from wave files\n",
      "cat: write error: Broken pipe\n",
      "utils/data/get_utt2dur.sh: could not get utterance lengths from sphere-file headers, using wav-to-duration\n",
      "wav-to-duration --read-entire-file=false scp:data/dev_clean/wav.scp ark,t:data/dev_clean/utt2dur \n",
      "LOG (wav-to-duration[5.2.191~1-48be1]:main():wav-to-duration.cc:92) Printed duration for 2703 audio files.\n",
      "LOG (wav-to-duration[5.2.191~1-48be1]:main():wav-to-duration.cc:94) Mean duration was 7.17578, min and max durations were 1.445, 32.645\n",
      "utils/data/get_utt2dur.sh: computed data/dev_clean/utt2dur\n",
      "Checking data/dev_clean/text ...\n",
      "--> reading data/dev_clean/text\n",
      "--> text seems to be UTF-8 or ASCII, checking whitespaces\n",
      "--> text contains only allowed whitespaces\n",
      "utils/validate_data_dir.sh: Successfully validated data-directory data/dev_clean\n",
      "local/data_prep.sh: successfully prepared data in data/dev_clean\n",
      "utils/data/get_utt2dur.sh: segments file does not exist so getting durations from wave files\n",
      "cat: write error: Broken pipe\n",
      "utils/data/get_utt2dur.sh: could not get utterance lengths from sphere-file headers, using wav-to-duration\n",
      "wav-to-duration --read-entire-file=false scp:data/test_clean/wav.scp ark,t:data/test_clean/utt2dur \n",
      "LOG (wav-to-duration[5.2.191~1-48be1]:main():wav-to-duration.cc:92) Printed duration for 2620 audio files.\n",
      "LOG (wav-to-duration[5.2.191~1-48be1]:main():wav-to-duration.cc:94) Mean duration was 7.42461, min and max durations were 1.285, 34.955\n",
      "utils/data/get_utt2dur.sh: computed data/test_clean/utt2dur\n",
      "Checking data/test_clean/text ...\n",
      "--> reading data/test_clean/text\n",
      "--> text seems to be UTF-8 or ASCII, checking whitespaces\n",
      "--> text contains only allowed whitespaces\n",
      "utils/validate_data_dir.sh: Successfully validated data-directory data/test_clean\n",
      "local/data_prep.sh: successfully prepared data in data/test_clean\n",
      "utils/data/get_utt2dur.sh: segments file does not exist so getting durations from wave files\n",
      "cat: write error: Broken pipe\n",
      "utils/data/get_utt2dur.sh: could not get utterance lengths from sphere-file headers, using wav-to-duration\n",
      "wav-to-duration --read-entire-file=false scp:data/dev_other/wav.scp ark,t:data/dev_other/utt2dur \n"
     ]
    }
   ],
   "source": [
    "# location of downloaded audio data\n",
    "data=${KALDI_INSTRUCTIONAL_PATH}/raw_data\n",
    "\n",
    "for part in dev-clean test-clean dev-other test-other train-clean-100; do\n",
    "  # use underscore-separated names in data directories.\n",
    "  \n",
    "  # TODO rewrite this step to be data-agnostic\n",
    "  local/data_prep.sh $data/LibriSpeech/$part data/$(echo $part | sed s/-/_/g)\n",
    "done"
   ]
  },
  {
   "cell_type": "markdown",
   "metadata": {},
   "source": [
    "### Examining the audio files"
   ]
  },
  {
   "cell_type": "markdown",
   "metadata": {},
   "source": [
    "## `transcript` file"
   ]
  },
  {
   "cell_type": "markdown",
   "metadata": {},
   "source": [
    "### Expected format and file structure"
   ]
  },
  {
   "cell_type": "code",
   "execution_count": null,
   "metadata": {},
   "outputs": [],
   "source": []
  }
 ],
 "metadata": {
  "kernelspec": {
   "display_name": "Bash",
   "language": "bash",
   "name": "bash"
  },
  "language_info": {
   "codemirror_mode": "shell",
   "file_extension": ".sh",
   "mimetype": "text/x-sh",
   "name": "bash"
  }
 },
 "nbformat": 4,
 "nbformat_minor": 2
}
