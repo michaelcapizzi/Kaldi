{
 "cells": [
  {
   "cell_type": "markdown",
   "metadata": {},
   "source": [
    "The `librispeech` audio files are `16 kHz flac`.  And while `kaldi` is capable of handling audio like this, it is simpler to assume that the audio will be in `wav` format. \n",
    "\n",
    "This can be either `16 kHz` or `8 kHz` (and only a few hyperparameters in later stepes need to be adjusted to allow for this) but the audio **must** have `16-bit signed little endian encoding`  (more information about this [here](https://wiki.multimedia.cx/index.php/PCM) if you're interested)."
   ]
  },
  {
   "cell_type": "markdown",
   "metadata": {},
   "source": [
    "The scripts we will use expect **all** the audio for a particular subset to be in a flat directory structure.  In other words, all the audio for `training` should be in one directory (**without** any sub-directories)."
   ]
  }
 ],
 "metadata": {
  "kernelspec": {
   "display_name": "Bash",
   "language": "bash",
   "name": "bash"
  },
  "language_info": {
   "codemirror_mode": "shell",
   "file_extension": ".sh",
   "mimetype": "text/x-sh",
   "name": "bash"
  }
 },
 "nbformat": 4,
 "nbformat_minor": 2
}
