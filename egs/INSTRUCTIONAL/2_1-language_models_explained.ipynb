{
 "cells": [
  {
   "cell_type": "markdown",
   "metadata": {},
   "source": [
    "# 2.1: Language models explained"
   ]
  },
  {
   "cell_type": "markdown",
   "metadata": {},
   "source": [
    "`kaldi` has native support for the `ARPA` format for language models.  A good explanation of that format can be read [here](https://cmusphinx.github.io/wiki/arpaformat/), but here is the basic format:\n",
    "\n",
    "A popular open-source language modeling toolkit that outputs in the `ARPA` format is `IRSTLM`.  It's manual can be found in `resource_files/irstlm-manual.pdf`.\n",
    "\n",
    "We will build a language model from a toy corpus (using `IRSTLM`) and then analyze it."
   ]
  },
  {
   "cell_type": "markdown",
   "metadata": {},
   "source": [
    "## the toy corpus\n",
    "\n",
    "A toy corpus is in `resource_files/animal_corpus.txt`.  In this corpus, each line represents a sentence, and there is *no* punctuation present.\n",
    "\n",
    "**Note:** From the perspective of a language model, one *could* model punctuation if that were of importance, but since our purpose is to model *spoken* text, we do *not* have any need to model punctuation."
   ]
  },
  {
   "cell_type": "code",
   "execution_count": 2,
   "metadata": {},
   "outputs": [
    {
     "name": "stdout",
     "output_type": "stream",
     "text": [
      "the mouse ate the cheese\n",
      "the cat ate the mouse\n",
      "the dog ate the cat\n",
      "the lion at the dog\n",
      "the tyrannosaurus rex ate the lion\n",
      "the human shot the mouse\n",
      "the human shot the cat\n",
      "the human shot the dog\n",
      "the human shot the lion\n",
      "the human shot the tyrannosaurus rex\n"
     ]
    }
   ],
   "source": [
    "cat resource_files/animal_corpus.txt"
   ]
  },
  {
   "cell_type": "markdown",
   "metadata": {},
   "source": [
    "## building the language model with `IRSTLM`"
   ]
  },
  {
   "cell_type": "markdown",
   "metadata": {},
   "source": [
    "After `export`ing a few variables, we will be able to call scripts from `IRSTLM` without a full path."
   ]
  },
  {
   "cell_type": "code",
   "execution_count": 8,
   "metadata": {},
   "outputs": [],
   "source": [
    "export IRSTLM=${KALDI_PATH}/tools/irstlm\n",
    "export PATH=${PATH}:${IRSTLM}/bin"
   ]
  },
  {
   "cell_type": "markdown",
   "metadata": {},
   "source": [
    "We're also going to need to write some intermediate files to disk, so we'll make a temporary directory that we will remove at the end of this process"
   ]
  },
  {
   "cell_type": "code",
   "execution_count": 18,
   "metadata": {},
   "outputs": [],
   "source": [
    "mkdir -p resource_files/lm_temp"
   ]
  },
  {
   "cell_type": "markdown",
   "metadata": {},
   "source": [
    "### `add-start-end.sh`"
   ]
  },
  {
   "cell_type": "markdown",
   "metadata": {},
   "source": [
    "Since our corpus does *not* have periods, we need to add a custom symbol to represent the *beginning* and *end* of each sentence."
   ]
  },
  {
   "cell_type": "code",
   "execution_count": 15,
   "metadata": {},
   "outputs": [
    {
     "name": "stdout",
     "output_type": "stream",
     "text": [
      "\n",
      "add-start-end.sh - adds sentence start/end symbols in each line and trims very very long words\n",
      "\n",
      "USAGE:\n",
      "       add-start-end.sh [options]\n",
      "\n",
      "OPTIONS:\n",
      "       -h        Show this message\n",
      "       -r count  Specify symbol repetitions (default 1)\n",
      "       -t length Trim words up to _length_ chars (default 80)\n",
      "       -s char   Specify symbol (default s)\n",
      "\n"
     ]
    }
   ],
   "source": [
    "add-start-end.sh -h"
   ]
  },
  {
   "cell_type": "code",
   "execution_count": 19,
   "metadata": {},
   "outputs": [],
   "source": [
    "cat resource_files/animal_corpus.txt | add-start-end.sh > resource_files/lm_temp/animal_corpus_start_stop.txt"
   ]
  },
  {
   "cell_type": "code",
   "execution_count": 20,
   "metadata": {},
   "outputs": [
    {
     "name": "stdout",
     "output_type": "stream",
     "text": [
      "<s> the mouse ate the cheese  </s>\n",
      "<s> the cat ate the mouse  </s>\n",
      "<s> the dog ate the cat  </s>\n",
      "<s> the lion at the dog  </s>\n",
      "<s> the tyrannosaurus rex ate the lion  </s>\n",
      "<s> the human shot the mouse  </s>\n",
      "<s> the human shot the cat  </s>\n",
      "<s> the human shot the dog  </s>\n",
      "<s> the human shot the lion  </s>\n",
      "<s> the human shot the tyrannosaurus rex  </s>\n"
     ]
    }
   ],
   "source": [
    "cat resource_files/lm_temp/animal_corpus_start_stop.txt"
   ]
  },
  {
   "cell_type": "markdown",
   "metadata": {},
   "source": [
    "### `build-lm.sh`"
   ]
  },
  {
   "cell_type": "markdown",
   "metadata": {},
   "source": [
    "Now let's build the actual language model using `build-lm.sh`"
   ]
  },
  {
   "cell_type": "code",
   "execution_count": 16,
   "metadata": {},
   "outputs": [
    {
     "name": "stdout",
     "output_type": "stream",
     "text": [
      "\n",
      "build-lm.sh - estimates a language model file and saves it in intermediate ARPA format\n",
      "\n",
      "USAGE:\n",
      "       build-lm.sh [options]\n",
      "\n",
      "OPTIONS:\n",
      "       -i|--InputFile          Input training file e.g. 'gunzip -c train.gz'\n",
      "       -o|--OutputFile         Output gzipped LM, e.g. lm.gz\n",
      "       -k|--Parts              Number of splits (default 5)\n",
      "       -n|--NgramSize          Order of language model (default 3)\n",
      "       -d|--Dictionary         Define subdictionary for n-grams (optional, default is without any subdictionary)\n",
      "       -s|--LanguageModelType  Smoothing methods: witten-bell (default), shift-beta, improved-shift-beta, stupid-backoff; kneser-ney and improved-kneser-ney still accepted for back-compatibility, but mapped into shift-beta and improved-shift-beta, respectively\n",
      "       -p|--PruneSingletons    Prune singleton n-grams (default false)\n",
      "       -f|--PruneFrequencyThreshold      Pruning frequency threshold for each level; comma-separated list of values; (default is '0,0,...,0', for all levels)\n",
      "       -t|--TmpDir             Directory for temporary files (default ./stat_PID)\n",
      "       -l|--LogFile            File to store logging info (default /dev/null)\n",
      "       -u|--uniform            Use uniform word frequency for dictionary splitting (default false)\n",
      "       -b|--boundaries         Include sentence boundary n-grams (optional, default false)\n",
      "       -v|--verbose            Verbose\n",
      "       --debug                 Debug\n",
      "       -h|-?|--help            Show this message\n",
      "\n"
     ]
    }
   ],
   "source": [
    "build-lm.sh -h"
   ]
  },
  {
   "cell_type": "code",
   "execution_count": null,
   "metadata": {},
   "outputs": [],
   "source": [
    "build-lm.sh \\\n",
    "    -i resource_files/lm_temp/animal_corpus_start_stop.txt \\\n",
    "    -o resource_files/lm_temp/lm.gz \\\n",
    "    -n 2"
   ]
  },
  {
   "cell_type": "markdown",
   "metadata": {},
   "source": [
    "The `ARPA` language model is an `n-gram` model that will calculate the probability of seeing a particular sequence of `n-gram`s."
   ]
  }
 ],
 "metadata": {
  "kernelspec": {
   "display_name": "Bash",
   "language": "bash",
   "name": "bash"
  },
  "language_info": {
   "codemirror_mode": "shell",
   "file_extension": ".sh",
   "mimetype": "text/x-sh",
   "name": "bash"
  }
 },
 "nbformat": 4,
 "nbformat_minor": 2
}
