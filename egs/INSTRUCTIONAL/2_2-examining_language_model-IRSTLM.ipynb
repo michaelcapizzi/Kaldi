{
 "cells": [
  {
   "cell_type": "markdown",
   "metadata": {},
   "source": [
    "# 2.2: Examining language models"
   ]
  },
  {
   "cell_type": "code",
   "execution_count": 1,
   "metadata": {},
   "outputs": [],
   "source": [
    "export IRSTLM=${KALDI_PATH}/tools/irstlm\n",
    "export PATH=${PATH}:${IRSTLM}/bin"
   ]
  },
  {
   "cell_type": "markdown",
   "metadata": {},
   "source": [
    "### `compile-lm`\n",
    "\n",
    "`compile-lm` can be used to put our language model into memory and evaluate in it in different ways."
   ]
  },
  {
   "cell_type": "code",
   "execution_count": 2,
   "metadata": {},
   "outputs": [
    {
     "name": "stdout",
     "output_type": "stream",
     "text": [
      "\n",
      "compile-lm - compiles an ARPA format LM into an IRSTLM format one\n",
      "\n",
      "USAGE:\n",
      "       compile-lm [options] <input-file.lm> [output-file.blm]\n",
      "\n",
      "DESCRIPTION:\n",
      "       compile-lm reads a standard LM file in ARPA format and produces\n",
      "       a compiled representation that the IRST LM toolkit can quickly\n",
      "       read and process. LM file can be compressed.\n",
      "\n",
      "OPTIONS:\n",
      "Parameters:\n",
      "    Help:      print this help\n",
      "    d:      verbose output for --eval option; default is 0\n",
      "    debug:      verbose output for --eval option; default is 0\n",
      "    dict_load_factor:      sets the load factor for ngram cache; it should be a positive real value; default is 0\n",
      "    dub:      dictionary upperbound to compute OOV word penalty: default 10^7\n",
      "    e:      computes perplexity of the specified text file\n",
      "    eval:      computes perplexity of the specified text file\n",
      "    f:      filter a binary language model with a word list\n",
      "    filter:      filter a binary language model with a word list\n",
      "    h:      print this help\n",
      "    i:      builds an inverted n-gram binary table for fast access; default if false\n",
      "    invert:      builds an inverted n-gram binary table for fast access; default if false\n",
      "    keep-start-symbols:      keeps (or not) multiple contiguous start symbols in the n-grams; false means that just one start symbol is kept, true means that all start symbols are kept\n",
      "    keepunigrams:      filter by keeping all unigrams in the table, default  is true\n",
      "    ku:      filter by keeping all unigrams in the table, default  is true\n",
      "    l:      maximum level to load from the LM; if value is larger than the actual LM order, the latter is taken\n",
      "    level:      maximum level to load from the LM; if value is larger than the actual LM order, the latter is taken\n",
      "    memmap:      uses memory map to read a binary LM\n",
      "    mm:      uses memory map to read a binary LM\n",
      "    ngram_load_factor:      sets the load factor for ngram cache; it should be a positive real value; default is false\n",
      "    ngramscore:      computes log-prob scores of the last n-gram  before an _END_NGRAM_ symbol from standard input\n",
      "    ns:      computes log-prob scores of the last n-gram  before an _END_NGRAM_ symbol from standard input\n",
      "    r:      computes N random calls on the specified text file\n",
      "    randcalls:      computes N random calls on the specified text file\n",
      "    s:      computes log-prob scores of n-grams from standard input\n",
      "    score:      computes log-prob scores of n-grams from standard input\n",
      "    sentence:      computes perplexity at sentence level (identified through the end symbol)\n",
      "    t:      output is again in text format; default is false\n",
      "    text:      output is again in text format; default is false\n",
      "    tmpdir:      directory for temporary computation, default is either the environment variable TMP if defined or \"/tmp\")\n",
      "\n",
      "DEBUG_LEVEL:0/1 Everything OK\n"
     ]
    }
   ],
   "source": [
    "compile-lm"
   ]
  },
  {
   "cell_type": "markdown",
   "metadata": {},
   "source": [
    "#### `perplexity`"
   ]
  },
  {
   "cell_type": "code",
   "execution_count": 3,
   "metadata": {},
   "outputs": [
    {
     "name": "stdout",
     "output_type": "stream",
     "text": [
      "inpfile: resource_files/animal_lm-2_gram.lm\n",
      "outfile: animal_lm-2_gram.lm.blm\n",
      "evalfile: yes\n",
      "loading up to the LM level 1000 (if any)\n",
      "dub: 10000000\n",
      "OOV code is 14\n",
      "OOV code is 14\n",
      "Start Eval\n",
      "OOV code: 14\n",
      "%% Nw=0 PP=-nan PPwp=-nan Nbo=0 Noov=0 OOV=-nan%\n"
     ]
    }
   ],
   "source": [
    "compile-lm resource_files/animal_lm-2_gram.lm --eval=yes < resource_files/animal_test_corpus.txt"
   ]
  },
  {
   "cell_type": "markdown",
   "metadata": {},
   "source": [
    "#### `probability` of `n-gram`s"
   ]
  },
  {
   "cell_type": "code",
   "execution_count": 4,
   "metadata": {},
   "outputs": [
    {
     "name": "stdout",
     "output_type": "stream",
     "text": [
      "inpfile: resource_files/animal_lm-2_gram.lm\n",
      "outfile: animal_lm-2_gram.lm.blm\n",
      "interactive: 1\n",
      "loading up to the LM level 1000 (if any)\n",
      "dub: 10000000\n",
      "OOV code is 14\n",
      "OOV code is 14\n",
      "> <s> the\t1 p= -0x1.2ad5dc53d7533p-2 bo= 0\n",
      "> the mouse\t1 p= -0x1.0ce06c02e8a4cp+1 bo= 0\n",
      "> mouse ate\t1 p= -0x1.8199d8c0e0c22p+0 bo= 0\n",
      "> ate the\t1 p= -0x1.57576708db605p-3 bo= 0\n",
      "> the cat\t1 p= -0x1.0ce06c02e8a4cp+1 bo= 0\n",
      "> cat </s>\t1 p= -0x1.9b50bb08ac0a2p-1 bo= 0\n",
      "> <s> the\t1 p= -0x1.2ad5dc53d7533p-2 bo= 0\n",
      "> the tyrannosaurus\t1 p= -0x1.3f4f94250d429p+1 bo= 0\n",
      "> tyrannosaurus shot\t1 p= -0x1.ea10eef56f1fep+1 bo= 1\n",
      "> shot the\t1 p= -0x1.19f81ab71a53dp-3 bo= 0\n",
      "> the human\t1 p= -0x1.9959c279b8b8ep+0 bo= 0\n",
      "> human </s>\t1 p= -0x1.f53413f41718ap+1 bo= 1\n",
      "> <s> the\t1 p= -0x1.2ad5dc53d7533p-2 bo= 0\n",
      "> the <unk>\t1 p= -0x1.348217af7430ap+4 bo= 1\n",
      "> <unk> ate\t1 p= -0x1.74c7ea98d13adp+1 bo= 1\n",
      "> ate the\t1 p= -0x1.57576708db605p-3 bo= 0\n",
      "> the <unk>\t1 p= -0x1.348217af7430ap+4 bo= 1\n",
      "> <unk> </s>\t1 p= -0x1.0fdbb970ffb3p+1 bo= 1\n",
      "> \n"
     ]
    }
   ],
   "source": [
    "compile-lm resource_files/animal_lm-2_gram.lm --score=yes < resource_files/animal_test_corpus.txt"
   ]
  },
  {
   "cell_type": "code",
   "execution_count": 6,
   "metadata": {},
   "outputs": [
    {
     "name": "stdout",
     "output_type": "stream",
     "text": [
      "inpfile: resource_files/animal_lm-2_gram.lm\n",
      "outfile: animal_lm-2_gram.lm.blm\n",
      "interactive for ngrams only: 1\n",
      "loading up to the LM level 1000 (if any)\n",
      "dub: 10000000\n",
      "OOV code is 14\n",
      "OOV code is 14\n"
     ]
    }
   ],
   "source": [
    "echo \"the human ate the cheese\" | compile-lm resource_files/animal_lm-2_gram.lm --ngramscore=yes "
   ]
  },
  {
   "cell_type": "code",
   "execution_count": 5,
   "metadata": {},
   "outputs": [
    {
     "name": "stdout",
     "output_type": "stream",
     "text": [
      "inpfile: resource_files/animal_lm-2_gram.lm\n",
      "outfile: animal_lm-2_gram.lm.blm\n",
      "loading up to the LM level 1000 (if any)\n",
      "dub: 10000000\n",
      "OOV code is 14\n",
      "OOV code is 14\n",
      "Saving in bin format to animal_lm-2_gram.lm.blm\n"
     ]
    }
   ],
   "source": [
    "# writes a file\n",
    "compile-lm resource_files/animal_lm-2_gram.lm --sentence=yes < resource_files/animal_test_corpus.txt"
   ]
  }
 ],
 "metadata": {
  "kernelspec": {
   "display_name": "Bash",
   "language": "bash",
   "name": "bash"
  },
  "language_info": {
   "codemirror_mode": "shell",
   "file_extension": ".sh",
   "mimetype": "text/x-sh",
   "name": "bash"
  }
 },
 "nbformat": 4,
 "nbformat_minor": 2
}
