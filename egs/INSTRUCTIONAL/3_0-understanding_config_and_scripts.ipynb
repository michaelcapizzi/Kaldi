{
 "cells": [
  {
   "cell_type": "markdown",
   "metadata": {},
   "source": [
    "# 3.0: Understanding the `config` file and the `run_*` scripts"
   ]
  },
  {
   "cell_type": "markdown",
   "metadata": {},
   "source": [
    "The pipeline is set up in **five** steps:\n",
    "\n",
    " - `run_prepare_data`\n",
    " - `run_feature_extraction`\n",
    " - `run_train_phones`\n",
    " - `run_compile_graph`\n",
    " - `run_test`\n",
    "\n",
    "and the arguments to each of those steps are handled by a `config` file called `kaldi_config.json`.\n",
    "\n",
    "In the first step, the `config` file will supply files to the script, and in later steps most of the arguments passed are hyperparameters."
   ]
  },
  {
   "cell_type": "markdown",
   "metadata": {},
   "source": [
    "## `kaldi_config.json`"
   ]
  },
  {
   "cell_type": "code",
   "execution_count": 10,
   "metadata": {},
   "outputs": [
    {
     "name": "stdout",
     "output_type": "stream",
     "text": [
      "  \"\u001b[01;31m\u001b[Krun_prepare_data\u001b[m\u001b[K.sh\": {\n",
      "    \"parameters\": {\n",
      "      \"transcripts\": {\n",
      "        \"flag\": \"-r\",\n",
      "        \"value\": \"/media/mcapizzi/data/DataFiles/transcripts/Fisher_transcripts_from_saved_models.txt\"\n",
      "      },\n",
      "      \"lexicon\": {\n",
      "        \"flag\": \"-x\",\n",
      "        \"value\": \"/media/mcapizzi/data/DataFiles/lexicon/lexicon_fisher_from_saved_models.txt\"\n",
      "      },\n",
      "      \"lexicon_nosil\": {\n",
      "        \"flag\": \"-y\",\n",
      "        \"value\": \"/media/mcapizzi/data/DataFiles/lexicon/lexicon_fisher_from_saved_models.txt\"\n",
      "      },\n",
      "      \"phones\": {\n",
      "        \"flag\": \"-p\",\n",
      "...\n",
      "  \"\u001b[01;31m\u001b[Krun_train_phones\u001b[m\u001b[K.sh\": {\n",
      "    \"parameters\": {\n",
      "      \"training_type\": {\n",
      "        \"flag\": \"-i\",\n",
      "        \"value\": \"deltas\"\n",
      "      },\n",
      "      \"num_gaussians\": {\n",
      "        \"flag\": \"-g\",\n",
      "        \"value\": 2000\n",
      "      },\n",
      "      \"num_leaves\": {\n",
      "        \"flag\": \"-l\",\n",
      "        \"value\": 500\n",
      "      },\n",
      "      \"data_reduction_rate\": {\n",
      "        \"flag\": \"-p\",\n"
     ]
    }
   ],
   "source": [
    "cat kaldi_config.json | grep -A15 run_prepare_data\n",
    "echo ...\n",
    "cat kaldi_config.json | grep -A15 run_train_phones"
   ]
  },
  {
   "cell_type": "markdown",
   "metadata": {},
   "source": [
    "**Note:** `path`s must **always** be `absolute` (*e.g.* the **full** path)"
   ]
  },
  {
   "cell_type": "markdown",
   "metadata": {},
   "source": [
    "### `integer` v. `string` values"
   ]
  },
  {
   "cell_type": "markdown",
   "metadata": {},
   "source": [
    "### `boolean` values"
   ]
  },
  {
   "cell_type": "markdown",
   "metadata": {},
   "source": [
    "### `null` values"
   ]
  },
  {
   "cell_type": "markdown",
   "metadata": {},
   "source": [
    "### `non-vanilla hyperparameters`"
   ]
  },
  {
   "cell_type": "markdown",
   "metadata": {},
   "source": [
    "## `run_*.sh`"
   ]
  },
  {
   "cell_type": "markdown",
   "metadata": {},
   "source": [
    "The beginning of each `run_*` script does the following:\n",
    "    - summarizes the purpose of the script\n",
    "    - briefly explains the arguments it takes\n",
    "    - identifies the outputs of the script (usually in the form of new directories and files)"
   ]
  },
  {
   "cell_type": "code",
   "execution_count": null,
   "metadata": {},
   "outputs": [],
   "source": [
    "# TODO show example"
   ]
  }
 ],
 "metadata": {
  "kernelspec": {
   "display_name": "Bash",
   "language": "bash",
   "name": "bash"
  },
  "language_info": {
   "codemirror_mode": "shell",
   "file_extension": ".sh",
   "mimetype": "text/x-sh",
   "name": "bash"
  }
 },
 "nbformat": 4,
 "nbformat_minor": 2
}
