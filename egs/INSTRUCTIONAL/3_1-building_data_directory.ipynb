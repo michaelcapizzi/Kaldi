{
 "cells": [
  {
   "cell_type": "markdown",
   "metadata": {},
   "source": [
    "# 3.1: Building the `data` directory "
   ]
  },
  {
   "cell_type": "markdown",
   "metadata": {},
   "source": [
    "Extra reading: http://kaldi-asr.org/doc/data_prep.html"
   ]
  },
  {
   "cell_type": "markdown",
   "metadata": {},
   "source": [
    "## `wav.scp`"
   ]
  },
  {
   "cell_type": "code",
   "execution_count": null,
   "metadata": {},
   "outputs": [],
   "source": [
    "for part in dev-clean_audio test-clean_audio dev-other_audio test-other_audio train-clean-100_audio; do\n",
    "    # update name of $part to match the existing directories in data\n",
    "    # e.g. dev_clean, test_clean, dev_other, test_other, train_clean_100\n",
    "    updated_part=$(echo ${part} | sed -E \"s:([a-z]+\\-[a-z]+(\\-[0-9]+)?)\\_audio:\\1:g\" | sed \"s:-:_:g\")\n",
    "    # build wav.scp\n",
    "    ${KALDI_INSTRUCTIONAL_PATH}/local/build_wav_scp.sh \\\n",
    "        ${KALDI_INSTRUCTIONAL_PATH}/raw_data/LibriSpeech/${part} \\\n",
    "        ${KALDI_INSTRUCTIONAL_PATH}/data/${updated_part}/wav.scp\n",
    "done"
   ]
  }
 ],
 "metadata": {
  "kernelspec": {
   "display_name": "Bash",
   "language": "bash",
   "name": "bash"
  },
  "language_info": {
   "codemirror_mode": "shell",
   "file_extension": ".sh",
   "mimetype": "text/x-sh",
   "name": "bash"
  }
 },
 "nbformat": 4,
 "nbformat_minor": 2
}
