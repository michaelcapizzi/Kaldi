{
 "cells": [
  {
   "cell_type": "markdown",
   "metadata": {},
   "source": [
    "# 3.1: `run_prepare_data.sh` - Building the `data` directory"
   ]
  },
  {
   "cell_type": "markdown",
   "metadata": {},
   "source": [
    "## Setting `kaldi_config.json`"
   ]
  },
  {
   "cell_type": "markdown",
   "metadata": {},
   "source": [
    "Edit the **first** section of `kaldi_config.json` to contain the proper arguments for `run_prepare_data.sh` using the following files:\n",
    " - using the `dev-clean` as the `train` subset\n",
    " - using the `test-clean` as the `test` subset\n",
    " - using the `3-gram.pruned.3e-7.arpa` language model\n",
    " \n",
    "**Note:** This configuration is **not** the \"best\", but one of the fastest to prepare.\n",
    "\n",
    "You can see a brief explanation of the other arguments by inspecting the beginning of `run_prepare_data.sh`.\n",
    "\n",
    "**ATMOSPHERE USERS:** You will need to use a `terminal` and `vim` to do this.  The other, less efficient, method, is to locally edit the file and then `scp` it to your `instance`."
   ]
  },
  {
   "cell_type": "code",
   "execution_count": 7,
   "metadata": {},
   "outputs": [
    {
     "name": "stdout",
     "output_type": "stream",
     "text": [
      "#!/usr/bin/env bash\n",
      "\n",
      "# This scripts prepares the data (audio, transcripts, phones list, language model) for later use\n",
      "# *Note:* This script can take training and/or testing audio\n",
      "\n",
      "# ARGUMENTS\n",
      "# REQUIRED\n",
      "# -r <path> = full path to `transcripts` file\n",
      "# NOTE: if flag *not* present, assumes segmented transcript files\n",
      "# -x <path> = full path to `lexicon.txt` file\n",
      "# -p <path> = full path to `phones.txt` file\n",
      "# -s <string> = string representing a list of phones representing silence, default=`SIL OOV`\n",
      "# -l <path> = full path to `language_model` file\n",
      "    # can be OMITTED if building for TIDIGITS\n",
      "# -z [no argument] = if present, automatically purge OOV from language model\n",
      "# -n <path> = full path of training data\n",
      "# -t <path> = full path of testing data\n",
      "    # Must have *at least* one of `-n` or `-t`\n",
      "# OPTIONAL\n",
      "# -u [no argument] = if present, using UNsegmented transcript file\n",
      "# -g <path> = full path to TRAIN segments file  **needed if *not -u*\n",
      "# -h <path> = full path to TEST segments file   **needed if *not -u*\n",
      "# -q <string> = non-vanilla hyperparameters to `prepare_lang.sh`, in the form \"--sil-prob .1\"\n",
      "\n",
      "# OUTPUTS\n",
      "# Creates `data/` directory\n",
      "# This includes subdirectories: `data/lang/`, `data/lang_test_tg/`, `data/local/`, and\n",
      "# `data/train_dir` and/or `data/test_dir/`\n",
      "\n",
      "############################\n"
     ]
    }
   ],
   "source": [
    "head -n30 run_prepare_data.sh"
   ]
  },
  {
   "cell_type": "markdown",
   "metadata": {},
   "source": [
    "## Running `run_prepare_data.sh`"
   ]
  },
  {
   "cell_type": "code",
   "execution_count": null,
   "metadata": {},
   "outputs": [],
   "source": [
    "# ./run_prepare_data.sh kaldi_config.json"
   ]
  },
  {
   "cell_type": "markdown",
   "metadata": {},
   "source": [
    "## Inspecting results"
   ]
  },
  {
   "cell_type": "markdown",
   "metadata": {},
   "source": [
    "The official `kaldi` documentation goes into the contents of the `data` directory in detail [here](http://kaldi-asr.org/doc/data_prep.html)."
   ]
  }
 ],
 "metadata": {
  "kernelspec": {
   "display_name": "Bash",
   "language": "bash",
   "name": "bash"
  },
  "language_info": {
   "codemirror_mode": "shell",
   "file_extension": ".sh",
   "mimetype": "text/x-sh",
   "name": "bash"
  }
 },
 "nbformat": 4,
 "nbformat_minor": 2
}
