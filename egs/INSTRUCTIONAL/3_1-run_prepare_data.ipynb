{
 "cells": [
  {
   "cell_type": "markdown",
   "metadata": {},
   "source": [
    "# 3.1: `run_prepare_data.sh` - Building the `data` directory"
   ]
  },
  {
   "cell_type": "markdown",
   "metadata": {},
   "source": [
    "## Setting `kaldi_config.json`"
   ]
  },
  {
   "cell_type": "markdown",
   "metadata": {},
   "source": [
    "Edit the **first** section of `kaldi_config.json` to contain the proper arguments for `run_prepare_data.sh` using the following files:\n",
    " - using the `dev-clean` as the `train` subset\n",
    " - using the `test-clean` as the `test` subset\n",
    " - using the `3-gram.pruned.3e-7.arpa` language model\n",
    " \n",
    "**Note:** This configuration is **not** the \"best\", but one of the fastest to prepare.\n",
    "\n",
    "You can see a brief explanation of the other arguments by inspecting the beginning of `run_prepare_data.sh`.\n",
    "\n",
    "**ATMOSPHERE USERS:** You will need to use a `terminal` and `vim` to do this.  The other, less efficient, method, is to locally edit the file and then `scp` it to your `instance`."
   ]
  },
  {
   "cell_type": "code",
   "execution_count": null,
   "metadata": {},
   "outputs": [],
   "source": [
    "head -n30 run_prepare_data.sh"
   ]
  },
  {
   "cell_type": "markdown",
   "metadata": {},
   "source": [
    "## Running `run_prepare_data.sh`"
   ]
  },
  {
   "cell_type": "markdown",
   "metadata": {},
   "source": [
    "Run `run_prepare_data.sh`.  Carefully read through the output to ensure that there were no errors.\n",
    "\n",
    "**Note:** If you are *rerunning* this step, make sure to have deleted the entire `data` (`rm -r data/`) directory beforehand."
   ]
  },
  {
   "cell_type": "code",
   "execution_count": 1,
   "metadata": {},
   "outputs": [
    {
     "name": "stdout",
     "output_type": "stream",
     "text": [
      "Timestamp in HH:MM:SS (24 hour format)\n",
      "14:27:23\n",
      "\n",
      "Preparing data\n",
      "cat: /home/kaldi/egs/INSTRUCTIONAL/raw_data/librispeech-phones.txt: No such file or directory\n",
      "head: cannot open '/home/kaldi/egs/INSTRUCTIONAL/raw_data/librispeech-phones.txt' for reading: No such file or directory\n",
      "Checking /home//kaldi/egs/INSTRUCTIONAL/data/local/dict/silence_phones.txt ...\n",
      "--> reading /home//kaldi/egs/INSTRUCTIONAL/data/local/dict/silence_phones.txt\n",
      "--> /home//kaldi/egs/INSTRUCTIONAL/data/local/dict/silence_phones.txt is OK\n",
      "\n",
      "Checking /home//kaldi/egs/INSTRUCTIONAL/data/local/dict/optional_silence.txt ...\n",
      "--> reading /home//kaldi/egs/INSTRUCTIONAL/data/local/dict/optional_silence.txt\n",
      "--> ERROR: phone sil not found in /home//kaldi/egs/INSTRUCTIONAL/data/local/dict/silence_phones.txt\n",
      "\n",
      "Checking /home//kaldi/egs/INSTRUCTIONAL/data/local/dict/nonsilence_phones.txt ...\n",
      "--> ERROR: /home//kaldi/egs/INSTRUCTIONAL/data/local/dict/nonsilence_phones.txt is empty or not exists\n",
      "*Error validating directory /home//kaldi/egs/INSTRUCTIONAL/data/local/dict*\n",
      "\n",
      "####\n",
      "#### ERROR: prepare_lang.sh\n",
      "####\n",
      "\n",
      "Preparing language models for test\n",
      "Failed opening symbol table file /home//kaldi/egs/INSTRUCTIONAL/data/lang/words.txt\n",
      "arpa2fst - \n",
      "LOG (arpa2fst[5.2.191~1-48be1]:Read():arpa-file-parser.cc:98) Reading \\data\\ section.\n",
      "LOG (arpa2fst[5.2.191~1-48be1]:Read():arpa-file-parser.cc:153) Reading \\1-grams: section.\n",
      "ERROR: SymbolTable::ReadText: Can't open file /home//kaldi/egs/INSTRUCTIONAL/data/lang_test_tg/words.txt\n",
      "ERROR: FstHeader::Read: Bad FST header: standard input\n",
      "ERROR: FstHeader::Read: Bad FST header: standard input\n",
      "LOG (arpa2fst[5.2.191~1-48be1]:Read():arpa-file-parser.cc:153) Reading \\2-grams: section.\n",
      "\n"
     ]
    }
   ],
   "source": [
    "./run_prepare_data.sh kaldi_config.json"
   ]
  },
  {
   "cell_type": "markdown",
   "metadata": {},
   "source": [
    "We will inspect the resulting files in the next `notebook`."
   ]
  }
 ],
 "metadata": {
  "kernelspec": {
   "display_name": "Bash",
   "language": "bash",
   "name": "bash"
  },
  "language_info": {
   "codemirror_mode": "shell",
   "file_extension": ".sh",
   "mimetype": "text/x-sh",
   "name": "bash"
  }
 },
 "nbformat": 4,
 "nbformat_minor": 2
}
