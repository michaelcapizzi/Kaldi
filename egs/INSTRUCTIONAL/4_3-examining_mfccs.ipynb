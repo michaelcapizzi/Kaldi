{
 "cells": [
  {
   "cell_type": "markdown",
   "metadata": {},
   "source": [
    "**Note**: This `notebook` is built for a `python` kernel, and so the default setting for each cell is `python`.  But you can use `%%bash` at the beginning of any cell to utilize `shell`."
   ]
  },
  {
   "cell_type": "code",
   "execution_count": 1,
   "metadata": {},
   "outputs": [
    {
     "data": {
      "text/html": [
       "<script>requirejs.config({paths: { 'plotly': ['https://cdn.plot.ly/plotly-latest.min']},});if(!window.Plotly) {{require(['plotly'],function(plotly) {window.Plotly=plotly;});}}</script>"
      ],
      "text/vnd.plotly.v1+html": [
       "<script>requirejs.config({paths: { 'plotly': ['https://cdn.plot.ly/plotly-latest.min']},});if(!window.Plotly) {{require(['plotly'],function(plotly) {window.Plotly=plotly;});}}</script>"
      ]
     },
     "metadata": {},
     "output_type": "display_data"
    }
   ],
   "source": [
    "import utils.feature_viz.feature_viz as fv\n",
    "import plotly.graph_objs as go\n",
    "import plotly.offline as py\n",
    "py.init_notebook_mode(connected=True)\n",
    "import numpy as np"
   ]
  },
  {
   "cell_type": "markdown",
   "metadata": {},
   "source": [
    "# 4.3: Examining the `MFCC`s"
   ]
  },
  {
   "cell_type": "markdown",
   "metadata": {},
   "source": [
    "Our `INSTRUCTIONAL` directory has a copy of [this third-party repository](https://github.com/vesis84/kaldi-io-for-python) in `utils/feature_viz`.  `utils/feature_viz/kaldi_io.py` has methods that allow us to read from (and write to...though we won't be using that) `.ark` files."
   ]
  },
  {
   "cell_type": "code",
   "execution_count": 2,
   "metadata": {},
   "outputs": [
    {
     "name": "stdout",
     "output_type": "stream",
     "text": [
      "__init__.pyc\n",
      "kaldi_io.pyc\n"
     ]
    }
   ],
   "source": [
    "%%bash\n",
    "ls utils/feature_viz/kaldi_io_for_python/"
   ]
  },
  {
   "cell_type": "markdown",
   "metadata": {},
   "source": [
    "And there is a `python` module called `feature_viz.py` that has some methods wrapping `kaldi_io.py` that we'll use below to examine the `MFCC` features we extracted."
   ]
  },
  {
   "cell_type": "markdown",
   "metadata": {},
   "source": [
    "## Choosing an audio sample"
   ]
  },
  {
   "cell_type": "markdown",
   "metadata": {},
   "source": [
    "All of our `mfcc` features are located in the `mfcc` directory."
   ]
  },
  {
   "cell_type": "code",
   "execution_count": 3,
   "metadata": {},
   "outputs": [
    {
     "name": "stdout",
     "output_type": "stream",
     "text": [
      "raw_mfcc_test_dir.1.ark\n",
      "raw_mfcc_test_dir.1.scp\n",
      "raw_mfcc_test_dir.2.ark\n",
      "raw_mfcc_test_dir.2.scp\n",
      "raw_mfcc_test_dir.3.ark\n",
      "raw_mfcc_test_dir.3.scp\n",
      "raw_mfcc_test_dir.4.ark\n",
      "raw_mfcc_test_dir.4.scp\n",
      "raw_mfcc_train_dir.1.ark\n",
      "raw_mfcc_train_dir.1.scp\n",
      "raw_mfcc_train_dir.2.ark\n",
      "raw_mfcc_train_dir.2.scp\n",
      "raw_mfcc_train_dir.3.ark\n",
      "raw_mfcc_train_dir.3.scp\n",
      "raw_mfcc_train_dir.4.ark\n",
      "raw_mfcc_train_dir.4.scp\n"
     ]
    }
   ],
   "source": [
    "%%bash\n",
    "ls mfcc | grep mfcc"
   ]
  },
  {
   "cell_type": "markdown",
   "metadata": {},
   "source": [
    "You'll notice a number of files equal to the parallelization that we utilized during feature extraction, and for each `int`, there will be an `.ark` and a `.scp` file.  "
   ]
  },
  {
   "cell_type": "markdown",
   "metadata": {},
   "source": [
    "**Note:** If there is a *particular* audio sample that you'd like to inspect, you'll have to find which `.ark` file it resides in.\n",
    "\n",
    "For this example, we'll look at an example with some interesting sounds in it."
   ]
  },
  {
   "cell_type": "code",
   "execution_count": 4,
   "metadata": {},
   "outputs": [
    {
     "name": "stdout",
     "output_type": "stream",
     "text": [
      "1272-128104-0000 MISTER QUILTER IS THE APOSTLE OF THE MIDDLE CLASSES AND WE ARE GLAD TO WELCOME HIS GOSPEL\n",
      "1272-128104-0001 NOR IS MISTER QUILTER'S MANNER LESS INTERESTING THAN HIS MATTER\n",
      "1272-128104-0002 HE TELLS US THAT AT THIS FESTIVE SEASON OF THE YEAR WITH CHRISTMAS AND ROAST BEEF LOOMING BEFORE US SIMILES DRAWN FROM EATING AND ITS RESULTS OCCUR MOST READILY TO THE MIND\n",
      "1272-128104-0003 HE HAS GRAVE DOUBTS WHETHER SIR FREDERICK LEIGHTON'S WORK IS REALLY GREEK AFTER ALL AND CAN DISCOVER IN IT BUT LITTLE OF ROCKY ITHACA\n",
      "1272-128104-0004 LINNELL'S PICTURES ARE A SORT OF UP GUARDS AND AT EM PAINTINGS AND MASON'S EXQUISITE IDYLLS ARE AS NATIONAL AS A JINGO POEM MISTER BIRKET FOSTER'S LANDSCAPES SMILE AT ONE MUCH IN THE SAME WAY THAT MISTER CARKER USED TO FLASH HIS TEETH AND MISTER JOHN COLLIER GIVES HIS SITTER A CHEERFUL SLAP ON THE BACK BEFORE HE SAYS LIKE A SHAMPOOER IN A TURKISH BATH NEXT MAN\n",
      "1272-128104-0005 IT IS OBVIOUSLY UNNECESSARY FOR US TO POINT OUT HOW LUMINOUS THESE CRITICISMS ARE HOW DELICATE IN EXPRESSION\n",
      "1272-128104-0006 ON THE GENERAL PRINCIPLES OF ART MISTER QUILTER WRITES WITH EQUAL LUCIDITY\n",
      "1272-128104-0007 PAINTING HE TELLS US IS OF A DIFFERENT QUALITY TO MATHEMATICS AND FINISH IN ART IS ADDING MORE FACT\n",
      "1272-128104-0008 AS FOR ETCHINGS THEY ARE OF TWO KINDS BRITISH AND FOREIGN\n",
      "1272-128104-0009 HE LAMENTS MOST BITTERLY THE DIVORCE THAT HAS BEEN MADE BETWEEN DECORATIVE ART AND WHAT WE USUALLY CALL PICTURES MAKES THE CUSTOMARY APPEAL TO THE LAST JUDGMENT AND REMINDS US THAT IN THE GREAT DAYS OF ART MICHAEL ANGELO WAS THE FURNISHING UPHOLSTERER\n"
     ]
    }
   ],
   "source": [
    "%%bash\n",
    "head raw_data/librispeech-transcripts.txt "
   ]
  },
  {
   "cell_type": "markdown",
   "metadata": {},
   "source": [
    "First let's find which `.ark` it is in."
   ]
  },
  {
   "cell_type": "code",
   "execution_count": 5,
   "metadata": {},
   "outputs": [
    {
     "name": "stdout",
     "output_type": "stream",
     "text": [
      "not found in mfcc/raw_mfcc_test_dir.1.scp\n",
      "not found in mfcc/raw_mfcc_test_dir.2.scp\n",
      "not found in mfcc/raw_mfcc_test_dir.3.scp\n",
      "not found in mfcc/raw_mfcc_test_dir.4.scp\n",
      "found in mfcc/raw_mfcc_train_dir.1.scp: 1272-128104-0000 /home//kaldi/egs/INSTRUCTIONAL/mfcc/raw_mfcc_train_dir.1.ark:17\n",
      "not found in mfcc/raw_mfcc_train_dir.2.scp\n",
      "not found in mfcc/raw_mfcc_train_dir.3.scp\n",
      "not found in mfcc/raw_mfcc_train_dir.4.scp\n"
     ]
    }
   ],
   "source": [
    "%%bash \n",
    "for f in `ls mfcc/raw_mfcc_*.scp`; do\n",
    "    match=$(cat $f | grep \"1272-128104-0000\")\n",
    "    if [[ -z $match ]]; then\n",
    "        echo \"not found in $f\"\n",
    "    else\n",
    "        echo \"found in $f: $match\"\n",
    "    fi\n",
    "done"
   ]
  },
  {
   "cell_type": "markdown",
   "metadata": {},
   "source": [
    "## Reading in features"
   ]
  },
  {
   "cell_type": "code",
   "execution_count": 6,
   "metadata": {},
   "outputs": [],
   "source": [
    "SAMPLE = \"1272-128104-0000\"\n",
    "ARK_SAMPLE = \"raw_mfcc_train_dir.1.scp\""
   ]
  },
  {
   "cell_type": "markdown",
   "metadata": {},
   "source": [
    "`read_in_features()` will read in the features for *all* of the utterances found in our `.ark`"
   ]
  },
  {
   "cell_type": "code",
   "execution_count": 7,
   "metadata": {},
   "outputs": [
    {
     "data": {
      "text/plain": [
       "['2035-147961-0031',\n",
       " '2035-147961-0030',\n",
       " '2035-147961-0033',\n",
       " '2035-147961-0032',\n",
       " '2035-147961-0035',\n",
       " '2035-147961-0034',\n",
       " '2035-147961-0037',\n",
       " '2035-147960-0014',\n",
       " '2035-147961-0039',\n",
       " '2035-147961-0038']"
      ]
     },
     "execution_count": 7,
     "metadata": {},
     "output_type": "execute_result"
    }
   ],
   "source": [
    "feats_in = fv.read_in_features(\"mfcc/{}\".format(ARK_SAMPLE))\n",
    "list(feats_in.keys())[:10]"
   ]
  },
  {
   "cell_type": "markdown",
   "metadata": {},
   "source": [
    "If we look more closely at our sample, the `value` is a `numpy array` representing the features for each frame in the utterance"
   ]
  },
  {
   "cell_type": "code",
   "execution_count": 8,
   "metadata": {},
   "outputs": [
    {
     "data": {
      "text/plain": [
       "array([[ 12.14908981, -21.18790054, -20.31894112, ...,  16.23352814,\n",
       "          0.05224136, -16.93466187],\n",
       "       [ 12.14908981, -21.75504494, -22.66297722, ...,  22.01498985,\n",
       "         -9.08587933,  -1.47463059],\n",
       "       [ 12.23464489, -19.48646164, -17.97490501, ...,  22.78585243,\n",
       "         -0.42246622,  -2.26634622],\n",
       "       ..., \n",
       "       [ 11.72131634, -24.59077454,  -8.06653976, ...,  11.60835743,\n",
       "         -1.01585066,  -2.7061882 ],\n",
       "       [ 11.63576221, -24.59077454,  -8.06653976, ...,  21.24412918,\n",
       "         -9.67926407,  -7.3891058 ],\n",
       "       [ 11.89242554, -22.32219124,  -6.91603661, ...,  16.23352814,\n",
       "         -7.06837225,  -5.78508282]], dtype=float32)"
      ]
     },
     "execution_count": 8,
     "metadata": {},
     "output_type": "execute_result"
    }
   ],
   "source": [
    "feats_in[SAMPLE]"
   ]
  },
  {
   "cell_type": "markdown",
   "metadata": {},
   "source": [
    "## Understanding the feature shape"
   ]
  },
  {
   "cell_type": "markdown",
   "metadata": {},
   "source": [
    "The shape of this `array` is `(num_frames x num_features)`"
   ]
  },
  {
   "cell_type": "code",
   "execution_count": 9,
   "metadata": {},
   "outputs": [
    {
     "data": {
      "text/plain": [
       "(584, 13)"
      ]
     },
     "execution_count": 9,
     "metadata": {},
     "output_type": "execute_result"
    }
   ],
   "source": [
    "feats_in[SAMPLE].shape"
   ]
  },
  {
   "cell_type": "markdown",
   "metadata": {},
   "source": [
    "There are two functions in `feature_viz.py` that can also easily extract this information:"
   ]
  },
  {
   "cell_type": "code",
   "execution_count": 10,
   "metadata": {},
   "outputs": [
    {
     "data": {
      "text/plain": [
       "(584, 13)"
      ]
     },
     "execution_count": 10,
     "metadata": {},
     "output_type": "execute_result"
    }
   ],
   "source": [
    "fv.get_num_frames(feats_in[SAMPLE]), fv.get_num_features(feats_in[SAMPLE])"
   ]
  },
  {
   "cell_type": "markdown",
   "metadata": {},
   "source": [
    "If we look back at the `MFCC` configuration file we used to extract these features, we'll see where this shape comes from."
   ]
  },
  {
   "cell_type": "code",
   "execution_count": 11,
   "metadata": {},
   "outputs": [
    {
     "name": "stdout",
     "output_type": "stream",
     "text": [
      "--frame-length=25               # frame length in milliseconds\n",
      "--frame-shift=10                # frame shift in milliseconds\n",
      "--num-ceps=13                   # number of cepstra in computation (incl. C0)\n",
      "--num-mel-bins=23               # number of triangular mel-frequency bins\n",
      "--use-energy=true               # use energy (not C0) in computation\n",
      "--low-freq=20                   # low cutoff frequency for mel bins\n",
      "--high-freq=0                   # high cutoff frequency for mel bins\n",
      "--window-type=povey             # choose \"hamming\", \"hanning\", \"rectangular\"\n",
      "--snip-edges=true               # only output frames that fit in file\n",
      "                                # number of frames depends on frame-length\n",
      "                                        # if false, depends on frame-shift\n",
      "--dither=1                      # random 1bit of noise added\n",
      "                                        # ensures no log(0) calculations\n",
      "--sample-frequency=8000         # sample rate of audio\n",
      "\n"
     ]
    }
   ],
   "source": [
    "%%bash\n",
    "cat conf/mfcc_defaults.conf"
   ]
  },
  {
   "cell_type": "markdown",
   "metadata": {},
   "source": [
    "`--num-ceps` dictates the number of columns our features will have.\n",
    "\n",
    "And the number of frames depends on `--frame-length` and `--frame-shift` (along with the actual length of the audio of course).  In this case, each `frame` represents `25 ms` of audio, and the \"next frame\" is shifted `10 ms` to the right, and then consists of the next `25 ms`.  So our functions are overlapped."
   ]
  },
  {
   "cell_type": "markdown",
   "metadata": {},
   "source": [
    "Since \"1272-128104-0003\" is a significantly longer transcript, we can assume that it will have more features."
   ]
  },
  {
   "cell_type": "code",
   "execution_count": 12,
   "metadata": {},
   "outputs": [
    {
     "name": "stdout",
     "output_type": "stream",
     "text": [
      "1272-128104-0000 MISTER QUILTER IS THE APOSTLE OF THE MIDDLE CLASSES AND WE ARE GLAD TO WELCOME HIS GOSPEL\r\n",
      "1272-128104-0003 HE HAS GRAVE DOUBTS WHETHER SIR FREDERICK LEIGHTON'S WORK IS REALLY GREEK AFTER ALL AND CAN DISCOVER IN IT BUT LITTLE OF ROCKY ITHACA\r\n"
     ]
    }
   ],
   "source": [
    "cat raw_data/librispeech-transcripts.txt | grep -E \"1272-128104-000[03]\""
   ]
  },
  {
   "cell_type": "code",
   "execution_count": 13,
   "metadata": {},
   "outputs": [
    {
     "data": {
      "text/plain": [
       "988"
      ]
     },
     "execution_count": 13,
     "metadata": {},
     "output_type": "execute_result"
    }
   ],
   "source": [
    "fv.get_num_frames(feats_in[\"1272-128104-0003\"])"
   ]
  },
  {
   "cell_type": "markdown",
   "metadata": {},
   "source": [
    "But, it will have the same number of `features`!"
   ]
  },
  {
   "cell_type": "code",
   "execution_count": 14,
   "metadata": {},
   "outputs": [
    {
     "data": {
      "text/plain": [
       "13"
      ]
     },
     "execution_count": 14,
     "metadata": {},
     "output_type": "execute_result"
    }
   ],
   "source": [
    "fv.get_num_features(feats_in[\"1272-128104-0003\"])"
   ]
  },
  {
   "cell_type": "markdown",
   "metadata": {},
   "source": [
    "## Viewing the features"
   ]
  },
  {
   "cell_type": "markdown",
   "metadata": {},
   "source": [
    "`feature_viz.py` has a method `plot_frames()` that will plot the `MFCC`s for `n` consecutive frames of an audio sample\n",
    "\n",
    "**Note:** In order to view the plot directly in this notebook, you need run `py.iplot([output])` where `output` is the returned value from `plot_frames()`."
   ]
  },
  {
   "cell_type": "code",
   "execution_count": 15,
   "metadata": {},
   "outputs": [
    {
     "data": {
      "application/vnd.plotly.v1+json": {
       "data": [
        {
         "mode": "lines",
         "name": "frame 1/1",
         "type": "scatter",
         "x": [
          1,
          2,
          3,
          4,
          5,
          6,
          7,
          8,
          9,
          10,
          11,
          12,
          13
         ],
         "y": [
          21.19275665283203,
          8.513047218322754,
          12.229915618896484,
          14.741026878356934,
          -36.976112365722656,
          -7.1012115478515625,
          6.996381759643555,
          14.69707202911377,
          3.2988481521606445,
          11.841123580932617,
          -1.192874789237976,
          0.5269489288330078,
          -18.843772888183594
         ]
        }
       ],
       "layout": {
        "title": "Visualization of 1 frames",
        "xaxis": {
         "dtick": true,
         "title": "feature number"
        },
        "yaxis": {
         "title": "what does the value of y mean?"
        }
       }
      },
      "text/html": [
       "<div id=\"e18be263-5385-4fec-b8a0-b38f35a0d7d0\" style=\"height: 525px; width: 100%;\" class=\"plotly-graph-div\"></div><script type=\"text/javascript\">require([\"plotly\"], function(Plotly) { window.PLOTLYENV=window.PLOTLYENV || {};window.PLOTLYENV.BASE_URL=\"https://plot.ly\";Plotly.newPlot(\"e18be263-5385-4fec-b8a0-b38f35a0d7d0\", [{\"y\": [21.19275665283203, 8.513047218322754, 12.229915618896484, 14.741026878356934, -36.976112365722656, -7.1012115478515625, 6.996381759643555, 14.69707202911377, 3.2988481521606445, 11.841123580932617, -1.192874789237976, 0.5269489288330078, -18.843772888183594], \"x\": [1, 2, 3, 4, 5, 6, 7, 8, 9, 10, 11, 12, 13], \"type\": \"scatter\", \"name\": \"frame 1/1\", \"mode\": \"lines\"}], {\"title\": \"Visualization of 1 frames\", \"xaxis\": {\"dtick\": true, \"title\": \"feature number\"}, \"yaxis\": {\"title\": \"what does the value of y mean?\"}}, {\"linkText\": \"Export to plot.ly\", \"showLink\": true})});</script>"
      ],
      "text/vnd.plotly.v1+html": [
       "<div id=\"e18be263-5385-4fec-b8a0-b38f35a0d7d0\" style=\"height: 525px; width: 100%;\" class=\"plotly-graph-div\"></div><script type=\"text/javascript\">require([\"plotly\"], function(Plotly) { window.PLOTLYENV=window.PLOTLYENV || {};window.PLOTLYENV.BASE_URL=\"https://plot.ly\";Plotly.newPlot(\"e18be263-5385-4fec-b8a0-b38f35a0d7d0\", [{\"y\": [21.19275665283203, 8.513047218322754, 12.229915618896484, 14.741026878356934, -36.976112365722656, -7.1012115478515625, 6.996381759643555, 14.69707202911377, 3.2988481521606445, 11.841123580932617, -1.192874789237976, 0.5269489288330078, -18.843772888183594], \"x\": [1, 2, 3, 4, 5, 6, 7, 8, 9, 10, 11, 12, 13], \"type\": \"scatter\", \"name\": \"frame 1/1\", \"mode\": \"lines\"}], {\"title\": \"Visualization of 1 frames\", \"xaxis\": {\"dtick\": true, \"title\": \"feature number\"}, \"yaxis\": {\"title\": \"what does the value of y mean?\"}}, {\"linkText\": \"Export to plot.ly\", \"showLink\": true})});</script>"
      ]
     },
     "metadata": {},
     "output_type": "display_data"
    }
   ],
   "source": [
    "# the one *required* argument is a numpy array of features for any number of frames\n",
    "py.iplot(\n",
    "    fv.plot_frames(\n",
    "        frames=feats_in[SAMPLE][60:61]   # [x:y] will return the x^th frame\n",
    "    )\n",
    ")"
   ]
  },
  {
   "cell_type": "markdown",
   "metadata": {},
   "source": [
    "Here you can see the first frame of features for our audio sample."
   ]
  },
  {
   "cell_type": "markdown",
   "metadata": {},
   "source": [
    "`plot_frames()` can also plot multiple **consecutive** frames on the same graph.  Below are five consecutive frames of audio.\n",
    "\n",
    "**Note:** `plotly` allows you to click \"on\" and \"off\" any particular line by clicking on them in the legend."
   ]
  },
  {
   "cell_type": "code",
   "execution_count": 16,
   "metadata": {},
   "outputs": [
    {
     "data": {
      "application/vnd.plotly.v1+json": {
       "data": [
        {
         "mode": "lines",
         "name": "frame 1/8",
         "type": "scatter",
         "x": [
          1,
          2,
          3,
          4,
          5,
          6,
          7,
          8,
          9,
          10,
          11,
          12,
          13
         ],
         "y": [
          21.19275665283203,
          8.513047218322754,
          12.229915618896484,
          14.741026878356934,
          -36.976112365722656,
          -7.1012115478515625,
          6.996381759643555,
          14.69707202911377,
          3.2988481521606445,
          11.841123580932617,
          -1.192874789237976,
          0.5269489288330078,
          -18.843772888183594
         ]
        },
        {
         "mode": "lines",
         "name": "frame 2/8",
         "type": "scatter",
         "x": [
          1,
          2,
          3,
          4,
          5,
          6,
          7,
          8,
          9,
          10,
          11,
          12,
          13
         ],
         "y": [
          21.19275665283203,
          2.8768410682678223,
          21.759248733520508,
          9.17135238647461,
          -34.885494232177734,
          -0.9857975840568542,
          5.658081531524658,
          6.127485275268555,
          6.263431072235107,
          12.310379981994629,
          13.53551197052002,
          -13.002217292785645,
          -22.025625228881836
         ]
        },
        {
         "mode": "lines",
         "name": "frame 3/8",
         "type": "scatter",
         "x": [
          1,
          2,
          3,
          4,
          5,
          6,
          7,
          8,
          9,
          10,
          11,
          12,
          13
         ],
         "y": [
          20.912734985351562,
          -4.710360050201416,
          28.112136840820312,
          9.867561340332031,
          -27.56831932067871,
          -3.3378798961639404,
          2.535382032394409,
          1.1862353086471558,
          16.644569396972656,
          9.96410083770752,
          28.95274543762207,
          -23.62842559814453,
          -10.57095718383789
         ]
        },
        {
         "mode": "lines",
         "name": "frame 4/8",
         "type": "scatter",
         "x": [
          1,
          2,
          3,
          4,
          5,
          6,
          7,
          8,
          9,
          10,
          11,
          12,
          13
         ],
         "y": [
          20.38762092590332,
          -14.949294090270996,
          32.08269500732422,
          6.087552547454834,
          -20.7738037109375,
          8.10892105102539,
          -1.6282174587249756,
          20.570714950561523,
          5.320154666900635,
          15.125913619995117,
          17.0043888092041,
          -22.632343292236328,
          18.46919059753418
         ]
        },
        {
         "mode": "lines",
         "name": "frame 5/8",
         "type": "scatter",
         "x": [
          1,
          2,
          3,
          4,
          5,
          6,
          7,
          8,
          9,
          10,
          11,
          12,
          13
         ],
         "y": [
          19.579753875732422,
          -26.859359741210938,
          24.141582489013672,
          18.570178985595703,
          8.147351264953613,
          12.051640510559082,
          13.521435737609863,
          3.7745091915130615,
          -8.41170883178711,
          0.9877848625183105,
          12.379219055175781,
          -20.142139434814453,
          4.8245391845703125
         ]
        },
        {
         "mode": "lines",
         "name": "frame 6/8",
         "type": "scatter",
         "x": [
          1,
          2,
          3,
          4,
          5,
          6,
          7,
          8,
          9,
          10,
          11,
          12,
          13
         ],
         "y": [
          17.72165870666504,
          -26.292213439941406,
          16.200471878051758,
          6.699398040771484,
          5.803767204284668,
          -9.13968276977539,
          20.192459106445312,
          -8.354581832885742,
          1.681802749633789,
          -6.552258014678955,
          11.993788719177246,
          -3.9827730655670166,
          7.997714042663574
         ]
        },
        {
         "mode": "lines",
         "name": "frame 7/8",
         "type": "scatter",
         "x": [
          1,
          2,
          3,
          4,
          5,
          6,
          7,
          8,
          9,
          10,
          11,
          12,
          13
         ],
         "y": [
          15.143502235412598,
          -14.949294090270996,
          20.965137481689453,
          3.2322745323181152,
          -2.491630792617798,
          -11.320476531982422,
          10.853026390075684,
          -5.840985298156738,
          2.490325450897217,
          -4.472246170043945,
          6.5723042488098145,
          -13.120893478393555,
          1.780200481414795
         ]
        },
        {
         "mode": "lines",
         "name": "frame 8/8",
         "type": "scatter",
         "x": [
          1,
          2,
          3,
          4,
          5,
          6,
          7,
          8,
          9,
          10,
          11,
          12,
          13
         ],
         "y": [
          13.517964363098145,
          -8.829126358032227,
          10.641693115234375,
          -5.945405006408691,
          -4.847557067871094,
          3.4047560691833496,
          12.187231063842773,
          -4.332827568054199,
          17.90397071838379,
          -6.552258014678955,
          11.993788719177246,
          -15.659773826599121,
          4.507221221923828
         ]
        }
       ],
       "layout": {
        "title": "Visualization of 8 frames",
        "xaxis": {
         "dtick": true,
         "title": "feature number"
        },
        "yaxis": {
         "title": "what does the value of y mean?"
        }
       }
      },
      "text/html": [
       "<div id=\"488c2112-bf6f-48d2-8a44-3aa1d0415df1\" style=\"height: 525px; width: 100%;\" class=\"plotly-graph-div\"></div><script type=\"text/javascript\">require([\"plotly\"], function(Plotly) { window.PLOTLYENV=window.PLOTLYENV || {};window.PLOTLYENV.BASE_URL=\"https://plot.ly\";Plotly.newPlot(\"488c2112-bf6f-48d2-8a44-3aa1d0415df1\", [{\"y\": [21.19275665283203, 8.513047218322754, 12.229915618896484, 14.741026878356934, -36.976112365722656, -7.1012115478515625, 6.996381759643555, 14.69707202911377, 3.2988481521606445, 11.841123580932617, -1.192874789237976, 0.5269489288330078, -18.843772888183594], \"x\": [1, 2, 3, 4, 5, 6, 7, 8, 9, 10, 11, 12, 13], \"type\": \"scatter\", \"name\": \"frame 1/8\", \"mode\": \"lines\"}, {\"y\": [21.19275665283203, 2.8768410682678223, 21.759248733520508, 9.17135238647461, -34.885494232177734, -0.9857975840568542, 5.658081531524658, 6.127485275268555, 6.263431072235107, 12.310379981994629, 13.53551197052002, -13.002217292785645, -22.025625228881836], \"x\": [1, 2, 3, 4, 5, 6, 7, 8, 9, 10, 11, 12, 13], \"type\": \"scatter\", \"name\": \"frame 2/8\", \"mode\": \"lines\"}, {\"y\": [20.912734985351562, -4.710360050201416, 28.112136840820312, 9.867561340332031, -27.56831932067871, -3.3378798961639404, 2.535382032394409, 1.1862353086471558, 16.644569396972656, 9.96410083770752, 28.95274543762207, -23.62842559814453, -10.57095718383789], \"x\": [1, 2, 3, 4, 5, 6, 7, 8, 9, 10, 11, 12, 13], \"type\": \"scatter\", \"name\": \"frame 3/8\", \"mode\": \"lines\"}, {\"y\": [20.38762092590332, -14.949294090270996, 32.08269500732422, 6.087552547454834, -20.7738037109375, 8.10892105102539, -1.6282174587249756, 20.570714950561523, 5.320154666900635, 15.125913619995117, 17.0043888092041, -22.632343292236328, 18.46919059753418], \"x\": [1, 2, 3, 4, 5, 6, 7, 8, 9, 10, 11, 12, 13], \"type\": \"scatter\", \"name\": \"frame 4/8\", \"mode\": \"lines\"}, {\"y\": [19.579753875732422, -26.859359741210938, 24.141582489013672, 18.570178985595703, 8.147351264953613, 12.051640510559082, 13.521435737609863, 3.7745091915130615, -8.41170883178711, 0.9877848625183105, 12.379219055175781, -20.142139434814453, 4.8245391845703125], \"x\": [1, 2, 3, 4, 5, 6, 7, 8, 9, 10, 11, 12, 13], \"type\": \"scatter\", \"name\": \"frame 5/8\", \"mode\": \"lines\"}, {\"y\": [17.72165870666504, -26.292213439941406, 16.200471878051758, 6.699398040771484, 5.803767204284668, -9.13968276977539, 20.192459106445312, -8.354581832885742, 1.681802749633789, -6.552258014678955, 11.993788719177246, -3.9827730655670166, 7.997714042663574], \"x\": [1, 2, 3, 4, 5, 6, 7, 8, 9, 10, 11, 12, 13], \"type\": \"scatter\", \"name\": \"frame 6/8\", \"mode\": \"lines\"}, {\"y\": [15.143502235412598, -14.949294090270996, 20.965137481689453, 3.2322745323181152, -2.491630792617798, -11.320476531982422, 10.853026390075684, -5.840985298156738, 2.490325450897217, -4.472246170043945, 6.5723042488098145, -13.120893478393555, 1.780200481414795], \"x\": [1, 2, 3, 4, 5, 6, 7, 8, 9, 10, 11, 12, 13], \"type\": \"scatter\", \"name\": \"frame 7/8\", \"mode\": \"lines\"}, {\"y\": [13.517964363098145, -8.829126358032227, 10.641693115234375, -5.945405006408691, -4.847557067871094, 3.4047560691833496, 12.187231063842773, -4.332827568054199, 17.90397071838379, -6.552258014678955, 11.993788719177246, -15.659773826599121, 4.507221221923828], \"x\": [1, 2, 3, 4, 5, 6, 7, 8, 9, 10, 11, 12, 13], \"type\": \"scatter\", \"name\": \"frame 8/8\", \"mode\": \"lines\"}], {\"title\": \"Visualization of 8 frames\", \"xaxis\": {\"dtick\": true, \"title\": \"feature number\"}, \"yaxis\": {\"title\": \"what does the value of y mean?\"}}, {\"linkText\": \"Export to plot.ly\", \"showLink\": true})});</script>"
      ],
      "text/vnd.plotly.v1+html": [
       "<div id=\"488c2112-bf6f-48d2-8a44-3aa1d0415df1\" style=\"height: 525px; width: 100%;\" class=\"plotly-graph-div\"></div><script type=\"text/javascript\">require([\"plotly\"], function(Plotly) { window.PLOTLYENV=window.PLOTLYENV || {};window.PLOTLYENV.BASE_URL=\"https://plot.ly\";Plotly.newPlot(\"488c2112-bf6f-48d2-8a44-3aa1d0415df1\", [{\"y\": [21.19275665283203, 8.513047218322754, 12.229915618896484, 14.741026878356934, -36.976112365722656, -7.1012115478515625, 6.996381759643555, 14.69707202911377, 3.2988481521606445, 11.841123580932617, -1.192874789237976, 0.5269489288330078, -18.843772888183594], \"x\": [1, 2, 3, 4, 5, 6, 7, 8, 9, 10, 11, 12, 13], \"type\": \"scatter\", \"name\": \"frame 1/8\", \"mode\": \"lines\"}, {\"y\": [21.19275665283203, 2.8768410682678223, 21.759248733520508, 9.17135238647461, -34.885494232177734, -0.9857975840568542, 5.658081531524658, 6.127485275268555, 6.263431072235107, 12.310379981994629, 13.53551197052002, -13.002217292785645, -22.025625228881836], \"x\": [1, 2, 3, 4, 5, 6, 7, 8, 9, 10, 11, 12, 13], \"type\": \"scatter\", \"name\": \"frame 2/8\", \"mode\": \"lines\"}, {\"y\": [20.912734985351562, -4.710360050201416, 28.112136840820312, 9.867561340332031, -27.56831932067871, -3.3378798961639404, 2.535382032394409, 1.1862353086471558, 16.644569396972656, 9.96410083770752, 28.95274543762207, -23.62842559814453, -10.57095718383789], \"x\": [1, 2, 3, 4, 5, 6, 7, 8, 9, 10, 11, 12, 13], \"type\": \"scatter\", \"name\": \"frame 3/8\", \"mode\": \"lines\"}, {\"y\": [20.38762092590332, -14.949294090270996, 32.08269500732422, 6.087552547454834, -20.7738037109375, 8.10892105102539, -1.6282174587249756, 20.570714950561523, 5.320154666900635, 15.125913619995117, 17.0043888092041, -22.632343292236328, 18.46919059753418], \"x\": [1, 2, 3, 4, 5, 6, 7, 8, 9, 10, 11, 12, 13], \"type\": \"scatter\", \"name\": \"frame 4/8\", \"mode\": \"lines\"}, {\"y\": [19.579753875732422, -26.859359741210938, 24.141582489013672, 18.570178985595703, 8.147351264953613, 12.051640510559082, 13.521435737609863, 3.7745091915130615, -8.41170883178711, 0.9877848625183105, 12.379219055175781, -20.142139434814453, 4.8245391845703125], \"x\": [1, 2, 3, 4, 5, 6, 7, 8, 9, 10, 11, 12, 13], \"type\": \"scatter\", \"name\": \"frame 5/8\", \"mode\": \"lines\"}, {\"y\": [17.72165870666504, -26.292213439941406, 16.200471878051758, 6.699398040771484, 5.803767204284668, -9.13968276977539, 20.192459106445312, -8.354581832885742, 1.681802749633789, -6.552258014678955, 11.993788719177246, -3.9827730655670166, 7.997714042663574], \"x\": [1, 2, 3, 4, 5, 6, 7, 8, 9, 10, 11, 12, 13], \"type\": \"scatter\", \"name\": \"frame 6/8\", \"mode\": \"lines\"}, {\"y\": [15.143502235412598, -14.949294090270996, 20.965137481689453, 3.2322745323181152, -2.491630792617798, -11.320476531982422, 10.853026390075684, -5.840985298156738, 2.490325450897217, -4.472246170043945, 6.5723042488098145, -13.120893478393555, 1.780200481414795], \"x\": [1, 2, 3, 4, 5, 6, 7, 8, 9, 10, 11, 12, 13], \"type\": \"scatter\", \"name\": \"frame 7/8\", \"mode\": \"lines\"}, {\"y\": [13.517964363098145, -8.829126358032227, 10.641693115234375, -5.945405006408691, -4.847557067871094, 3.4047560691833496, 12.187231063842773, -4.332827568054199, 17.90397071838379, -6.552258014678955, 11.993788719177246, -15.659773826599121, 4.507221221923828], \"x\": [1, 2, 3, 4, 5, 6, 7, 8, 9, 10, 11, 12, 13], \"type\": \"scatter\", \"name\": \"frame 8/8\", \"mode\": \"lines\"}], {\"title\": \"Visualization of 8 frames\", \"xaxis\": {\"dtick\": true, \"title\": \"feature number\"}, \"yaxis\": {\"title\": \"what does the value of y mean?\"}}, {\"linkText\": \"Export to plot.ly\", \"showLink\": true})});</script>"
      ]
     },
     "metadata": {},
     "output_type": "display_data"
    }
   ],
   "source": [
    "py.iplot(\n",
    "    fv.plot_frames(\n",
    "        frames=feats_in[SAMPLE][60:68]\n",
    "    )\n",
    ")"
   ]
  },
  {
   "cell_type": "markdown",
   "metadata": {},
   "source": [
    "## Including `phone` information"
   ]
  },
  {
   "cell_type": "markdown",
   "metadata": {},
   "source": [
    "If provided with the information, `plot_frames()` can also label each `frame` by its *predicted* phone.  It is a *predicted* phone because the **alignment*** of frames to a transcript is an integral part of the ASR pipeline, but its accuracy is dependent on the quality of the pipeline.\n",
    "\n",
    "In our case, we have **not yet** done the steps in the pipeline that generate these `alignment` files (typically called `ali.*.gz`).   But for the sake of these visualizations, the alignments we need are included in `resource_files/feature_viz/all_ali`.  This is an `un-compressed` (`gzip -d`), concatenated (of all of the parallelized outputs) file that contains alignmenet information for all of the audio in our training subset."
   ]
  },
  {
   "cell_type": "code",
   "execution_count": 17,
   "metadata": {},
   "outputs": [
    {
     "name": "stdout",
     "output_type": "stream",
     "text": [
      "all_ali\n",
      "all_ali_phoned\n",
      "model_for_alignments.mdl\n"
     ]
    }
   ],
   "source": [
    "%%bash\n",
    "ls resource_files/feature_viz"
   ]
  },
  {
   "cell_type": "markdown",
   "metadata": {},
   "source": [
    "We can use a `C++` function called `ali-to-phones` to inspect these alignments. \n",
    "\n",
    "**Note:** Normally we could `source` `path.sh` (`. path.sh`) in order to avoid providing full paths to these C++ functions.  But because we are in a `python` `kernel` and only using `bash` in individual cells, that doesn't work.  So we have to provide full paths."
   ]
  },
  {
   "cell_type": "code",
   "execution_count": 24,
   "metadata": {},
   "outputs": [
    {
     "name": "stderr",
     "output_type": "stream",
     "text": [
      "/home//kaldi/src/bin/ali-to-phones \n",
      "\n",
      "Convert model-level alignments to phone-sequences (in integer, not text, form)\n",
      "Usage:  ali-to-phones  [options] <model> <alignments-rspecifier> <phone-transcript-wspecifier|ctm-wxfilename>\n",
      "e.g.: \n",
      " ali-to-phones 1.mdl ark:1.ali ark:-\n",
      "or:\n",
      " ali-to-phones --ctm-output 1.mdl ark:1.ali 1.ctm\n",
      "See also: show-alignments lattice-align-phones\n",
      "\n",
      "Options:\n",
      "  --ctm-output                : If true, output the alignments in ctm format (the confidences will be set to 1) (bool, default = false)\n",
      "  --frame-shift               : frame shift used to control the times of the ctm output (float, default = 0.01)\n",
      "  --per-frame                 : If true, write out the frame-level phone alignment (else phone sequence) (bool, default = false)\n",
      "  --write-lengths             : If true, write the #frames for each phone (different format) (bool, default = false)\n",
      "\n",
      "Standard options:\n",
      "  --config                    : Configuration file to read (this option may be repeated) (string, default = \"\")\n",
      "  --help                      : Print out usage message (bool, default = false)\n",
      "  --print-args                : Print the command line arguments (to stderr) (bool, default = true)\n",
      "  --verbose                   : Verbose level (higher->more logging) (int, default = 0)\n",
      "\n"
     ]
    }
   ],
   "source": [
    "%%bash\n",
    "${KALDI_PATH}/src/bin/ali-to-phones"
   ]
  },
  {
   "cell_type": "markdown",
   "metadata": {},
   "source": [
    "In order to use this function, we also need an acoustic model (again, something we haven't built yet in our pipeline).  A model is provided in `resource_files/feature_viz/model_for_alignments.mdl`"
   ]
  },
  {
   "cell_type": "code",
   "execution_count": 25,
   "metadata": {},
   "outputs": [
    {
     "name": "stdout",
     "output_type": "stream",
     "text": [
      "1272-128104-0000 1 178 148 224 232 107 170 268 148 176 232 107 146 275 90 155 30 216 12 224 32 175 30 263 1 90 31 178 148 88 32 175 170 176 24 224 32 275 1 30 184 87 266 159 109 134 176 24 87 230 31 266 100 176 172 32 179 138 148 275 134 48 224 216 32 175 1 \n"
     ]
    },
    {
     "name": "stderr",
     "output_type": "stream",
     "text": [
      "/home//kaldi/src/bin/ali-to-phones resource_files/feature_viz/model_for_alignments.mdl ark:resource_files/feature_viz/all_ali ark,t:- \n",
      "LOG (ali-to-phones[5.2.191~1-48be1]:main():ali-to-phones.cc:134) Done 2703 utterances.\n"
     ]
    }
   ],
   "source": [
    "%%bash\n",
    "# using ark,t:- we are telling the function to output to STDOUT\n",
    "${KALDI_PATH}/src/bin/ali-to-phones \\\n",
    "    resource_files/feature_viz/model_for_alignments.mdl \\\n",
    "    ark:resource_files/feature_viz/all_ali \\\n",
    "    ark,t:- | grep \"1272-128104-0000\""
   ]
  },
  {
   "cell_type": "markdown",
   "metadata": {},
   "source": [
    "This generates a sequence of indexes representing the sequence of phones for the given utterance.  If we want to see the actual phones these indexes refer to, we need to `pipe` this output to `int2sym.pl`"
   ]
  },
  {
   "cell_type": "code",
   "execution_count": 28,
   "metadata": {},
   "outputs": [
    {
     "name": "stderr",
     "output_type": "stream",
     "text": [
      "Usage: sym2int.pl [options] symtab [input] > output\n",
      "options: [-f (<field>|<field_start>-<field-end>)]\n",
      "e.g.: -f 2, or -f 3-4\n"
     ]
    }
   ],
   "source": [
    "%%bash\n",
    "${KALDI_INSTRUCTIONAL_PATH}/utils/int2sym.pl"
   ]
  },
  {
   "cell_type": "markdown",
   "metadata": {},
   "source": [
    "You'll notice that this method requires a `symtab` (symbol table), which we have already built in `data/lang/phones.txt`"
   ]
  },
  {
   "cell_type": "code",
   "execution_count": 23,
   "metadata": {},
   "outputs": [
    {
     "name": "stdout",
     "output_type": "stream",
     "text": [
      "<eps> 0\n",
      "SIL 1\n",
      "SIL_B 2\n",
      "SIL_E 3\n",
      "SIL_I 4\n",
      "SIL_S 5\n",
      "AA0_B 6\n",
      "AA0_E 7\n",
      "AA0_I 8\n",
      "AA0_S 9\n"
     ]
    }
   ],
   "source": [
    "%%bash\n",
    "head data/lang/phones.txt"
   ]
  },
  {
   "cell_type": "code",
   "execution_count": 30,
   "metadata": {},
   "outputs": [
    {
     "name": "stdout",
     "output_type": "stream",
     "text": [
      "1272-128104-0000 SIL M_B IH1_I S_I T_I ER0_E K_B W_I IH1_I L_I T_I ER0_E IH1_B Z_E DH_B IY0_E AH0_B P_I AA1_I S_I AH0_I L_E AH0_B V_E SIL DH_B AH0_E M_B IH1_I D_I AH0_I L_E K_B L_I AE1_I S_I AH0_I Z_E SIL AH0_B N_I D_E W_B IY1_E ER0_S G_B L_I AE1_I D_E T_B AH0_E W_B EH1_I L_I K_I AH0_I M_E HH_B IH1_I Z_E G_B AO1_I S_I P_I AH0_I L_E SIL \n"
     ]
    },
    {
     "name": "stderr",
     "output_type": "stream",
     "text": [
      "/home//kaldi/src/bin/ali-to-phones resource_files/feature_viz/model_for_alignments.mdl ark:resource_files/feature_viz/all_ali ark,t:- \n",
      "LOG (ali-to-phones[5.2.191~1-48be1]:main():ali-to-phones.cc:134) Done 2703 utterances.\n"
     ]
    }
   ],
   "source": [
    "%%bash\n",
    "${KALDI_PATH}/src/bin/ali-to-phones \\\n",
    "    resource_files/feature_viz/model_for_alignments.mdl \\\n",
    "    ark:resource_files/feature_viz/all_ali \\\n",
    "    ark,t:- |\\\n",
    "    ${KALDI_INSTRUCTIONAL_PATH}/utils/int2sym.pl -f 2- data/lang/phones.txt |\\\n",
    "    grep \"1272-128104-0000\""
   ]
  },
  {
   "cell_type": "markdown",
   "metadata": {},
   "source": [
    "But you'll notice that this is waaaaay less sounds than the 584 that we know exist for this audio sample.  In this case, the function collapsed a consecutive sequence of the same phone for easy \"viewing\".  This shouldn't be surprising that a particular sound might last for longer than one frame (which is `25 ms` in our case).\n",
    "\n",
    "We can add the `--per-frame` argument to get a `phone` for each `frame`."
   ]
  },
  {
   "cell_type": "code",
   "execution_count": 31,
   "metadata": {},
   "outputs": [
    {
     "name": "stdout",
     "output_type": "stream",
     "text": [
      "1272-128104-0000 SIL SIL SIL SIL SIL SIL SIL SIL SIL SIL SIL SIL SIL SIL SIL SIL SIL SIL SIL SIL SIL SIL SIL SIL SIL SIL SIL SIL SIL SIL SIL SIL SIL SIL SIL SIL SIL SIL SIL SIL SIL SIL SIL SIL SIL SIL SIL SIL SIL SIL SIL M_B M_B M_B M_B M_B M_B M_B M_B IH1_I IH1_I IH1_I IH1_I IH1_I S_I S_I S_I T_I T_I T_I T_I T_I T_I ER0_E ER0_E ER0_E ER0_E ER0_E K_B K_B K_B K_B K_B K_B K_B K_B K_B K_B K_B K_B K_B W_I W_I W_I W_I W_I IH1_I IH1_I IH1_I L_I L_I L_I L_I T_I T_I T_I T_I T_I ER0_E ER0_E ER0_E ER0_E ER0_E ER0_E ER0_E ER0_E ER0_E ER0_E ER0_E ER0_E ER0_E ER0_E ER0_E ER0_E ER0_E IH1_B IH1_B IH1_B IH1_B IH1_B IH1_B IH1_B IH1_B IH1_B IH1_B Z_E Z_E Z_E Z_E Z_E DH_B DH_B DH_B DH_B DH_B DH_B DH_B IY0_E IY0_E IY0_E IY0_E IY0_E AH0_B AH0_B AH0_B AH0_B AH0_B AH0_B AH0_B AH0_B AH0_B P_I P_I P_I P_I P_I P_I P_I P_I P_I P_I P_I P_I P_I AA1_I AA1_I AA1_I AA1_I AA1_I AA1_I AA1_I S_I S_I S_I S_I S_I S_I S_I S_I S_I S_I S_I S_I AH0_I AH0_I AH0_I AH0_I AH0_I AH0_I L_E L_E L_E L_E L_E L_E L_E L_E L_E L_E L_E L_E L_E L_E AH0_B AH0_B AH0_B AH0_B AH0_B AH0_B AH0_B V_E V_E V_E V_E V_E SIL SIL SIL DH_B DH_B DH_B AH0_E AH0_E AH0_E M_B M_B M_B M_B M_B M_B M_B M_B IH1_I IH1_I IH1_I D_I D_I D_I AH0_I AH0_I AH0_I AH0_I AH0_I L_E L_E L_E L_E L_E L_E L_E K_B K_B K_B K_B K_B K_B K_B K_B K_B K_B K_B L_I L_I L_I L_I L_I L_I L_I L_I L_I AE1_I AE1_I AE1_I AE1_I AE1_I AE1_I AE1_I S_I S_I S_I S_I S_I S_I S_I S_I S_I S_I S_I S_I AH0_I AH0_I AH0_I AH0_I AH0_I AH0_I AH0_I AH0_I AH0_I AH0_I AH0_I AH0_I Z_E Z_E Z_E Z_E Z_E Z_E Z_E Z_E Z_E Z_E Z_E Z_E Z_E Z_E Z_E Z_E SIL SIL SIL AH0_B AH0_B AH0_B AH0_B AH0_B AH0_B AH0_B N_I N_I N_I D_E D_E D_E D_E D_E W_B W_B W_B W_B W_B W_B W_B W_B W_B W_B IY1_E IY1_E IY1_E IY1_E IY1_E ER0_S ER0_S ER0_S ER0_S ER0_S ER0_S ER0_S G_B G_B G_B G_B G_B G_B G_B L_I L_I L_I L_I L_I L_I L_I L_I L_I L_I AE1_I AE1_I AE1_I AE1_I AE1_I AE1_I AE1_I AE1_I AE1_I AE1_I AE1_I AE1_I AE1_I AE1_I AE1_I D_E D_E D_E D_E D_E D_E T_B T_B T_B T_B AH0_E AH0_E AH0_E AH0_E AH0_E AH0_E AH0_E AH0_E AH0_E AH0_E AH0_E W_B W_B W_B W_B W_B W_B EH1_I EH1_I EH1_I L_I L_I L_I L_I L_I L_I L_I L_I L_I L_I K_I K_I K_I K_I K_I K_I K_I AH0_I AH0_I AH0_I AH0_I M_E M_E M_E M_E M_E M_E M_E M_E HH_B HH_B HH_B HH_B HH_B HH_B HH_B HH_B HH_B HH_B HH_B IH1_I IH1_I IH1_I IH1_I IH1_I IH1_I IH1_I IH1_I Z_E Z_E Z_E Z_E Z_E Z_E Z_E G_B G_B G_B G_B G_B G_B G_B G_B G_B G_B G_B G_B G_B AO1_I AO1_I AO1_I AO1_I AO1_I AO1_I AO1_I S_I S_I S_I S_I S_I S_I S_I S_I S_I S_I S_I S_I S_I P_I P_I P_I P_I AH0_I AH0_I AH0_I AH0_I AH0_I L_E L_E L_E L_E L_E L_E L_E L_E L_E L_E L_E L_E L_E L_E L_E L_E L_E SIL SIL SIL SIL SIL SIL SIL SIL SIL SIL SIL SIL SIL SIL SIL SIL SIL SIL SIL SIL SIL SIL SIL SIL SIL SIL SIL SIL SIL SIL SIL SIL SIL SIL SIL SIL SIL SIL SIL SIL SIL \n"
     ]
    },
    {
     "name": "stderr",
     "output_type": "stream",
     "text": [
      "/home//kaldi/src/bin/ali-to-phones --per-frame=true resource_files/feature_viz/model_for_alignments.mdl ark:resource_files/feature_viz/all_ali ark,t:- \n",
      "LOG (ali-to-phones[5.2.191~1-48be1]:main():ali-to-phones.cc:134) Done 2703 utterances.\n"
     ]
    }
   ],
   "source": [
    "%%bash\n",
    "${KALDI_PATH}/src/bin/ali-to-phones \\\n",
    "    --per-frame=true \\\n",
    "    resource_files/feature_viz/model_for_alignments.mdl \\\n",
    "    ark:resource_files/feature_viz/all_ali \\\n",
    "    ark,t:- |\\\n",
    "    ${KALDI_INSTRUCTIONAL_PATH}/utils/int2sym.pl -f 2- data/lang/phones.txt |\\\n",
    "    grep \"1272-128104-0000\""
   ]
  },
  {
   "cell_type": "markdown",
   "metadata": {},
   "source": [
    "And so now we have a full command we can run that will generate this output for each audio sample in our training set.  We will run it below and save it to `resource_files/feature_viz/all_ali_phoned`."
   ]
  },
  {
   "cell_type": "code",
   "execution_count": 32,
   "metadata": {},
   "outputs": [
    {
     "name": "stderr",
     "output_type": "stream",
     "text": [
      "/home//kaldi/src/bin/ali-to-phones --per-frame=true resource_files/feature_viz/model_for_alignments.mdl ark:resource_files/feature_viz/all_ali ark,t:- \n",
      "LOG (ali-to-phones[5.2.191~1-48be1]:main():ali-to-phones.cc:134) Done 2703 utterances.\n"
     ]
    }
   ],
   "source": [
    "%%bash\n",
    "${KALDI_PATH}/src/bin/ali-to-phones \\\n",
    "    --per-frame=true \\\n",
    "    resource_files/feature_viz/model_for_alignments.mdl \\\n",
    "    ark:resource_files/feature_viz/all_ali \\\n",
    "    ark,t:- |\\\n",
    "    ${KALDI_INSTRUCTIONAL_PATH}/utils/int2sym.pl -f 2- data/lang/phones.txt > resource_files/feature_viz/all_ali_phoned"
   ]
  },
  {
   "cell_type": "code",
   "execution_count": 33,
   "metadata": {},
   "outputs": [
    {
     "name": "stdout",
     "output_type": "stream",
     "text": [
      "1272-128104-0000 SIL SIL SIL SIL SIL SIL SIL SIL SIL SIL SIL SIL SIL SIL SIL SIL SIL SIL SIL SIL SIL SIL SIL SIL SIL SIL SIL SIL SIL SIL SIL SIL SIL SIL SIL SIL SIL SIL SIL SIL SIL SIL SIL SIL SIL SIL SIL SIL SIL SIL SIL M_B M_B M_B M_B M_B M_B M_B M_B IH1_I IH1_I IH1_I IH1_I IH1_I S_I S_I S_I T_I T_I T_I T_I T_I T_I ER0_E ER0_E ER0_E ER0_E ER0_E K_B K_B K_B K_B K_B K_B K_B K_B K_B K_B K_B K_B K_B W_I W_I W_I W_I W_I IH1_I IH1_I IH1_I L_I L_I L_I L_I T_I T_I T_I T_I T_I ER0_E ER0_E ER0_E ER0_E ER0_E ER0_E ER0_E ER0_E ER0_E ER0_E ER0_E ER0_E ER0_E ER0_E ER0_E ER0_E ER0_E IH1_B IH1_B IH1_B IH1_B IH1_B IH1_B IH1_B IH1_B IH1_B IH1_B Z_E Z_E Z_E Z_E Z_E DH_B DH_B DH_B DH_B DH_B DH_B DH_B IY0_E IY0_E IY0_E IY0_E IY0_E AH0_B AH0_B AH0_B AH0_B AH0_B AH0_B AH0_B AH0_B AH0_B P_I P_I P_I P_I P_I P_I P_I P_I P_I P_I P_I P_I P_I AA1_I AA1_I AA1_I AA1_I AA1_I AA1_I AA1_I S_I S_I S_I S_I S_I S_I S_I S_I S_I S_I S_I S_I AH0_I AH0_I AH0_I AH0_I AH0_I AH0_I L_E L_E L_E L_E L_E L_E L_E L_E L_E L_E L_E L_E L_E L_E AH0_B AH0_B AH0_B AH0_B AH0_B AH0_B AH0_B V_E V_E V_E V_E V_E SIL SIL SIL DH_B DH_B DH_B AH0_E AH0_E AH0_E M_B M_B M_B M_B M_B M_B M_B M_B IH1_I IH1_I IH1_I D_I D_I D_I AH0_I AH0_I AH0_I AH0_I AH0_I L_E L_E L_E L_E L_E L_E L_E K_B K_B K_B K_B K_B K_B K_B K_B K_B K_B K_B L_I L_I L_I L_I L_I L_I L_I L_I L_I AE1_I AE1_I AE1_I AE1_I AE1_I AE1_I AE1_I S_I S_I S_I S_I S_I S_I S_I S_I S_I S_I S_I S_I AH0_I AH0_I AH0_I AH0_I AH0_I AH0_I AH0_I AH0_I AH0_I AH0_I AH0_I AH0_I Z_E Z_E Z_E Z_E Z_E Z_E Z_E Z_E Z_E Z_E Z_E Z_E Z_E Z_E Z_E Z_E SIL SIL SIL AH0_B AH0_B AH0_B AH0_B AH0_B AH0_B AH0_B N_I N_I N_I D_E D_E D_E D_E D_E W_B W_B W_B W_B W_B W_B W_B W_B W_B W_B IY1_E IY1_E IY1_E IY1_E IY1_E ER0_S ER0_S ER0_S ER0_S ER0_S ER0_S ER0_S G_B G_B G_B G_B G_B G_B G_B L_I L_I L_I L_I L_I L_I L_I L_I L_I L_I AE1_I AE1_I AE1_I AE1_I AE1_I AE1_I AE1_I AE1_I AE1_I AE1_I AE1_I AE1_I AE1_I AE1_I AE1_I D_E D_E D_E D_E D_E D_E T_B T_B T_B T_B AH0_E AH0_E AH0_E AH0_E AH0_E AH0_E AH0_E AH0_E AH0_E AH0_E AH0_E W_B W_B W_B W_B W_B W_B EH1_I EH1_I EH1_I L_I L_I L_I L_I L_I L_I L_I L_I L_I L_I K_I K_I K_I K_I K_I K_I K_I AH0_I AH0_I AH0_I AH0_I M_E M_E M_E M_E M_E M_E M_E M_E HH_B HH_B HH_B HH_B HH_B HH_B HH_B HH_B HH_B HH_B HH_B IH1_I IH1_I IH1_I IH1_I IH1_I IH1_I IH1_I IH1_I Z_E Z_E Z_E Z_E Z_E Z_E Z_E G_B G_B G_B G_B G_B G_B G_B G_B G_B G_B G_B G_B G_B AO1_I AO1_I AO1_I AO1_I AO1_I AO1_I AO1_I S_I S_I S_I S_I S_I S_I S_I S_I S_I S_I S_I S_I S_I P_I P_I P_I P_I AH0_I AH0_I AH0_I AH0_I AH0_I L_E L_E L_E L_E L_E L_E L_E L_E L_E L_E L_E L_E L_E L_E L_E L_E L_E SIL SIL SIL SIL SIL SIL SIL SIL SIL SIL SIL SIL SIL SIL SIL SIL SIL SIL SIL SIL SIL SIL SIL SIL SIL SIL SIL SIL SIL SIL SIL SIL SIL SIL SIL SIL SIL SIL SIL SIL SIL \n"
     ]
    }
   ],
   "source": [
    "%%bash\n",
    "cat resource_files/feature_viz/all_ali_phoned | grep \"1272-128104-0000\""
   ]
  },
  {
   "cell_type": "markdown",
   "metadata": {},
   "source": [
    "`feature_viz.py` also has a method for reading in these alignments into a `<dict>`.  And the `value` will be a `<list>` of phones equal to the number of frames."
   ]
  },
  {
   "cell_type": "code",
   "execution_count": 35,
   "metadata": {},
   "outputs": [
    {
     "data": {
      "text/plain": [
       "['IH1_I', 'IH1_I', 'IH1_I', 'IH1_I', 'S_I', 'S_I', 'S_I', 'T_I']"
      ]
     },
     "execution_count": 35,
     "metadata": {},
     "output_type": "execute_result"
    }
   ],
   "source": [
    "ali_in = fv.read_in_alignments(\"resource_files/feature_viz/all_ali_phoned\")\n",
    "ali_in[SAMPLE][60:68]"
   ]
  },
  {
   "cell_type": "code",
   "execution_count": 36,
   "metadata": {},
   "outputs": [
    {
     "data": {
      "text/plain": [
       "True"
      ]
     },
     "execution_count": 36,
     "metadata": {},
     "output_type": "execute_result"
    }
   ],
   "source": [
    "len(ali_in[SAMPLE]) == fv.get_num_frames(feats_in[SAMPLE])"
   ]
  },
  {
   "cell_type": "markdown",
   "metadata": {},
   "source": [
    "Now we can provide the relevant `<list>` of phones to `plot_frames()` to label each frame with its *predicted* phone."
   ]
  },
  {
   "cell_type": "code",
   "execution_count": 37,
   "metadata": {},
   "outputs": [
    {
     "data": {
      "application/vnd.plotly.v1+json": {
       "data": [
        {
         "mode": "lines",
         "name": "frame 1/8: IH1_I",
         "type": "scatter",
         "x": [
          1,
          2,
          3,
          4,
          5,
          6,
          7,
          8,
          9,
          10,
          11,
          12,
          13
         ],
         "y": [
          21.19275665283203,
          8.513047218322754,
          12.229915618896484,
          14.741026878356934,
          -36.976112365722656,
          -7.1012115478515625,
          6.996381759643555,
          14.69707202911377,
          3.2988481521606445,
          11.841123580932617,
          -1.192874789237976,
          0.5269489288330078,
          -18.843772888183594
         ]
        },
        {
         "mode": "lines",
         "name": "frame 2/8: IH1_I",
         "type": "scatter",
         "x": [
          1,
          2,
          3,
          4,
          5,
          6,
          7,
          8,
          9,
          10,
          11,
          12,
          13
         ],
         "y": [
          21.19275665283203,
          2.8768410682678223,
          21.759248733520508,
          9.17135238647461,
          -34.885494232177734,
          -0.9857975840568542,
          5.658081531524658,
          6.127485275268555,
          6.263431072235107,
          12.310379981994629,
          13.53551197052002,
          -13.002217292785645,
          -22.025625228881836
         ]
        },
        {
         "mode": "lines",
         "name": "frame 3/8: IH1_I",
         "type": "scatter",
         "x": [
          1,
          2,
          3,
          4,
          5,
          6,
          7,
          8,
          9,
          10,
          11,
          12,
          13
         ],
         "y": [
          20.912734985351562,
          -4.710360050201416,
          28.112136840820312,
          9.867561340332031,
          -27.56831932067871,
          -3.3378798961639404,
          2.535382032394409,
          1.1862353086471558,
          16.644569396972656,
          9.96410083770752,
          28.95274543762207,
          -23.62842559814453,
          -10.57095718383789
         ]
        },
        {
         "mode": "lines",
         "name": "frame 4/8: IH1_I",
         "type": "scatter",
         "x": [
          1,
          2,
          3,
          4,
          5,
          6,
          7,
          8,
          9,
          10,
          11,
          12,
          13
         ],
         "y": [
          20.38762092590332,
          -14.949294090270996,
          32.08269500732422,
          6.087552547454834,
          -20.7738037109375,
          8.10892105102539,
          -1.6282174587249756,
          20.570714950561523,
          5.320154666900635,
          15.125913619995117,
          17.0043888092041,
          -22.632343292236328,
          18.46919059753418
         ]
        },
        {
         "mode": "lines",
         "name": "frame 5/8: S_I",
         "type": "scatter",
         "x": [
          1,
          2,
          3,
          4,
          5,
          6,
          7,
          8,
          9,
          10,
          11,
          12,
          13
         ],
         "y": [
          19.579753875732422,
          -26.859359741210938,
          24.141582489013672,
          18.570178985595703,
          8.147351264953613,
          12.051640510559082,
          13.521435737609863,
          3.7745091915130615,
          -8.41170883178711,
          0.9877848625183105,
          12.379219055175781,
          -20.142139434814453,
          4.8245391845703125
         ]
        },
        {
         "mode": "lines",
         "name": "frame 6/8: S_I",
         "type": "scatter",
         "x": [
          1,
          2,
          3,
          4,
          5,
          6,
          7,
          8,
          9,
          10,
          11,
          12,
          13
         ],
         "y": [
          17.72165870666504,
          -26.292213439941406,
          16.200471878051758,
          6.699398040771484,
          5.803767204284668,
          -9.13968276977539,
          20.192459106445312,
          -8.354581832885742,
          1.681802749633789,
          -6.552258014678955,
          11.993788719177246,
          -3.9827730655670166,
          7.997714042663574
         ]
        },
        {
         "mode": "lines",
         "name": "frame 7/8: S_I",
         "type": "scatter",
         "x": [
          1,
          2,
          3,
          4,
          5,
          6,
          7,
          8,
          9,
          10,
          11,
          12,
          13
         ],
         "y": [
          15.143502235412598,
          -14.949294090270996,
          20.965137481689453,
          3.2322745323181152,
          -2.491630792617798,
          -11.320476531982422,
          10.853026390075684,
          -5.840985298156738,
          2.490325450897217,
          -4.472246170043945,
          6.5723042488098145,
          -13.120893478393555,
          1.780200481414795
         ]
        },
        {
         "mode": "lines",
         "name": "frame 8/8: T_I",
         "type": "scatter",
         "x": [
          1,
          2,
          3,
          4,
          5,
          6,
          7,
          8,
          9,
          10,
          11,
          12,
          13
         ],
         "y": [
          13.517964363098145,
          -8.829126358032227,
          10.641693115234375,
          -5.945405006408691,
          -4.847557067871094,
          3.4047560691833496,
          12.187231063842773,
          -4.332827568054199,
          17.90397071838379,
          -6.552258014678955,
          11.993788719177246,
          -15.659773826599121,
          4.507221221923828
         ]
        }
       ],
       "layout": {
        "title": "Visualization of 8 frames",
        "xaxis": {
         "dtick": true,
         "title": "feature number"
        },
        "yaxis": {
         "title": "what does the value of y mean?"
        }
       }
      },
      "text/html": [
       "<div id=\"60182d62-5782-4df6-87f2-717d79922ad9\" style=\"height: 525px; width: 100%;\" class=\"plotly-graph-div\"></div><script type=\"text/javascript\">require([\"plotly\"], function(Plotly) { window.PLOTLYENV=window.PLOTLYENV || {};window.PLOTLYENV.BASE_URL=\"https://plot.ly\";Plotly.newPlot(\"60182d62-5782-4df6-87f2-717d79922ad9\", [{\"y\": [21.19275665283203, 8.513047218322754, 12.229915618896484, 14.741026878356934, -36.976112365722656, -7.1012115478515625, 6.996381759643555, 14.69707202911377, 3.2988481521606445, 11.841123580932617, -1.192874789237976, 0.5269489288330078, -18.843772888183594], \"x\": [1, 2, 3, 4, 5, 6, 7, 8, 9, 10, 11, 12, 13], \"type\": \"scatter\", \"name\": \"frame 1/8: IH1_I\", \"mode\": \"lines\"}, {\"y\": [21.19275665283203, 2.8768410682678223, 21.759248733520508, 9.17135238647461, -34.885494232177734, -0.9857975840568542, 5.658081531524658, 6.127485275268555, 6.263431072235107, 12.310379981994629, 13.53551197052002, -13.002217292785645, -22.025625228881836], \"x\": [1, 2, 3, 4, 5, 6, 7, 8, 9, 10, 11, 12, 13], \"type\": \"scatter\", \"name\": \"frame 2/8: IH1_I\", \"mode\": \"lines\"}, {\"y\": [20.912734985351562, -4.710360050201416, 28.112136840820312, 9.867561340332031, -27.56831932067871, -3.3378798961639404, 2.535382032394409, 1.1862353086471558, 16.644569396972656, 9.96410083770752, 28.95274543762207, -23.62842559814453, -10.57095718383789], \"x\": [1, 2, 3, 4, 5, 6, 7, 8, 9, 10, 11, 12, 13], \"type\": \"scatter\", \"name\": \"frame 3/8: IH1_I\", \"mode\": \"lines\"}, {\"y\": [20.38762092590332, -14.949294090270996, 32.08269500732422, 6.087552547454834, -20.7738037109375, 8.10892105102539, -1.6282174587249756, 20.570714950561523, 5.320154666900635, 15.125913619995117, 17.0043888092041, -22.632343292236328, 18.46919059753418], \"x\": [1, 2, 3, 4, 5, 6, 7, 8, 9, 10, 11, 12, 13], \"type\": \"scatter\", \"name\": \"frame 4/8: IH1_I\", \"mode\": \"lines\"}, {\"y\": [19.579753875732422, -26.859359741210938, 24.141582489013672, 18.570178985595703, 8.147351264953613, 12.051640510559082, 13.521435737609863, 3.7745091915130615, -8.41170883178711, 0.9877848625183105, 12.379219055175781, -20.142139434814453, 4.8245391845703125], \"x\": [1, 2, 3, 4, 5, 6, 7, 8, 9, 10, 11, 12, 13], \"type\": \"scatter\", \"name\": \"frame 5/8: S_I\", \"mode\": \"lines\"}, {\"y\": [17.72165870666504, -26.292213439941406, 16.200471878051758, 6.699398040771484, 5.803767204284668, -9.13968276977539, 20.192459106445312, -8.354581832885742, 1.681802749633789, -6.552258014678955, 11.993788719177246, -3.9827730655670166, 7.997714042663574], \"x\": [1, 2, 3, 4, 5, 6, 7, 8, 9, 10, 11, 12, 13], \"type\": \"scatter\", \"name\": \"frame 6/8: S_I\", \"mode\": \"lines\"}, {\"y\": [15.143502235412598, -14.949294090270996, 20.965137481689453, 3.2322745323181152, -2.491630792617798, -11.320476531982422, 10.853026390075684, -5.840985298156738, 2.490325450897217, -4.472246170043945, 6.5723042488098145, -13.120893478393555, 1.780200481414795], \"x\": [1, 2, 3, 4, 5, 6, 7, 8, 9, 10, 11, 12, 13], \"type\": \"scatter\", \"name\": \"frame 7/8: S_I\", \"mode\": \"lines\"}, {\"y\": [13.517964363098145, -8.829126358032227, 10.641693115234375, -5.945405006408691, -4.847557067871094, 3.4047560691833496, 12.187231063842773, -4.332827568054199, 17.90397071838379, -6.552258014678955, 11.993788719177246, -15.659773826599121, 4.507221221923828], \"x\": [1, 2, 3, 4, 5, 6, 7, 8, 9, 10, 11, 12, 13], \"type\": \"scatter\", \"name\": \"frame 8/8: T_I\", \"mode\": \"lines\"}], {\"title\": \"Visualization of 8 frames\", \"xaxis\": {\"dtick\": true, \"title\": \"feature number\"}, \"yaxis\": {\"title\": \"what does the value of y mean?\"}}, {\"linkText\": \"Export to plot.ly\", \"showLink\": true})});</script>"
      ],
      "text/vnd.plotly.v1+html": [
       "<div id=\"60182d62-5782-4df6-87f2-717d79922ad9\" style=\"height: 525px; width: 100%;\" class=\"plotly-graph-div\"></div><script type=\"text/javascript\">require([\"plotly\"], function(Plotly) { window.PLOTLYENV=window.PLOTLYENV || {};window.PLOTLYENV.BASE_URL=\"https://plot.ly\";Plotly.newPlot(\"60182d62-5782-4df6-87f2-717d79922ad9\", [{\"y\": [21.19275665283203, 8.513047218322754, 12.229915618896484, 14.741026878356934, -36.976112365722656, -7.1012115478515625, 6.996381759643555, 14.69707202911377, 3.2988481521606445, 11.841123580932617, -1.192874789237976, 0.5269489288330078, -18.843772888183594], \"x\": [1, 2, 3, 4, 5, 6, 7, 8, 9, 10, 11, 12, 13], \"type\": \"scatter\", \"name\": \"frame 1/8: IH1_I\", \"mode\": \"lines\"}, {\"y\": [21.19275665283203, 2.8768410682678223, 21.759248733520508, 9.17135238647461, -34.885494232177734, -0.9857975840568542, 5.658081531524658, 6.127485275268555, 6.263431072235107, 12.310379981994629, 13.53551197052002, -13.002217292785645, -22.025625228881836], \"x\": [1, 2, 3, 4, 5, 6, 7, 8, 9, 10, 11, 12, 13], \"type\": \"scatter\", \"name\": \"frame 2/8: IH1_I\", \"mode\": \"lines\"}, {\"y\": [20.912734985351562, -4.710360050201416, 28.112136840820312, 9.867561340332031, -27.56831932067871, -3.3378798961639404, 2.535382032394409, 1.1862353086471558, 16.644569396972656, 9.96410083770752, 28.95274543762207, -23.62842559814453, -10.57095718383789], \"x\": [1, 2, 3, 4, 5, 6, 7, 8, 9, 10, 11, 12, 13], \"type\": \"scatter\", \"name\": \"frame 3/8: IH1_I\", \"mode\": \"lines\"}, {\"y\": [20.38762092590332, -14.949294090270996, 32.08269500732422, 6.087552547454834, -20.7738037109375, 8.10892105102539, -1.6282174587249756, 20.570714950561523, 5.320154666900635, 15.125913619995117, 17.0043888092041, -22.632343292236328, 18.46919059753418], \"x\": [1, 2, 3, 4, 5, 6, 7, 8, 9, 10, 11, 12, 13], \"type\": \"scatter\", \"name\": \"frame 4/8: IH1_I\", \"mode\": \"lines\"}, {\"y\": [19.579753875732422, -26.859359741210938, 24.141582489013672, 18.570178985595703, 8.147351264953613, 12.051640510559082, 13.521435737609863, 3.7745091915130615, -8.41170883178711, 0.9877848625183105, 12.379219055175781, -20.142139434814453, 4.8245391845703125], \"x\": [1, 2, 3, 4, 5, 6, 7, 8, 9, 10, 11, 12, 13], \"type\": \"scatter\", \"name\": \"frame 5/8: S_I\", \"mode\": \"lines\"}, {\"y\": [17.72165870666504, -26.292213439941406, 16.200471878051758, 6.699398040771484, 5.803767204284668, -9.13968276977539, 20.192459106445312, -8.354581832885742, 1.681802749633789, -6.552258014678955, 11.993788719177246, -3.9827730655670166, 7.997714042663574], \"x\": [1, 2, 3, 4, 5, 6, 7, 8, 9, 10, 11, 12, 13], \"type\": \"scatter\", \"name\": \"frame 6/8: S_I\", \"mode\": \"lines\"}, {\"y\": [15.143502235412598, -14.949294090270996, 20.965137481689453, 3.2322745323181152, -2.491630792617798, -11.320476531982422, 10.853026390075684, -5.840985298156738, 2.490325450897217, -4.472246170043945, 6.5723042488098145, -13.120893478393555, 1.780200481414795], \"x\": [1, 2, 3, 4, 5, 6, 7, 8, 9, 10, 11, 12, 13], \"type\": \"scatter\", \"name\": \"frame 7/8: S_I\", \"mode\": \"lines\"}, {\"y\": [13.517964363098145, -8.829126358032227, 10.641693115234375, -5.945405006408691, -4.847557067871094, 3.4047560691833496, 12.187231063842773, -4.332827568054199, 17.90397071838379, -6.552258014678955, 11.993788719177246, -15.659773826599121, 4.507221221923828], \"x\": [1, 2, 3, 4, 5, 6, 7, 8, 9, 10, 11, 12, 13], \"type\": \"scatter\", \"name\": \"frame 8/8: T_I\", \"mode\": \"lines\"}], {\"title\": \"Visualization of 8 frames\", \"xaxis\": {\"dtick\": true, \"title\": \"feature number\"}, \"yaxis\": {\"title\": \"what does the value of y mean?\"}}, {\"linkText\": \"Export to plot.ly\", \"showLink\": true})});</script>"
      ]
     },
     "metadata": {},
     "output_type": "display_data"
    }
   ],
   "source": [
    "py.iplot(\n",
    "    fv.plot_frames(\n",
    "        frames=feats_in[SAMPLE][60:68],\n",
    "        phones=ali_in[SAMPLE][60:68]\n",
    "    )\n",
    ")"
   ]
  },
  {
   "cell_type": "markdown",
   "metadata": {},
   "source": [
    "We can now see that these 8 frames *most likely* represent *three* different phones.  \n",
    "\n",
    "Again, clicking on individual lines in the legend will turn that line \"on\"/\"off\" from the plot."
   ]
  },
  {
   "cell_type": "markdown",
   "metadata": {},
   "source": [
    "## Including \"average\" `mfcc` information"
   ]
  },
  {
   "cell_type": "markdown",
   "metadata": {},
   "source": [
    "`feature_viz.py` also has a function that will calculate the *average* `MFCC` vector for each `phone` in our training subset."
   ]
  },
  {
   "cell_type": "markdown",
   "metadata": {},
   "source": [
    "First we need to build a `<dict>` that groups all of the `MFCC` vectors for each phone together."
   ]
  },
  {
   "cell_type": "code",
   "execution_count": 38,
   "metadata": {},
   "outputs": [
    {
     "data": {
      "text/plain": [
       "['IY2_I',\n",
       " 'AA2_B',\n",
       " 'EH1_I',\n",
       " 'EH1_B',\n",
       " 'SIL',\n",
       " 'L_B',\n",
       " 'IY1_I',\n",
       " 'AY0_I',\n",
       " 'F_B',\n",
       " 'AY0_B']"
      ]
     },
     "execution_count": 38,
     "metadata": {},
     "output_type": "execute_result"
    }
   ],
   "source": [
    "grouped_dict = fv.get_grouped_phones_dict(\n",
    "                    feats_dict=feats_in, \n",
    "                    ali_dict=ali_in\n",
    ")\n",
    "list(grouped_dict.keys())[:10]"
   ]
  },
  {
   "cell_type": "markdown",
   "metadata": {},
   "source": [
    "Each `value` is a `<list>` of all the examples of that phone in our subset.  In this case, there are 5955 *predicteed* `F_B` phones in our subset."
   ]
  },
  {
   "cell_type": "code",
   "execution_count": 39,
   "metadata": {},
   "outputs": [
    {
     "data": {
      "text/plain": [
       "5955"
      ]
     },
     "execution_count": 39,
     "metadata": {},
     "output_type": "execute_result"
    }
   ],
   "source": [
    "len(grouped_dict[\"F_B\"])"
   ]
  },
  {
   "cell_type": "markdown",
   "metadata": {},
   "source": [
    "We can then run `get_average_mfccs()` to generate the `mean` `MFCC` vector for each phone.  Below is the `mean` `MFCC` vector for all of the `F_B`s seen in our subset."
   ]
  },
  {
   "cell_type": "code",
   "execution_count": 40,
   "metadata": {},
   "outputs": [
    {
     "data": {
      "text/plain": [
       "array([ 15.63681507, -21.85861588,  -3.27805853,  -1.40559375,\n",
       "       -10.15818024,  -8.24401665,  -3.1355145 ,   1.58451748,\n",
       "        -3.61500621,  -0.10631811,  -4.7382741 ,  -2.49622965,  -3.75922012], dtype=float32)"
      ]
     },
     "execution_count": 40,
     "metadata": {},
     "output_type": "execute_result"
    }
   ],
   "source": [
    "ave_dict = fv.get_average_mfccs(\n",
    "    phones_dict=grouped_dict\n",
    ")\n",
    "ave_dict[\"F_B\"]"
   ]
  },
  {
   "cell_type": "markdown",
   "metadata": {},
   "source": [
    "`plot_frames()` can also show you the average vector of each frame that appears in your plot."
   ]
  },
  {
   "cell_type": "code",
   "execution_count": 41,
   "metadata": {},
   "outputs": [
    {
     "data": {
      "application/vnd.plotly.v1+json": {
       "data": [
        {
         "mode": "lines",
         "name": "frame 1/8: IH1_I",
         "type": "scatter",
         "x": [
          1,
          2,
          3,
          4,
          5,
          6,
          7,
          8,
          9,
          10,
          11,
          12,
          13
         ],
         "y": [
          21.19275665283203,
          8.513047218322754,
          12.229915618896484,
          14.741026878356934,
          -36.976112365722656,
          -7.1012115478515625,
          6.996381759643555,
          14.69707202911377,
          3.2988481521606445,
          11.841123580932617,
          -1.192874789237976,
          0.5269489288330078,
          -18.843772888183594
         ]
        },
        {
         "mode": "lines",
         "name": "frame 2/8: IH1_I",
         "type": "scatter",
         "x": [
          1,
          2,
          3,
          4,
          5,
          6,
          7,
          8,
          9,
          10,
          11,
          12,
          13
         ],
         "y": [
          21.19275665283203,
          2.8768410682678223,
          21.759248733520508,
          9.17135238647461,
          -34.885494232177734,
          -0.9857975840568542,
          5.658081531524658,
          6.127485275268555,
          6.263431072235107,
          12.310379981994629,
          13.53551197052002,
          -13.002217292785645,
          -22.025625228881836
         ]
        },
        {
         "mode": "lines",
         "name": "frame 3/8: IH1_I",
         "type": "scatter",
         "x": [
          1,
          2,
          3,
          4,
          5,
          6,
          7,
          8,
          9,
          10,
          11,
          12,
          13
         ],
         "y": [
          20.912734985351562,
          -4.710360050201416,
          28.112136840820312,
          9.867561340332031,
          -27.56831932067871,
          -3.3378798961639404,
          2.535382032394409,
          1.1862353086471558,
          16.644569396972656,
          9.96410083770752,
          28.95274543762207,
          -23.62842559814453,
          -10.57095718383789
         ]
        },
        {
         "mode": "lines",
         "name": "frame 4/8: IH1_I",
         "type": "scatter",
         "x": [
          1,
          2,
          3,
          4,
          5,
          6,
          7,
          8,
          9,
          10,
          11,
          12,
          13
         ],
         "y": [
          20.38762092590332,
          -14.949294090270996,
          32.08269500732422,
          6.087552547454834,
          -20.7738037109375,
          8.10892105102539,
          -1.6282174587249756,
          20.570714950561523,
          5.320154666900635,
          15.125913619995117,
          17.0043888092041,
          -22.632343292236328,
          18.46919059753418
         ]
        },
        {
         "mode": "lines",
         "name": "frame 5/8: S_I",
         "type": "scatter",
         "x": [
          1,
          2,
          3,
          4,
          5,
          6,
          7,
          8,
          9,
          10,
          11,
          12,
          13
         ],
         "y": [
          19.579753875732422,
          -26.859359741210938,
          24.141582489013672,
          18.570178985595703,
          8.147351264953613,
          12.051640510559082,
          13.521435737609863,
          3.7745091915130615,
          -8.41170883178711,
          0.9877848625183105,
          12.379219055175781,
          -20.142139434814453,
          4.8245391845703125
         ]
        },
        {
         "mode": "lines",
         "name": "frame 6/8: S_I",
         "type": "scatter",
         "x": [
          1,
          2,
          3,
          4,
          5,
          6,
          7,
          8,
          9,
          10,
          11,
          12,
          13
         ],
         "y": [
          17.72165870666504,
          -26.292213439941406,
          16.200471878051758,
          6.699398040771484,
          5.803767204284668,
          -9.13968276977539,
          20.192459106445312,
          -8.354581832885742,
          1.681802749633789,
          -6.552258014678955,
          11.993788719177246,
          -3.9827730655670166,
          7.997714042663574
         ]
        },
        {
         "mode": "lines",
         "name": "frame 7/8: S_I",
         "type": "scatter",
         "x": [
          1,
          2,
          3,
          4,
          5,
          6,
          7,
          8,
          9,
          10,
          11,
          12,
          13
         ],
         "y": [
          15.143502235412598,
          -14.949294090270996,
          20.965137481689453,
          3.2322745323181152,
          -2.491630792617798,
          -11.320476531982422,
          10.853026390075684,
          -5.840985298156738,
          2.490325450897217,
          -4.472246170043945,
          6.5723042488098145,
          -13.120893478393555,
          1.780200481414795
         ]
        },
        {
         "mode": "lines",
         "name": "frame 8/8: T_I",
         "type": "scatter",
         "x": [
          1,
          2,
          3,
          4,
          5,
          6,
          7,
          8,
          9,
          10,
          11,
          12,
          13
         ],
         "y": [
          13.517964363098145,
          -8.829126358032227,
          10.641693115234375,
          -5.945405006408691,
          -4.847557067871094,
          3.4047560691833496,
          12.187231063842773,
          -4.332827568054199,
          17.90397071838379,
          -6.552258014678955,
          11.993788719177246,
          -15.659773826599121,
          4.507221221923828
         ]
        },
        {
         "line": {
          "dash": "dash",
          "width": 4
         },
         "mode": "lines",
         "name": "ave mfcc: T_I",
         "type": "scatter",
         "x": [
          1,
          2,
          3,
          4,
          5,
          6,
          7,
          8,
          9,
          10,
          11,
          12,
          13
         ],
         "y": [
          16.928220748901367,
          -14.035582542419434,
          2.1065707206726074,
          -5.2692742347717285,
          -14.3838472366333,
          -8.252748489379883,
          -5.208581447601318,
          -1.6230381727218628,
          -5.593382835388184,
          -1.543965220451355,
          -8.673516273498535,
          -4.483022212982178,
          -4.767025947570801
         ]
        },
        {
         "line": {
          "dash": "dash",
          "width": 4
         },
         "mode": "lines",
         "name": "ave mfcc: S_I",
         "type": "scatter",
         "x": [
          1,
          2,
          3,
          4,
          5,
          6,
          7,
          8,
          9,
          10,
          11,
          12,
          13
         ],
         "y": [
          16.465457916259766,
          -22.449539184570312,
          1.3965356349945068,
          -7.744617462158203,
          -7.391644477844238,
          -10.716032981872559,
          1.224860429763794,
          -3.428332567214966,
          -4.14506721496582,
          -0.3470013439655304,
          -8.782523155212402,
          -6.2796311378479,
          -3.8870863914489746
         ]
        },
        {
         "line": {
          "dash": "dash",
          "width": 4
         },
         "mode": "lines",
         "name": "ave mfcc: IH1_I",
         "type": "scatter",
         "x": [
          1,
          2,
          3,
          4,
          5,
          6,
          7,
          8,
          9,
          10,
          11,
          12,
          13
         ],
         "y": [
          20.49506950378418,
          -2.970331907272339,
          4.422876358032227,
          -8.055068016052246,
          -35.694889068603516,
          -16.540205001831055,
          -7.743582248687744,
          -4.609816074371338,
          -12.053409576416016,
          -2.3864195346832275,
          -17.22492790222168,
          -12.128283500671387,
          -9.0654296875
         ]
        }
       ],
       "layout": {
        "title": "Visualization of 8 frames",
        "xaxis": {
         "dtick": true,
         "title": "feature number"
        },
        "yaxis": {
         "title": "what does the value of y mean?"
        }
       }
      },
      "text/html": [
       "<div id=\"f27b8876-c3ac-46ad-ae03-8dee8eef15a2\" style=\"height: 525px; width: 100%;\" class=\"plotly-graph-div\"></div><script type=\"text/javascript\">require([\"plotly\"], function(Plotly) { window.PLOTLYENV=window.PLOTLYENV || {};window.PLOTLYENV.BASE_URL=\"https://plot.ly\";Plotly.newPlot(\"f27b8876-c3ac-46ad-ae03-8dee8eef15a2\", [{\"y\": [21.19275665283203, 8.513047218322754, 12.229915618896484, 14.741026878356934, -36.976112365722656, -7.1012115478515625, 6.996381759643555, 14.69707202911377, 3.2988481521606445, 11.841123580932617, -1.192874789237976, 0.5269489288330078, -18.843772888183594], \"x\": [1, 2, 3, 4, 5, 6, 7, 8, 9, 10, 11, 12, 13], \"type\": \"scatter\", \"name\": \"frame 1/8: IH1_I\", \"mode\": \"lines\"}, {\"y\": [21.19275665283203, 2.8768410682678223, 21.759248733520508, 9.17135238647461, -34.885494232177734, -0.9857975840568542, 5.658081531524658, 6.127485275268555, 6.263431072235107, 12.310379981994629, 13.53551197052002, -13.002217292785645, -22.025625228881836], \"x\": [1, 2, 3, 4, 5, 6, 7, 8, 9, 10, 11, 12, 13], \"type\": \"scatter\", \"name\": \"frame 2/8: IH1_I\", \"mode\": \"lines\"}, {\"y\": [20.912734985351562, -4.710360050201416, 28.112136840820312, 9.867561340332031, -27.56831932067871, -3.3378798961639404, 2.535382032394409, 1.1862353086471558, 16.644569396972656, 9.96410083770752, 28.95274543762207, -23.62842559814453, -10.57095718383789], \"x\": [1, 2, 3, 4, 5, 6, 7, 8, 9, 10, 11, 12, 13], \"type\": \"scatter\", \"name\": \"frame 3/8: IH1_I\", \"mode\": \"lines\"}, {\"y\": [20.38762092590332, -14.949294090270996, 32.08269500732422, 6.087552547454834, -20.7738037109375, 8.10892105102539, -1.6282174587249756, 20.570714950561523, 5.320154666900635, 15.125913619995117, 17.0043888092041, -22.632343292236328, 18.46919059753418], \"x\": [1, 2, 3, 4, 5, 6, 7, 8, 9, 10, 11, 12, 13], \"type\": \"scatter\", \"name\": \"frame 4/8: IH1_I\", \"mode\": \"lines\"}, {\"y\": [19.579753875732422, -26.859359741210938, 24.141582489013672, 18.570178985595703, 8.147351264953613, 12.051640510559082, 13.521435737609863, 3.7745091915130615, -8.41170883178711, 0.9877848625183105, 12.379219055175781, -20.142139434814453, 4.8245391845703125], \"x\": [1, 2, 3, 4, 5, 6, 7, 8, 9, 10, 11, 12, 13], \"type\": \"scatter\", \"name\": \"frame 5/8: S_I\", \"mode\": \"lines\"}, {\"y\": [17.72165870666504, -26.292213439941406, 16.200471878051758, 6.699398040771484, 5.803767204284668, -9.13968276977539, 20.192459106445312, -8.354581832885742, 1.681802749633789, -6.552258014678955, 11.993788719177246, -3.9827730655670166, 7.997714042663574], \"x\": [1, 2, 3, 4, 5, 6, 7, 8, 9, 10, 11, 12, 13], \"type\": \"scatter\", \"name\": \"frame 6/8: S_I\", \"mode\": \"lines\"}, {\"y\": [15.143502235412598, -14.949294090270996, 20.965137481689453, 3.2322745323181152, -2.491630792617798, -11.320476531982422, 10.853026390075684, -5.840985298156738, 2.490325450897217, -4.472246170043945, 6.5723042488098145, -13.120893478393555, 1.780200481414795], \"x\": [1, 2, 3, 4, 5, 6, 7, 8, 9, 10, 11, 12, 13], \"type\": \"scatter\", \"name\": \"frame 7/8: S_I\", \"mode\": \"lines\"}, {\"y\": [13.517964363098145, -8.829126358032227, 10.641693115234375, -5.945405006408691, -4.847557067871094, 3.4047560691833496, 12.187231063842773, -4.332827568054199, 17.90397071838379, -6.552258014678955, 11.993788719177246, -15.659773826599121, 4.507221221923828], \"x\": [1, 2, 3, 4, 5, 6, 7, 8, 9, 10, 11, 12, 13], \"type\": \"scatter\", \"name\": \"frame 8/8: T_I\", \"mode\": \"lines\"}, {\"name\": \"ave mfcc: T_I\", \"mode\": \"lines\", \"y\": [16.928220748901367, -14.035582542419434, 2.1065707206726074, -5.2692742347717285, -14.3838472366333, -8.252748489379883, -5.208581447601318, -1.6230381727218628, -5.593382835388184, -1.543965220451355, -8.673516273498535, -4.483022212982178, -4.767025947570801], \"x\": [1, 2, 3, 4, 5, 6, 7, 8, 9, 10, 11, 12, 13], \"line\": {\"dash\": \"dash\", \"width\": 4}, \"type\": \"scatter\"}, {\"name\": \"ave mfcc: S_I\", \"mode\": \"lines\", \"y\": [16.465457916259766, -22.449539184570312, 1.3965356349945068, -7.744617462158203, -7.391644477844238, -10.716032981872559, 1.224860429763794, -3.428332567214966, -4.14506721496582, -0.3470013439655304, -8.782523155212402, -6.2796311378479, -3.8870863914489746], \"x\": [1, 2, 3, 4, 5, 6, 7, 8, 9, 10, 11, 12, 13], \"line\": {\"dash\": \"dash\", \"width\": 4}, \"type\": \"scatter\"}, {\"name\": \"ave mfcc: IH1_I\", \"mode\": \"lines\", \"y\": [20.49506950378418, -2.970331907272339, 4.422876358032227, -8.055068016052246, -35.694889068603516, -16.540205001831055, -7.743582248687744, -4.609816074371338, -12.053409576416016, -2.3864195346832275, -17.22492790222168, -12.128283500671387, -9.0654296875], \"x\": [1, 2, 3, 4, 5, 6, 7, 8, 9, 10, 11, 12, 13], \"line\": {\"dash\": \"dash\", \"width\": 4}, \"type\": \"scatter\"}], {\"title\": \"Visualization of 8 frames\", \"xaxis\": {\"dtick\": true, \"title\": \"feature number\"}, \"yaxis\": {\"title\": \"what does the value of y mean?\"}}, {\"linkText\": \"Export to plot.ly\", \"showLink\": true})});</script>"
      ],
      "text/vnd.plotly.v1+html": [
       "<div id=\"f27b8876-c3ac-46ad-ae03-8dee8eef15a2\" style=\"height: 525px; width: 100%;\" class=\"plotly-graph-div\"></div><script type=\"text/javascript\">require([\"plotly\"], function(Plotly) { window.PLOTLYENV=window.PLOTLYENV || {};window.PLOTLYENV.BASE_URL=\"https://plot.ly\";Plotly.newPlot(\"f27b8876-c3ac-46ad-ae03-8dee8eef15a2\", [{\"y\": [21.19275665283203, 8.513047218322754, 12.229915618896484, 14.741026878356934, -36.976112365722656, -7.1012115478515625, 6.996381759643555, 14.69707202911377, 3.2988481521606445, 11.841123580932617, -1.192874789237976, 0.5269489288330078, -18.843772888183594], \"x\": [1, 2, 3, 4, 5, 6, 7, 8, 9, 10, 11, 12, 13], \"type\": \"scatter\", \"name\": \"frame 1/8: IH1_I\", \"mode\": \"lines\"}, {\"y\": [21.19275665283203, 2.8768410682678223, 21.759248733520508, 9.17135238647461, -34.885494232177734, -0.9857975840568542, 5.658081531524658, 6.127485275268555, 6.263431072235107, 12.310379981994629, 13.53551197052002, -13.002217292785645, -22.025625228881836], \"x\": [1, 2, 3, 4, 5, 6, 7, 8, 9, 10, 11, 12, 13], \"type\": \"scatter\", \"name\": \"frame 2/8: IH1_I\", \"mode\": \"lines\"}, {\"y\": [20.912734985351562, -4.710360050201416, 28.112136840820312, 9.867561340332031, -27.56831932067871, -3.3378798961639404, 2.535382032394409, 1.1862353086471558, 16.644569396972656, 9.96410083770752, 28.95274543762207, -23.62842559814453, -10.57095718383789], \"x\": [1, 2, 3, 4, 5, 6, 7, 8, 9, 10, 11, 12, 13], \"type\": \"scatter\", \"name\": \"frame 3/8: IH1_I\", \"mode\": \"lines\"}, {\"y\": [20.38762092590332, -14.949294090270996, 32.08269500732422, 6.087552547454834, -20.7738037109375, 8.10892105102539, -1.6282174587249756, 20.570714950561523, 5.320154666900635, 15.125913619995117, 17.0043888092041, -22.632343292236328, 18.46919059753418], \"x\": [1, 2, 3, 4, 5, 6, 7, 8, 9, 10, 11, 12, 13], \"type\": \"scatter\", \"name\": \"frame 4/8: IH1_I\", \"mode\": \"lines\"}, {\"y\": [19.579753875732422, -26.859359741210938, 24.141582489013672, 18.570178985595703, 8.147351264953613, 12.051640510559082, 13.521435737609863, 3.7745091915130615, -8.41170883178711, 0.9877848625183105, 12.379219055175781, -20.142139434814453, 4.8245391845703125], \"x\": [1, 2, 3, 4, 5, 6, 7, 8, 9, 10, 11, 12, 13], \"type\": \"scatter\", \"name\": \"frame 5/8: S_I\", \"mode\": \"lines\"}, {\"y\": [17.72165870666504, -26.292213439941406, 16.200471878051758, 6.699398040771484, 5.803767204284668, -9.13968276977539, 20.192459106445312, -8.354581832885742, 1.681802749633789, -6.552258014678955, 11.993788719177246, -3.9827730655670166, 7.997714042663574], \"x\": [1, 2, 3, 4, 5, 6, 7, 8, 9, 10, 11, 12, 13], \"type\": \"scatter\", \"name\": \"frame 6/8: S_I\", \"mode\": \"lines\"}, {\"y\": [15.143502235412598, -14.949294090270996, 20.965137481689453, 3.2322745323181152, -2.491630792617798, -11.320476531982422, 10.853026390075684, -5.840985298156738, 2.490325450897217, -4.472246170043945, 6.5723042488098145, -13.120893478393555, 1.780200481414795], \"x\": [1, 2, 3, 4, 5, 6, 7, 8, 9, 10, 11, 12, 13], \"type\": \"scatter\", \"name\": \"frame 7/8: S_I\", \"mode\": \"lines\"}, {\"y\": [13.517964363098145, -8.829126358032227, 10.641693115234375, -5.945405006408691, -4.847557067871094, 3.4047560691833496, 12.187231063842773, -4.332827568054199, 17.90397071838379, -6.552258014678955, 11.993788719177246, -15.659773826599121, 4.507221221923828], \"x\": [1, 2, 3, 4, 5, 6, 7, 8, 9, 10, 11, 12, 13], \"type\": \"scatter\", \"name\": \"frame 8/8: T_I\", \"mode\": \"lines\"}, {\"name\": \"ave mfcc: T_I\", \"mode\": \"lines\", \"y\": [16.928220748901367, -14.035582542419434, 2.1065707206726074, -5.2692742347717285, -14.3838472366333, -8.252748489379883, -5.208581447601318, -1.6230381727218628, -5.593382835388184, -1.543965220451355, -8.673516273498535, -4.483022212982178, -4.767025947570801], \"x\": [1, 2, 3, 4, 5, 6, 7, 8, 9, 10, 11, 12, 13], \"line\": {\"dash\": \"dash\", \"width\": 4}, \"type\": \"scatter\"}, {\"name\": \"ave mfcc: S_I\", \"mode\": \"lines\", \"y\": [16.465457916259766, -22.449539184570312, 1.3965356349945068, -7.744617462158203, -7.391644477844238, -10.716032981872559, 1.224860429763794, -3.428332567214966, -4.14506721496582, -0.3470013439655304, -8.782523155212402, -6.2796311378479, -3.8870863914489746], \"x\": [1, 2, 3, 4, 5, 6, 7, 8, 9, 10, 11, 12, 13], \"line\": {\"dash\": \"dash\", \"width\": 4}, \"type\": \"scatter\"}, {\"name\": \"ave mfcc: IH1_I\", \"mode\": \"lines\", \"y\": [20.49506950378418, -2.970331907272339, 4.422876358032227, -8.055068016052246, -35.694889068603516, -16.540205001831055, -7.743582248687744, -4.609816074371338, -12.053409576416016, -2.3864195346832275, -17.22492790222168, -12.128283500671387, -9.0654296875], \"x\": [1, 2, 3, 4, 5, 6, 7, 8, 9, 10, 11, 12, 13], \"line\": {\"dash\": \"dash\", \"width\": 4}, \"type\": \"scatter\"}], {\"title\": \"Visualization of 8 frames\", \"xaxis\": {\"dtick\": true, \"title\": \"feature number\"}, \"yaxis\": {\"title\": \"what does the value of y mean?\"}}, {\"linkText\": \"Export to plot.ly\", \"showLink\": true})});</script>"
      ]
     },
     "metadata": {},
     "output_type": "display_data"
    }
   ],
   "source": [
    "py.iplot(\n",
    "    fv.plot_frames(\n",
    "        frames=feats_in[SAMPLE][60:68],\n",
    "        phones=ali_in[SAMPLE][60:68],\n",
    "        average_mfccs_dict=ave_dict\n",
    "    )\n",
    ")"
   ]
  },
  {
   "cell_type": "markdown",
   "metadata": {},
   "source": [
    "You can now compare the particular `MFCC` vectors for a given phone to its average vector."
   ]
  },
  {
   "cell_type": "markdown",
   "metadata": {},
   "source": [
    "## Case Study of `IH`\n",
    "\n",
    "Let's look more closely at a particular `phone`.  There are *five* instances of `IH` in our chosen sample."
   ]
  },
  {
   "cell_type": "code",
   "execution_count": 42,
   "metadata": {},
   "outputs": [
    {
     "name": "stdout",
     "output_type": "stream",
     "text": [
      "1272-128104-0000 MISTER QUILTER IS THE APOSTLE OF THE MIDDLE CLASSES AND WE ARE GLAD TO WELCOME HIS GOSPEL\r\n"
     ]
    }
   ],
   "source": [
    "cat raw_data/librispeech-transcripts.txt | grep -E \"1272-128104-0000\""
   ]
  },
  {
   "cell_type": "markdown",
   "metadata": {},
   "source": [
    "Let's find the frames that correspond to them.\n",
    "\n",
    "**Note:** The phone is `IH1` which indicates the \"second\" pronunciation of `IH` in our phones set.  There is also a `IH0` and a `IH2`"
   ]
  },
  {
   "cell_type": "code",
   "execution_count": 43,
   "metadata": {},
   "outputs": [
    {
     "name": "stdout",
     "output_type": "stream",
     "text": [
      "IH0_B 142\r\n",
      "IH0_E 143\r\n",
      "IH0_I 144\r\n",
      "IH0_S 145\r\n",
      "IH1_B 146\r\n",
      "IH1_E 147\r\n",
      "IH1_I 148\r\n",
      "IH1_S 149\r\n",
      "IH2_B 150\r\n",
      "IH2_E 151\r\n",
      "IH2_I 152\r\n",
      "IH2_S 153\r\n"
     ]
    }
   ],
   "source": [
    "cat data/lang/phones.txt | grep IH"
   ]
  },
  {
   "cell_type": "code",
   "execution_count": 44,
   "metadata": {},
   "outputs": [
    {
     "data": {
      "text/plain": [
       "[(59, 'IH1_I'),\n",
       " (60, 'IH1_I'),\n",
       " (61, 'IH1_I'),\n",
       " (62, 'IH1_I'),\n",
       " (63, 'IH1_I'),\n",
       " (96, 'IH1_I'),\n",
       " (97, 'IH1_I'),\n",
       " (98, 'IH1_I'),\n",
       " (125, 'IH1_B'),\n",
       " (126, 'IH1_B'),\n",
       " (127, 'IH1_B'),\n",
       " (128, 'IH1_B'),\n",
       " (129, 'IH1_B'),\n",
       " (130, 'IH1_B'),\n",
       " (131, 'IH1_B'),\n",
       " (132, 'IH1_B'),\n",
       " (133, 'IH1_B'),\n",
       " (134, 'IH1_B'),\n",
       " (242, 'IH1_I'),\n",
       " (243, 'IH1_I'),\n",
       " (244, 'IH1_I'),\n",
       " (469, 'IH1_I'),\n",
       " (470, 'IH1_I'),\n",
       " (471, 'IH1_I'),\n",
       " (472, 'IH1_I'),\n",
       " (473, 'IH1_I'),\n",
       " (474, 'IH1_I'),\n",
       " (475, 'IH1_I'),\n",
       " (476, 'IH1_I')]"
      ]
     },
     "execution_count": 44,
     "metadata": {},
     "output_type": "execute_result"
    }
   ],
   "source": [
    "enumerated_phones = list(enumerate(ali_in[SAMPLE]))\n",
    "\n",
    "list(filter(\n",
    "    lambda x: \"IH\" in x[1],\n",
    "    enumerated_phones)\n",
    "    )"
   ]
  },
  {
   "cell_type": "markdown",
   "metadata": {},
   "source": [
    "And we can see that those *five* instances correspond to the following frames:\n",
    "    - 59-63\n",
    "    - 96-98\n",
    "    - 125-134\n",
    "    - 242-244\n",
    "    - 469-476"
   ]
  },
  {
   "cell_type": "code",
   "execution_count": 45,
   "metadata": {},
   "outputs": [],
   "source": [
    "ex_1 = {\n",
    "    \"start\": 59,\n",
    "    \"stop\": 64    # +1 to be inclusive\n",
    "}\n",
    "\n",
    "ex_2 = {\n",
    "    \"start\": 96,\n",
    "    \"stop\": 99    # +1 to be inclusive\n",
    "}\n",
    "\n",
    "ex_3 = {\n",
    "    \"start\": 125,\n",
    "    \"stop\": 135    # +1 to be inclusive\n",
    "}\n",
    "\n",
    "ex_4 = {\n",
    "    \"start\": 242,\n",
    "    \"stop\": 245    # +1 to be inclusive\n",
    "}\n",
    "\n",
    "ex_5 = {\n",
    "    \"start\": 469,\n",
    "    \"stop\": 477    # +1 to be inclusive\n",
    "}"
   ]
  },
  {
   "cell_type": "code",
   "execution_count": 46,
   "metadata": {},
   "outputs": [
    {
     "data": {
      "text/plain": [
       "['IH1_I', 'IH1_I', 'IH1_I', 'IH1_I', 'IH1_I']"
      ]
     },
     "execution_count": 46,
     "metadata": {},
     "output_type": "execute_result"
    }
   ],
   "source": [
    "ali_in[SAMPLE][ex_1[\"start\"]:ex_1[\"stop\"]]"
   ]
  },
  {
   "cell_type": "markdown",
   "metadata": {},
   "source": [
    "Let's plot each sequence of phones."
   ]
  },
  {
   "cell_type": "markdown",
   "metadata": {},
   "source": [
    "### `ex_1`: \"MISTER\""
   ]
  },
  {
   "cell_type": "code",
   "execution_count": 47,
   "metadata": {},
   "outputs": [
    {
     "data": {
      "application/vnd.plotly.v1+json": {
       "data": [
        {
         "mode": "lines",
         "name": "frame 1/5: IH1_I",
         "type": "scatter",
         "x": [
          1,
          2,
          3,
          4,
          5,
          6,
          7,
          8,
          9,
          10,
          11,
          12,
          13
         ],
         "y": [
          21.13675308227539,
          10.030488014221191,
          7.8623046875,
          14.044817924499512,
          -35.40814971923828,
          -13.18765926361084,
          15.745109558105469,
          9.774598121643066,
          5.320154666900635,
          9.96410083770752,
          -11.051177978515625,
          15.047750473022461,
          -25.207477569580078
         ]
        },
        {
         "mode": "lines",
         "name": "frame 2/5: IH1_I",
         "type": "scatter",
         "x": [
          1,
          2,
          3,
          4,
          5,
          6,
          7,
          8,
          9,
          10,
          11,
          12,
          13
         ],
         "y": [
          21.19275665283203,
          8.513047218322754,
          12.229915618896484,
          14.741026878356934,
          -36.976112365722656,
          -7.1012115478515625,
          6.996381759643555,
          14.69707202911377,
          3.2988481521606445,
          11.841123580932617,
          -1.192874789237976,
          0.5269489288330078,
          -18.843772888183594
         ]
        },
        {
         "mode": "lines",
         "name": "frame 3/5: IH1_I",
         "type": "scatter",
         "x": [
          1,
          2,
          3,
          4,
          5,
          6,
          7,
          8,
          9,
          10,
          11,
          12,
          13
         ],
         "y": [
          21.19275665283203,
          2.8768410682678223,
          21.759248733520508,
          9.17135238647461,
          -34.885494232177734,
          -0.9857975840568542,
          5.658081531524658,
          6.127485275268555,
          6.263431072235107,
          12.310379981994629,
          13.53551197052002,
          -13.002217292785645,
          -22.025625228881836
         ]
        },
        {
         "mode": "lines",
         "name": "frame 4/5: IH1_I",
         "type": "scatter",
         "x": [
          1,
          2,
          3,
          4,
          5,
          6,
          7,
          8,
          9,
          10,
          11,
          12,
          13
         ],
         "y": [
          20.912734985351562,
          -4.710360050201416,
          28.112136840820312,
          9.867561340332031,
          -27.56831932067871,
          -3.3378798961639404,
          2.535382032394409,
          1.1862353086471558,
          16.644569396972656,
          9.96410083770752,
          28.95274543762207,
          -23.62842559814453,
          -10.57095718383789
         ]
        },
        {
         "mode": "lines",
         "name": "frame 5/5: IH1_I",
         "type": "scatter",
         "x": [
          1,
          2,
          3,
          4,
          5,
          6,
          7,
          8,
          9,
          10,
          11,
          12,
          13
         ],
         "y": [
          20.38762092590332,
          -14.949294090270996,
          32.08269500732422,
          6.087552547454834,
          -20.7738037109375,
          8.10892105102539,
          -1.6282174587249756,
          20.570714950561523,
          5.320154666900635,
          15.125913619995117,
          17.0043888092041,
          -22.632343292236328,
          18.46919059753418
         ]
        },
        {
         "line": {
          "dash": "dash",
          "width": 4
         },
         "mode": "lines",
         "name": "ave mfcc: IH1_I",
         "type": "scatter",
         "x": [
          1,
          2,
          3,
          4,
          5,
          6,
          7,
          8,
          9,
          10,
          11,
          12,
          13
         ],
         "y": [
          20.49506950378418,
          -2.970331907272339,
          4.422876358032227,
          -8.055068016052246,
          -35.694889068603516,
          -16.540205001831055,
          -7.743582248687744,
          -4.609816074371338,
          -12.053409576416016,
          -2.3864195346832275,
          -17.22492790222168,
          -12.128283500671387,
          -9.0654296875
         ]
        }
       ],
       "layout": {
        "title": "Visualization of 5 frames",
        "xaxis": {
         "dtick": true,
         "title": "feature number"
        },
        "yaxis": {
         "title": "what does the value of y mean?"
        }
       }
      },
      "text/html": [
       "<div id=\"dfb97908-dfce-4ef5-afcf-994fdc16dba3\" style=\"height: 525px; width: 100%;\" class=\"plotly-graph-div\"></div><script type=\"text/javascript\">require([\"plotly\"], function(Plotly) { window.PLOTLYENV=window.PLOTLYENV || {};window.PLOTLYENV.BASE_URL=\"https://plot.ly\";Plotly.newPlot(\"dfb97908-dfce-4ef5-afcf-994fdc16dba3\", [{\"y\": [21.13675308227539, 10.030488014221191, 7.8623046875, 14.044817924499512, -35.40814971923828, -13.18765926361084, 15.745109558105469, 9.774598121643066, 5.320154666900635, 9.96410083770752, -11.051177978515625, 15.047750473022461, -25.207477569580078], \"x\": [1, 2, 3, 4, 5, 6, 7, 8, 9, 10, 11, 12, 13], \"type\": \"scatter\", \"name\": \"frame 1/5: IH1_I\", \"mode\": \"lines\"}, {\"y\": [21.19275665283203, 8.513047218322754, 12.229915618896484, 14.741026878356934, -36.976112365722656, -7.1012115478515625, 6.996381759643555, 14.69707202911377, 3.2988481521606445, 11.841123580932617, -1.192874789237976, 0.5269489288330078, -18.843772888183594], \"x\": [1, 2, 3, 4, 5, 6, 7, 8, 9, 10, 11, 12, 13], \"type\": \"scatter\", \"name\": \"frame 2/5: IH1_I\", \"mode\": \"lines\"}, {\"y\": [21.19275665283203, 2.8768410682678223, 21.759248733520508, 9.17135238647461, -34.885494232177734, -0.9857975840568542, 5.658081531524658, 6.127485275268555, 6.263431072235107, 12.310379981994629, 13.53551197052002, -13.002217292785645, -22.025625228881836], \"x\": [1, 2, 3, 4, 5, 6, 7, 8, 9, 10, 11, 12, 13], \"type\": \"scatter\", \"name\": \"frame 3/5: IH1_I\", \"mode\": \"lines\"}, {\"y\": [20.912734985351562, -4.710360050201416, 28.112136840820312, 9.867561340332031, -27.56831932067871, -3.3378798961639404, 2.535382032394409, 1.1862353086471558, 16.644569396972656, 9.96410083770752, 28.95274543762207, -23.62842559814453, -10.57095718383789], \"x\": [1, 2, 3, 4, 5, 6, 7, 8, 9, 10, 11, 12, 13], \"type\": \"scatter\", \"name\": \"frame 4/5: IH1_I\", \"mode\": \"lines\"}, {\"y\": [20.38762092590332, -14.949294090270996, 32.08269500732422, 6.087552547454834, -20.7738037109375, 8.10892105102539, -1.6282174587249756, 20.570714950561523, 5.320154666900635, 15.125913619995117, 17.0043888092041, -22.632343292236328, 18.46919059753418], \"x\": [1, 2, 3, 4, 5, 6, 7, 8, 9, 10, 11, 12, 13], \"type\": \"scatter\", \"name\": \"frame 5/5: IH1_I\", \"mode\": \"lines\"}, {\"name\": \"ave mfcc: IH1_I\", \"mode\": \"lines\", \"y\": [20.49506950378418, -2.970331907272339, 4.422876358032227, -8.055068016052246, -35.694889068603516, -16.540205001831055, -7.743582248687744, -4.609816074371338, -12.053409576416016, -2.3864195346832275, -17.22492790222168, -12.128283500671387, -9.0654296875], \"x\": [1, 2, 3, 4, 5, 6, 7, 8, 9, 10, 11, 12, 13], \"line\": {\"dash\": \"dash\", \"width\": 4}, \"type\": \"scatter\"}], {\"title\": \"Visualization of 5 frames\", \"xaxis\": {\"dtick\": true, \"title\": \"feature number\"}, \"yaxis\": {\"title\": \"what does the value of y mean?\"}}, {\"linkText\": \"Export to plot.ly\", \"showLink\": true})});</script>"
      ],
      "text/vnd.plotly.v1+html": [
       "<div id=\"dfb97908-dfce-4ef5-afcf-994fdc16dba3\" style=\"height: 525px; width: 100%;\" class=\"plotly-graph-div\"></div><script type=\"text/javascript\">require([\"plotly\"], function(Plotly) { window.PLOTLYENV=window.PLOTLYENV || {};window.PLOTLYENV.BASE_URL=\"https://plot.ly\";Plotly.newPlot(\"dfb97908-dfce-4ef5-afcf-994fdc16dba3\", [{\"y\": [21.13675308227539, 10.030488014221191, 7.8623046875, 14.044817924499512, -35.40814971923828, -13.18765926361084, 15.745109558105469, 9.774598121643066, 5.320154666900635, 9.96410083770752, -11.051177978515625, 15.047750473022461, -25.207477569580078], \"x\": [1, 2, 3, 4, 5, 6, 7, 8, 9, 10, 11, 12, 13], \"type\": \"scatter\", \"name\": \"frame 1/5: IH1_I\", \"mode\": \"lines\"}, {\"y\": [21.19275665283203, 8.513047218322754, 12.229915618896484, 14.741026878356934, -36.976112365722656, -7.1012115478515625, 6.996381759643555, 14.69707202911377, 3.2988481521606445, 11.841123580932617, -1.192874789237976, 0.5269489288330078, -18.843772888183594], \"x\": [1, 2, 3, 4, 5, 6, 7, 8, 9, 10, 11, 12, 13], \"type\": \"scatter\", \"name\": \"frame 2/5: IH1_I\", \"mode\": \"lines\"}, {\"y\": [21.19275665283203, 2.8768410682678223, 21.759248733520508, 9.17135238647461, -34.885494232177734, -0.9857975840568542, 5.658081531524658, 6.127485275268555, 6.263431072235107, 12.310379981994629, 13.53551197052002, -13.002217292785645, -22.025625228881836], \"x\": [1, 2, 3, 4, 5, 6, 7, 8, 9, 10, 11, 12, 13], \"type\": \"scatter\", \"name\": \"frame 3/5: IH1_I\", \"mode\": \"lines\"}, {\"y\": [20.912734985351562, -4.710360050201416, 28.112136840820312, 9.867561340332031, -27.56831932067871, -3.3378798961639404, 2.535382032394409, 1.1862353086471558, 16.644569396972656, 9.96410083770752, 28.95274543762207, -23.62842559814453, -10.57095718383789], \"x\": [1, 2, 3, 4, 5, 6, 7, 8, 9, 10, 11, 12, 13], \"type\": \"scatter\", \"name\": \"frame 4/5: IH1_I\", \"mode\": \"lines\"}, {\"y\": [20.38762092590332, -14.949294090270996, 32.08269500732422, 6.087552547454834, -20.7738037109375, 8.10892105102539, -1.6282174587249756, 20.570714950561523, 5.320154666900635, 15.125913619995117, 17.0043888092041, -22.632343292236328, 18.46919059753418], \"x\": [1, 2, 3, 4, 5, 6, 7, 8, 9, 10, 11, 12, 13], \"type\": \"scatter\", \"name\": \"frame 5/5: IH1_I\", \"mode\": \"lines\"}, {\"name\": \"ave mfcc: IH1_I\", \"mode\": \"lines\", \"y\": [20.49506950378418, -2.970331907272339, 4.422876358032227, -8.055068016052246, -35.694889068603516, -16.540205001831055, -7.743582248687744, -4.609816074371338, -12.053409576416016, -2.3864195346832275, -17.22492790222168, -12.128283500671387, -9.0654296875], \"x\": [1, 2, 3, 4, 5, 6, 7, 8, 9, 10, 11, 12, 13], \"line\": {\"dash\": \"dash\", \"width\": 4}, \"type\": \"scatter\"}], {\"title\": \"Visualization of 5 frames\", \"xaxis\": {\"dtick\": true, \"title\": \"feature number\"}, \"yaxis\": {\"title\": \"what does the value of y mean?\"}}, {\"linkText\": \"Export to plot.ly\", \"showLink\": true})});</script>"
      ]
     },
     "metadata": {},
     "output_type": "display_data"
    }
   ],
   "source": [
    "py.iplot(\n",
    "    fv.plot_frames(\n",
    "        frames=feats_in[SAMPLE][ex_1[\"start\"]:ex_1[\"stop\"]],\n",
    "        phones=ali_in[SAMPLE][ex_1[\"start\"]:ex_1[\"stop\"]],\n",
    "        average_mfccs_dict=ave_dict\n",
    "    )\n",
    ")"
   ]
  },
  {
   "cell_type": "markdown",
   "metadata": {},
   "source": [
    "### `ex_2`: \"QUILTER\""
   ]
  },
  {
   "cell_type": "code",
   "execution_count": 48,
   "metadata": {},
   "outputs": [
    {
     "data": {
      "application/vnd.plotly.v1+json": {
       "data": [
        {
         "mode": "lines",
         "name": "frame 1/3: IH1_I",
         "type": "scatter",
         "x": [
          1,
          2,
          3,
          4,
          5,
          6,
          7,
          8,
          9,
          10,
          11,
          12,
          13
         ],
         "y": [
          22.620866775512695,
          18.09956169128418,
          2.5756125450134277,
          -41.601993560791016,
          11.662727355957031,
          -1.4562140703201294,
          -20.205167770385742,
          2.1274259090423584,
          19.163372039794922,
          4.367804050445557,
          -7.32673454284668,
          -19.146059036254883,
          9.584300994873047
         ]
        },
        {
         "mode": "lines",
         "name": "frame 2/3: IH1_I",
         "type": "scatter",
         "x": [
          1,
          2,
          3,
          4,
          5,
          6,
          7,
          8,
          9,
          10,
          11,
          12,
          13
         ],
         "y": [
          22.592863082885742,
          18.09956169128418,
          5.308056831359863,
          -47.90163040161133,
          10.490935325622559,
          0.11184081435203552,
          -20.205167770385742,
          4.598051071166992,
          16.014869689941406,
          7.48782205581665,
          -6.499080657958984,
          -16.655855178833008,
          5.776491641998291
         ]
        },
        {
         "mode": "lines",
         "name": "frame 3/3: IH1_I",
         "type": "scatter",
         "x": [
          1,
          2,
          3,
          4,
          5,
          6,
          7,
          8,
          9,
          10,
          11,
          12,
          13
         ],
         "y": [
          22.648868560791016,
          18.794076919555664,
          7.8623046875,
          -50.26399230957031,
          9.319143295288086,
          -2.710657835006714,
          -18.584903717041016,
          4.950997352600098,
          7.745722770690918,
          17.00293731689453,
          -5.851982593536377,
          -14.663692474365234,
          5.776491641998291
         ]
        },
        {
         "line": {
          "dash": "dash",
          "width": 4
         },
         "mode": "lines",
         "name": "ave mfcc: IH1_I",
         "type": "scatter",
         "x": [
          1,
          2,
          3,
          4,
          5,
          6,
          7,
          8,
          9,
          10,
          11,
          12,
          13
         ],
         "y": [
          20.49506950378418,
          -2.970331907272339,
          4.422876358032227,
          -8.055068016052246,
          -35.694889068603516,
          -16.540205001831055,
          -7.743582248687744,
          -4.609816074371338,
          -12.053409576416016,
          -2.3864195346832275,
          -17.22492790222168,
          -12.128283500671387,
          -9.0654296875
         ]
        }
       ],
       "layout": {
        "title": "Visualization of 3 frames",
        "xaxis": {
         "dtick": true,
         "title": "feature number"
        },
        "yaxis": {
         "title": "what does the value of y mean?"
        }
       }
      },
      "text/html": [
       "<div id=\"4f446efa-b261-4e3d-b5a3-5bf7ad6edeb2\" style=\"height: 525px; width: 100%;\" class=\"plotly-graph-div\"></div><script type=\"text/javascript\">require([\"plotly\"], function(Plotly) { window.PLOTLYENV=window.PLOTLYENV || {};window.PLOTLYENV.BASE_URL=\"https://plot.ly\";Plotly.newPlot(\"4f446efa-b261-4e3d-b5a3-5bf7ad6edeb2\", [{\"y\": [22.620866775512695, 18.09956169128418, 2.5756125450134277, -41.601993560791016, 11.662727355957031, -1.4562140703201294, -20.205167770385742, 2.1274259090423584, 19.163372039794922, 4.367804050445557, -7.32673454284668, -19.146059036254883, 9.584300994873047], \"x\": [1, 2, 3, 4, 5, 6, 7, 8, 9, 10, 11, 12, 13], \"type\": \"scatter\", \"name\": \"frame 1/3: IH1_I\", \"mode\": \"lines\"}, {\"y\": [22.592863082885742, 18.09956169128418, 5.308056831359863, -47.90163040161133, 10.490935325622559, 0.11184081435203552, -20.205167770385742, 4.598051071166992, 16.014869689941406, 7.48782205581665, -6.499080657958984, -16.655855178833008, 5.776491641998291], \"x\": [1, 2, 3, 4, 5, 6, 7, 8, 9, 10, 11, 12, 13], \"type\": \"scatter\", \"name\": \"frame 2/3: IH1_I\", \"mode\": \"lines\"}, {\"y\": [22.648868560791016, 18.794076919555664, 7.8623046875, -50.26399230957031, 9.319143295288086, -2.710657835006714, -18.584903717041016, 4.950997352600098, 7.745722770690918, 17.00293731689453, -5.851982593536377, -14.663692474365234, 5.776491641998291], \"x\": [1, 2, 3, 4, 5, 6, 7, 8, 9, 10, 11, 12, 13], \"type\": \"scatter\", \"name\": \"frame 3/3: IH1_I\", \"mode\": \"lines\"}, {\"name\": \"ave mfcc: IH1_I\", \"mode\": \"lines\", \"y\": [20.49506950378418, -2.970331907272339, 4.422876358032227, -8.055068016052246, -35.694889068603516, -16.540205001831055, -7.743582248687744, -4.609816074371338, -12.053409576416016, -2.3864195346832275, -17.22492790222168, -12.128283500671387, -9.0654296875], \"x\": [1, 2, 3, 4, 5, 6, 7, 8, 9, 10, 11, 12, 13], \"line\": {\"dash\": \"dash\", \"width\": 4}, \"type\": \"scatter\"}], {\"title\": \"Visualization of 3 frames\", \"xaxis\": {\"dtick\": true, \"title\": \"feature number\"}, \"yaxis\": {\"title\": \"what does the value of y mean?\"}}, {\"linkText\": \"Export to plot.ly\", \"showLink\": true})});</script>"
      ],
      "text/vnd.plotly.v1+html": [
       "<div id=\"4f446efa-b261-4e3d-b5a3-5bf7ad6edeb2\" style=\"height: 525px; width: 100%;\" class=\"plotly-graph-div\"></div><script type=\"text/javascript\">require([\"plotly\"], function(Plotly) { window.PLOTLYENV=window.PLOTLYENV || {};window.PLOTLYENV.BASE_URL=\"https://plot.ly\";Plotly.newPlot(\"4f446efa-b261-4e3d-b5a3-5bf7ad6edeb2\", [{\"y\": [22.620866775512695, 18.09956169128418, 2.5756125450134277, -41.601993560791016, 11.662727355957031, -1.4562140703201294, -20.205167770385742, 2.1274259090423584, 19.163372039794922, 4.367804050445557, -7.32673454284668, -19.146059036254883, 9.584300994873047], \"x\": [1, 2, 3, 4, 5, 6, 7, 8, 9, 10, 11, 12, 13], \"type\": \"scatter\", \"name\": \"frame 1/3: IH1_I\", \"mode\": \"lines\"}, {\"y\": [22.592863082885742, 18.09956169128418, 5.308056831359863, -47.90163040161133, 10.490935325622559, 0.11184081435203552, -20.205167770385742, 4.598051071166992, 16.014869689941406, 7.48782205581665, -6.499080657958984, -16.655855178833008, 5.776491641998291], \"x\": [1, 2, 3, 4, 5, 6, 7, 8, 9, 10, 11, 12, 13], \"type\": \"scatter\", \"name\": \"frame 2/3: IH1_I\", \"mode\": \"lines\"}, {\"y\": [22.648868560791016, 18.794076919555664, 7.8623046875, -50.26399230957031, 9.319143295288086, -2.710657835006714, -18.584903717041016, 4.950997352600098, 7.745722770690918, 17.00293731689453, -5.851982593536377, -14.663692474365234, 5.776491641998291], \"x\": [1, 2, 3, 4, 5, 6, 7, 8, 9, 10, 11, 12, 13], \"type\": \"scatter\", \"name\": \"frame 3/3: IH1_I\", \"mode\": \"lines\"}, {\"name\": \"ave mfcc: IH1_I\", \"mode\": \"lines\", \"y\": [20.49506950378418, -2.970331907272339, 4.422876358032227, -8.055068016052246, -35.694889068603516, -16.540205001831055, -7.743582248687744, -4.609816074371338, -12.053409576416016, -2.3864195346832275, -17.22492790222168, -12.128283500671387, -9.0654296875], \"x\": [1, 2, 3, 4, 5, 6, 7, 8, 9, 10, 11, 12, 13], \"line\": {\"dash\": \"dash\", \"width\": 4}, \"type\": \"scatter\"}], {\"title\": \"Visualization of 3 frames\", \"xaxis\": {\"dtick\": true, \"title\": \"feature number\"}, \"yaxis\": {\"title\": \"what does the value of y mean?\"}}, {\"linkText\": \"Export to plot.ly\", \"showLink\": true})});</script>"
      ]
     },
     "metadata": {},
     "output_type": "display_data"
    }
   ],
   "source": [
    "py.iplot(\n",
    "    fv.plot_frames(\n",
    "        frames=feats_in[SAMPLE][ex_2[\"start\"]:ex_2[\"stop\"]],\n",
    "        phones=ali_in[SAMPLE][ex_2[\"start\"]:ex_2[\"stop\"]],\n",
    "        average_mfccs_dict=ave_dict\n",
    "    )\n",
    ")"
   ]
  },
  {
   "cell_type": "markdown",
   "metadata": {},
   "source": [
    "### `ex_3`: \"IS\""
   ]
  },
  {
   "cell_type": "code",
   "execution_count": 49,
   "metadata": {},
   "outputs": [
    {
     "data": {
      "application/vnd.plotly.v1+json": {
       "data": [
        {
         "mode": "lines",
         "name": "frame 1/10: IH1_B",
         "type": "scatter",
         "x": [
          1,
          2,
          3,
          4,
          5,
          6,
          7,
          8,
          9,
          10,
          11,
          12,
          13
         ],
         "y": [
          21.80880355834961,
          14.974247932434082,
          -11.880411148071289,
          10.56377124786377,
          -17.63787078857422,
          -51.46491622924805,
          25.97401237487793,
          -17.403528213500977,
          2.355571746826172,
          8.087078094482422,
          17.389820098876953,
          -12.408832550048828,
          -6.136956214904785
         ]
        },
        {
         "mode": "lines",
         "name": "frame 2/10: IH1_B",
         "type": "scatter",
         "x": [
          1,
          2,
          3,
          4,
          5,
          6,
          7,
          8,
          9,
          10,
          11,
          12,
          13
         ],
         "y": [
          21.83680534362793,
          11.114374160766602,
          -6.053159236907959,
          6.699398040771484,
          -22.341768264770508,
          -43.99618148803711,
          19.302988052368164,
          -12.376335144042969,
          0.7385263442993164,
          7.48782205581665,
          16.61895751953125,
          -7.305726051330566,
          -6.312892913818359
         ]
        },
        {
         "mode": "lines",
         "name": "frame 3/10: IH1_B",
         "type": "scatter",
         "x": [
          1,
          2,
          3,
          4,
          5,
          6,
          7,
          8,
          9,
          10,
          11,
          12,
          13
         ],
         "y": [
          21.696794509887695,
          10.030488014221191,
          -1.5949604511260986,
          3.0283260345458984,
          -24.432388305664062,
          -35.59385681152344,
          17.96878433227539,
          -10.365458488464355,
          0.33426499366760254,
          6.05781364440918,
          15.84809684753418,
          -6.118957042694092,
          -9.934587478637695
         ]
        },
        {
         "mode": "lines",
         "name": "frame 4/10: IH1_B",
         "type": "scatter",
         "x": [
          1,
          2,
          3,
          4,
          5,
          6,
          7,
          8,
          9,
          10,
          11,
          12,
          13
         ],
         "y": [
          21.668792724609375,
          10.030488014221191,
          0.9936710596084595,
          2.620429277420044,
          -26.000354766845703,
          -34.6602668762207,
          16.189844131469727,
          -5.840985298156738,
          -1.9565492868423462,
          -0.7022247314453125,
          17.0043888092041,
          -2.9146809577941895,
          -14.389180183410645
         ]
        },
        {
         "mode": "lines",
         "name": "frame 5/10: IH1_B",
         "type": "scatter",
         "x": [
          1,
          2,
          3,
          4,
          5,
          6,
          7,
          8,
          9,
          10,
          11,
          12,
          13
         ],
         "y": [
          21.78080177307129,
          10.464042663574219,
          6.602372646331787,
          0.580944836139679,
          -27.045665740966797,
          -26.25794219970703,
          1.7918821573257446,
          8.480461120605469,
          -13.540279388427734,
          6.447815895080566,
          10.837495803833008,
          -4.694834232330322,
          0.812548041343689
         ]
        },
        {
         "mode": "lines",
         "name": "frame 6/10: IH1_B",
         "type": "scatter",
         "x": [
          1,
          2,
          3,
          4,
          5,
          6,
          7,
          8,
          9,
          10,
          11,
          12,
          13
         ],
         "y": [
          21.640790939331055,
          10.680819511413574,
          6.314746856689453,
          8.475142478942871,
          -24.432388305664062,
          -24.390758514404297,
          -5.7918171882629395,
          17.85980224609375,
          -16.837217330932617,
          6.31781530380249,
          10.452065467834473,
          -10.391324996948242,
          10.536253929138184
         ]
        },
        {
         "mode": "lines",
         "name": "frame 7/10: IH1_B",
         "type": "scatter",
         "x": [
          1,
          2,
          3,
          4,
          5,
          6,
          7,
          8,
          9,
          10,
          11,
          12,
          13
         ],
         "y": [
          21.50078010559082,
          11.98148250579834,
          5.308056831359863,
          12.30429458618164,
          -22.341768264770508,
          -17.85561752319336,
          -14.939310073852539,
          16.052528381347656,
          -11.708646774291992,
          12.779635429382324,
          8.125340461730957,
          -13.951632499694824,
          7.997714042663574
         ]
        },
        {
         "mode": "lines",
         "name": "frame 8/10: IH1_B",
         "type": "scatter",
         "x": [
          1,
          2,
          3,
          4,
          5,
          6,
          7,
          8,
          9,
          10,
          11,
          12,
          13
         ],
         "y": [
          21.304765701293945,
          7.429161548614502,
          11.832859992980957,
          6.699398040771484,
          -13.456629753112793,
          -20.656391143798828,
          -6.684016704559326,
          13.421711921691895,
          -10.243341445922852,
          6.447815895080566,
          11.22292709350586,
          -9.0858793258667,
          4.067378997802734
         ]
        },
        {
         "mode": "lines",
         "name": "frame 9/10: IH1_B",
         "type": "scatter",
         "x": [
          1,
          2,
          3,
          4,
          5,
          6,
          7,
          8,
          9,
          10,
          11,
          12,
          13
         ],
         "y": [
          20.912734985351562,
          2.6600637435913086,
          16.994583129882812,
          6.495449542999268,
          -10.055394172668457,
          -15.054841995239258,
          -11.293716430664062,
          7.186324596405029,
          -2.4955644607543945,
          8.087078094482422,
          11.22292709350586,
          -6.237634181976318,
          10.853570938110352
         ]
        },
        {
         "mode": "lines",
         "name": "frame 10/10: IH1_B",
         "type": "scatter",
         "x": [
          1,
          2,
          3,
          4,
          5,
          6,
          7,
          8,
          9,
          10,
          11,
          12,
          13
         ],
         "y": [
          20.104867935180664,
          -2.7593655586242676,
          15.803415298461914,
          4.863862037658691,
          -4.475568771362305,
          -1.7698249816894531,
          -7.130116939544678,
          11.42168140411377,
          12.866366386413574,
          9.96410083770752,
          0.8778396844863892,
          4.059035778045654,
          4.15534782409668
         ]
        },
        {
         "line": {
          "dash": "dash",
          "width": 4
         },
         "mode": "lines",
         "name": "ave mfcc: IH1_B",
         "type": "scatter",
         "x": [
          1,
          2,
          3,
          4,
          5,
          6,
          7,
          8,
          9,
          10,
          11,
          12,
          13
         ],
         "y": [
          19.87253189086914,
          -4.430500030517578,
          8.625235557556152,
          -9.241716384887695,
          -36.041133880615234,
          -10.823553085327148,
          -6.044327735900879,
          -1.4000548124313354,
          -7.2403740882873535,
          1.367122769355774,
          -15.088361740112305,
          -7.319957256317139,
          -6.1171674728393555
         ]
        }
       ],
       "layout": {
        "title": "Visualization of 10 frames",
        "xaxis": {
         "dtick": true,
         "title": "feature number"
        },
        "yaxis": {
         "title": "what does the value of y mean?"
        }
       }
      },
      "text/html": [
       "<div id=\"8c0c15bb-fe63-44a2-94c3-c1c93327c40b\" style=\"height: 525px; width: 100%;\" class=\"plotly-graph-div\"></div><script type=\"text/javascript\">require([\"plotly\"], function(Plotly) { window.PLOTLYENV=window.PLOTLYENV || {};window.PLOTLYENV.BASE_URL=\"https://plot.ly\";Plotly.newPlot(\"8c0c15bb-fe63-44a2-94c3-c1c93327c40b\", [{\"y\": [21.80880355834961, 14.974247932434082, -11.880411148071289, 10.56377124786377, -17.63787078857422, -51.46491622924805, 25.97401237487793, -17.403528213500977, 2.355571746826172, 8.087078094482422, 17.389820098876953, -12.408832550048828, -6.136956214904785], \"x\": [1, 2, 3, 4, 5, 6, 7, 8, 9, 10, 11, 12, 13], \"type\": \"scatter\", \"name\": \"frame 1/10: IH1_B\", \"mode\": \"lines\"}, {\"y\": [21.83680534362793, 11.114374160766602, -6.053159236907959, 6.699398040771484, -22.341768264770508, -43.99618148803711, 19.302988052368164, -12.376335144042969, 0.7385263442993164, 7.48782205581665, 16.61895751953125, -7.305726051330566, -6.312892913818359], \"x\": [1, 2, 3, 4, 5, 6, 7, 8, 9, 10, 11, 12, 13], \"type\": \"scatter\", \"name\": \"frame 2/10: IH1_B\", \"mode\": \"lines\"}, {\"y\": [21.696794509887695, 10.030488014221191, -1.5949604511260986, 3.0283260345458984, -24.432388305664062, -35.59385681152344, 17.96878433227539, -10.365458488464355, 0.33426499366760254, 6.05781364440918, 15.84809684753418, -6.118957042694092, -9.934587478637695], \"x\": [1, 2, 3, 4, 5, 6, 7, 8, 9, 10, 11, 12, 13], \"type\": \"scatter\", \"name\": \"frame 3/10: IH1_B\", \"mode\": \"lines\"}, {\"y\": [21.668792724609375, 10.030488014221191, 0.9936710596084595, 2.620429277420044, -26.000354766845703, -34.6602668762207, 16.189844131469727, -5.840985298156738, -1.9565492868423462, -0.7022247314453125, 17.0043888092041, -2.9146809577941895, -14.389180183410645], \"x\": [1, 2, 3, 4, 5, 6, 7, 8, 9, 10, 11, 12, 13], \"type\": \"scatter\", \"name\": \"frame 4/10: IH1_B\", \"mode\": \"lines\"}, {\"y\": [21.78080177307129, 10.464042663574219, 6.602372646331787, 0.580944836139679, -27.045665740966797, -26.25794219970703, 1.7918821573257446, 8.480461120605469, -13.540279388427734, 6.447815895080566, 10.837495803833008, -4.694834232330322, 0.812548041343689], \"x\": [1, 2, 3, 4, 5, 6, 7, 8, 9, 10, 11, 12, 13], \"type\": \"scatter\", \"name\": \"frame 5/10: IH1_B\", \"mode\": \"lines\"}, {\"y\": [21.640790939331055, 10.680819511413574, 6.314746856689453, 8.475142478942871, -24.432388305664062, -24.390758514404297, -5.7918171882629395, 17.85980224609375, -16.837217330932617, 6.31781530380249, 10.452065467834473, -10.391324996948242, 10.536253929138184], \"x\": [1, 2, 3, 4, 5, 6, 7, 8, 9, 10, 11, 12, 13], \"type\": \"scatter\", \"name\": \"frame 6/10: IH1_B\", \"mode\": \"lines\"}, {\"y\": [21.50078010559082, 11.98148250579834, 5.308056831359863, 12.30429458618164, -22.341768264770508, -17.85561752319336, -14.939310073852539, 16.052528381347656, -11.708646774291992, 12.779635429382324, 8.125340461730957, -13.951632499694824, 7.997714042663574], \"x\": [1, 2, 3, 4, 5, 6, 7, 8, 9, 10, 11, 12, 13], \"type\": \"scatter\", \"name\": \"frame 7/10: IH1_B\", \"mode\": \"lines\"}, {\"y\": [21.304765701293945, 7.429161548614502, 11.832859992980957, 6.699398040771484, -13.456629753112793, -20.656391143798828, -6.684016704559326, 13.421711921691895, -10.243341445922852, 6.447815895080566, 11.22292709350586, -9.0858793258667, 4.067378997802734], \"x\": [1, 2, 3, 4, 5, 6, 7, 8, 9, 10, 11, 12, 13], \"type\": \"scatter\", \"name\": \"frame 8/10: IH1_B\", \"mode\": \"lines\"}, {\"y\": [20.912734985351562, 2.6600637435913086, 16.994583129882812, 6.495449542999268, -10.055394172668457, -15.054841995239258, -11.293716430664062, 7.186324596405029, -2.4955644607543945, 8.087078094482422, 11.22292709350586, -6.237634181976318, 10.853570938110352], \"x\": [1, 2, 3, 4, 5, 6, 7, 8, 9, 10, 11, 12, 13], \"type\": \"scatter\", \"name\": \"frame 9/10: IH1_B\", \"mode\": \"lines\"}, {\"y\": [20.104867935180664, -2.7593655586242676, 15.803415298461914, 4.863862037658691, -4.475568771362305, -1.7698249816894531, -7.130116939544678, 11.42168140411377, 12.866366386413574, 9.96410083770752, 0.8778396844863892, 4.059035778045654, 4.15534782409668], \"x\": [1, 2, 3, 4, 5, 6, 7, 8, 9, 10, 11, 12, 13], \"type\": \"scatter\", \"name\": \"frame 10/10: IH1_B\", \"mode\": \"lines\"}, {\"name\": \"ave mfcc: IH1_B\", \"mode\": \"lines\", \"y\": [19.87253189086914, -4.430500030517578, 8.625235557556152, -9.241716384887695, -36.041133880615234, -10.823553085327148, -6.044327735900879, -1.4000548124313354, -7.2403740882873535, 1.367122769355774, -15.088361740112305, -7.319957256317139, -6.1171674728393555], \"x\": [1, 2, 3, 4, 5, 6, 7, 8, 9, 10, 11, 12, 13], \"line\": {\"dash\": \"dash\", \"width\": 4}, \"type\": \"scatter\"}], {\"title\": \"Visualization of 10 frames\", \"xaxis\": {\"dtick\": true, \"title\": \"feature number\"}, \"yaxis\": {\"title\": \"what does the value of y mean?\"}}, {\"linkText\": \"Export to plot.ly\", \"showLink\": true})});</script>"
      ],
      "text/vnd.plotly.v1+html": [
       "<div id=\"8c0c15bb-fe63-44a2-94c3-c1c93327c40b\" style=\"height: 525px; width: 100%;\" class=\"plotly-graph-div\"></div><script type=\"text/javascript\">require([\"plotly\"], function(Plotly) { window.PLOTLYENV=window.PLOTLYENV || {};window.PLOTLYENV.BASE_URL=\"https://plot.ly\";Plotly.newPlot(\"8c0c15bb-fe63-44a2-94c3-c1c93327c40b\", [{\"y\": [21.80880355834961, 14.974247932434082, -11.880411148071289, 10.56377124786377, -17.63787078857422, -51.46491622924805, 25.97401237487793, -17.403528213500977, 2.355571746826172, 8.087078094482422, 17.389820098876953, -12.408832550048828, -6.136956214904785], \"x\": [1, 2, 3, 4, 5, 6, 7, 8, 9, 10, 11, 12, 13], \"type\": \"scatter\", \"name\": \"frame 1/10: IH1_B\", \"mode\": \"lines\"}, {\"y\": [21.83680534362793, 11.114374160766602, -6.053159236907959, 6.699398040771484, -22.341768264770508, -43.99618148803711, 19.302988052368164, -12.376335144042969, 0.7385263442993164, 7.48782205581665, 16.61895751953125, -7.305726051330566, -6.312892913818359], \"x\": [1, 2, 3, 4, 5, 6, 7, 8, 9, 10, 11, 12, 13], \"type\": \"scatter\", \"name\": \"frame 2/10: IH1_B\", \"mode\": \"lines\"}, {\"y\": [21.696794509887695, 10.030488014221191, -1.5949604511260986, 3.0283260345458984, -24.432388305664062, -35.59385681152344, 17.96878433227539, -10.365458488464355, 0.33426499366760254, 6.05781364440918, 15.84809684753418, -6.118957042694092, -9.934587478637695], \"x\": [1, 2, 3, 4, 5, 6, 7, 8, 9, 10, 11, 12, 13], \"type\": \"scatter\", \"name\": \"frame 3/10: IH1_B\", \"mode\": \"lines\"}, {\"y\": [21.668792724609375, 10.030488014221191, 0.9936710596084595, 2.620429277420044, -26.000354766845703, -34.6602668762207, 16.189844131469727, -5.840985298156738, -1.9565492868423462, -0.7022247314453125, 17.0043888092041, -2.9146809577941895, -14.389180183410645], \"x\": [1, 2, 3, 4, 5, 6, 7, 8, 9, 10, 11, 12, 13], \"type\": \"scatter\", \"name\": \"frame 4/10: IH1_B\", \"mode\": \"lines\"}, {\"y\": [21.78080177307129, 10.464042663574219, 6.602372646331787, 0.580944836139679, -27.045665740966797, -26.25794219970703, 1.7918821573257446, 8.480461120605469, -13.540279388427734, 6.447815895080566, 10.837495803833008, -4.694834232330322, 0.812548041343689], \"x\": [1, 2, 3, 4, 5, 6, 7, 8, 9, 10, 11, 12, 13], \"type\": \"scatter\", \"name\": \"frame 5/10: IH1_B\", \"mode\": \"lines\"}, {\"y\": [21.640790939331055, 10.680819511413574, 6.314746856689453, 8.475142478942871, -24.432388305664062, -24.390758514404297, -5.7918171882629395, 17.85980224609375, -16.837217330932617, 6.31781530380249, 10.452065467834473, -10.391324996948242, 10.536253929138184], \"x\": [1, 2, 3, 4, 5, 6, 7, 8, 9, 10, 11, 12, 13], \"type\": \"scatter\", \"name\": \"frame 6/10: IH1_B\", \"mode\": \"lines\"}, {\"y\": [21.50078010559082, 11.98148250579834, 5.308056831359863, 12.30429458618164, -22.341768264770508, -17.85561752319336, -14.939310073852539, 16.052528381347656, -11.708646774291992, 12.779635429382324, 8.125340461730957, -13.951632499694824, 7.997714042663574], \"x\": [1, 2, 3, 4, 5, 6, 7, 8, 9, 10, 11, 12, 13], \"type\": \"scatter\", \"name\": \"frame 7/10: IH1_B\", \"mode\": \"lines\"}, {\"y\": [21.304765701293945, 7.429161548614502, 11.832859992980957, 6.699398040771484, -13.456629753112793, -20.656391143798828, -6.684016704559326, 13.421711921691895, -10.243341445922852, 6.447815895080566, 11.22292709350586, -9.0858793258667, 4.067378997802734], \"x\": [1, 2, 3, 4, 5, 6, 7, 8, 9, 10, 11, 12, 13], \"type\": \"scatter\", \"name\": \"frame 8/10: IH1_B\", \"mode\": \"lines\"}, {\"y\": [20.912734985351562, 2.6600637435913086, 16.994583129882812, 6.495449542999268, -10.055394172668457, -15.054841995239258, -11.293716430664062, 7.186324596405029, -2.4955644607543945, 8.087078094482422, 11.22292709350586, -6.237634181976318, 10.853570938110352], \"x\": [1, 2, 3, 4, 5, 6, 7, 8, 9, 10, 11, 12, 13], \"type\": \"scatter\", \"name\": \"frame 9/10: IH1_B\", \"mode\": \"lines\"}, {\"y\": [20.104867935180664, -2.7593655586242676, 15.803415298461914, 4.863862037658691, -4.475568771362305, -1.7698249816894531, -7.130116939544678, 11.42168140411377, 12.866366386413574, 9.96410083770752, 0.8778396844863892, 4.059035778045654, 4.15534782409668], \"x\": [1, 2, 3, 4, 5, 6, 7, 8, 9, 10, 11, 12, 13], \"type\": \"scatter\", \"name\": \"frame 10/10: IH1_B\", \"mode\": \"lines\"}, {\"name\": \"ave mfcc: IH1_B\", \"mode\": \"lines\", \"y\": [19.87253189086914, -4.430500030517578, 8.625235557556152, -9.241716384887695, -36.041133880615234, -10.823553085327148, -6.044327735900879, -1.4000548124313354, -7.2403740882873535, 1.367122769355774, -15.088361740112305, -7.319957256317139, -6.1171674728393555], \"x\": [1, 2, 3, 4, 5, 6, 7, 8, 9, 10, 11, 12, 13], \"line\": {\"dash\": \"dash\", \"width\": 4}, \"type\": \"scatter\"}], {\"title\": \"Visualization of 10 frames\", \"xaxis\": {\"dtick\": true, \"title\": \"feature number\"}, \"yaxis\": {\"title\": \"what does the value of y mean?\"}}, {\"linkText\": \"Export to plot.ly\", \"showLink\": true})});</script>"
      ]
     },
     "metadata": {},
     "output_type": "display_data"
    }
   ],
   "source": [
    "py.iplot(\n",
    "    fv.plot_frames(\n",
    "        frames=feats_in[SAMPLE][ex_3[\"start\"]:ex_3[\"stop\"]],\n",
    "        phones=ali_in[SAMPLE][ex_3[\"start\"]:ex_3[\"stop\"]],\n",
    "        average_mfccs_dict=ave_dict\n",
    "    )\n",
    ")"
   ]
  },
  {
   "cell_type": "markdown",
   "metadata": {},
   "source": [
    "### `ex_4`: \"MIDDLE\""
   ]
  },
  {
   "cell_type": "code",
   "execution_count": 50,
   "metadata": {},
   "outputs": [
    {
     "data": {
      "application/vnd.plotly.v1+json": {
       "data": [
        {
         "mode": "lines",
         "name": "frame 1/3: IH1_I",
         "type": "scatter",
         "x": [
          1,
          2,
          3,
          4,
          5,
          6,
          7,
          8,
          9,
          10,
          11,
          12,
          13
         ],
         "y": [
          21.16475486755371,
          15.66876220703125,
          9.847582817077637,
          1.600687026977539,
          -22.864423751831055,
          -8.042044639587402,
          -2.223017454147339,
          16.50434684753418,
          2.490325450897217,
          -4.342245578765869,
          5.795786380767822,
          3.666581630706787,
          -35.389404296875
         ]
        },
        {
         "mode": "lines",
         "name": "frame 2/3: IH1_I",
         "type": "scatter",
         "x": [
          1,
          2,
          3,
          4,
          5,
          6,
          7,
          8,
          9,
          10,
          11,
          12,
          13
         ],
         "y": [
          21.276762008666992,
          11.98148250579834,
          7.8623046875,
          5.475707530975342,
          -32.272216796875,
          -4.5923237800598145,
          6.401581764221191,
          17.85980224609375,
          0.06475742161273956,
          0.8577841520309448,
          18.931543350219727,
          -20.640180587768555,
          -27.116588592529297
         ]
        },
        {
         "mode": "lines",
         "name": "frame 3/3: IH1_I",
         "type": "scatter",
         "x": [
          1,
          2,
          3,
          4,
          5,
          6,
          7,
          8,
          9,
          10,
          11,
          12,
          13
         ],
         "y": [
          21.304765701293945,
          11.547927856445312,
          5.739495754241943,
          7.923088550567627,
          -33.317527770996094,
          -7.728433609008789,
          0.8996822834014893,
          25.088899612426758,
          15.385168075561523,
          -10.48850154876709,
          10.452065467834473,
          -12.052802085876465,
          -16.934661865234375
         ]
        },
        {
         "line": {
          "dash": "dash",
          "width": 4
         },
         "mode": "lines",
         "name": "ave mfcc: IH1_I",
         "type": "scatter",
         "x": [
          1,
          2,
          3,
          4,
          5,
          6,
          7,
          8,
          9,
          10,
          11,
          12,
          13
         ],
         "y": [
          20.49506950378418,
          -2.970331907272339,
          4.422876358032227,
          -8.055068016052246,
          -35.694889068603516,
          -16.540205001831055,
          -7.743582248687744,
          -4.609816074371338,
          -12.053409576416016,
          -2.3864195346832275,
          -17.22492790222168,
          -12.128283500671387,
          -9.0654296875
         ]
        }
       ],
       "layout": {
        "title": "Visualization of 3 frames",
        "xaxis": {
         "dtick": true,
         "title": "feature number"
        },
        "yaxis": {
         "title": "what does the value of y mean?"
        }
       }
      },
      "text/html": [
       "<div id=\"86f19884-9ac1-499f-a715-9e1b0928f028\" style=\"height: 525px; width: 100%;\" class=\"plotly-graph-div\"></div><script type=\"text/javascript\">require([\"plotly\"], function(Plotly) { window.PLOTLYENV=window.PLOTLYENV || {};window.PLOTLYENV.BASE_URL=\"https://plot.ly\";Plotly.newPlot(\"86f19884-9ac1-499f-a715-9e1b0928f028\", [{\"y\": [21.16475486755371, 15.66876220703125, 9.847582817077637, 1.600687026977539, -22.864423751831055, -8.042044639587402, -2.223017454147339, 16.50434684753418, 2.490325450897217, -4.342245578765869, 5.795786380767822, 3.666581630706787, -35.389404296875], \"x\": [1, 2, 3, 4, 5, 6, 7, 8, 9, 10, 11, 12, 13], \"type\": \"scatter\", \"name\": \"frame 1/3: IH1_I\", \"mode\": \"lines\"}, {\"y\": [21.276762008666992, 11.98148250579834, 7.8623046875, 5.475707530975342, -32.272216796875, -4.5923237800598145, 6.401581764221191, 17.85980224609375, 0.06475742161273956, 0.8577841520309448, 18.931543350219727, -20.640180587768555, -27.116588592529297], \"x\": [1, 2, 3, 4, 5, 6, 7, 8, 9, 10, 11, 12, 13], \"type\": \"scatter\", \"name\": \"frame 2/3: IH1_I\", \"mode\": \"lines\"}, {\"y\": [21.304765701293945, 11.547927856445312, 5.739495754241943, 7.923088550567627, -33.317527770996094, -7.728433609008789, 0.8996822834014893, 25.088899612426758, 15.385168075561523, -10.48850154876709, 10.452065467834473, -12.052802085876465, -16.934661865234375], \"x\": [1, 2, 3, 4, 5, 6, 7, 8, 9, 10, 11, 12, 13], \"type\": \"scatter\", \"name\": \"frame 3/3: IH1_I\", \"mode\": \"lines\"}, {\"name\": \"ave mfcc: IH1_I\", \"mode\": \"lines\", \"y\": [20.49506950378418, -2.970331907272339, 4.422876358032227, -8.055068016052246, -35.694889068603516, -16.540205001831055, -7.743582248687744, -4.609816074371338, -12.053409576416016, -2.3864195346832275, -17.22492790222168, -12.128283500671387, -9.0654296875], \"x\": [1, 2, 3, 4, 5, 6, 7, 8, 9, 10, 11, 12, 13], \"line\": {\"dash\": \"dash\", \"width\": 4}, \"type\": \"scatter\"}], {\"title\": \"Visualization of 3 frames\", \"xaxis\": {\"dtick\": true, \"title\": \"feature number\"}, \"yaxis\": {\"title\": \"what does the value of y mean?\"}}, {\"linkText\": \"Export to plot.ly\", \"showLink\": true})});</script>"
      ],
      "text/vnd.plotly.v1+html": [
       "<div id=\"86f19884-9ac1-499f-a715-9e1b0928f028\" style=\"height: 525px; width: 100%;\" class=\"plotly-graph-div\"></div><script type=\"text/javascript\">require([\"plotly\"], function(Plotly) { window.PLOTLYENV=window.PLOTLYENV || {};window.PLOTLYENV.BASE_URL=\"https://plot.ly\";Plotly.newPlot(\"86f19884-9ac1-499f-a715-9e1b0928f028\", [{\"y\": [21.16475486755371, 15.66876220703125, 9.847582817077637, 1.600687026977539, -22.864423751831055, -8.042044639587402, -2.223017454147339, 16.50434684753418, 2.490325450897217, -4.342245578765869, 5.795786380767822, 3.666581630706787, -35.389404296875], \"x\": [1, 2, 3, 4, 5, 6, 7, 8, 9, 10, 11, 12, 13], \"type\": \"scatter\", \"name\": \"frame 1/3: IH1_I\", \"mode\": \"lines\"}, {\"y\": [21.276762008666992, 11.98148250579834, 7.8623046875, 5.475707530975342, -32.272216796875, -4.5923237800598145, 6.401581764221191, 17.85980224609375, 0.06475742161273956, 0.8577841520309448, 18.931543350219727, -20.640180587768555, -27.116588592529297], \"x\": [1, 2, 3, 4, 5, 6, 7, 8, 9, 10, 11, 12, 13], \"type\": \"scatter\", \"name\": \"frame 2/3: IH1_I\", \"mode\": \"lines\"}, {\"y\": [21.304765701293945, 11.547927856445312, 5.739495754241943, 7.923088550567627, -33.317527770996094, -7.728433609008789, 0.8996822834014893, 25.088899612426758, 15.385168075561523, -10.48850154876709, 10.452065467834473, -12.052802085876465, -16.934661865234375], \"x\": [1, 2, 3, 4, 5, 6, 7, 8, 9, 10, 11, 12, 13], \"type\": \"scatter\", \"name\": \"frame 3/3: IH1_I\", \"mode\": \"lines\"}, {\"name\": \"ave mfcc: IH1_I\", \"mode\": \"lines\", \"y\": [20.49506950378418, -2.970331907272339, 4.422876358032227, -8.055068016052246, -35.694889068603516, -16.540205001831055, -7.743582248687744, -4.609816074371338, -12.053409576416016, -2.3864195346832275, -17.22492790222168, -12.128283500671387, -9.0654296875], \"x\": [1, 2, 3, 4, 5, 6, 7, 8, 9, 10, 11, 12, 13], \"line\": {\"dash\": \"dash\", \"width\": 4}, \"type\": \"scatter\"}], {\"title\": \"Visualization of 3 frames\", \"xaxis\": {\"dtick\": true, \"title\": \"feature number\"}, \"yaxis\": {\"title\": \"what does the value of y mean?\"}}, {\"linkText\": \"Export to plot.ly\", \"showLink\": true})});</script>"
      ]
     },
     "metadata": {},
     "output_type": "display_data"
    }
   ],
   "source": [
    "py.iplot(\n",
    "    fv.plot_frames(\n",
    "        frames=feats_in[SAMPLE][ex_4[\"start\"]:ex_4[\"stop\"]],\n",
    "        phones=ali_in[SAMPLE][ex_4[\"start\"]:ex_4[\"stop\"]],\n",
    "        average_mfccs_dict=ave_dict\n",
    "    )\n",
    ")"
   ]
  },
  {
   "cell_type": "markdown",
   "metadata": {},
   "source": [
    "### `ex_5`: \"HIS\""
   ]
  },
  {
   "cell_type": "code",
   "execution_count": 51,
   "metadata": {},
   "outputs": [
    {
     "data": {
      "application/vnd.plotly.v1+json": {
       "data": [
        {
         "mode": "lines",
         "name": "frame 1/8: IH1_I",
         "type": "scatter",
         "x": [
          1,
          2,
          3,
          4,
          5,
          6,
          7,
          8,
          9,
          10,
          11,
          12,
          13
         ],
         "y": [
          21.13675308227539,
          5.694944381713867,
          22.553359985351562,
          7.923088550567627,
          -34.885494232177734,
          8.265726089477539,
          19.747724533081055,
          10.95108699798584,
          -17.20354461669922,
          20.756982803344727,
          11.22292709350586,
          -0.06643553823232651,
          -7.389105796813965
         ]
        },
        {
         "mode": "lines",
         "name": "frame 2/8: IH1_I",
         "type": "scatter",
         "x": [
          1,
          2,
          3,
          4,
          5,
          6,
          7,
          8,
          9,
          10,
          11,
          12,
          13
         ],
         "y": [
          21.304765701293945,
          12.415037155151367,
          21.362194061279297,
          8.475142478942871,
          -27.56831932067871,
          3.718367099761963,
          -5.494417190551758,
          17.85980224609375,
          -17.569869995117188,
          15.595169067382812,
          12.764650344848633,
          -10.747356414794922,
          -2.2663462162017822
         ]
        },
        {
         "mode": "lines",
         "name": "frame 3/8: IH1_I",
         "type": "scatter",
         "x": [
          1,
          2,
          3,
          4,
          5,
          6,
          7,
          8,
          9,
          10,
          11,
          12,
          13
         ],
         "y": [
          21.248760223388672,
          12.415037155151367,
          17.391637802124023,
          11.956189155578613,
          -21.296457290649414,
          -3.024268865585327,
          -5.345716953277588,
          16.956165313720703,
          -27.827011108398438,
          23.5725154876709,
          13.53551197052002,
          -18.14997673034668,
          4.331284523010254
         ]
        },
        {
         "mode": "lines",
         "name": "frame 4/8: IH1_I",
         "type": "scatter",
         "x": [
          1,
          2,
          3,
          4,
          5,
          6,
          7,
          8,
          9,
          10,
          11,
          12,
          13
         ],
         "y": [
          21.13675308227539,
          12.631814002990723,
          17.788692474365234,
          15.785341262817383,
          -20.251148223876953,
          -7.414822578430176,
          -8.171016693115234,
          20.118896484375,
          -24.163745880126953,
          17.00293731689453,
          21.629558563232422,
          -22.134302139282227,
          -2.5302515029907227
         ]
        },
        {
         "mode": "lines",
         "name": "frame 5/8: IH1_I",
         "type": "scatter",
         "x": [
          1,
          2,
          3,
          4,
          5,
          6,
          7,
          8,
          9,
          10,
          11,
          12,
          13
         ],
         "y": [
          20.831947326660156,
          9.81371021270752,
          21.759248733520508,
          2.2125322818756104,
          -14.501940727233887,
          2.4639229774475098,
          -16.96463966369629,
          17.407983779907227,
          -11.342320442199707,
          9.96410083770752,
          30.109037399291992,
          -28.110790252685547,
          0.37270599603652954
         ]
        },
        {
         "mode": "lines",
         "name": "frame 6/8: IH1_I",
         "type": "scatter",
         "x": [
          1,
          2,
          3,
          4,
          5,
          6,
          7,
          8,
          9,
          10,
          11,
          12,
          13
         ],
         "y": [
          20.629981994628906,
          9.163378715515137,
          23.347471237182617,
          6.087552547454834,
          -9.311417579650879,
          -16.922025680541992,
          -13.724112510681152,
          25.088899612426758,
          -1.4175341129302979,
          -1.222227692604065,
          26.640159606933594,
          -20.640180587768555,
          6.093809127807617
         ]
        },
        {
         "mode": "lines",
         "name": "frame 7/8: IH1_I",
         "type": "scatter",
         "x": [
          1,
          2,
          3,
          4,
          5,
          6,
          7,
          8,
          9,
          10,
          11,
          12,
          13
         ],
         "y": [
          20.185653686523438,
          3.3103954792022705,
          30.494470596313477,
          3.8441197872161865,
          -5.467537879943848,
          -8.512460708618164,
          -15.344375610351562,
          13.186413764953613,
          3.7031095027923584,
          1.2477864027023315,
          25.483867645263672,
          -3.270711660385132,
          -7.389105796813965
         ]
        },
        {
         "mode": "lines",
         "name": "frame 8/8: IH1_I",
         "type": "scatter",
         "x": [
          1,
          2,
          3,
          4,
          5,
          6,
          7,
          8,
          9,
          10,
          11,
          12,
          13
         ],
         "y": [
          19.53936004638672,
          -4.92713737487793,
          29.700359344482422,
          10.91187572479248,
          1.6002413034439087,
          -8.982877731323242,
          -2.817817449569702,
          6.245134353637695,
          4.781139850616455,
          -0.8322254419326782,
          17.0043888092041,
          -2.796004056930542,
          -3.497904062271118
         ]
        },
        {
         "line": {
          "dash": "dash",
          "width": 4
         },
         "mode": "lines",
         "name": "ave mfcc: IH1_I",
         "type": "scatter",
         "x": [
          1,
          2,
          3,
          4,
          5,
          6,
          7,
          8,
          9,
          10,
          11,
          12,
          13
         ],
         "y": [
          20.49506950378418,
          -2.970331907272339,
          4.422876358032227,
          -8.055068016052246,
          -35.694889068603516,
          -16.540205001831055,
          -7.743582248687744,
          -4.609816074371338,
          -12.053409576416016,
          -2.3864195346832275,
          -17.22492790222168,
          -12.128283500671387,
          -9.0654296875
         ]
        }
       ],
       "layout": {
        "title": "Visualization of 8 frames",
        "xaxis": {
         "dtick": true,
         "title": "feature number"
        },
        "yaxis": {
         "title": "what does the value of y mean?"
        }
       }
      },
      "text/html": [
       "<div id=\"caa94d2e-6402-4479-ab07-d1b8efb0844d\" style=\"height: 525px; width: 100%;\" class=\"plotly-graph-div\"></div><script type=\"text/javascript\">require([\"plotly\"], function(Plotly) { window.PLOTLYENV=window.PLOTLYENV || {};window.PLOTLYENV.BASE_URL=\"https://plot.ly\";Plotly.newPlot(\"caa94d2e-6402-4479-ab07-d1b8efb0844d\", [{\"y\": [21.13675308227539, 5.694944381713867, 22.553359985351562, 7.923088550567627, -34.885494232177734, 8.265726089477539, 19.747724533081055, 10.95108699798584, -17.20354461669922, 20.756982803344727, 11.22292709350586, -0.06643553823232651, -7.389105796813965], \"x\": [1, 2, 3, 4, 5, 6, 7, 8, 9, 10, 11, 12, 13], \"type\": \"scatter\", \"name\": \"frame 1/8: IH1_I\", \"mode\": \"lines\"}, {\"y\": [21.304765701293945, 12.415037155151367, 21.362194061279297, 8.475142478942871, -27.56831932067871, 3.718367099761963, -5.494417190551758, 17.85980224609375, -17.569869995117188, 15.595169067382812, 12.764650344848633, -10.747356414794922, -2.2663462162017822], \"x\": [1, 2, 3, 4, 5, 6, 7, 8, 9, 10, 11, 12, 13], \"type\": \"scatter\", \"name\": \"frame 2/8: IH1_I\", \"mode\": \"lines\"}, {\"y\": [21.248760223388672, 12.415037155151367, 17.391637802124023, 11.956189155578613, -21.296457290649414, -3.024268865585327, -5.345716953277588, 16.956165313720703, -27.827011108398438, 23.5725154876709, 13.53551197052002, -18.14997673034668, 4.331284523010254], \"x\": [1, 2, 3, 4, 5, 6, 7, 8, 9, 10, 11, 12, 13], \"type\": \"scatter\", \"name\": \"frame 3/8: IH1_I\", \"mode\": \"lines\"}, {\"y\": [21.13675308227539, 12.631814002990723, 17.788692474365234, 15.785341262817383, -20.251148223876953, -7.414822578430176, -8.171016693115234, 20.118896484375, -24.163745880126953, 17.00293731689453, 21.629558563232422, -22.134302139282227, -2.5302515029907227], \"x\": [1, 2, 3, 4, 5, 6, 7, 8, 9, 10, 11, 12, 13], \"type\": \"scatter\", \"name\": \"frame 4/8: IH1_I\", \"mode\": \"lines\"}, {\"y\": [20.831947326660156, 9.81371021270752, 21.759248733520508, 2.2125322818756104, -14.501940727233887, 2.4639229774475098, -16.96463966369629, 17.407983779907227, -11.342320442199707, 9.96410083770752, 30.109037399291992, -28.110790252685547, 0.37270599603652954], \"x\": [1, 2, 3, 4, 5, 6, 7, 8, 9, 10, 11, 12, 13], \"type\": \"scatter\", \"name\": \"frame 5/8: IH1_I\", \"mode\": \"lines\"}, {\"y\": [20.629981994628906, 9.163378715515137, 23.347471237182617, 6.087552547454834, -9.311417579650879, -16.922025680541992, -13.724112510681152, 25.088899612426758, -1.4175341129302979, -1.222227692604065, 26.640159606933594, -20.640180587768555, 6.093809127807617], \"x\": [1, 2, 3, 4, 5, 6, 7, 8, 9, 10, 11, 12, 13], \"type\": \"scatter\", \"name\": \"frame 6/8: IH1_I\", \"mode\": \"lines\"}, {\"y\": [20.185653686523438, 3.3103954792022705, 30.494470596313477, 3.8441197872161865, -5.467537879943848, -8.512460708618164, -15.344375610351562, 13.186413764953613, 3.7031095027923584, 1.2477864027023315, 25.483867645263672, -3.270711660385132, -7.389105796813965], \"x\": [1, 2, 3, 4, 5, 6, 7, 8, 9, 10, 11, 12, 13], \"type\": \"scatter\", \"name\": \"frame 7/8: IH1_I\", \"mode\": \"lines\"}, {\"y\": [19.53936004638672, -4.92713737487793, 29.700359344482422, 10.91187572479248, 1.6002413034439087, -8.982877731323242, -2.817817449569702, 6.245134353637695, 4.781139850616455, -0.8322254419326782, 17.0043888092041, -2.796004056930542, -3.497904062271118], \"x\": [1, 2, 3, 4, 5, 6, 7, 8, 9, 10, 11, 12, 13], \"type\": \"scatter\", \"name\": \"frame 8/8: IH1_I\", \"mode\": \"lines\"}, {\"name\": \"ave mfcc: IH1_I\", \"mode\": \"lines\", \"y\": [20.49506950378418, -2.970331907272339, 4.422876358032227, -8.055068016052246, -35.694889068603516, -16.540205001831055, -7.743582248687744, -4.609816074371338, -12.053409576416016, -2.3864195346832275, -17.22492790222168, -12.128283500671387, -9.0654296875], \"x\": [1, 2, 3, 4, 5, 6, 7, 8, 9, 10, 11, 12, 13], \"line\": {\"dash\": \"dash\", \"width\": 4}, \"type\": \"scatter\"}], {\"title\": \"Visualization of 8 frames\", \"xaxis\": {\"dtick\": true, \"title\": \"feature number\"}, \"yaxis\": {\"title\": \"what does the value of y mean?\"}}, {\"linkText\": \"Export to plot.ly\", \"showLink\": true})});</script>"
      ],
      "text/vnd.plotly.v1+html": [
       "<div id=\"caa94d2e-6402-4479-ab07-d1b8efb0844d\" style=\"height: 525px; width: 100%;\" class=\"plotly-graph-div\"></div><script type=\"text/javascript\">require([\"plotly\"], function(Plotly) { window.PLOTLYENV=window.PLOTLYENV || {};window.PLOTLYENV.BASE_URL=\"https://plot.ly\";Plotly.newPlot(\"caa94d2e-6402-4479-ab07-d1b8efb0844d\", [{\"y\": [21.13675308227539, 5.694944381713867, 22.553359985351562, 7.923088550567627, -34.885494232177734, 8.265726089477539, 19.747724533081055, 10.95108699798584, -17.20354461669922, 20.756982803344727, 11.22292709350586, -0.06643553823232651, -7.389105796813965], \"x\": [1, 2, 3, 4, 5, 6, 7, 8, 9, 10, 11, 12, 13], \"type\": \"scatter\", \"name\": \"frame 1/8: IH1_I\", \"mode\": \"lines\"}, {\"y\": [21.304765701293945, 12.415037155151367, 21.362194061279297, 8.475142478942871, -27.56831932067871, 3.718367099761963, -5.494417190551758, 17.85980224609375, -17.569869995117188, 15.595169067382812, 12.764650344848633, -10.747356414794922, -2.2663462162017822], \"x\": [1, 2, 3, 4, 5, 6, 7, 8, 9, 10, 11, 12, 13], \"type\": \"scatter\", \"name\": \"frame 2/8: IH1_I\", \"mode\": \"lines\"}, {\"y\": [21.248760223388672, 12.415037155151367, 17.391637802124023, 11.956189155578613, -21.296457290649414, -3.024268865585327, -5.345716953277588, 16.956165313720703, -27.827011108398438, 23.5725154876709, 13.53551197052002, -18.14997673034668, 4.331284523010254], \"x\": [1, 2, 3, 4, 5, 6, 7, 8, 9, 10, 11, 12, 13], \"type\": \"scatter\", \"name\": \"frame 3/8: IH1_I\", \"mode\": \"lines\"}, {\"y\": [21.13675308227539, 12.631814002990723, 17.788692474365234, 15.785341262817383, -20.251148223876953, -7.414822578430176, -8.171016693115234, 20.118896484375, -24.163745880126953, 17.00293731689453, 21.629558563232422, -22.134302139282227, -2.5302515029907227], \"x\": [1, 2, 3, 4, 5, 6, 7, 8, 9, 10, 11, 12, 13], \"type\": \"scatter\", \"name\": \"frame 4/8: IH1_I\", \"mode\": \"lines\"}, {\"y\": [20.831947326660156, 9.81371021270752, 21.759248733520508, 2.2125322818756104, -14.501940727233887, 2.4639229774475098, -16.96463966369629, 17.407983779907227, -11.342320442199707, 9.96410083770752, 30.109037399291992, -28.110790252685547, 0.37270599603652954], \"x\": [1, 2, 3, 4, 5, 6, 7, 8, 9, 10, 11, 12, 13], \"type\": \"scatter\", \"name\": \"frame 5/8: IH1_I\", \"mode\": \"lines\"}, {\"y\": [20.629981994628906, 9.163378715515137, 23.347471237182617, 6.087552547454834, -9.311417579650879, -16.922025680541992, -13.724112510681152, 25.088899612426758, -1.4175341129302979, -1.222227692604065, 26.640159606933594, -20.640180587768555, 6.093809127807617], \"x\": [1, 2, 3, 4, 5, 6, 7, 8, 9, 10, 11, 12, 13], \"type\": \"scatter\", \"name\": \"frame 6/8: IH1_I\", \"mode\": \"lines\"}, {\"y\": [20.185653686523438, 3.3103954792022705, 30.494470596313477, 3.8441197872161865, -5.467537879943848, -8.512460708618164, -15.344375610351562, 13.186413764953613, 3.7031095027923584, 1.2477864027023315, 25.483867645263672, -3.270711660385132, -7.389105796813965], \"x\": [1, 2, 3, 4, 5, 6, 7, 8, 9, 10, 11, 12, 13], \"type\": \"scatter\", \"name\": \"frame 7/8: IH1_I\", \"mode\": \"lines\"}, {\"y\": [19.53936004638672, -4.92713737487793, 29.700359344482422, 10.91187572479248, 1.6002413034439087, -8.982877731323242, -2.817817449569702, 6.245134353637695, 4.781139850616455, -0.8322254419326782, 17.0043888092041, -2.796004056930542, -3.497904062271118], \"x\": [1, 2, 3, 4, 5, 6, 7, 8, 9, 10, 11, 12, 13], \"type\": \"scatter\", \"name\": \"frame 8/8: IH1_I\", \"mode\": \"lines\"}, {\"name\": \"ave mfcc: IH1_I\", \"mode\": \"lines\", \"y\": [20.49506950378418, -2.970331907272339, 4.422876358032227, -8.055068016052246, -35.694889068603516, -16.540205001831055, -7.743582248687744, -4.609816074371338, -12.053409576416016, -2.3864195346832275, -17.22492790222168, -12.128283500671387, -9.0654296875], \"x\": [1, 2, 3, 4, 5, 6, 7, 8, 9, 10, 11, 12, 13], \"line\": {\"dash\": \"dash\", \"width\": 4}, \"type\": \"scatter\"}], {\"title\": \"Visualization of 8 frames\", \"xaxis\": {\"dtick\": true, \"title\": \"feature number\"}, \"yaxis\": {\"title\": \"what does the value of y mean?\"}}, {\"linkText\": \"Export to plot.ly\", \"showLink\": true})});</script>"
      ]
     },
     "metadata": {},
     "output_type": "display_data"
    }
   ],
   "source": [
    "py.iplot(\n",
    "    fv.plot_frames(\n",
    "        frames=feats_in[SAMPLE][ex_5[\"start\"]:ex_5[\"stop\"]],\n",
    "        phones=ali_in[SAMPLE][ex_5[\"start\"]:ex_5[\"stop\"]],\n",
    "        average_mfccs_dict=ave_dict\n",
    "    )\n",
    ")"
   ]
  },
  {
   "cell_type": "markdown",
   "metadata": {},
   "source": [
    "### `ex_3` and `ex_5`"
   ]
  },
  {
   "cell_type": "markdown",
   "metadata": {},
   "source": [
    "Since `ex_3` and `ex_5` are \"IS\" and \"HIS\", respectively, let's plot them together."
   ]
  },
  {
   "cell_type": "code",
   "execution_count": 52,
   "metadata": {},
   "outputs": [
    {
     "data": {
      "text/plain": [
       "(18, 13)"
      ]
     },
     "execution_count": 52,
     "metadata": {},
     "output_type": "execute_result"
    }
   ],
   "source": [
    "ex_3_5_frames = np.vstack(\n",
    "    (\n",
    "        feats_in[SAMPLE][ex_3[\"start\"]:ex_3[\"stop\"]],\n",
    "        feats_in[SAMPLE][ex_5[\"start\"]:ex_5[\"stop\"]]\n",
    "    )\n",
    ")\n",
    "ex_3_5_frames.shape"
   ]
  },
  {
   "cell_type": "code",
   "execution_count": 53,
   "metadata": {},
   "outputs": [
    {
     "data": {
      "text/plain": [
       "['IH1_B',\n",
       " 'IH1_B',\n",
       " 'IH1_B',\n",
       " 'IH1_B',\n",
       " 'IH1_B',\n",
       " 'IH1_B',\n",
       " 'IH1_B',\n",
       " 'IH1_B',\n",
       " 'IH1_B',\n",
       " 'IH1_B',\n",
       " 'IH1_I',\n",
       " 'IH1_I',\n",
       " 'IH1_I',\n",
       " 'IH1_I',\n",
       " 'IH1_I',\n",
       " 'IH1_I',\n",
       " 'IH1_I',\n",
       " 'IH1_I']"
      ]
     },
     "execution_count": 53,
     "metadata": {},
     "output_type": "execute_result"
    }
   ],
   "source": [
    "ex_3_5_phones = ali_in[SAMPLE][ex_3[\"start\"]:ex_3[\"stop\"]] + ali_in[SAMPLE][ex_5[\"start\"]:ex_5[\"stop\"]]\n",
    "ex_3_5_phones"
   ]
  },
  {
   "cell_type": "code",
   "execution_count": 54,
   "metadata": {},
   "outputs": [
    {
     "data": {
      "application/vnd.plotly.v1+json": {
       "data": [
        {
         "mode": "lines",
         "name": "frame 1/18: IH1_B",
         "type": "scatter",
         "x": [
          1,
          2,
          3,
          4,
          5,
          6,
          7,
          8,
          9,
          10,
          11,
          12,
          13
         ],
         "y": [
          21.80880355834961,
          14.974247932434082,
          -11.880411148071289,
          10.56377124786377,
          -17.63787078857422,
          -51.46491622924805,
          25.97401237487793,
          -17.403528213500977,
          2.355571746826172,
          8.087078094482422,
          17.389820098876953,
          -12.408832550048828,
          -6.136956214904785
         ]
        },
        {
         "mode": "lines",
         "name": "frame 2/18: IH1_B",
         "type": "scatter",
         "x": [
          1,
          2,
          3,
          4,
          5,
          6,
          7,
          8,
          9,
          10,
          11,
          12,
          13
         ],
         "y": [
          21.83680534362793,
          11.114374160766602,
          -6.053159236907959,
          6.699398040771484,
          -22.341768264770508,
          -43.99618148803711,
          19.302988052368164,
          -12.376335144042969,
          0.7385263442993164,
          7.48782205581665,
          16.61895751953125,
          -7.305726051330566,
          -6.312892913818359
         ]
        },
        {
         "mode": "lines",
         "name": "frame 3/18: IH1_B",
         "type": "scatter",
         "x": [
          1,
          2,
          3,
          4,
          5,
          6,
          7,
          8,
          9,
          10,
          11,
          12,
          13
         ],
         "y": [
          21.696794509887695,
          10.030488014221191,
          -1.5949604511260986,
          3.0283260345458984,
          -24.432388305664062,
          -35.59385681152344,
          17.96878433227539,
          -10.365458488464355,
          0.33426499366760254,
          6.05781364440918,
          15.84809684753418,
          -6.118957042694092,
          -9.934587478637695
         ]
        },
        {
         "mode": "lines",
         "name": "frame 4/18: IH1_B",
         "type": "scatter",
         "x": [
          1,
          2,
          3,
          4,
          5,
          6,
          7,
          8,
          9,
          10,
          11,
          12,
          13
         ],
         "y": [
          21.668792724609375,
          10.030488014221191,
          0.9936710596084595,
          2.620429277420044,
          -26.000354766845703,
          -34.6602668762207,
          16.189844131469727,
          -5.840985298156738,
          -1.9565492868423462,
          -0.7022247314453125,
          17.0043888092041,
          -2.9146809577941895,
          -14.389180183410645
         ]
        },
        {
         "mode": "lines",
         "name": "frame 5/18: IH1_B",
         "type": "scatter",
         "x": [
          1,
          2,
          3,
          4,
          5,
          6,
          7,
          8,
          9,
          10,
          11,
          12,
          13
         ],
         "y": [
          21.78080177307129,
          10.464042663574219,
          6.602372646331787,
          0.580944836139679,
          -27.045665740966797,
          -26.25794219970703,
          1.7918821573257446,
          8.480461120605469,
          -13.540279388427734,
          6.447815895080566,
          10.837495803833008,
          -4.694834232330322,
          0.812548041343689
         ]
        },
        {
         "mode": "lines",
         "name": "frame 6/18: IH1_B",
         "type": "scatter",
         "x": [
          1,
          2,
          3,
          4,
          5,
          6,
          7,
          8,
          9,
          10,
          11,
          12,
          13
         ],
         "y": [
          21.640790939331055,
          10.680819511413574,
          6.314746856689453,
          8.475142478942871,
          -24.432388305664062,
          -24.390758514404297,
          -5.7918171882629395,
          17.85980224609375,
          -16.837217330932617,
          6.31781530380249,
          10.452065467834473,
          -10.391324996948242,
          10.536253929138184
         ]
        },
        {
         "mode": "lines",
         "name": "frame 7/18: IH1_B",
         "type": "scatter",
         "x": [
          1,
          2,
          3,
          4,
          5,
          6,
          7,
          8,
          9,
          10,
          11,
          12,
          13
         ],
         "y": [
          21.50078010559082,
          11.98148250579834,
          5.308056831359863,
          12.30429458618164,
          -22.341768264770508,
          -17.85561752319336,
          -14.939310073852539,
          16.052528381347656,
          -11.708646774291992,
          12.779635429382324,
          8.125340461730957,
          -13.951632499694824,
          7.997714042663574
         ]
        },
        {
         "mode": "lines",
         "name": "frame 8/18: IH1_B",
         "type": "scatter",
         "x": [
          1,
          2,
          3,
          4,
          5,
          6,
          7,
          8,
          9,
          10,
          11,
          12,
          13
         ],
         "y": [
          21.304765701293945,
          7.429161548614502,
          11.832859992980957,
          6.699398040771484,
          -13.456629753112793,
          -20.656391143798828,
          -6.684016704559326,
          13.421711921691895,
          -10.243341445922852,
          6.447815895080566,
          11.22292709350586,
          -9.0858793258667,
          4.067378997802734
         ]
        },
        {
         "mode": "lines",
         "name": "frame 9/18: IH1_B",
         "type": "scatter",
         "x": [
          1,
          2,
          3,
          4,
          5,
          6,
          7,
          8,
          9,
          10,
          11,
          12,
          13
         ],
         "y": [
          20.912734985351562,
          2.6600637435913086,
          16.994583129882812,
          6.495449542999268,
          -10.055394172668457,
          -15.054841995239258,
          -11.293716430664062,
          7.186324596405029,
          -2.4955644607543945,
          8.087078094482422,
          11.22292709350586,
          -6.237634181976318,
          10.853570938110352
         ]
        },
        {
         "mode": "lines",
         "name": "frame 10/18: IH1_B",
         "type": "scatter",
         "x": [
          1,
          2,
          3,
          4,
          5,
          6,
          7,
          8,
          9,
          10,
          11,
          12,
          13
         ],
         "y": [
          20.104867935180664,
          -2.7593655586242676,
          15.803415298461914,
          4.863862037658691,
          -4.475568771362305,
          -1.7698249816894531,
          -7.130116939544678,
          11.42168140411377,
          12.866366386413574,
          9.96410083770752,
          0.8778396844863892,
          4.059035778045654,
          4.15534782409668
         ]
        },
        {
         "mode": "lines",
         "name": "frame 11/18: IH1_I",
         "type": "scatter",
         "x": [
          1,
          2,
          3,
          4,
          5,
          6,
          7,
          8,
          9,
          10,
          11,
          12,
          13
         ],
         "y": [
          21.13675308227539,
          5.694944381713867,
          22.553359985351562,
          7.923088550567627,
          -34.885494232177734,
          8.265726089477539,
          19.747724533081055,
          10.95108699798584,
          -17.20354461669922,
          20.756982803344727,
          11.22292709350586,
          -0.06643553823232651,
          -7.389105796813965
         ]
        },
        {
         "mode": "lines",
         "name": "frame 12/18: IH1_I",
         "type": "scatter",
         "x": [
          1,
          2,
          3,
          4,
          5,
          6,
          7,
          8,
          9,
          10,
          11,
          12,
          13
         ],
         "y": [
          21.304765701293945,
          12.415037155151367,
          21.362194061279297,
          8.475142478942871,
          -27.56831932067871,
          3.718367099761963,
          -5.494417190551758,
          17.85980224609375,
          -17.569869995117188,
          15.595169067382812,
          12.764650344848633,
          -10.747356414794922,
          -2.2663462162017822
         ]
        },
        {
         "mode": "lines",
         "name": "frame 13/18: IH1_I",
         "type": "scatter",
         "x": [
          1,
          2,
          3,
          4,
          5,
          6,
          7,
          8,
          9,
          10,
          11,
          12,
          13
         ],
         "y": [
          21.248760223388672,
          12.415037155151367,
          17.391637802124023,
          11.956189155578613,
          -21.296457290649414,
          -3.024268865585327,
          -5.345716953277588,
          16.956165313720703,
          -27.827011108398438,
          23.5725154876709,
          13.53551197052002,
          -18.14997673034668,
          4.331284523010254
         ]
        },
        {
         "mode": "lines",
         "name": "frame 14/18: IH1_I",
         "type": "scatter",
         "x": [
          1,
          2,
          3,
          4,
          5,
          6,
          7,
          8,
          9,
          10,
          11,
          12,
          13
         ],
         "y": [
          21.13675308227539,
          12.631814002990723,
          17.788692474365234,
          15.785341262817383,
          -20.251148223876953,
          -7.414822578430176,
          -8.171016693115234,
          20.118896484375,
          -24.163745880126953,
          17.00293731689453,
          21.629558563232422,
          -22.134302139282227,
          -2.5302515029907227
         ]
        },
        {
         "mode": "lines",
         "name": "frame 15/18: IH1_I",
         "type": "scatter",
         "x": [
          1,
          2,
          3,
          4,
          5,
          6,
          7,
          8,
          9,
          10,
          11,
          12,
          13
         ],
         "y": [
          20.831947326660156,
          9.81371021270752,
          21.759248733520508,
          2.2125322818756104,
          -14.501940727233887,
          2.4639229774475098,
          -16.96463966369629,
          17.407983779907227,
          -11.342320442199707,
          9.96410083770752,
          30.109037399291992,
          -28.110790252685547,
          0.37270599603652954
         ]
        },
        {
         "mode": "lines",
         "name": "frame 16/18: IH1_I",
         "type": "scatter",
         "x": [
          1,
          2,
          3,
          4,
          5,
          6,
          7,
          8,
          9,
          10,
          11,
          12,
          13
         ],
         "y": [
          20.629981994628906,
          9.163378715515137,
          23.347471237182617,
          6.087552547454834,
          -9.311417579650879,
          -16.922025680541992,
          -13.724112510681152,
          25.088899612426758,
          -1.4175341129302979,
          -1.222227692604065,
          26.640159606933594,
          -20.640180587768555,
          6.093809127807617
         ]
        },
        {
         "mode": "lines",
         "name": "frame 17/18: IH1_I",
         "type": "scatter",
         "x": [
          1,
          2,
          3,
          4,
          5,
          6,
          7,
          8,
          9,
          10,
          11,
          12,
          13
         ],
         "y": [
          20.185653686523438,
          3.3103954792022705,
          30.494470596313477,
          3.8441197872161865,
          -5.467537879943848,
          -8.512460708618164,
          -15.344375610351562,
          13.186413764953613,
          3.7031095027923584,
          1.2477864027023315,
          25.483867645263672,
          -3.270711660385132,
          -7.389105796813965
         ]
        },
        {
         "mode": "lines",
         "name": "frame 18/18: IH1_I",
         "type": "scatter",
         "x": [
          1,
          2,
          3,
          4,
          5,
          6,
          7,
          8,
          9,
          10,
          11,
          12,
          13
         ],
         "y": [
          19.53936004638672,
          -4.92713737487793,
          29.700359344482422,
          10.91187572479248,
          1.6002413034439087,
          -8.982877731323242,
          -2.817817449569702,
          6.245134353637695,
          4.781139850616455,
          -0.8322254419326782,
          17.0043888092041,
          -2.796004056930542,
          -3.497904062271118
         ]
        },
        {
         "line": {
          "dash": "dash",
          "width": 4
         },
         "mode": "lines",
         "name": "ave mfcc: IH1_B",
         "type": "scatter",
         "x": [
          1,
          2,
          3,
          4,
          5,
          6,
          7,
          8,
          9,
          10,
          11,
          12,
          13
         ],
         "y": [
          19.87253189086914,
          -4.430500030517578,
          8.625235557556152,
          -9.241716384887695,
          -36.041133880615234,
          -10.823553085327148,
          -6.044327735900879,
          -1.4000548124313354,
          -7.2403740882873535,
          1.367122769355774,
          -15.088361740112305,
          -7.319957256317139,
          -6.1171674728393555
         ]
        },
        {
         "line": {
          "dash": "dash",
          "width": 4
         },
         "mode": "lines",
         "name": "ave mfcc: IH1_I",
         "type": "scatter",
         "x": [
          1,
          2,
          3,
          4,
          5,
          6,
          7,
          8,
          9,
          10,
          11,
          12,
          13
         ],
         "y": [
          20.49506950378418,
          -2.970331907272339,
          4.422876358032227,
          -8.055068016052246,
          -35.694889068603516,
          -16.540205001831055,
          -7.743582248687744,
          -4.609816074371338,
          -12.053409576416016,
          -2.3864195346832275,
          -17.22492790222168,
          -12.128283500671387,
          -9.0654296875
         ]
        }
       ],
       "layout": {
        "title": "Visualization of 18 frames",
        "xaxis": {
         "dtick": true,
         "title": "feature number"
        },
        "yaxis": {
         "title": "what does the value of y mean?"
        }
       }
      },
      "text/html": [
       "<div id=\"7e8e3f37-cd02-46a0-8f13-72a730ec4bf0\" style=\"height: 525px; width: 100%;\" class=\"plotly-graph-div\"></div><script type=\"text/javascript\">require([\"plotly\"], function(Plotly) { window.PLOTLYENV=window.PLOTLYENV || {};window.PLOTLYENV.BASE_URL=\"https://plot.ly\";Plotly.newPlot(\"7e8e3f37-cd02-46a0-8f13-72a730ec4bf0\", [{\"y\": [21.80880355834961, 14.974247932434082, -11.880411148071289, 10.56377124786377, -17.63787078857422, -51.46491622924805, 25.97401237487793, -17.403528213500977, 2.355571746826172, 8.087078094482422, 17.389820098876953, -12.408832550048828, -6.136956214904785], \"x\": [1, 2, 3, 4, 5, 6, 7, 8, 9, 10, 11, 12, 13], \"type\": \"scatter\", \"name\": \"frame 1/18: IH1_B\", \"mode\": \"lines\"}, {\"y\": [21.83680534362793, 11.114374160766602, -6.053159236907959, 6.699398040771484, -22.341768264770508, -43.99618148803711, 19.302988052368164, -12.376335144042969, 0.7385263442993164, 7.48782205581665, 16.61895751953125, -7.305726051330566, -6.312892913818359], \"x\": [1, 2, 3, 4, 5, 6, 7, 8, 9, 10, 11, 12, 13], \"type\": \"scatter\", \"name\": \"frame 2/18: IH1_B\", \"mode\": \"lines\"}, {\"y\": [21.696794509887695, 10.030488014221191, -1.5949604511260986, 3.0283260345458984, -24.432388305664062, -35.59385681152344, 17.96878433227539, -10.365458488464355, 0.33426499366760254, 6.05781364440918, 15.84809684753418, -6.118957042694092, -9.934587478637695], \"x\": [1, 2, 3, 4, 5, 6, 7, 8, 9, 10, 11, 12, 13], \"type\": \"scatter\", \"name\": \"frame 3/18: IH1_B\", \"mode\": \"lines\"}, {\"y\": [21.668792724609375, 10.030488014221191, 0.9936710596084595, 2.620429277420044, -26.000354766845703, -34.6602668762207, 16.189844131469727, -5.840985298156738, -1.9565492868423462, -0.7022247314453125, 17.0043888092041, -2.9146809577941895, -14.389180183410645], \"x\": [1, 2, 3, 4, 5, 6, 7, 8, 9, 10, 11, 12, 13], \"type\": \"scatter\", \"name\": \"frame 4/18: IH1_B\", \"mode\": \"lines\"}, {\"y\": [21.78080177307129, 10.464042663574219, 6.602372646331787, 0.580944836139679, -27.045665740966797, -26.25794219970703, 1.7918821573257446, 8.480461120605469, -13.540279388427734, 6.447815895080566, 10.837495803833008, -4.694834232330322, 0.812548041343689], \"x\": [1, 2, 3, 4, 5, 6, 7, 8, 9, 10, 11, 12, 13], \"type\": \"scatter\", \"name\": \"frame 5/18: IH1_B\", \"mode\": \"lines\"}, {\"y\": [21.640790939331055, 10.680819511413574, 6.314746856689453, 8.475142478942871, -24.432388305664062, -24.390758514404297, -5.7918171882629395, 17.85980224609375, -16.837217330932617, 6.31781530380249, 10.452065467834473, -10.391324996948242, 10.536253929138184], \"x\": [1, 2, 3, 4, 5, 6, 7, 8, 9, 10, 11, 12, 13], \"type\": \"scatter\", \"name\": \"frame 6/18: IH1_B\", \"mode\": \"lines\"}, {\"y\": [21.50078010559082, 11.98148250579834, 5.308056831359863, 12.30429458618164, -22.341768264770508, -17.85561752319336, -14.939310073852539, 16.052528381347656, -11.708646774291992, 12.779635429382324, 8.125340461730957, -13.951632499694824, 7.997714042663574], \"x\": [1, 2, 3, 4, 5, 6, 7, 8, 9, 10, 11, 12, 13], \"type\": \"scatter\", \"name\": \"frame 7/18: IH1_B\", \"mode\": \"lines\"}, {\"y\": [21.304765701293945, 7.429161548614502, 11.832859992980957, 6.699398040771484, -13.456629753112793, -20.656391143798828, -6.684016704559326, 13.421711921691895, -10.243341445922852, 6.447815895080566, 11.22292709350586, -9.0858793258667, 4.067378997802734], \"x\": [1, 2, 3, 4, 5, 6, 7, 8, 9, 10, 11, 12, 13], \"type\": \"scatter\", \"name\": \"frame 8/18: IH1_B\", \"mode\": \"lines\"}, {\"y\": [20.912734985351562, 2.6600637435913086, 16.994583129882812, 6.495449542999268, -10.055394172668457, -15.054841995239258, -11.293716430664062, 7.186324596405029, -2.4955644607543945, 8.087078094482422, 11.22292709350586, -6.237634181976318, 10.853570938110352], \"x\": [1, 2, 3, 4, 5, 6, 7, 8, 9, 10, 11, 12, 13], \"type\": \"scatter\", \"name\": \"frame 9/18: IH1_B\", \"mode\": \"lines\"}, {\"y\": [20.104867935180664, -2.7593655586242676, 15.803415298461914, 4.863862037658691, -4.475568771362305, -1.7698249816894531, -7.130116939544678, 11.42168140411377, 12.866366386413574, 9.96410083770752, 0.8778396844863892, 4.059035778045654, 4.15534782409668], \"x\": [1, 2, 3, 4, 5, 6, 7, 8, 9, 10, 11, 12, 13], \"type\": \"scatter\", \"name\": \"frame 10/18: IH1_B\", \"mode\": \"lines\"}, {\"y\": [21.13675308227539, 5.694944381713867, 22.553359985351562, 7.923088550567627, -34.885494232177734, 8.265726089477539, 19.747724533081055, 10.95108699798584, -17.20354461669922, 20.756982803344727, 11.22292709350586, -0.06643553823232651, -7.389105796813965], \"x\": [1, 2, 3, 4, 5, 6, 7, 8, 9, 10, 11, 12, 13], \"type\": \"scatter\", \"name\": \"frame 11/18: IH1_I\", \"mode\": \"lines\"}, {\"y\": [21.304765701293945, 12.415037155151367, 21.362194061279297, 8.475142478942871, -27.56831932067871, 3.718367099761963, -5.494417190551758, 17.85980224609375, -17.569869995117188, 15.595169067382812, 12.764650344848633, -10.747356414794922, -2.2663462162017822], \"x\": [1, 2, 3, 4, 5, 6, 7, 8, 9, 10, 11, 12, 13], \"type\": \"scatter\", \"name\": \"frame 12/18: IH1_I\", \"mode\": \"lines\"}, {\"y\": [21.248760223388672, 12.415037155151367, 17.391637802124023, 11.956189155578613, -21.296457290649414, -3.024268865585327, -5.345716953277588, 16.956165313720703, -27.827011108398438, 23.5725154876709, 13.53551197052002, -18.14997673034668, 4.331284523010254], \"x\": [1, 2, 3, 4, 5, 6, 7, 8, 9, 10, 11, 12, 13], \"type\": \"scatter\", \"name\": \"frame 13/18: IH1_I\", \"mode\": \"lines\"}, {\"y\": [21.13675308227539, 12.631814002990723, 17.788692474365234, 15.785341262817383, -20.251148223876953, -7.414822578430176, -8.171016693115234, 20.118896484375, -24.163745880126953, 17.00293731689453, 21.629558563232422, -22.134302139282227, -2.5302515029907227], \"x\": [1, 2, 3, 4, 5, 6, 7, 8, 9, 10, 11, 12, 13], \"type\": \"scatter\", \"name\": \"frame 14/18: IH1_I\", \"mode\": \"lines\"}, {\"y\": [20.831947326660156, 9.81371021270752, 21.759248733520508, 2.2125322818756104, -14.501940727233887, 2.4639229774475098, -16.96463966369629, 17.407983779907227, -11.342320442199707, 9.96410083770752, 30.109037399291992, -28.110790252685547, 0.37270599603652954], \"x\": [1, 2, 3, 4, 5, 6, 7, 8, 9, 10, 11, 12, 13], \"type\": \"scatter\", \"name\": \"frame 15/18: IH1_I\", \"mode\": \"lines\"}, {\"y\": [20.629981994628906, 9.163378715515137, 23.347471237182617, 6.087552547454834, -9.311417579650879, -16.922025680541992, -13.724112510681152, 25.088899612426758, -1.4175341129302979, -1.222227692604065, 26.640159606933594, -20.640180587768555, 6.093809127807617], \"x\": [1, 2, 3, 4, 5, 6, 7, 8, 9, 10, 11, 12, 13], \"type\": \"scatter\", \"name\": \"frame 16/18: IH1_I\", \"mode\": \"lines\"}, {\"y\": [20.185653686523438, 3.3103954792022705, 30.494470596313477, 3.8441197872161865, -5.467537879943848, -8.512460708618164, -15.344375610351562, 13.186413764953613, 3.7031095027923584, 1.2477864027023315, 25.483867645263672, -3.270711660385132, -7.389105796813965], \"x\": [1, 2, 3, 4, 5, 6, 7, 8, 9, 10, 11, 12, 13], \"type\": \"scatter\", \"name\": \"frame 17/18: IH1_I\", \"mode\": \"lines\"}, {\"y\": [19.53936004638672, -4.92713737487793, 29.700359344482422, 10.91187572479248, 1.6002413034439087, -8.982877731323242, -2.817817449569702, 6.245134353637695, 4.781139850616455, -0.8322254419326782, 17.0043888092041, -2.796004056930542, -3.497904062271118], \"x\": [1, 2, 3, 4, 5, 6, 7, 8, 9, 10, 11, 12, 13], \"type\": \"scatter\", \"name\": \"frame 18/18: IH1_I\", \"mode\": \"lines\"}, {\"name\": \"ave mfcc: IH1_B\", \"mode\": \"lines\", \"y\": [19.87253189086914, -4.430500030517578, 8.625235557556152, -9.241716384887695, -36.041133880615234, -10.823553085327148, -6.044327735900879, -1.4000548124313354, -7.2403740882873535, 1.367122769355774, -15.088361740112305, -7.319957256317139, -6.1171674728393555], \"x\": [1, 2, 3, 4, 5, 6, 7, 8, 9, 10, 11, 12, 13], \"line\": {\"dash\": \"dash\", \"width\": 4}, \"type\": \"scatter\"}, {\"name\": \"ave mfcc: IH1_I\", \"mode\": \"lines\", \"y\": [20.49506950378418, -2.970331907272339, 4.422876358032227, -8.055068016052246, -35.694889068603516, -16.540205001831055, -7.743582248687744, -4.609816074371338, -12.053409576416016, -2.3864195346832275, -17.22492790222168, -12.128283500671387, -9.0654296875], \"x\": [1, 2, 3, 4, 5, 6, 7, 8, 9, 10, 11, 12, 13], \"line\": {\"dash\": \"dash\", \"width\": 4}, \"type\": \"scatter\"}], {\"title\": \"Visualization of 18 frames\", \"xaxis\": {\"dtick\": true, \"title\": \"feature number\"}, \"yaxis\": {\"title\": \"what does the value of y mean?\"}}, {\"linkText\": \"Export to plot.ly\", \"showLink\": true})});</script>"
      ],
      "text/vnd.plotly.v1+html": [
       "<div id=\"7e8e3f37-cd02-46a0-8f13-72a730ec4bf0\" style=\"height: 525px; width: 100%;\" class=\"plotly-graph-div\"></div><script type=\"text/javascript\">require([\"plotly\"], function(Plotly) { window.PLOTLYENV=window.PLOTLYENV || {};window.PLOTLYENV.BASE_URL=\"https://plot.ly\";Plotly.newPlot(\"7e8e3f37-cd02-46a0-8f13-72a730ec4bf0\", [{\"y\": [21.80880355834961, 14.974247932434082, -11.880411148071289, 10.56377124786377, -17.63787078857422, -51.46491622924805, 25.97401237487793, -17.403528213500977, 2.355571746826172, 8.087078094482422, 17.389820098876953, -12.408832550048828, -6.136956214904785], \"x\": [1, 2, 3, 4, 5, 6, 7, 8, 9, 10, 11, 12, 13], \"type\": \"scatter\", \"name\": \"frame 1/18: IH1_B\", \"mode\": \"lines\"}, {\"y\": [21.83680534362793, 11.114374160766602, -6.053159236907959, 6.699398040771484, -22.341768264770508, -43.99618148803711, 19.302988052368164, -12.376335144042969, 0.7385263442993164, 7.48782205581665, 16.61895751953125, -7.305726051330566, -6.312892913818359], \"x\": [1, 2, 3, 4, 5, 6, 7, 8, 9, 10, 11, 12, 13], \"type\": \"scatter\", \"name\": \"frame 2/18: IH1_B\", \"mode\": \"lines\"}, {\"y\": [21.696794509887695, 10.030488014221191, -1.5949604511260986, 3.0283260345458984, -24.432388305664062, -35.59385681152344, 17.96878433227539, -10.365458488464355, 0.33426499366760254, 6.05781364440918, 15.84809684753418, -6.118957042694092, -9.934587478637695], \"x\": [1, 2, 3, 4, 5, 6, 7, 8, 9, 10, 11, 12, 13], \"type\": \"scatter\", \"name\": \"frame 3/18: IH1_B\", \"mode\": \"lines\"}, {\"y\": [21.668792724609375, 10.030488014221191, 0.9936710596084595, 2.620429277420044, -26.000354766845703, -34.6602668762207, 16.189844131469727, -5.840985298156738, -1.9565492868423462, -0.7022247314453125, 17.0043888092041, -2.9146809577941895, -14.389180183410645], \"x\": [1, 2, 3, 4, 5, 6, 7, 8, 9, 10, 11, 12, 13], \"type\": \"scatter\", \"name\": \"frame 4/18: IH1_B\", \"mode\": \"lines\"}, {\"y\": [21.78080177307129, 10.464042663574219, 6.602372646331787, 0.580944836139679, -27.045665740966797, -26.25794219970703, 1.7918821573257446, 8.480461120605469, -13.540279388427734, 6.447815895080566, 10.837495803833008, -4.694834232330322, 0.812548041343689], \"x\": [1, 2, 3, 4, 5, 6, 7, 8, 9, 10, 11, 12, 13], \"type\": \"scatter\", \"name\": \"frame 5/18: IH1_B\", \"mode\": \"lines\"}, {\"y\": [21.640790939331055, 10.680819511413574, 6.314746856689453, 8.475142478942871, -24.432388305664062, -24.390758514404297, -5.7918171882629395, 17.85980224609375, -16.837217330932617, 6.31781530380249, 10.452065467834473, -10.391324996948242, 10.536253929138184], \"x\": [1, 2, 3, 4, 5, 6, 7, 8, 9, 10, 11, 12, 13], \"type\": \"scatter\", \"name\": \"frame 6/18: IH1_B\", \"mode\": \"lines\"}, {\"y\": [21.50078010559082, 11.98148250579834, 5.308056831359863, 12.30429458618164, -22.341768264770508, -17.85561752319336, -14.939310073852539, 16.052528381347656, -11.708646774291992, 12.779635429382324, 8.125340461730957, -13.951632499694824, 7.997714042663574], \"x\": [1, 2, 3, 4, 5, 6, 7, 8, 9, 10, 11, 12, 13], \"type\": \"scatter\", \"name\": \"frame 7/18: IH1_B\", \"mode\": \"lines\"}, {\"y\": [21.304765701293945, 7.429161548614502, 11.832859992980957, 6.699398040771484, -13.456629753112793, -20.656391143798828, -6.684016704559326, 13.421711921691895, -10.243341445922852, 6.447815895080566, 11.22292709350586, -9.0858793258667, 4.067378997802734], \"x\": [1, 2, 3, 4, 5, 6, 7, 8, 9, 10, 11, 12, 13], \"type\": \"scatter\", \"name\": \"frame 8/18: IH1_B\", \"mode\": \"lines\"}, {\"y\": [20.912734985351562, 2.6600637435913086, 16.994583129882812, 6.495449542999268, -10.055394172668457, -15.054841995239258, -11.293716430664062, 7.186324596405029, -2.4955644607543945, 8.087078094482422, 11.22292709350586, -6.237634181976318, 10.853570938110352], \"x\": [1, 2, 3, 4, 5, 6, 7, 8, 9, 10, 11, 12, 13], \"type\": \"scatter\", \"name\": \"frame 9/18: IH1_B\", \"mode\": \"lines\"}, {\"y\": [20.104867935180664, -2.7593655586242676, 15.803415298461914, 4.863862037658691, -4.475568771362305, -1.7698249816894531, -7.130116939544678, 11.42168140411377, 12.866366386413574, 9.96410083770752, 0.8778396844863892, 4.059035778045654, 4.15534782409668], \"x\": [1, 2, 3, 4, 5, 6, 7, 8, 9, 10, 11, 12, 13], \"type\": \"scatter\", \"name\": \"frame 10/18: IH1_B\", \"mode\": \"lines\"}, {\"y\": [21.13675308227539, 5.694944381713867, 22.553359985351562, 7.923088550567627, -34.885494232177734, 8.265726089477539, 19.747724533081055, 10.95108699798584, -17.20354461669922, 20.756982803344727, 11.22292709350586, -0.06643553823232651, -7.389105796813965], \"x\": [1, 2, 3, 4, 5, 6, 7, 8, 9, 10, 11, 12, 13], \"type\": \"scatter\", \"name\": \"frame 11/18: IH1_I\", \"mode\": \"lines\"}, {\"y\": [21.304765701293945, 12.415037155151367, 21.362194061279297, 8.475142478942871, -27.56831932067871, 3.718367099761963, -5.494417190551758, 17.85980224609375, -17.569869995117188, 15.595169067382812, 12.764650344848633, -10.747356414794922, -2.2663462162017822], \"x\": [1, 2, 3, 4, 5, 6, 7, 8, 9, 10, 11, 12, 13], \"type\": \"scatter\", \"name\": \"frame 12/18: IH1_I\", \"mode\": \"lines\"}, {\"y\": [21.248760223388672, 12.415037155151367, 17.391637802124023, 11.956189155578613, -21.296457290649414, -3.024268865585327, -5.345716953277588, 16.956165313720703, -27.827011108398438, 23.5725154876709, 13.53551197052002, -18.14997673034668, 4.331284523010254], \"x\": [1, 2, 3, 4, 5, 6, 7, 8, 9, 10, 11, 12, 13], \"type\": \"scatter\", \"name\": \"frame 13/18: IH1_I\", \"mode\": \"lines\"}, {\"y\": [21.13675308227539, 12.631814002990723, 17.788692474365234, 15.785341262817383, -20.251148223876953, -7.414822578430176, -8.171016693115234, 20.118896484375, -24.163745880126953, 17.00293731689453, 21.629558563232422, -22.134302139282227, -2.5302515029907227], \"x\": [1, 2, 3, 4, 5, 6, 7, 8, 9, 10, 11, 12, 13], \"type\": \"scatter\", \"name\": \"frame 14/18: IH1_I\", \"mode\": \"lines\"}, {\"y\": [20.831947326660156, 9.81371021270752, 21.759248733520508, 2.2125322818756104, -14.501940727233887, 2.4639229774475098, -16.96463966369629, 17.407983779907227, -11.342320442199707, 9.96410083770752, 30.109037399291992, -28.110790252685547, 0.37270599603652954], \"x\": [1, 2, 3, 4, 5, 6, 7, 8, 9, 10, 11, 12, 13], \"type\": \"scatter\", \"name\": \"frame 15/18: IH1_I\", \"mode\": \"lines\"}, {\"y\": [20.629981994628906, 9.163378715515137, 23.347471237182617, 6.087552547454834, -9.311417579650879, -16.922025680541992, -13.724112510681152, 25.088899612426758, -1.4175341129302979, -1.222227692604065, 26.640159606933594, -20.640180587768555, 6.093809127807617], \"x\": [1, 2, 3, 4, 5, 6, 7, 8, 9, 10, 11, 12, 13], \"type\": \"scatter\", \"name\": \"frame 16/18: IH1_I\", \"mode\": \"lines\"}, {\"y\": [20.185653686523438, 3.3103954792022705, 30.494470596313477, 3.8441197872161865, -5.467537879943848, -8.512460708618164, -15.344375610351562, 13.186413764953613, 3.7031095027923584, 1.2477864027023315, 25.483867645263672, -3.270711660385132, -7.389105796813965], \"x\": [1, 2, 3, 4, 5, 6, 7, 8, 9, 10, 11, 12, 13], \"type\": \"scatter\", \"name\": \"frame 17/18: IH1_I\", \"mode\": \"lines\"}, {\"y\": [19.53936004638672, -4.92713737487793, 29.700359344482422, 10.91187572479248, 1.6002413034439087, -8.982877731323242, -2.817817449569702, 6.245134353637695, 4.781139850616455, -0.8322254419326782, 17.0043888092041, -2.796004056930542, -3.497904062271118], \"x\": [1, 2, 3, 4, 5, 6, 7, 8, 9, 10, 11, 12, 13], \"type\": \"scatter\", \"name\": \"frame 18/18: IH1_I\", \"mode\": \"lines\"}, {\"name\": \"ave mfcc: IH1_B\", \"mode\": \"lines\", \"y\": [19.87253189086914, -4.430500030517578, 8.625235557556152, -9.241716384887695, -36.041133880615234, -10.823553085327148, -6.044327735900879, -1.4000548124313354, -7.2403740882873535, 1.367122769355774, -15.088361740112305, -7.319957256317139, -6.1171674728393555], \"x\": [1, 2, 3, 4, 5, 6, 7, 8, 9, 10, 11, 12, 13], \"line\": {\"dash\": \"dash\", \"width\": 4}, \"type\": \"scatter\"}, {\"name\": \"ave mfcc: IH1_I\", \"mode\": \"lines\", \"y\": [20.49506950378418, -2.970331907272339, 4.422876358032227, -8.055068016052246, -35.694889068603516, -16.540205001831055, -7.743582248687744, -4.609816074371338, -12.053409576416016, -2.3864195346832275, -17.22492790222168, -12.128283500671387, -9.0654296875], \"x\": [1, 2, 3, 4, 5, 6, 7, 8, 9, 10, 11, 12, 13], \"line\": {\"dash\": \"dash\", \"width\": 4}, \"type\": \"scatter\"}], {\"title\": \"Visualization of 18 frames\", \"xaxis\": {\"dtick\": true, \"title\": \"feature number\"}, \"yaxis\": {\"title\": \"what does the value of y mean?\"}}, {\"linkText\": \"Export to plot.ly\", \"showLink\": true})});</script>"
      ]
     },
     "metadata": {},
     "output_type": "display_data"
    }
   ],
   "source": [
    "py.iplot(\n",
    "    fv.plot_frames(\n",
    "        frames=ex_3_5_frames,\n",
    "        phones=ex_3_5_phones,\n",
    "        average_mfccs_dict=ave_dict\n",
    "    )\n",
    ")"
   ]
  },
  {
   "cell_type": "markdown",
   "metadata": {},
   "source": [
    "It's hard to see any similarity in the individual frames of each `IH`, but we *can* see that the average phone for `IH_B` (when `IH` comes at the **beginning** of a word) and the average phone for `IH_I` (when `IH` comes in the **middle** of a word) are quite similar."
   ]
  },
  {
   "cell_type": "markdown",
   "metadata": {},
   "source": [
    "But then the question remains why these individual frames of a particular `IH` differ so much."
   ]
  },
  {
   "cell_type": "markdown",
   "metadata": {},
   "source": [
    "### phones in context"
   ]
  },
  {
   "cell_type": "markdown",
   "metadata": {},
   "source": [
    "Each of these sequence of `IH` phones comes in a different \"context\" (in terms of which phone came before and after them).  And this has a direct effect on the features."
   ]
  },
  {
   "cell_type": "markdown",
   "metadata": {},
   "source": [
    "#### `ex_1` (\"MIS..\")"
   ]
  },
  {
   "cell_type": "markdown",
   "metadata": {},
   "source": [
    "Let's re-plot `ex_1` (\"MISTER\"), but this time with a few frames before and after added for context."
   ]
  },
  {
   "cell_type": "code",
   "execution_count": 55,
   "metadata": {},
   "outputs": [
    {
     "data": {
      "application/vnd.plotly.v1+json": {
       "data": [
        {
         "mode": "lines",
         "name": "frame 1/9: M_B",
         "type": "scatter",
         "x": [
          1,
          2,
          3,
          4,
          5,
          6,
          7,
          8,
          9,
          10,
          11,
          12,
          13
         ],
         "y": [
          20.428014755249023,
          16.363277435302734,
          4.013741493225098,
          8.823246955871582,
          -12.287324905395508,
          -16.922025680541992,
          6.996381759643555,
          4.0098066329956055,
          8.68899917602539,
          13.24889087677002,
          -0.5457765460014343,
          5.236398220062256,
          -34.75303268432617
         ]
        },
        {
         "mode": "lines",
         "name": "frame 2/9: M_B",
         "type": "scatter",
         "x": [
          1,
          2,
          3,
          4,
          5,
          6,
          7,
          8,
          9,
          10,
          11,
          12,
          13
         ],
         "y": [
          20.968738555908203,
          14.279733657836914,
          5.883308410644531,
          11.259980201721191,
          -27.045665740966797,
          -13.18765926361084,
          17.079315185546875,
          3.892158031463623,
          -2.7650718688964844,
          9.494845390319824,
          -1.5811338424682617,
          14.655296325683594,
          -47.48044204711914
         ]
        },
        {
         "mode": "lines",
         "name": "frame 3/9: IH1_I",
         "type": "scatter",
         "x": [
          1,
          2,
          3,
          4,
          5,
          6,
          7,
          8,
          9,
          10,
          11,
          12,
          13
         ],
         "y": [
          21.13675308227539,
          10.030488014221191,
          7.8623046875,
          14.044817924499512,
          -35.40814971923828,
          -13.18765926361084,
          15.745109558105469,
          9.774598121643066,
          5.320154666900635,
          9.96410083770752,
          -11.051177978515625,
          15.047750473022461,
          -25.207477569580078
         ]
        },
        {
         "mode": "lines",
         "name": "frame 4/9: IH1_I",
         "type": "scatter",
         "x": [
          1,
          2,
          3,
          4,
          5,
          6,
          7,
          8,
          9,
          10,
          11,
          12,
          13
         ],
         "y": [
          21.19275665283203,
          8.513047218322754,
          12.229915618896484,
          14.741026878356934,
          -36.976112365722656,
          -7.1012115478515625,
          6.996381759643555,
          14.69707202911377,
          3.2988481521606445,
          11.841123580932617,
          -1.192874789237976,
          0.5269489288330078,
          -18.843772888183594
         ]
        },
        {
         "mode": "lines",
         "name": "frame 5/9: IH1_I",
         "type": "scatter",
         "x": [
          1,
          2,
          3,
          4,
          5,
          6,
          7,
          8,
          9,
          10,
          11,
          12,
          13
         ],
         "y": [
          21.19275665283203,
          2.8768410682678223,
          21.759248733520508,
          9.17135238647461,
          -34.885494232177734,
          -0.9857975840568542,
          5.658081531524658,
          6.127485275268555,
          6.263431072235107,
          12.310379981994629,
          13.53551197052002,
          -13.002217292785645,
          -22.025625228881836
         ]
        },
        {
         "mode": "lines",
         "name": "frame 6/9: IH1_I",
         "type": "scatter",
         "x": [
          1,
          2,
          3,
          4,
          5,
          6,
          7,
          8,
          9,
          10,
          11,
          12,
          13
         ],
         "y": [
          20.912734985351562,
          -4.710360050201416,
          28.112136840820312,
          9.867561340332031,
          -27.56831932067871,
          -3.3378798961639404,
          2.535382032394409,
          1.1862353086471558,
          16.644569396972656,
          9.96410083770752,
          28.95274543762207,
          -23.62842559814453,
          -10.57095718383789
         ]
        },
        {
         "mode": "lines",
         "name": "frame 7/9: IH1_I",
         "type": "scatter",
         "x": [
          1,
          2,
          3,
          4,
          5,
          6,
          7,
          8,
          9,
          10,
          11,
          12,
          13
         ],
         "y": [
          20.38762092590332,
          -14.949294090270996,
          32.08269500732422,
          6.087552547454834,
          -20.7738037109375,
          8.10892105102539,
          -1.6282174587249756,
          20.570714950561523,
          5.320154666900635,
          15.125913619995117,
          17.0043888092041,
          -22.632343292236328,
          18.46919059753418
         ]
        },
        {
         "mode": "lines",
         "name": "frame 8/9: S_I",
         "type": "scatter",
         "x": [
          1,
          2,
          3,
          4,
          5,
          6,
          7,
          8,
          9,
          10,
          11,
          12,
          13
         ],
         "y": [
          19.579753875732422,
          -26.859359741210938,
          24.141582489013672,
          18.570178985595703,
          8.147351264953613,
          12.051640510559082,
          13.521435737609863,
          3.7745091915130615,
          -8.41170883178711,
          0.9877848625183105,
          12.379219055175781,
          -20.142139434814453,
          4.8245391845703125
         ]
        },
        {
         "mode": "lines",
         "name": "frame 9/9: S_I",
         "type": "scatter",
         "x": [
          1,
          2,
          3,
          4,
          5,
          6,
          7,
          8,
          9,
          10,
          11,
          12,
          13
         ],
         "y": [
          17.72165870666504,
          -26.292213439941406,
          16.200471878051758,
          6.699398040771484,
          5.803767204284668,
          -9.13968276977539,
          20.192459106445312,
          -8.354581832885742,
          1.681802749633789,
          -6.552258014678955,
          11.993788719177246,
          -3.9827730655670166,
          7.997714042663574
         ]
        },
        {
         "line": {
          "dash": "dash",
          "width": 4
         },
         "mode": "lines",
         "name": "ave mfcc: M_B",
         "type": "scatter",
         "x": [
          1,
          2,
          3,
          4,
          5,
          6,
          7,
          8,
          9,
          10,
          11,
          12,
          13
         ],
         "y": [
          19.973386764526367,
          8.369718551635742,
          2.5229921340942383,
          2.259068727493286,
          -14.322538375854492,
          -15.02341365814209,
          -16.95119857788086,
          -8.6034517288208,
          -10.114537239074707,
          -14.510905265808105,
          -10.898193359375,
          -11.39814567565918,
          -9.307476043701172
         ]
        },
        {
         "line": {
          "dash": "dash",
          "width": 4
         },
         "mode": "lines",
         "name": "ave mfcc: S_I",
         "type": "scatter",
         "x": [
          1,
          2,
          3,
          4,
          5,
          6,
          7,
          8,
          9,
          10,
          11,
          12,
          13
         ],
         "y": [
          16.465457916259766,
          -22.449539184570312,
          1.3965356349945068,
          -7.744617462158203,
          -7.391644477844238,
          -10.716032981872559,
          1.224860429763794,
          -3.428332567214966,
          -4.14506721496582,
          -0.3470013439655304,
          -8.782523155212402,
          -6.2796311378479,
          -3.8870863914489746
         ]
        },
        {
         "line": {
          "dash": "dash",
          "width": 4
         },
         "mode": "lines",
         "name": "ave mfcc: IH1_I",
         "type": "scatter",
         "x": [
          1,
          2,
          3,
          4,
          5,
          6,
          7,
          8,
          9,
          10,
          11,
          12,
          13
         ],
         "y": [
          20.49506950378418,
          -2.970331907272339,
          4.422876358032227,
          -8.055068016052246,
          -35.694889068603516,
          -16.540205001831055,
          -7.743582248687744,
          -4.609816074371338,
          -12.053409576416016,
          -2.3864195346832275,
          -17.22492790222168,
          -12.128283500671387,
          -9.0654296875
         ]
        }
       ],
       "layout": {
        "title": "Visualization of 9 frames",
        "xaxis": {
         "dtick": true,
         "title": "feature number"
        },
        "yaxis": {
         "title": "what does the value of y mean?"
        }
       }
      },
      "text/html": [
       "<div id=\"8735cd2d-1e93-4a6d-9f25-471d243c7152\" style=\"height: 525px; width: 100%;\" class=\"plotly-graph-div\"></div><script type=\"text/javascript\">require([\"plotly\"], function(Plotly) { window.PLOTLYENV=window.PLOTLYENV || {};window.PLOTLYENV.BASE_URL=\"https://plot.ly\";Plotly.newPlot(\"8735cd2d-1e93-4a6d-9f25-471d243c7152\", [{\"y\": [20.428014755249023, 16.363277435302734, 4.013741493225098, 8.823246955871582, -12.287324905395508, -16.922025680541992, 6.996381759643555, 4.0098066329956055, 8.68899917602539, 13.24889087677002, -0.5457765460014343, 5.236398220062256, -34.75303268432617], \"x\": [1, 2, 3, 4, 5, 6, 7, 8, 9, 10, 11, 12, 13], \"type\": \"scatter\", \"name\": \"frame 1/9: M_B\", \"mode\": \"lines\"}, {\"y\": [20.968738555908203, 14.279733657836914, 5.883308410644531, 11.259980201721191, -27.045665740966797, -13.18765926361084, 17.079315185546875, 3.892158031463623, -2.7650718688964844, 9.494845390319824, -1.5811338424682617, 14.655296325683594, -47.48044204711914], \"x\": [1, 2, 3, 4, 5, 6, 7, 8, 9, 10, 11, 12, 13], \"type\": \"scatter\", \"name\": \"frame 2/9: M_B\", \"mode\": \"lines\"}, {\"y\": [21.13675308227539, 10.030488014221191, 7.8623046875, 14.044817924499512, -35.40814971923828, -13.18765926361084, 15.745109558105469, 9.774598121643066, 5.320154666900635, 9.96410083770752, -11.051177978515625, 15.047750473022461, -25.207477569580078], \"x\": [1, 2, 3, 4, 5, 6, 7, 8, 9, 10, 11, 12, 13], \"type\": \"scatter\", \"name\": \"frame 3/9: IH1_I\", \"mode\": \"lines\"}, {\"y\": [21.19275665283203, 8.513047218322754, 12.229915618896484, 14.741026878356934, -36.976112365722656, -7.1012115478515625, 6.996381759643555, 14.69707202911377, 3.2988481521606445, 11.841123580932617, -1.192874789237976, 0.5269489288330078, -18.843772888183594], \"x\": [1, 2, 3, 4, 5, 6, 7, 8, 9, 10, 11, 12, 13], \"type\": \"scatter\", \"name\": \"frame 4/9: IH1_I\", \"mode\": \"lines\"}, {\"y\": [21.19275665283203, 2.8768410682678223, 21.759248733520508, 9.17135238647461, -34.885494232177734, -0.9857975840568542, 5.658081531524658, 6.127485275268555, 6.263431072235107, 12.310379981994629, 13.53551197052002, -13.002217292785645, -22.025625228881836], \"x\": [1, 2, 3, 4, 5, 6, 7, 8, 9, 10, 11, 12, 13], \"type\": \"scatter\", \"name\": \"frame 5/9: IH1_I\", \"mode\": \"lines\"}, {\"y\": [20.912734985351562, -4.710360050201416, 28.112136840820312, 9.867561340332031, -27.56831932067871, -3.3378798961639404, 2.535382032394409, 1.1862353086471558, 16.644569396972656, 9.96410083770752, 28.95274543762207, -23.62842559814453, -10.57095718383789], \"x\": [1, 2, 3, 4, 5, 6, 7, 8, 9, 10, 11, 12, 13], \"type\": \"scatter\", \"name\": \"frame 6/9: IH1_I\", \"mode\": \"lines\"}, {\"y\": [20.38762092590332, -14.949294090270996, 32.08269500732422, 6.087552547454834, -20.7738037109375, 8.10892105102539, -1.6282174587249756, 20.570714950561523, 5.320154666900635, 15.125913619995117, 17.0043888092041, -22.632343292236328, 18.46919059753418], \"x\": [1, 2, 3, 4, 5, 6, 7, 8, 9, 10, 11, 12, 13], \"type\": \"scatter\", \"name\": \"frame 7/9: IH1_I\", \"mode\": \"lines\"}, {\"y\": [19.579753875732422, -26.859359741210938, 24.141582489013672, 18.570178985595703, 8.147351264953613, 12.051640510559082, 13.521435737609863, 3.7745091915130615, -8.41170883178711, 0.9877848625183105, 12.379219055175781, -20.142139434814453, 4.8245391845703125], \"x\": [1, 2, 3, 4, 5, 6, 7, 8, 9, 10, 11, 12, 13], \"type\": \"scatter\", \"name\": \"frame 8/9: S_I\", \"mode\": \"lines\"}, {\"y\": [17.72165870666504, -26.292213439941406, 16.200471878051758, 6.699398040771484, 5.803767204284668, -9.13968276977539, 20.192459106445312, -8.354581832885742, 1.681802749633789, -6.552258014678955, 11.993788719177246, -3.9827730655670166, 7.997714042663574], \"x\": [1, 2, 3, 4, 5, 6, 7, 8, 9, 10, 11, 12, 13], \"type\": \"scatter\", \"name\": \"frame 9/9: S_I\", \"mode\": \"lines\"}, {\"name\": \"ave mfcc: M_B\", \"mode\": \"lines\", \"y\": [19.973386764526367, 8.369718551635742, 2.5229921340942383, 2.259068727493286, -14.322538375854492, -15.02341365814209, -16.95119857788086, -8.6034517288208, -10.114537239074707, -14.510905265808105, -10.898193359375, -11.39814567565918, -9.307476043701172], \"x\": [1, 2, 3, 4, 5, 6, 7, 8, 9, 10, 11, 12, 13], \"line\": {\"dash\": \"dash\", \"width\": 4}, \"type\": \"scatter\"}, {\"name\": \"ave mfcc: S_I\", \"mode\": \"lines\", \"y\": [16.465457916259766, -22.449539184570312, 1.3965356349945068, -7.744617462158203, -7.391644477844238, -10.716032981872559, 1.224860429763794, -3.428332567214966, -4.14506721496582, -0.3470013439655304, -8.782523155212402, -6.2796311378479, -3.8870863914489746], \"x\": [1, 2, 3, 4, 5, 6, 7, 8, 9, 10, 11, 12, 13], \"line\": {\"dash\": \"dash\", \"width\": 4}, \"type\": \"scatter\"}, {\"name\": \"ave mfcc: IH1_I\", \"mode\": \"lines\", \"y\": [20.49506950378418, -2.970331907272339, 4.422876358032227, -8.055068016052246, -35.694889068603516, -16.540205001831055, -7.743582248687744, -4.609816074371338, -12.053409576416016, -2.3864195346832275, -17.22492790222168, -12.128283500671387, -9.0654296875], \"x\": [1, 2, 3, 4, 5, 6, 7, 8, 9, 10, 11, 12, 13], \"line\": {\"dash\": \"dash\", \"width\": 4}, \"type\": \"scatter\"}], {\"title\": \"Visualization of 9 frames\", \"xaxis\": {\"dtick\": true, \"title\": \"feature number\"}, \"yaxis\": {\"title\": \"what does the value of y mean?\"}}, {\"linkText\": \"Export to plot.ly\", \"showLink\": true})});</script>"
      ],
      "text/vnd.plotly.v1+html": [
       "<div id=\"8735cd2d-1e93-4a6d-9f25-471d243c7152\" style=\"height: 525px; width: 100%;\" class=\"plotly-graph-div\"></div><script type=\"text/javascript\">require([\"plotly\"], function(Plotly) { window.PLOTLYENV=window.PLOTLYENV || {};window.PLOTLYENV.BASE_URL=\"https://plot.ly\";Plotly.newPlot(\"8735cd2d-1e93-4a6d-9f25-471d243c7152\", [{\"y\": [20.428014755249023, 16.363277435302734, 4.013741493225098, 8.823246955871582, -12.287324905395508, -16.922025680541992, 6.996381759643555, 4.0098066329956055, 8.68899917602539, 13.24889087677002, -0.5457765460014343, 5.236398220062256, -34.75303268432617], \"x\": [1, 2, 3, 4, 5, 6, 7, 8, 9, 10, 11, 12, 13], \"type\": \"scatter\", \"name\": \"frame 1/9: M_B\", \"mode\": \"lines\"}, {\"y\": [20.968738555908203, 14.279733657836914, 5.883308410644531, 11.259980201721191, -27.045665740966797, -13.18765926361084, 17.079315185546875, 3.892158031463623, -2.7650718688964844, 9.494845390319824, -1.5811338424682617, 14.655296325683594, -47.48044204711914], \"x\": [1, 2, 3, 4, 5, 6, 7, 8, 9, 10, 11, 12, 13], \"type\": \"scatter\", \"name\": \"frame 2/9: M_B\", \"mode\": \"lines\"}, {\"y\": [21.13675308227539, 10.030488014221191, 7.8623046875, 14.044817924499512, -35.40814971923828, -13.18765926361084, 15.745109558105469, 9.774598121643066, 5.320154666900635, 9.96410083770752, -11.051177978515625, 15.047750473022461, -25.207477569580078], \"x\": [1, 2, 3, 4, 5, 6, 7, 8, 9, 10, 11, 12, 13], \"type\": \"scatter\", \"name\": \"frame 3/9: IH1_I\", \"mode\": \"lines\"}, {\"y\": [21.19275665283203, 8.513047218322754, 12.229915618896484, 14.741026878356934, -36.976112365722656, -7.1012115478515625, 6.996381759643555, 14.69707202911377, 3.2988481521606445, 11.841123580932617, -1.192874789237976, 0.5269489288330078, -18.843772888183594], \"x\": [1, 2, 3, 4, 5, 6, 7, 8, 9, 10, 11, 12, 13], \"type\": \"scatter\", \"name\": \"frame 4/9: IH1_I\", \"mode\": \"lines\"}, {\"y\": [21.19275665283203, 2.8768410682678223, 21.759248733520508, 9.17135238647461, -34.885494232177734, -0.9857975840568542, 5.658081531524658, 6.127485275268555, 6.263431072235107, 12.310379981994629, 13.53551197052002, -13.002217292785645, -22.025625228881836], \"x\": [1, 2, 3, 4, 5, 6, 7, 8, 9, 10, 11, 12, 13], \"type\": \"scatter\", \"name\": \"frame 5/9: IH1_I\", \"mode\": \"lines\"}, {\"y\": [20.912734985351562, -4.710360050201416, 28.112136840820312, 9.867561340332031, -27.56831932067871, -3.3378798961639404, 2.535382032394409, 1.1862353086471558, 16.644569396972656, 9.96410083770752, 28.95274543762207, -23.62842559814453, -10.57095718383789], \"x\": [1, 2, 3, 4, 5, 6, 7, 8, 9, 10, 11, 12, 13], \"type\": \"scatter\", \"name\": \"frame 6/9: IH1_I\", \"mode\": \"lines\"}, {\"y\": [20.38762092590332, -14.949294090270996, 32.08269500732422, 6.087552547454834, -20.7738037109375, 8.10892105102539, -1.6282174587249756, 20.570714950561523, 5.320154666900635, 15.125913619995117, 17.0043888092041, -22.632343292236328, 18.46919059753418], \"x\": [1, 2, 3, 4, 5, 6, 7, 8, 9, 10, 11, 12, 13], \"type\": \"scatter\", \"name\": \"frame 7/9: IH1_I\", \"mode\": \"lines\"}, {\"y\": [19.579753875732422, -26.859359741210938, 24.141582489013672, 18.570178985595703, 8.147351264953613, 12.051640510559082, 13.521435737609863, 3.7745091915130615, -8.41170883178711, 0.9877848625183105, 12.379219055175781, -20.142139434814453, 4.8245391845703125], \"x\": [1, 2, 3, 4, 5, 6, 7, 8, 9, 10, 11, 12, 13], \"type\": \"scatter\", \"name\": \"frame 8/9: S_I\", \"mode\": \"lines\"}, {\"y\": [17.72165870666504, -26.292213439941406, 16.200471878051758, 6.699398040771484, 5.803767204284668, -9.13968276977539, 20.192459106445312, -8.354581832885742, 1.681802749633789, -6.552258014678955, 11.993788719177246, -3.9827730655670166, 7.997714042663574], \"x\": [1, 2, 3, 4, 5, 6, 7, 8, 9, 10, 11, 12, 13], \"type\": \"scatter\", \"name\": \"frame 9/9: S_I\", \"mode\": \"lines\"}, {\"name\": \"ave mfcc: M_B\", \"mode\": \"lines\", \"y\": [19.973386764526367, 8.369718551635742, 2.5229921340942383, 2.259068727493286, -14.322538375854492, -15.02341365814209, -16.95119857788086, -8.6034517288208, -10.114537239074707, -14.510905265808105, -10.898193359375, -11.39814567565918, -9.307476043701172], \"x\": [1, 2, 3, 4, 5, 6, 7, 8, 9, 10, 11, 12, 13], \"line\": {\"dash\": \"dash\", \"width\": 4}, \"type\": \"scatter\"}, {\"name\": \"ave mfcc: S_I\", \"mode\": \"lines\", \"y\": [16.465457916259766, -22.449539184570312, 1.3965356349945068, -7.744617462158203, -7.391644477844238, -10.716032981872559, 1.224860429763794, -3.428332567214966, -4.14506721496582, -0.3470013439655304, -8.782523155212402, -6.2796311378479, -3.8870863914489746], \"x\": [1, 2, 3, 4, 5, 6, 7, 8, 9, 10, 11, 12, 13], \"line\": {\"dash\": \"dash\", \"width\": 4}, \"type\": \"scatter\"}, {\"name\": \"ave mfcc: IH1_I\", \"mode\": \"lines\", \"y\": [20.49506950378418, -2.970331907272339, 4.422876358032227, -8.055068016052246, -35.694889068603516, -16.540205001831055, -7.743582248687744, -4.609816074371338, -12.053409576416016, -2.3864195346832275, -17.22492790222168, -12.128283500671387, -9.0654296875], \"x\": [1, 2, 3, 4, 5, 6, 7, 8, 9, 10, 11, 12, 13], \"line\": {\"dash\": \"dash\", \"width\": 4}, \"type\": \"scatter\"}], {\"title\": \"Visualization of 9 frames\", \"xaxis\": {\"dtick\": true, \"title\": \"feature number\"}, \"yaxis\": {\"title\": \"what does the value of y mean?\"}}, {\"linkText\": \"Export to plot.ly\", \"showLink\": true})});</script>"
      ]
     },
     "metadata": {},
     "output_type": "display_data"
    }
   ],
   "source": [
    "py.iplot(\n",
    "    fv.plot_frames(\n",
    "        frames=feats_in[SAMPLE][ex_1[\"start\"]-2:ex_1[\"stop\"]+2],\n",
    "        phones=ali_in[SAMPLE][ex_1[\"start\"]-2:ex_1[\"stop\"]+2],\n",
    "        average_mfccs_dict=ave_dict\n",
    "    )\n",
    ")"
   ]
  },
  {
   "cell_type": "markdown",
   "metadata": {},
   "source": [
    "Compare frame `3/9` with `4/9` (the first two frames of `IH`).  They are very similar.\n",
    "\n",
    "Now compare `3/9` to `7/9` (the *first* and *last* frames of `IH`).  Very different.\n",
    "\n",
    "Now compare `2/9` to `3/9` (the *last* `M` frame with the first `IH` frame).  And compare `7/9` with `8/9` (the *last* `IH` frame and the *first* `S` frame)."
   ]
  },
  {
   "cell_type": "markdown",
   "metadata": {},
   "source": [
    "#### `ex_2` (\"...WIL...\")"
   ]
  },
  {
   "cell_type": "markdown",
   "metadata": {},
   "source": [
    "Compare this sequence (`ex_1`) with `ex_2` (\"QUILTER\")"
   ]
  },
  {
   "cell_type": "code",
   "execution_count": 56,
   "metadata": {},
   "outputs": [
    {
     "data": {
      "application/vnd.plotly.v1+json": {
       "data": [
        {
         "mode": "lines",
         "name": "frame 1/7: W_I",
         "type": "scatter",
         "x": [
          1,
          2,
          3,
          4,
          5,
          6,
          7,
          8,
          9,
          10,
          11,
          12,
          13
         ],
         "y": [
          22.676870346069336,
          16.363277435302734,
          -3.3207149505615234,
          -23.490543365478516,
          -1.7476540803909302,
          -6.473989486694336,
          -25.06595802307129,
          4.715699672698975,
          33.646484375,
          -12.443474769592285,
          -9.809696197509766,
          -11.103386878967285,
          13.709428787231445
         ]
        },
        {
         "mode": "lines",
         "name": "frame 2/7: W_I",
         "type": "scatter",
         "x": [
          1,
          2,
          3,
          4,
          5,
          6,
          7,
          8,
          9,
          10,
          11,
          12,
          13
         ],
         "y": [
          22.648868560791016,
          17.057790756225586,
          -0.5882704257965088,
          -31.365087509155273,
          4.631975173950195,
          -1.9266304969787598,
          -27.90142059326172,
          6.951026916503906,
          23.57127571105957,
          -2.2622337341308594,
          -10.637351036071777,
          -17.651935577392578,
          14.344063758850098
         ]
        },
        {
         "mode": "lines",
         "name": "frame 3/7: IH1_I",
         "type": "scatter",
         "x": [
          1,
          2,
          3,
          4,
          5,
          6,
          7,
          8,
          9,
          10,
          11,
          12,
          13
         ],
         "y": [
          22.620866775512695,
          18.09956169128418,
          2.5756125450134277,
          -41.601993560791016,
          11.662727355957031,
          -1.4562140703201294,
          -20.205167770385742,
          2.1274259090423584,
          19.163372039794922,
          4.367804050445557,
          -7.32673454284668,
          -19.146059036254883,
          9.584300994873047
         ]
        },
        {
         "mode": "lines",
         "name": "frame 4/7: IH1_I",
         "type": "scatter",
         "x": [
          1,
          2,
          3,
          4,
          5,
          6,
          7,
          8,
          9,
          10,
          11,
          12,
          13
         ],
         "y": [
          22.592863082885742,
          18.09956169128418,
          5.308056831359863,
          -47.90163040161133,
          10.490935325622559,
          0.11184081435203552,
          -20.205167770385742,
          4.598051071166992,
          16.014869689941406,
          7.48782205581665,
          -6.499080657958984,
          -16.655855178833008,
          5.776491641998291
         ]
        },
        {
         "mode": "lines",
         "name": "frame 5/7: IH1_I",
         "type": "scatter",
         "x": [
          1,
          2,
          3,
          4,
          5,
          6,
          7,
          8,
          9,
          10,
          11,
          12,
          13
         ],
         "y": [
          22.648868560791016,
          18.794076919555664,
          7.8623046875,
          -50.26399230957031,
          9.319143295288086,
          -2.710657835006714,
          -18.584903717041016,
          4.950997352600098,
          7.745722770690918,
          17.00293731689453,
          -5.851982593536377,
          -14.663692474365234,
          5.776491641998291
         ]
        },
        {
         "mode": "lines",
         "name": "frame 6/7: L_I",
         "type": "scatter",
         "x": [
          1,
          2,
          3,
          4,
          5,
          6,
          7,
          8,
          9,
          10,
          11,
          12,
          13
         ],
         "y": [
          22.5368595123291,
          19.488590240478516,
          6.314746856689453,
          -50.26399230957031,
          7.561455249786377,
          -0.6721866130828857,
          -20.610233306884766,
          3.3039138317108154,
          11.114566802978516,
          18.410703659057617,
          -8.568215370178223,
          -4.220126628875732,
          -6.224924564361572
         ]
        },
        {
         "mode": "lines",
         "name": "frame 7/7: L_I",
         "type": "scatter",
         "x": [
          1,
          2,
          3,
          4,
          5,
          6,
          7,
          8,
          9,
          10,
          11,
          12,
          13
         ],
         "y": [
          22.284839630126953,
          18.09956169128418,
          5.0204315185546875,
          -43.176902770996094,
          2.3442180156707764,
          3.0911450386047363,
          -29.521684646606445,
          12.362872123718262,
          1.681802749633789,
          31.549861907958984,
          -15.60327434539795,
          -2.558650255203247,
          -4.729461669921875
         ]
        },
        {
         "line": {
          "dash": "dash",
          "width": 4
         },
         "mode": "lines",
         "name": "ave mfcc: W_I",
         "type": "scatter",
         "x": [
          1,
          2,
          3,
          4,
          5,
          6,
          7,
          8,
          9,
          10,
          11,
          12,
          13
         ],
         "y": [
          19.72712516784668,
          7.921943187713623,
          -7.64295768737793,
          -16.709341049194336,
          -11.93005084991455,
          -10.98047924041748,
          -12.725458145141602,
          -5.0953569412231445,
          -4.792191028594971,
          -8.437359809875488,
          -6.795709609985352,
          -10.578014373779297,
          -6.192347526550293
         ]
        },
        {
         "line": {
          "dash": "dash",
          "width": 4
         },
         "mode": "lines",
         "name": "ave mfcc: IH1_I",
         "type": "scatter",
         "x": [
          1,
          2,
          3,
          4,
          5,
          6,
          7,
          8,
          9,
          10,
          11,
          12,
          13
         ],
         "y": [
          20.49506950378418,
          -2.970331907272339,
          4.422876358032227,
          -8.055068016052246,
          -35.694889068603516,
          -16.540205001831055,
          -7.743582248687744,
          -4.609816074371338,
          -12.053409576416016,
          -2.3864195346832275,
          -17.22492790222168,
          -12.128283500671387,
          -9.0654296875
         ]
        },
        {
         "line": {
          "dash": "dash",
          "width": 4
         },
         "mode": "lines",
         "name": "ave mfcc: L_I",
         "type": "scatter",
         "x": [
          1,
          2,
          3,
          4,
          5,
          6,
          7,
          8,
          9,
          10,
          11,
          12,
          13
         ],
         "y": [
          20.539731979370117,
          8.161568641662598,
          -9.564056396484375,
          -27.6529483795166,
          -6.2658538818359375,
          -17.031251907348633,
          -14.640317916870117,
          0.9168018102645874,
          -12.096837043762207,
          -3.953592538833618,
          -16.240407943725586,
          -9.147677421569824,
          -9.895272254943848
         ]
        }
       ],
       "layout": {
        "title": "Visualization of 7 frames",
        "xaxis": {
         "dtick": true,
         "title": "feature number"
        },
        "yaxis": {
         "title": "what does the value of y mean?"
        }
       }
      },
      "text/html": [
       "<div id=\"86db8b2f-a712-4442-a4e4-a220ab9fdcc7\" style=\"height: 525px; width: 100%;\" class=\"plotly-graph-div\"></div><script type=\"text/javascript\">require([\"plotly\"], function(Plotly) { window.PLOTLYENV=window.PLOTLYENV || {};window.PLOTLYENV.BASE_URL=\"https://plot.ly\";Plotly.newPlot(\"86db8b2f-a712-4442-a4e4-a220ab9fdcc7\", [{\"y\": [22.676870346069336, 16.363277435302734, -3.3207149505615234, -23.490543365478516, -1.7476540803909302, -6.473989486694336, -25.06595802307129, 4.715699672698975, 33.646484375, -12.443474769592285, -9.809696197509766, -11.103386878967285, 13.709428787231445], \"x\": [1, 2, 3, 4, 5, 6, 7, 8, 9, 10, 11, 12, 13], \"type\": \"scatter\", \"name\": \"frame 1/7: W_I\", \"mode\": \"lines\"}, {\"y\": [22.648868560791016, 17.057790756225586, -0.5882704257965088, -31.365087509155273, 4.631975173950195, -1.9266304969787598, -27.90142059326172, 6.951026916503906, 23.57127571105957, -2.2622337341308594, -10.637351036071777, -17.651935577392578, 14.344063758850098], \"x\": [1, 2, 3, 4, 5, 6, 7, 8, 9, 10, 11, 12, 13], \"type\": \"scatter\", \"name\": \"frame 2/7: W_I\", \"mode\": \"lines\"}, {\"y\": [22.620866775512695, 18.09956169128418, 2.5756125450134277, -41.601993560791016, 11.662727355957031, -1.4562140703201294, -20.205167770385742, 2.1274259090423584, 19.163372039794922, 4.367804050445557, -7.32673454284668, -19.146059036254883, 9.584300994873047], \"x\": [1, 2, 3, 4, 5, 6, 7, 8, 9, 10, 11, 12, 13], \"type\": \"scatter\", \"name\": \"frame 3/7: IH1_I\", \"mode\": \"lines\"}, {\"y\": [22.592863082885742, 18.09956169128418, 5.308056831359863, -47.90163040161133, 10.490935325622559, 0.11184081435203552, -20.205167770385742, 4.598051071166992, 16.014869689941406, 7.48782205581665, -6.499080657958984, -16.655855178833008, 5.776491641998291], \"x\": [1, 2, 3, 4, 5, 6, 7, 8, 9, 10, 11, 12, 13], \"type\": \"scatter\", \"name\": \"frame 4/7: IH1_I\", \"mode\": \"lines\"}, {\"y\": [22.648868560791016, 18.794076919555664, 7.8623046875, -50.26399230957031, 9.319143295288086, -2.710657835006714, -18.584903717041016, 4.950997352600098, 7.745722770690918, 17.00293731689453, -5.851982593536377, -14.663692474365234, 5.776491641998291], \"x\": [1, 2, 3, 4, 5, 6, 7, 8, 9, 10, 11, 12, 13], \"type\": \"scatter\", \"name\": \"frame 5/7: IH1_I\", \"mode\": \"lines\"}, {\"y\": [22.5368595123291, 19.488590240478516, 6.314746856689453, -50.26399230957031, 7.561455249786377, -0.6721866130828857, -20.610233306884766, 3.3039138317108154, 11.114566802978516, 18.410703659057617, -8.568215370178223, -4.220126628875732, -6.224924564361572], \"x\": [1, 2, 3, 4, 5, 6, 7, 8, 9, 10, 11, 12, 13], \"type\": \"scatter\", \"name\": \"frame 6/7: L_I\", \"mode\": \"lines\"}, {\"y\": [22.284839630126953, 18.09956169128418, 5.0204315185546875, -43.176902770996094, 2.3442180156707764, 3.0911450386047363, -29.521684646606445, 12.362872123718262, 1.681802749633789, 31.549861907958984, -15.60327434539795, -2.558650255203247, -4.729461669921875], \"x\": [1, 2, 3, 4, 5, 6, 7, 8, 9, 10, 11, 12, 13], \"type\": \"scatter\", \"name\": \"frame 7/7: L_I\", \"mode\": \"lines\"}, {\"name\": \"ave mfcc: W_I\", \"mode\": \"lines\", \"y\": [19.72712516784668, 7.921943187713623, -7.64295768737793, -16.709341049194336, -11.93005084991455, -10.98047924041748, -12.725458145141602, -5.0953569412231445, -4.792191028594971, -8.437359809875488, -6.795709609985352, -10.578014373779297, -6.192347526550293], \"x\": [1, 2, 3, 4, 5, 6, 7, 8, 9, 10, 11, 12, 13], \"line\": {\"dash\": \"dash\", \"width\": 4}, \"type\": \"scatter\"}, {\"name\": \"ave mfcc: IH1_I\", \"mode\": \"lines\", \"y\": [20.49506950378418, -2.970331907272339, 4.422876358032227, -8.055068016052246, -35.694889068603516, -16.540205001831055, -7.743582248687744, -4.609816074371338, -12.053409576416016, -2.3864195346832275, -17.22492790222168, -12.128283500671387, -9.0654296875], \"x\": [1, 2, 3, 4, 5, 6, 7, 8, 9, 10, 11, 12, 13], \"line\": {\"dash\": \"dash\", \"width\": 4}, \"type\": \"scatter\"}, {\"name\": \"ave mfcc: L_I\", \"mode\": \"lines\", \"y\": [20.539731979370117, 8.161568641662598, -9.564056396484375, -27.6529483795166, -6.2658538818359375, -17.031251907348633, -14.640317916870117, 0.9168018102645874, -12.096837043762207, -3.953592538833618, -16.240407943725586, -9.147677421569824, -9.895272254943848], \"x\": [1, 2, 3, 4, 5, 6, 7, 8, 9, 10, 11, 12, 13], \"line\": {\"dash\": \"dash\", \"width\": 4}, \"type\": \"scatter\"}], {\"title\": \"Visualization of 7 frames\", \"xaxis\": {\"dtick\": true, \"title\": \"feature number\"}, \"yaxis\": {\"title\": \"what does the value of y mean?\"}}, {\"linkText\": \"Export to plot.ly\", \"showLink\": true})});</script>"
      ],
      "text/vnd.plotly.v1+html": [
       "<div id=\"86db8b2f-a712-4442-a4e4-a220ab9fdcc7\" style=\"height: 525px; width: 100%;\" class=\"plotly-graph-div\"></div><script type=\"text/javascript\">require([\"plotly\"], function(Plotly) { window.PLOTLYENV=window.PLOTLYENV || {};window.PLOTLYENV.BASE_URL=\"https://plot.ly\";Plotly.newPlot(\"86db8b2f-a712-4442-a4e4-a220ab9fdcc7\", [{\"y\": [22.676870346069336, 16.363277435302734, -3.3207149505615234, -23.490543365478516, -1.7476540803909302, -6.473989486694336, -25.06595802307129, 4.715699672698975, 33.646484375, -12.443474769592285, -9.809696197509766, -11.103386878967285, 13.709428787231445], \"x\": [1, 2, 3, 4, 5, 6, 7, 8, 9, 10, 11, 12, 13], \"type\": \"scatter\", \"name\": \"frame 1/7: W_I\", \"mode\": \"lines\"}, {\"y\": [22.648868560791016, 17.057790756225586, -0.5882704257965088, -31.365087509155273, 4.631975173950195, -1.9266304969787598, -27.90142059326172, 6.951026916503906, 23.57127571105957, -2.2622337341308594, -10.637351036071777, -17.651935577392578, 14.344063758850098], \"x\": [1, 2, 3, 4, 5, 6, 7, 8, 9, 10, 11, 12, 13], \"type\": \"scatter\", \"name\": \"frame 2/7: W_I\", \"mode\": \"lines\"}, {\"y\": [22.620866775512695, 18.09956169128418, 2.5756125450134277, -41.601993560791016, 11.662727355957031, -1.4562140703201294, -20.205167770385742, 2.1274259090423584, 19.163372039794922, 4.367804050445557, -7.32673454284668, -19.146059036254883, 9.584300994873047], \"x\": [1, 2, 3, 4, 5, 6, 7, 8, 9, 10, 11, 12, 13], \"type\": \"scatter\", \"name\": \"frame 3/7: IH1_I\", \"mode\": \"lines\"}, {\"y\": [22.592863082885742, 18.09956169128418, 5.308056831359863, -47.90163040161133, 10.490935325622559, 0.11184081435203552, -20.205167770385742, 4.598051071166992, 16.014869689941406, 7.48782205581665, -6.499080657958984, -16.655855178833008, 5.776491641998291], \"x\": [1, 2, 3, 4, 5, 6, 7, 8, 9, 10, 11, 12, 13], \"type\": \"scatter\", \"name\": \"frame 4/7: IH1_I\", \"mode\": \"lines\"}, {\"y\": [22.648868560791016, 18.794076919555664, 7.8623046875, -50.26399230957031, 9.319143295288086, -2.710657835006714, -18.584903717041016, 4.950997352600098, 7.745722770690918, 17.00293731689453, -5.851982593536377, -14.663692474365234, 5.776491641998291], \"x\": [1, 2, 3, 4, 5, 6, 7, 8, 9, 10, 11, 12, 13], \"type\": \"scatter\", \"name\": \"frame 5/7: IH1_I\", \"mode\": \"lines\"}, {\"y\": [22.5368595123291, 19.488590240478516, 6.314746856689453, -50.26399230957031, 7.561455249786377, -0.6721866130828857, -20.610233306884766, 3.3039138317108154, 11.114566802978516, 18.410703659057617, -8.568215370178223, -4.220126628875732, -6.224924564361572], \"x\": [1, 2, 3, 4, 5, 6, 7, 8, 9, 10, 11, 12, 13], \"type\": \"scatter\", \"name\": \"frame 6/7: L_I\", \"mode\": \"lines\"}, {\"y\": [22.284839630126953, 18.09956169128418, 5.0204315185546875, -43.176902770996094, 2.3442180156707764, 3.0911450386047363, -29.521684646606445, 12.362872123718262, 1.681802749633789, 31.549861907958984, -15.60327434539795, -2.558650255203247, -4.729461669921875], \"x\": [1, 2, 3, 4, 5, 6, 7, 8, 9, 10, 11, 12, 13], \"type\": \"scatter\", \"name\": \"frame 7/7: L_I\", \"mode\": \"lines\"}, {\"name\": \"ave mfcc: W_I\", \"mode\": \"lines\", \"y\": [19.72712516784668, 7.921943187713623, -7.64295768737793, -16.709341049194336, -11.93005084991455, -10.98047924041748, -12.725458145141602, -5.0953569412231445, -4.792191028594971, -8.437359809875488, -6.795709609985352, -10.578014373779297, -6.192347526550293], \"x\": [1, 2, 3, 4, 5, 6, 7, 8, 9, 10, 11, 12, 13], \"line\": {\"dash\": \"dash\", \"width\": 4}, \"type\": \"scatter\"}, {\"name\": \"ave mfcc: IH1_I\", \"mode\": \"lines\", \"y\": [20.49506950378418, -2.970331907272339, 4.422876358032227, -8.055068016052246, -35.694889068603516, -16.540205001831055, -7.743582248687744, -4.609816074371338, -12.053409576416016, -2.3864195346832275, -17.22492790222168, -12.128283500671387, -9.0654296875], \"x\": [1, 2, 3, 4, 5, 6, 7, 8, 9, 10, 11, 12, 13], \"line\": {\"dash\": \"dash\", \"width\": 4}, \"type\": \"scatter\"}, {\"name\": \"ave mfcc: L_I\", \"mode\": \"lines\", \"y\": [20.539731979370117, 8.161568641662598, -9.564056396484375, -27.6529483795166, -6.2658538818359375, -17.031251907348633, -14.640317916870117, 0.9168018102645874, -12.096837043762207, -3.953592538833618, -16.240407943725586, -9.147677421569824, -9.895272254943848], \"x\": [1, 2, 3, 4, 5, 6, 7, 8, 9, 10, 11, 12, 13], \"line\": {\"dash\": \"dash\", \"width\": 4}, \"type\": \"scatter\"}], {\"title\": \"Visualization of 7 frames\", \"xaxis\": {\"dtick\": true, \"title\": \"feature number\"}, \"yaxis\": {\"title\": \"what does the value of y mean?\"}}, {\"linkText\": \"Export to plot.ly\", \"showLink\": true})});</script>"
      ]
     },
     "metadata": {},
     "output_type": "display_data"
    }
   ],
   "source": [
    "py.iplot(\n",
    "    fv.plot_frames(\n",
    "        frames=feats_in[SAMPLE][ex_2[\"start\"]-2:ex_2[\"stop\"]+2],\n",
    "        phones=ali_in[SAMPLE][ex_2[\"start\"]-2:ex_2[\"stop\"]+2],\n",
    "        average_mfccs_dict=ave_dict\n",
    "    )\n",
    ")"
   ]
  },
  {
   "cell_type": "markdown",
   "metadata": {},
   "source": [
    "Notice how much \"tighter\" all these frames line up with each other."
   ]
  }
 ],
 "metadata": {
  "kernelspec": {
   "display_name": "Python 2",
   "language": "python",
   "name": "python2"
  },
  "language_info": {
   "codemirror_mode": {
    "name": "ipython",
    "version": 2
   },
   "file_extension": ".py",
   "mimetype": "text/x-python",
   "name": "python",
   "nbconvert_exporter": "python",
   "pygments_lexer": "ipython2",
   "version": "2.7.12"
  }
 },
 "nbformat": 4,
 "nbformat_minor": 2
}
