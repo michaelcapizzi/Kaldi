{
 "cells": [
  {
   "cell_type": "markdown",
   "metadata": {},
   "source": [
    "# 4.HW: Examining mfccs in more detail"
   ]
  },
  {
   "cell_type": "markdown",
   "metadata": {},
   "source": [
    "## Task\n",
    "\n",
    "Using The `Case Study of IH` section of `4_3-examining_mfccs.ipynb` as an example, develop a case study that analyzes some aspect of how we generate `MFCC` vectors from raw audio.  \n",
    "\n",
    "### Suggestions\n",
    "\n",
    "- ???\n",
    "- impact of a different set configurations when building `MFCC`s\n"
   ]
  },
  {
   "cell_type": "markdown",
   "metadata": {},
   "source": [
    "## Procedure\n",
    "\n",
    "  1. Copy this notebook and rename it `4_HW_[your-last-name]-examining_mfccs.ipynb`.  This is **vital** so as not to create `git conflict`s!\n",
    "  2. Add your case study to the section below\n",
    "  3. **Preferred** Save your finished `notebook` as `PDF`: `File` - `Download As` - `PDF`.  **Note** This will require `pandoc`.  Installation instructions are [here](http://pandoc.org/installing.html)\n",
    "  3. **Less Preferred** Save your finished `notebook` as `html`: `File` - `Download As` - `HTML`.\n",
    "  4. Post your file to ________"
   ]
  },
  {
   "cell_type": "markdown",
   "metadata": {},
   "source": [
    "## Case Study: ???"
   ]
  }
 ],
 "metadata": {
  "kernelspec": {
   "display_name": "Python 2",
   "language": "python",
   "name": "python2"
  },
  "language_info": {
   "codemirror_mode": {
    "name": "ipython",
    "version": 2
   },
   "file_extension": ".py",
   "mimetype": "text/x-python",
   "name": "python",
   "nbconvert_exporter": "python",
   "pygments_lexer": "ipython2",
   "version": "2.7.12"
  }
 },
 "nbformat": 4,
 "nbformat_minor": 2
}
