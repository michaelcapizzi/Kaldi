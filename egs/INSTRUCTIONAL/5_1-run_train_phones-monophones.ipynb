{
 "cells": [
  {
   "cell_type": "markdown",
   "metadata": {},
   "source": [
    "# 5.1: `run_train_phones.sh` - Building the acoustic model (`monophones`)\n",
    "\n",
    "We will begin to build the acoustic model of our ASR pipeline.  This model will be responsible for predicting the phone that is represented by a portion of raw audio.\n",
    "\n",
    "A *very* brief overview of acoustic modeling can be found [here](https://www.eleanorchodroff.com/tutorial/kaldi/kaldi-concept.html)."
   ]
  },
  {
   "cell_type": "markdown",
   "metadata": {},
   "source": [
    "In this notebook, we will simply build the initial layer of the acoustic model, a `monophone` representation of the features."
   ]
  },
  {
   "cell_type": "markdown",
   "metadata": {},
   "source": [
    "## Setting `kaldi_config.json`\n",
    "\n",
    "Edit the `run_train_phones` section of `kaldi_config.json` to use the following arguments:\n",
    " - `training_type`=`mono`      # since we are only doing first layer\n",
    " - `num_gaussians`=`10000`     # number of `gaussian`s used to build the model\n",
    " - `data_reduction_rate`=`10`  # monophone training can be done on subset of data, in this case 1/10th, for speed\n",
    " - `non_vanilla_train_mono_hyperparameters`=`null`\n",
    " - `non_vanilla_mono_align_hyperparameters`=`null`\n",
    " \n",
    "It is not necessary to worry about the other hyperparameters for this layer of training."
   ]
  },
  {
   "cell_type": "code",
   "execution_count": null,
   "metadata": {},
   "outputs": [],
   "source": [
    "head -n30 run_train_phones.sh"
   ]
  },
  {
   "cell_type": "markdown",
   "metadata": {},
   "source": [
    "## Running `run_train_phones.sh`"
   ]
  },
  {
   "cell_type": "markdown",
   "metadata": {},
   "source": [
    "Run `run_train_phones.sh`.  Carefully read through the output to ensure that there were no errors."
   ]
  },
  {
   "cell_type": "code",
   "execution_count": 1,
   "metadata": {},
   "outputs": [
    {
     "name": "stdout",
     "output_type": "stream",
     "text": [
      "flat start monophone training\n",
      "Timestamp in HH:MM:SS (24 hour format)\n",
      "21:09:04\n",
      "\n",
      "/scratch/kaldi/egs/INSTRUCTIONAL/utils/subset_data_dir.sh: reducing #utt from 2703 to 270\n",
      "/scratch/kaldi/egs/INSTRUCTIONAL/steps/train_mono.sh --nj 4 --totgauss 10000 /scratch/kaldi/egs/INSTRUCTIONAL/data/train_270_dir /scratch/kaldi/egs/INSTRUCTIONAL/data/lang /scratch/kaldi/egs/INSTRUCTIONAL/exp/monophones\n",
      "/scratch/kaldi/egs/INSTRUCTIONAL/steps/train_mono.sh: Initializing monophone system.\n",
      "/scratch/kaldi/egs/INSTRUCTIONAL/steps/train_mono.sh: Compiling training graphs\n",
      "/scratch/kaldi/egs/INSTRUCTIONAL/steps/train_mono.sh: Aligning data equally (pass 0)\n",
      "/scratch/kaldi/egs/INSTRUCTIONAL/steps/train_mono.sh: Pass 1\n",
      "/scratch/kaldi/egs/INSTRUCTIONAL/steps/train_mono.sh: Aligning data\n",
      "/scratch/kaldi/egs/INSTRUCTIONAL/steps/train_mono.sh: Pass 2\n",
      "/scratch/kaldi/egs/INSTRUCTIONAL/steps/train_mono.sh: Aligning data\n",
      "/scratch/kaldi/egs/INSTRUCTIONAL/steps/train_mono.sh: Pass 3\n",
      "/scratch/kaldi/egs/INSTRUCTIONAL/steps/train_mono.sh: Aligning data\n",
      "/scratch/kaldi/egs/INSTRUCTIONAL/steps/train_mono.sh: Pass 4\n",
      "/scratch/kaldi/egs/INSTRUCTIONAL/steps/train_mono.sh: Aligning data\n",
      "/scratch/kaldi/egs/INSTRUCTIONAL/steps/train_mono.sh: Pass 5\n",
      "/scratch/kaldi/egs/INSTRUCTIONAL/steps/train_mono.sh: Aligning data\n",
      "/scratch/kaldi/egs/INSTRUCTIONAL/steps/train_mono.sh: Pass 6\n",
      "/scratch/kaldi/egs/INSTRUCTIONAL/steps/train_mono.sh: Aligning data\n",
      "/scratch/kaldi/egs/INSTRUCTIONAL/steps/train_mono.sh: Pass 7\n",
      "/scratch/kaldi/egs/INSTRUCTIONAL/steps/train_mono.sh: Aligning data\n",
      "/scratch/kaldi/egs/INSTRUCTIONAL/steps/train_mono.sh: Pass 8\n",
      "/scratch/kaldi/egs/INSTRUCTIONAL/steps/train_mono.sh: Aligning data\n",
      "/scratch/kaldi/egs/INSTRUCTIONAL/steps/train_mono.sh: Pass 9\n",
      "/scratch/kaldi/egs/INSTRUCTIONAL/steps/train_mono.sh: Aligning data\n",
      "/scratch/kaldi/egs/INSTRUCTIONAL/steps/train_mono.sh: Pass 10\n",
      "/scratch/kaldi/egs/INSTRUCTIONAL/steps/train_mono.sh: Aligning data\n",
      "/scratch/kaldi/egs/INSTRUCTIONAL/steps/train_mono.sh: Pass 11\n",
      "/scratch/kaldi/egs/INSTRUCTIONAL/steps/train_mono.sh: Pass 12\n",
      "/scratch/kaldi/egs/INSTRUCTIONAL/steps/train_mono.sh: Aligning data\n",
      "/scratch/kaldi/egs/INSTRUCTIONAL/steps/train_mono.sh: Pass 13\n",
      "/scratch/kaldi/egs/INSTRUCTIONAL/steps/train_mono.sh: Pass 14\n",
      "/scratch/kaldi/egs/INSTRUCTIONAL/steps/train_mono.sh: Aligning data\n",
      "/scratch/kaldi/egs/INSTRUCTIONAL/steps/train_mono.sh: Pass 15\n",
      "/scratch/kaldi/egs/INSTRUCTIONAL/steps/train_mono.sh: Pass 16\n",
      "/scratch/kaldi/egs/INSTRUCTIONAL/steps/train_mono.sh: Aligning data\n",
      "/scratch/kaldi/egs/INSTRUCTIONAL/steps/train_mono.sh: Pass 17\n",
      "/scratch/kaldi/egs/INSTRUCTIONAL/steps/train_mono.sh: Pass 18\n",
      "/scratch/kaldi/egs/INSTRUCTIONAL/steps/train_mono.sh: Aligning data\n",
      "/scratch/kaldi/egs/INSTRUCTIONAL/steps/train_mono.sh: Pass 19\n",
      "/scratch/kaldi/egs/INSTRUCTIONAL/steps/train_mono.sh: Pass 20\n",
      "/scratch/kaldi/egs/INSTRUCTIONAL/steps/train_mono.sh: Aligning data\n",
      "/scratch/kaldi/egs/INSTRUCTIONAL/steps/train_mono.sh: Pass 21\n",
      "/scratch/kaldi/egs/INSTRUCTIONAL/steps/train_mono.sh: Pass 22\n",
      "/scratch/kaldi/egs/INSTRUCTIONAL/steps/train_mono.sh: Pass 23\n",
      "/scratch/kaldi/egs/INSTRUCTIONAL/steps/train_mono.sh: Aligning data\n",
      "/scratch/kaldi/egs/INSTRUCTIONAL/steps/train_mono.sh: Pass 24\n",
      "/scratch/kaldi/egs/INSTRUCTIONAL/steps/train_mono.sh: Pass 25\n",
      "/scratch/kaldi/egs/INSTRUCTIONAL/steps/train_mono.sh: Pass 26\n",
      "/scratch/kaldi/egs/INSTRUCTIONAL/steps/train_mono.sh: Aligning data\n",
      "/scratch/kaldi/egs/INSTRUCTIONAL/steps/train_mono.sh: Pass 27\n",
      "/scratch/kaldi/egs/INSTRUCTIONAL/steps/train_mono.sh: Pass 28\n",
      "/scratch/kaldi/egs/INSTRUCTIONAL/steps/train_mono.sh: Pass 29\n",
      "/scratch/kaldi/egs/INSTRUCTIONAL/steps/train_mono.sh: Aligning data\n",
      "/scratch/kaldi/egs/INSTRUCTIONAL/steps/train_mono.sh: Pass 30\n",
      "/scratch/kaldi/egs/INSTRUCTIONAL/steps/train_mono.sh: Pass 31\n",
      "/scratch/kaldi/egs/INSTRUCTIONAL/steps/train_mono.sh: Pass 32\n",
      "/scratch/kaldi/egs/INSTRUCTIONAL/steps/train_mono.sh: Aligning data\n",
      "/scratch/kaldi/egs/INSTRUCTIONAL/steps/train_mono.sh: Pass 33\n",
      "/scratch/kaldi/egs/INSTRUCTIONAL/steps/train_mono.sh: Pass 34\n",
      "/scratch/kaldi/egs/INSTRUCTIONAL/steps/train_mono.sh: Pass 35\n",
      "/scratch/kaldi/egs/INSTRUCTIONAL/steps/train_mono.sh: Aligning data\n",
      "/scratch/kaldi/egs/INSTRUCTIONAL/steps/train_mono.sh: Pass 36\n",
      "/scratch/kaldi/egs/INSTRUCTIONAL/steps/train_mono.sh: Pass 37\n",
      "/scratch/kaldi/egs/INSTRUCTIONAL/steps/train_mono.sh: Pass 38\n",
      "/scratch/kaldi/egs/INSTRUCTIONAL/steps/train_mono.sh: Aligning data\n",
      "/scratch/kaldi/egs/INSTRUCTIONAL/steps/train_mono.sh: Pass 39\n",
      "6 warnings in /scratch/kaldi/egs/INSTRUCTIONAL/exp/monophones/log/init.log\n",
      "1 warnings in /scratch/kaldi/egs/INSTRUCTIONAL/exp/monophones/log/acc.*.*.log\n",
      "1415 warnings in /scratch/kaldi/egs/INSTRUCTIONAL/exp/monophones/log/update.*.log\n",
      "266 warnings in /scratch/kaldi/egs/INSTRUCTIONAL/exp/monophones/log/align.*.*.log\n",
      "/scratch/kaldi/egs/INSTRUCTIONAL/steps/diagnostic/analyze_alignments.sh --cmd run.pl /scratch/kaldi/egs/INSTRUCTIONAL/data/lang /scratch/kaldi/egs/INSTRUCTIONAL/exp/monophones\n",
      "/scratch/kaldi/egs/INSTRUCTIONAL/steps/diagnostic/analyze_alignments.sh: see stats in /scratch/kaldi/egs/INSTRUCTIONAL/exp/monophones/log/analyze_alignments.log\n",
      "Done\n",
      "Timestamp in HH:MM:SS (24 hour format)\n",
      "21:12:37\n",
      "\n",
      "/scratch/kaldi/egs/INSTRUCTIONAL/steps/align_si.sh --nj 4 /scratch/kaldi/egs/INSTRUCTIONAL/data/train_dir /scratch/kaldi/egs/INSTRUCTIONAL/data/lang /scratch/kaldi/egs/INSTRUCTIONAL/exp/monophones /scratch/kaldi/egs/INSTRUCTIONAL/exp/monophones_aligned\n",
      "/scratch/kaldi/egs/INSTRUCTIONAL/steps/align_si.sh: feature type is delta\n",
      "/scratch/kaldi/egs/INSTRUCTIONAL/steps/align_si.sh: aligning data in /scratch/kaldi/egs/INSTRUCTIONAL/data/train_dir using model from /scratch/kaldi/egs/INSTRUCTIONAL/exp/monophones, putting alignments in /scratch/kaldi/egs/INSTRUCTIONAL/exp/monophones_aligned\n",
      "/scratch/kaldi/egs/INSTRUCTIONAL/steps/align_si.sh: done aligning data.\n",
      "Timestamp in HH:MM:SS (24 hour format)\n",
      "21:14:43\n",
      "\n"
     ]
    }
   ],
   "source": [
    "./run_train_phones.sh kaldi_config.json"
   ]
  }
 ],
 "metadata": {
  "kernelspec": {
   "display_name": "Bash",
   "language": "bash",
   "name": "bash"
  },
  "language_info": {
   "codemirror_mode": "shell",
   "file_extension": ".sh",
   "mimetype": "text/x-sh",
   "name": "bash"
  }
 },
 "nbformat": 4,
 "nbformat_minor": 1
}
