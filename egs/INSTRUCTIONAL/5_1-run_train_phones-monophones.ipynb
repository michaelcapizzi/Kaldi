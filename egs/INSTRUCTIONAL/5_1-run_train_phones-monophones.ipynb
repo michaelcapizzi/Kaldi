{
 "cells": [
  {
   "cell_type": "markdown",
   "metadata": {},
   "source": [
    "# 5.1: `run_train_phones.sh` - Building the acoustic model (`monophones`)\n",
    "\n",
    "We will begin to build the acoustic model of our ASR pipeline.  This model will be responsible for predicting the phone that is represented by a portion of raw audio.\n",
    "\n",
    "TODO ADD RESOURCES HERE"
   ]
  },
  {
   "cell_type": "markdown",
   "metadata": {},
   "source": [
    "In this notebook, we will simply build the initial layer of the acoustic model, a `monophone` representation of the features."
   ]
  },
  {
   "cell_type": "markdown",
   "metadata": {},
   "source": [
    "## Setting `kaldi_config.json`\n",
    "\n",
    "Edit the `run_train_phones` section of `kaldi_config.json` to use the following arguments:\n",
    " - `training_type=mono"
   ]
  }
 ],
 "metadata": {
  "kernelspec": {
   "display_name": "Bash",
   "language": "bash",
   "name": "bash"
  },
  "language_info": {
   "codemirror_mode": "shell",
   "file_extension": ".sh",
   "mimetype": "text/x-sh",
   "name": "bash"
  }
 },
 "nbformat": 4,
 "nbformat_minor": 2
}
