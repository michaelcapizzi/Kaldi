{
 "cells": [
  {
   "cell_type": "markdown",
   "metadata": {},
   "source": [
    "# 5.1: `run_train_phones.sh` - Building the acoustic model (`monophones`)\n",
    "\n",
    "We will begin to build the acoustic model of our ASR pipeline.  This model will be responsible for predicting the phone that is represented by a portion of raw audio.\n",
    "\n",
    "TODO ADD RESOURCES HERE"
   ]
  },
  {
   "cell_type": "markdown",
   "metadata": {},
   "source": [
    "In this notebook, we will simply build the initial layer of the acoustic model, a `monophone` representation of the features."
   ]
  },
  {
   "cell_type": "markdown",
   "metadata": {},
   "source": [
    "## Setting `kaldi_config.json`\n",
    "\n",
    "Edit the `run_train_phones` section of `kaldi_config.json` to use the following arguments:\n",
    " - `training_type`=`mono`      # since we are only doing first layer\n",
    " - `num_gaussians`=`10000`     # number of `gaussian`s used to build the model\n",
    " - `data_reduction_rate`=`10`  # monophone training can be done on subset of data, in this case 1/10th, for speed\n",
    " - `non_vanilla_train_mono_hyperparameters`=`null`\n",
    " - `non_vanilla_mono_align_hyperparameters`=`null`\n",
    " \n",
    "It is not necessary to worry about the other hyperparameters for this layer of training."
   ]
  },
  {
   "cell_type": "code",
   "execution_count": 2,
   "metadata": {},
   "outputs": [
    {
     "name": "stdout",
     "output_type": "stream",
     "text": [
      "#!/usr/bin/env bash\n",
      "\n",
      "# This script trains `monophone`s and `triphone`s for given `mfcc`s\n",
      "\n",
      "#ARGUMENTS\n",
      "## REQUIRED\n",
      "# -i <string> = type of phone training to do: \"deltas\", \"deltas_2\", \"lda_mllt\", or \"sat\"\n",
      "\n",
      "## OPTIONAL\n",
      "# -j <int> = number of processors to use, default=2\n",
      "# -l <int> = number of leaves, default=2000\n",
      "# -g <int> = total number of Gaussians, default=10000\n",
      "# -p <int> = scale to reduce original audio file size to speed up `train_mono.sh`, example `-p 4` = use 1/4 original files\n",
      "# -q <string> = non-vanilla hyperparameters to `train_mono.sh`, in the form \"--num_iters 50\"\n",
      "# -r <string> = non-vanilla hyperparameters to `align_si.sh` for monophones, in the form \"--beam 20\"\n",
      "# -s <string> = non-vanilla hyperparameters to `train_deltas.sh` of deltas + deltas-deltas the first time, in the form \"--num_iters 50\"\n",
      "# -t <string> = non-vanilla hyperparameters to `align_si.sh` for deltas + delta-deltas first, in the form \"--beam 20\"\n",
      "# -u <string> = non-vanilla hyperparameters to `train_deltas.sh` of deltas + delta-deltas the second time, in the form \"--num_iters 50\"\n",
      "# -v <string> = non-vanilla hyperparameters to `align_si.sh` for deltas + delta-deltas second, in the form \"--beam 20\"\n",
      "# -w <string> = non-vanilla hyperparameters to `train_lda_mllt.sh` for LDA-MLLT, in the form \"--beam 20\"\n",
      "# -x <string> = non-vanilla hyperparameters to `align_fmllr.sh` for LDA-MLLT, in the form \"--beam 20\"\n",
      "# -y <string> = non-vanilla hyperparameters to `train_sat.sh` for SAT, in the form \"--beam 20\"\n",
      "# -z <string> = non-vanilla hyperparameters to `align_fmllr.sh` for SAT, in the form \"--beam 20\"\n",
      "\n",
      "# OUTPUTS\n",
      "# Creates `exp/monophones/`, `exp/monophones_aligned/` and `exp/triphones/` and `exp/triphones_aligned/`\n",
      "# and, depending on training type, `exp/{triphones_2, triphones_2_aligned, triphones_lda, triphones_lda_aligned, triphones_sat, and triphones_sat_aligned}\n",
      "# subdirectories for trained phones and logs\n",
      "\n",
      "############################\n"
     ]
    }
   ],
   "source": [
    "head -n30 run_train_phones.sh"
   ]
  },
  {
   "cell_type": "markdown",
   "metadata": {},
   "source": [
    "## Running `run_train_phones.sh`"
   ]
  },
  {
   "cell_type": "markdown",
   "metadata": {},
   "source": [
    "Run `run_train_phones.sh`.  Carefully read through the output to ensure that there were no errors."
   ]
  },
  {
   "cell_type": "code",
   "execution_count": 10,
   "metadata": {},
   "outputs": [
    {
     "name": "stdout",
     "output_type": "stream",
     "text": [
      "flat start monophone training\n",
      "Timestamp in HH:MM:SS (24 hour format)\n",
      "20:08:09\n",
      "\n",
      "/home//kaldi/egs/INSTRUCTIONAL/utils/subset_data_dir.sh: reducing #utt from 2703 to 270\n",
      "/home//kaldi/egs/INSTRUCTIONAL/steps/train_mono.sh --nj 4 --totgauss 10000 /home//kaldi/egs/INSTRUCTIONAL/data/train_270_dir /home//kaldi/egs/INSTRUCTIONAL/data/lang /home//kaldi/egs/INSTRUCTIONAL/exp/monophones\n",
      "/home//kaldi/egs/INSTRUCTIONAL/steps/train_mono.sh: Initializing monophone system.\n",
      "/home//kaldi/egs/INSTRUCTIONAL/steps/train_mono.sh: Compiling training graphs\n",
      "/home//kaldi/egs/INSTRUCTIONAL/steps/train_mono.sh: Aligning data equally (pass 0)\n",
      "/home//kaldi/egs/INSTRUCTIONAL/steps/train_mono.sh: Pass 1\n",
      "/home//kaldi/egs/INSTRUCTIONAL/steps/train_mono.sh: Aligning data\n",
      "/home//kaldi/egs/INSTRUCTIONAL/steps/train_mono.sh: Pass 2\n",
      "/home//kaldi/egs/INSTRUCTIONAL/steps/train_mono.sh: Aligning data\n",
      "/home//kaldi/egs/INSTRUCTIONAL/steps/train_mono.sh: Pass 3\n",
      "/home//kaldi/egs/INSTRUCTIONAL/steps/train_mono.sh: Aligning data\n",
      "/home//kaldi/egs/INSTRUCTIONAL/steps/train_mono.sh: Pass 4\n",
      "/home//kaldi/egs/INSTRUCTIONAL/steps/train_mono.sh: Aligning data\n",
      "/home//kaldi/egs/INSTRUCTIONAL/steps/train_mono.sh: Pass 5\n",
      "/home//kaldi/egs/INSTRUCTIONAL/steps/train_mono.sh: Aligning data\n",
      "/home//kaldi/egs/INSTRUCTIONAL/steps/train_mono.sh: Pass 6\n",
      "/home//kaldi/egs/INSTRUCTIONAL/steps/train_mono.sh: Aligning data\n",
      "/home//kaldi/egs/INSTRUCTIONAL/steps/train_mono.sh: Pass 7\n",
      "/home//kaldi/egs/INSTRUCTIONAL/steps/train_mono.sh: Aligning data\n",
      "/home//kaldi/egs/INSTRUCTIONAL/steps/train_mono.sh: Pass 8\n",
      "/home//kaldi/egs/INSTRUCTIONAL/steps/train_mono.sh: Aligning data\n",
      "/home//kaldi/egs/INSTRUCTIONAL/steps/train_mono.sh: Pass 9\n",
      "/home//kaldi/egs/INSTRUCTIONAL/steps/train_mono.sh: Aligning data\n",
      "/home//kaldi/egs/INSTRUCTIONAL/steps/train_mono.sh: Pass 10\n",
      "/home//kaldi/egs/INSTRUCTIONAL/steps/train_mono.sh: Aligning data\n",
      "/home//kaldi/egs/INSTRUCTIONAL/steps/train_mono.sh: Pass 11\n",
      "/home//kaldi/egs/INSTRUCTIONAL/steps/train_mono.sh: Pass 12\n",
      "/home//kaldi/egs/INSTRUCTIONAL/steps/train_mono.sh: Aligning data\n",
      "/home//kaldi/egs/INSTRUCTIONAL/steps/train_mono.sh: Pass 13\n",
      "/home//kaldi/egs/INSTRUCTIONAL/steps/train_mono.sh: Pass 14\n",
      "/home//kaldi/egs/INSTRUCTIONAL/steps/train_mono.sh: Aligning data\n",
      "/home//kaldi/egs/INSTRUCTIONAL/steps/train_mono.sh: Pass 15\n",
      "/home//kaldi/egs/INSTRUCTIONAL/steps/train_mono.sh: Pass 16\n",
      "/home//kaldi/egs/INSTRUCTIONAL/steps/train_mono.sh: Aligning data\n",
      "/home//kaldi/egs/INSTRUCTIONAL/steps/train_mono.sh: Pass 17\n",
      "/home//kaldi/egs/INSTRUCTIONAL/steps/train_mono.sh: Pass 18\n",
      "/home//kaldi/egs/INSTRUCTIONAL/steps/train_mono.sh: Aligning data\n",
      "/home//kaldi/egs/INSTRUCTIONAL/steps/train_mono.sh: Pass 19\n",
      "/home//kaldi/egs/INSTRUCTIONAL/steps/train_mono.sh: Pass 20\n",
      "/home//kaldi/egs/INSTRUCTIONAL/steps/train_mono.sh: Aligning data\n",
      "/home//kaldi/egs/INSTRUCTIONAL/steps/train_mono.sh: Pass 21\n",
      "/home//kaldi/egs/INSTRUCTIONAL/steps/train_mono.sh: Pass 22\n",
      "/home//kaldi/egs/INSTRUCTIONAL/steps/train_mono.sh: Pass 23\n",
      "/home//kaldi/egs/INSTRUCTIONAL/steps/train_mono.sh: Aligning data\n",
      "/home//kaldi/egs/INSTRUCTIONAL/steps/train_mono.sh: Pass 24\n",
      "/home//kaldi/egs/INSTRUCTIONAL/steps/train_mono.sh: Pass 25\n",
      "/home//kaldi/egs/INSTRUCTIONAL/steps/train_mono.sh: Pass 26\n",
      "/home//kaldi/egs/INSTRUCTIONAL/steps/train_mono.sh: Aligning data\n",
      "/home//kaldi/egs/INSTRUCTIONAL/steps/train_mono.sh: Pass 27\n",
      "/home//kaldi/egs/INSTRUCTIONAL/steps/train_mono.sh: Pass 28\n",
      "/home//kaldi/egs/INSTRUCTIONAL/steps/train_mono.sh: Pass 29\n",
      "/home//kaldi/egs/INSTRUCTIONAL/steps/train_mono.sh: Aligning data\n",
      "/home//kaldi/egs/INSTRUCTIONAL/steps/train_mono.sh: Pass 30\n",
      "/home//kaldi/egs/INSTRUCTIONAL/steps/train_mono.sh: Pass 31\n",
      "/home//kaldi/egs/INSTRUCTIONAL/steps/train_mono.sh: Pass 32\n",
      "/home//kaldi/egs/INSTRUCTIONAL/steps/train_mono.sh: Aligning data\n",
      "/home//kaldi/egs/INSTRUCTIONAL/steps/train_mono.sh: Pass 33\n",
      "/home//kaldi/egs/INSTRUCTIONAL/steps/train_mono.sh: Pass 34\n",
      "/home//kaldi/egs/INSTRUCTIONAL/steps/train_mono.sh: Pass 35\n",
      "/home//kaldi/egs/INSTRUCTIONAL/steps/train_mono.sh: Aligning data\n",
      "/home//kaldi/egs/INSTRUCTIONAL/steps/train_mono.sh: Pass 36\n",
      "/home//kaldi/egs/INSTRUCTIONAL/steps/train_mono.sh: Pass 37\n",
      "/home//kaldi/egs/INSTRUCTIONAL/steps/train_mono.sh: Pass 38\n",
      "/home//kaldi/egs/INSTRUCTIONAL/steps/train_mono.sh: Aligning data\n",
      "/home//kaldi/egs/INSTRUCTIONAL/steps/train_mono.sh: Pass 39\n",
      "6 warnings in /home//kaldi/egs/INSTRUCTIONAL/exp/monophones/log/init.log\n",
      "1 warnings in /home//kaldi/egs/INSTRUCTIONAL/exp/monophones/log/acc.*.*.log\n",
      "1415 warnings in /home//kaldi/egs/INSTRUCTIONAL/exp/monophones/log/update.*.log\n",
      "266 warnings in /home//kaldi/egs/INSTRUCTIONAL/exp/monophones/log/align.*.*.log\n",
      "/home//kaldi/egs/INSTRUCTIONAL/steps/diagnostic/analyze_alignments.sh --cmd run.pl /home//kaldi/egs/INSTRUCTIONAL/data/lang /home//kaldi/egs/INSTRUCTIONAL/exp/monophones\n",
      "/home//kaldi/egs/INSTRUCTIONAL/steps/diagnostic/analyze_alignments.sh: see stats in /home//kaldi/egs/INSTRUCTIONAL/exp/monophones/log/analyze_alignments.log\n",
      "Done\n",
      "Timestamp in HH:MM:SS (24 hour format)\n",
      "20:12:04\n",
      "\n",
      "/home//kaldi/egs/INSTRUCTIONAL/steps/align_si.sh --nj 4 /home//kaldi/egs/INSTRUCTIONAL/data/train_dir /home//kaldi/egs/INSTRUCTIONAL/data/lang /home//kaldi/egs/INSTRUCTIONAL/exp/monophones /home//kaldi/egs/INSTRUCTIONAL/exp/monophones_aligned\n",
      "/home//kaldi/egs/INSTRUCTIONAL/steps/align_si.sh: feature type is delta\n",
      "/home//kaldi/egs/INSTRUCTIONAL/steps/align_si.sh: aligning data in /home//kaldi/egs/INSTRUCTIONAL/data/train_dir using model from /home//kaldi/egs/INSTRUCTIONAL/exp/monophones, putting alignments in /home//kaldi/egs/INSTRUCTIONAL/exp/monophones_aligned\n",
      "/home//kaldi/egs/INSTRUCTIONAL/steps/align_si.sh: done aligning data.\n",
      "Timestamp in HH:MM:SS (24 hour format)\n",
      "20:14:12\n",
      "\n"
     ]
    }
   ],
   "source": [
    "./run_train_phones.sh kaldi_config.json"
   ]
  }
 ],
 "metadata": {
  "kernelspec": {
   "display_name": "Bash",
   "language": "bash",
   "name": "bash"
  },
  "language_info": {
   "codemirror_mode": "shell",
   "file_extension": ".sh",
   "mimetype": "text/x-sh",
   "name": "bash"
  }
 },
 "nbformat": 4,
 "nbformat_minor": 2
}
