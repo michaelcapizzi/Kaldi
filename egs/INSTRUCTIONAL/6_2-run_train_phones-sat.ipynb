{
 "cells": [
  {
   "cell_type": "markdown",
   "metadata": {},
   "source": [
    "# 6.2: `run_train_phones.sh` - Building the acoustic model (`SAT`)\n",
    "\n",
    "This is the fourth layer of our acoustic model, using `SAT`.\n",
    "\n",
    "TODO ADD RESOURCES HERE\n",
    "\n",
    "**Note:** You **MUST** have run `5_1-run_train_phones-monophones.ipynb` **and** `5_2-run_train_phones-deltas.ipynb` **and** `5_3-run_train_phones-sat.ipynb` **BEFORE** running this notebook."
   ]
  },
  {
   "cell_type": "markdown",
   "metadata": {},
   "source": [
    "## Setting `kaldi_config.json`\n",
    "\n",
    "Edit the `run_train_phones` section of `kaldi_config.json` to use the following arguments:\n",
    " - `training_type`=`sat`  # will build a SAT model on top of the LDA model\n",
    " - `num_gaussians`=`10000`     # number of `gaussian`s used to build the model\n",
    " - `num_leaves`=`5000`         # number of leaves in decision tree\n",
    " - `non_vanilla_train_sat_hyperparameters`=`null`\n",
    " - `non_vanilla_sat_align_hyperparameters`=`null`\n",
    " \n",
    "It is not necessary to worry about the other hyperparameters for this layer of training."
   ]
  },
  {
   "cell_type": "code",
   "execution_count": null,
   "metadata": {},
   "outputs": [],
   "source": [
    "head -n30 run_train_phones.sh"
   ]
  },
  {
   "cell_type": "markdown",
   "metadata": {},
   "source": [
    "## Running `run_train_phones.sh`"
   ]
  },
  {
   "cell_type": "markdown",
   "metadata": {},
   "source": [
    "Run `run_train_phones.sh`.  Carefully read through the output to ensure that there were no errors."
   ]
  },
  {
   "cell_type": "code",
   "execution_count": null,
   "metadata": {},
   "outputs": [],
   "source": [
    "./run_train_phones.sh kaldi_config.json"
   ]
  }
 ],
 "metadata": {
  "kernelspec": {
   "display_name": "Bash",
   "language": "bash",
   "name": "bash"
  },
  "language_info": {
   "codemirror_mode": "shell",
   "file_extension": ".sh",
   "mimetype": "text/x-sh",
   "name": "bash"
  }
 },
 "nbformat": 4,
 "nbformat_minor": 2
}
