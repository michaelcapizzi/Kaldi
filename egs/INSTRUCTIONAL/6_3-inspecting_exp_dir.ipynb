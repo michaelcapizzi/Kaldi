{
 "cells": [
  {
   "cell_type": "markdown",
   "metadata": {},
   "source": [
    "# 6.3: Inspecting the `exp` directories"
   ]
  },
  {
   "cell_type": "markdown",
   "metadata": {},
   "source": [
    "`run_train_phones.sh` will generate a new directory for each layer of the acoustic model in `exp`.  We will inspect their contents below."
   ]
  },
  {
   "cell_type": "code",
   "execution_count": 1,
   "metadata": {},
   "outputs": [
    {
     "name": "stdout",
     "output_type": "stream",
     "text": [
      "\u001b[0m\u001b[01;34mmonophones\u001b[0m          \u001b[01;34mtriphones\u001b[0m          \u001b[01;34mtriphones_lda\u001b[0m          \u001b[01;34mtriphones_sat\u001b[0m\n",
      "\u001b[01;34mmonophones_aligned\u001b[0m  \u001b[01;34mtriphones_aligned\u001b[0m  \u001b[01;34mtriphones_lda_aligned\u001b[0m\n"
     ]
    }
   ],
   "source": [
    "ls exp"
   ]
  },
  {
   "cell_type": "markdown",
   "metadata": {},
   "source": [
    "## `exp/monophones`\n",
    "\n",
    "This directory contains the files generated from the *first* layer of training: `monophones`."
   ]
  },
  {
   "cell_type": "code",
   "execution_count": 8,
   "metadata": {},
   "outputs": [
    {
     "name": "stdout",
     "output_type": "stream",
     "text": [
      "0.mdl    \u001b[0m\u001b[01;31mali.1.gz\u001b[0m  \u001b[01;31mali.4.gz\u001b[0m   \u001b[01;36mfinal.occs\u001b[0m  \u001b[01;31mfsts.3.gz\u001b[0m               \u001b[01;34mlog\u001b[0m\n",
      "40.mdl   \u001b[01;31mali.2.gz\u001b[0m  cmvn_opts  \u001b[01;31mfsts.1.gz\u001b[0m   \u001b[01;31mfsts.4.gz\u001b[0m               num_jobs\n",
      "40.occs  \u001b[01;31mali.3.gz\u001b[0m  \u001b[01;36mfinal.mdl\u001b[0m  \u001b[01;31mfsts.2.gz\u001b[0m   kaldi_config_args.json  tree\n"
     ]
    }
   ],
   "source": [
    "ls exp/monophones"
   ]
  },
  {
   "cell_type": "markdown",
   "metadata": {},
   "source": [
    "### `exp/monophones/log`\n",
    "\n",
    "This directory contains all the logs of all the steps run in the process of training `monophones`.  You'll notice that there will be one or more `.[0-9]` postfixes to the log.  The **last** of these will refer to the thread used during parallelization.  The **first** of these will refer to a particular iteration (for those steps that are iterative).  Some of these are more useful than others, but they are **always** useful when an error occurs. "
   ]
  },
  {
   "cell_type": "code",
   "execution_count": 84,
   "metadata": {},
   "outputs": [
    {
     "name": "stdout",
     "output_type": "stream",
     "text": [
      "acc.1.1.log   acc.26.3.log  acc.8.1.log     align.4.3.log\n",
      "acc.1.2.log   acc.26.4.log  acc.8.2.log     align.4.4.log\n",
      "acc.1.3.log   acc.27.1.log  acc.8.3.log     align.5.1.log\n",
      "acc.1.4.log   acc.27.2.log  acc.8.4.log     align.5.2.log\n",
      "acc.10.1.log  acc.27.3.log  acc.9.1.log     align.5.3.log\n",
      "acc.10.2.log  acc.27.4.log  acc.9.2.log     align.5.4.log\n",
      "acc.10.3.log  acc.28.1.log  acc.9.3.log     align.6.1.log\n",
      "acc.10.4.log  acc.28.2.log  acc.9.4.log     align.6.2.log\n",
      "acc.11.1.log  acc.28.3.log  align.0.1.log   align.6.3.log\n",
      "acc.11.2.log  acc.28.4.log  align.0.2.log   align.6.4.log\n",
      "acc.11.3.log  acc.29.1.log  align.0.3.log   align.7.1.log\n",
      "acc.11.4.log  acc.29.2.log  align.0.4.log   align.7.2.log\n",
      "acc.12.1.log  acc.29.3.log  align.1.1.log   align.7.3.log\n",
      "acc.12.2.log  acc.29.4.log  align.1.2.log   align.7.4.log\n",
      "acc.12.3.log  acc.3.1.log   align.1.3.log   align.8.1.log\n",
      "acc.12.4.log  acc.3.2.log   align.1.4.log   align.8.2.log\n",
      "acc.13.1.log  acc.3.3.log   align.10.1.log  align.8.3.log\n",
      "acc.13.2.log  acc.3.4.log   align.10.2.log  align.8.4.log\n",
      "acc.13.3.log  acc.30.1.log  align.10.3.log  align.9.1.log\n",
      "acc.13.4.log  acc.30.2.log  align.10.4.log  align.9.2.log\n",
      "acc.14.1.log  acc.30.3.log  align.12.1.log  align.9.3.log\n",
      "acc.14.2.log  acc.30.4.log  align.12.2.log  align.9.4.log\n",
      "acc.14.3.log  acc.31.1.log  align.12.3.log  analyze_alignments.log\n",
      "acc.14.4.log  acc.31.2.log  align.12.4.log  compile_graphs.1.log\n",
      "acc.15.1.log  acc.31.3.log  align.14.1.log  compile_graphs.2.log\n",
      "acc.15.2.log  acc.31.4.log  align.14.2.log  compile_graphs.3.log\n",
      "acc.15.3.log  acc.32.1.log  align.14.3.log  compile_graphs.4.log\n",
      "acc.15.4.log  acc.32.2.log  align.14.4.log  get_phone_alignments.1.log\n",
      "acc.16.1.log  acc.32.3.log  align.16.1.log  get_phone_alignments.2.log\n",
      "acc.16.2.log  acc.32.4.log  align.16.2.log  get_phone_alignments.3.log\n",
      "acc.16.3.log  acc.33.1.log  align.16.3.log  get_phone_alignments.4.log\n",
      "acc.16.4.log  acc.33.2.log  align.16.4.log  init.log\n",
      "acc.17.1.log  acc.33.3.log  align.18.1.log  update.0.log\n",
      "acc.17.2.log  acc.33.4.log  align.18.2.log  update.1.log\n",
      "acc.17.3.log  acc.34.1.log  align.18.3.log  update.10.log\n",
      "acc.17.4.log  acc.34.2.log  align.18.4.log  update.11.log\n",
      "acc.18.1.log  acc.34.3.log  align.2.1.log   update.12.log\n",
      "acc.18.2.log  acc.34.4.log  align.2.2.log   update.13.log\n",
      "acc.18.3.log  acc.35.1.log  align.2.3.log   update.14.log\n",
      "acc.18.4.log  acc.35.2.log  align.2.4.log   update.15.log\n",
      "acc.19.1.log  acc.35.3.log  align.20.1.log  update.16.log\n",
      "acc.19.2.log  acc.35.4.log  align.20.2.log  update.17.log\n",
      "acc.19.3.log  acc.36.1.log  align.20.3.log  update.18.log\n",
      "acc.19.4.log  acc.36.2.log  align.20.4.log  update.19.log\n",
      "acc.2.1.log   acc.36.3.log  align.23.1.log  update.2.log\n",
      "acc.2.2.log   acc.36.4.log  align.23.2.log  update.20.log\n",
      "acc.2.3.log   acc.37.1.log  align.23.3.log  update.21.log\n",
      "acc.2.4.log   acc.37.2.log  align.23.4.log  update.22.log\n",
      "acc.20.1.log  acc.37.3.log  align.26.1.log  update.23.log\n",
      "acc.20.2.log  acc.37.4.log  align.26.2.log  update.24.log\n",
      "acc.20.3.log  acc.38.1.log  align.26.3.log  update.25.log\n",
      "acc.20.4.log  acc.38.2.log  align.26.4.log  update.26.log\n",
      "acc.21.1.log  acc.38.3.log  align.29.1.log  update.27.log\n",
      "acc.21.2.log  acc.38.4.log  align.29.2.log  update.28.log\n",
      "acc.21.3.log  acc.39.1.log  align.29.3.log  update.29.log\n",
      "acc.21.4.log  acc.39.2.log  align.29.4.log  update.3.log\n",
      "acc.22.1.log  acc.39.3.log  align.3.1.log   update.30.log\n",
      "acc.22.2.log  acc.39.4.log  align.3.2.log   update.31.log\n",
      "acc.22.3.log  acc.4.1.log   align.3.3.log   update.32.log\n",
      "acc.22.4.log  acc.4.2.log   align.3.4.log   update.33.log\n",
      "acc.23.1.log  acc.4.3.log   align.32.1.log  update.34.log\n",
      "acc.23.2.log  acc.4.4.log   align.32.2.log  update.35.log\n",
      "acc.23.3.log  acc.5.1.log   align.32.3.log  update.36.log\n",
      "acc.23.4.log  acc.5.2.log   align.32.4.log  update.37.log\n",
      "acc.24.1.log  acc.5.3.log   align.35.1.log  update.38.log\n",
      "acc.24.2.log  acc.5.4.log   align.35.2.log  update.39.log\n",
      "acc.24.3.log  acc.6.1.log   align.35.3.log  update.4.log\n",
      "acc.24.4.log  acc.6.2.log   align.35.4.log  update.5.log\n",
      "acc.25.1.log  acc.6.3.log   align.38.1.log  update.6.log\n",
      "acc.25.2.log  acc.6.4.log   align.38.2.log  update.7.log\n",
      "acc.25.3.log  acc.7.1.log   align.38.3.log  update.8.log\n",
      "acc.25.4.log  acc.7.2.log   align.38.4.log  update.9.log\n",
      "acc.26.1.log  acc.7.3.log   align.4.1.log\n",
      "acc.26.2.log  acc.7.4.log   align.4.2.log\n"
     ]
    }
   ],
   "source": [
    "ls exp/monophones/log"
   ]
  },
  {
   "cell_type": "markdown",
   "metadata": {},
   "source": [
    "### `num_jobs`\n",
    "\n",
    "There will often be a `num_jobs` file in `kaldi` directories.  This is simply one `integer`, the number of threads used if parallelization was used."
   ]
  },
  {
   "cell_type": "code",
   "execution_count": 6,
   "metadata": {},
   "outputs": [
    {
     "name": "stdout",
     "output_type": "stream",
     "text": [
      "4\n"
     ]
    }
   ],
   "source": [
    "cat exp/monophones/num_jobs"
   ]
  },
  {
   "cell_type": "markdown",
   "metadata": {},
   "source": [
    "### `cmvn_opts`\n",
    "\n",
    "You will often see a file ending in `_opts`.  This is an `options` file that *sometimes* contains hyperparameter settings that will be read by scripts.  They will take the same format as the arguments we can add to our `non_vanilla_*` arguments in `kaldi_config.json`:\n",
    "\n",
    "```\n",
    "--variable_name [variable_value]\n",
    "```\n",
    "\n",
    "In this case, `cmvn_opts` is empty.\n"
   ]
  },
  {
   "cell_type": "code",
   "execution_count": 4,
   "metadata": {},
   "outputs": [
    {
     "name": "stdout",
     "output_type": "stream",
     "text": [
      "\n"
     ]
    }
   ],
   "source": [
    "cat exp/monophones/cmvn_opts"
   ]
  },
  {
   "cell_type": "markdown",
   "metadata": {},
   "source": [
    "### `{40,final}.occs`\n",
    "\n",
    "This file contains the \"per-transition-id occupation counts\" and is \"rarely needed\" (quotes from a post by the main author of `kaldi`).  So we will ignore this file.  \n",
    "\n",
    "In this case, you see a `40_` and a `final_`.  This implies that this information was updated iteratively, and all but the last iteration (in this case, `40_`) were deleted.  `final_` is then a `symbolic link` to the highest valued file left in the directory.  You can see this represented by the `->` in the `ls -lah` command below.\n",
    "\n",
    "**Note:** `kaldi` will utilize this structure often, including below with the `.mdl` files."
   ]
  },
  {
   "cell_type": "code",
   "execution_count": 10,
   "metadata": {},
   "outputs": [
    {
     "name": "stdout",
     "output_type": "stream",
     "text": [
      "-rw-r--r--  1 root root  811 Nov 29 20:12 40.\u001b[01;31m\u001b[Koccs\u001b[m\u001b[K\n",
      "lrwxrwxrwx  1 root root    7 Nov 29 20:12 final.\u001b[01;31m\u001b[Koccs\u001b[m\u001b[K -> 40.\u001b[01;31m\u001b[Koccs\u001b[m\u001b[K\n"
     ]
    }
   ],
   "source": [
    "ls -lah exp/monophones | grep occs"
   ]
  },
  {
   "cell_type": "markdown",
   "metadata": {},
   "source": [
    "### `{40,final}.mdl`\n",
    "\n",
    "The `.mdl` file is the actual acoustic model file for this step.  If we were so inclined, we could use this `.mdl` file as one of the arguments passed to our decoding step.  Each \"layer\" of our acoustic training will generate a `.mdl` file.\n",
    "\n",
    "This file [does ????], and we'll look at these `.mdl` files in more detail in the next notebook.  But they can be converted to \"human-readable\" form using `show-transitions` (as long as you have `source`d `path.sh`)\n"
   ]
  },
  {
   "cell_type": "code",
   "execution_count": 4,
   "metadata": {},
   "outputs": [
    {
     "name": "stdout",
     "output_type": "stream",
     "text": [
      "show-transitions \n",
      "\n",
      "Print debugging info from transition model, in human-readable form\n",
      "Usage:  show-transitions <phones-symbol-table> <transition/model-file> [<occs-file>]\n",
      "e.g.: \n",
      " show-transitions phones.txt 1.mdl 1.occs\n",
      "\n",
      "Standard options:\n",
      "  --config                    : Configuration file to read (this option may be repeated) (string, default = \"\")\n",
      "  --help                      : Print out usage message (bool, default = false)\n",
      "  --print-args                : Print the command line arguments (to stderr) (bool, default = true)\n",
      "  --verbose                   : Verbose level (higher->more logging) (int, default = 0)\n",
      "\n"
     ]
    },
    {
     "ename": "",
     "evalue": "1",
     "output_type": "error",
     "traceback": []
    }
   ],
   "source": [
    ". ${KALDI_INSTRUCTIONAL_PATH}/path.sh\n",
    "show-transitions"
   ]
  },
  {
   "cell_type": "code",
   "execution_count": 79,
   "metadata": {},
   "outputs": [
    {
     "name": "stdout",
     "output_type": "stream",
     "text": [
      "show-transitions data/lang/phones.txt exp/monophones/final.mdl \n",
      "Transition-state 1: phone = SIL hmm-state = 0 pdf = 0\n",
      " Transition-id = 1 p = 0.825838 [self-loop]\n",
      " Transition-id = 2 p = 0.01 [0 -> 1]\n",
      " Transition-id = 3 p = 0.154166 [0 -> 2]\n",
      " Transition-id = 4 p = 0.01 [0 -> 3]\n",
      "Transition-state 2: phone = SIL hmm-state = 1 pdf = 1\n",
      " Transition-id = 5 p = 0.951921 [self-loop]\n",
      " Transition-id = 6 p = 0.01 [1 -> 2]\n",
      " Transition-id = 7 p = 0.01 [1 -> 3]\n",
      " Transition-id = 8 p = 0.0280863 [1 -> 4]\n"
     ]
    }
   ],
   "source": [
    "show-transitions \\\n",
    "    data/lang/phones.txt \\\n",
    "    exp/monophones/final.mdl \\\n",
    "    | head"
   ]
  },
  {
   "cell_type": "markdown",
   "metadata": {},
   "source": [
    "### `fsts.*.gz`\n",
    "\n",
    "These files (one for each parallelized thread) contain the `FST`s representing our training data.  We will look at similar `FST`s used during **test** time at a later date, so for now, we'll ignore these files."
   ]
  },
  {
   "cell_type": "markdown",
   "metadata": {},
   "source": [
    "### `ali.*.gz`\n",
    "\n",
    "These files contain the alignment information mapping each frame to a phone.  You may recall that we used a similar `ali.*.gz` file in `4_3-examining_mfccs.ipynb`.  We can use `ali-to-phones` to convert these aligments into a sequence of phones.  We will look at these alignments in more detail later."
   ]
  },
  {
   "cell_type": "code",
   "execution_count": 81,
   "metadata": {},
   "outputs": [
    {
     "name": "stdout",
     "output_type": "stream",
     "text": [
      "ali-to-phones \n",
      "\n",
      "Convert model-level alignments to phone-sequences (in integer, not text, form)\n",
      "Usage:  ali-to-phones  [options] <model> <alignments-rspecifier> <phone-transcript-wspecifier|ctm-wxfilename>\n",
      "e.g.: \n",
      " ali-to-phones 1.mdl ark:1.ali ark:-\n",
      "or:\n",
      " ali-to-phones --ctm-output 1.mdl ark:1.ali 1.ctm\n",
      "See also: show-alignments lattice-align-phones\n",
      "\n",
      "Options:\n",
      "  --ctm-output                : If true, output the alignments in ctm format (the confidences will be set to 1) (bool, default = false)\n",
      "  --frame-shift               : frame shift used to control the times of the ctm output (float, default = 0.01)\n",
      "  --per-frame                 : If true, write out the frame-level phone alignment (else phone sequence) (bool, default = false)\n",
      "  --write-lengths             : If true, write the #frames for each phone (different format) (bool, default = false)\n",
      "\n",
      "Standard options:\n",
      "  --config                    : Configuration file to read (this option may be repeated) (string, default = \"\")\n",
      "  --help                      : Print out usage message (bool, default = false)\n",
      "  --print-args                : Print the command line arguments (to stderr) (bool, default = true)\n",
      "  --verbose                   : Verbose level (higher->more logging) (int, default = 0)\n",
      "\n"
     ]
    },
    {
     "ename": "",
     "evalue": "1",
     "output_type": "error",
     "traceback": []
    }
   ],
   "source": [
    "ali-to-phones"
   ]
  },
  {
   "cell_type": "markdown",
   "metadata": {},
   "source": [
    "**Note:** Notice that they are `gzipped` (compressed).  So, in order to access the \"actual\" binary file, you'll need to decompress the file, either in a separate, initial step or via a `piped` step.  Below you can see how you can decompress \"on-the-fly\" using `gzip -cd`.\n",
    "\n",
    "**Note:** You'll also notice we're `pip`ing `int2sym.pl` since the output of `fsts-to-transcripts` are indexes.  This will convert those indexes to their appropriate words."
   ]
  },
  {
   "cell_type": "code",
   "execution_count": 83,
   "metadata": {},
   "outputs": [
    {
     "name": "stdout",
     "output_type": "stream",
     "text": [
      "ali-to-phones --per-frame=true exp/monophones/final.mdl 'ark:gzip -cd exp/monophones/ali.1.gz|' 'ark,t:|int2sym.pl -f 2- data/lang/phones.txt' \n",
      "1272-128104-0009 SIL SIL SIL SIL SIL SIL SIL SIL SIL SIL SIL SIL SIL SIL SIL SIL SIL SIL SIL SIL SIL SIL SIL SIL SIL SIL SIL SIL SIL SIL SIL SIL SIL SIL SIL SIL SIL SIL SIL SIL SIL SIL SIL SIL SIL SIL SIL SIL SIL SIL SIL SIL SIL HH_B HH_B HH_B HH_B HH_B HH_B HH_B HH_B HH_B HH_B HH_B HH_B HH_B HH_B HH_B IY1_E IY1_E IY1_E IY1_E IY1_E IY1_E IY1_E L_B L_B L_B L_B L_B L_B L_B L_B L_B L_B L_B L_B AH0_I AH0_I AH0_I AH0_I M_I M_I M_I M_I M_I M_I M_I M_I M_I M_I M_I EH1_I EH1_I EH1_I EH1_I EH1_I N_I N_I N_I N_I N_I N_I T_I T_I T_I S_E S_E S_E S_E S_E S_E S_E S_E S_E S_E S_E M_B M_B M_B M_B M_B M_B M_B M_B M_B M_B M_B OW1_I OW1_I OW1_I OW1_I OW1_I OW1_I OW1_I OW1_I OW1_I OW1_I OW1_I OW1_I OW1_I S_I S_I S_I S_I S_I S_I S_I S_I S_I S_I S_I S_I S_I S_I S_I T_E T_E T_E T_E T_E SIL SIL SIL SIL SIL SIL SIL SIL SIL B_B B_B B_B B_B B_B B_B B_B B_B IH1_I IH1_I IH1_I IH1_I T_I T_I T_I T_I T_I T_I ER0_I ER0_I ER0_I ER0_I ER0_I ER0_I L_I L_I L_I L_I L_I L_I L_I L_I L_I L_I L_I IY0_E IY0_E IY0_E IY0_E IY0_E IY0_E IY0_E IY0_E IY0_E IY0_E IY0_E DH_B DH_B DH_B DH_B DH_B DH_B DH_B DH_B DH_B AH0_E AH0_E AH0_E AH0_E D_B D_B D_B D_B D_B D_B D_B IH0_I IH0_I IH0_I IH0_I V_I V_I V_I V_I V_I V_I V_I V_I V_I V_I V_I AO1_I AO1_I AO1_I AO1_I AO1_I AO1_I AO1_I AO1_I AO1_I AO1_I R_I R_I R_I R_I R_I R_I R_I S_E S_E S_E S_E S_E S_E S_E S_E S_E S_E S_E DH_B DH_B DH_B DH_B DH_B DH_B DH_B DH_B AH0_I AH0_I AH0_I T_E T_E T_E HH_B HH_B HH_B HH_B HH_B AH0_I AH0_I AH0_I AH0_I AH0_I AH0_I AH0_I AH0_I Z_E Z_E Z_E Z_E Z_E Z_E Z_E Z_E Z_E Z_E B_B B_B B_B B_B B_B B_B B_B B_B B_B B_B B_B IH1_I IH1_I IH1_I N_E N_E N_E M_B M_B M_B M_B M_B M_B M_B M_B M_B M_B M_B M_B EY1_I EY1_I EY1_I EY1_I EY1_I EY1_I EY1_I EY1_I EY1_I EY1_I EY1_I EY1_I EY1_I EY1_I EY1_I EY1_I EY1_I EY1_I EY1_I EY1_I D_E D_E D_E D_E B_B B_B B_B B_B B_B B_B B_B B_B B_B IH0_I IH0_I IH0_I T_I T_I T_I T_I T_I T_I T_I T_I T_I T_I T_I T_I T_I W_I W_I W_I W_I IY1_I IY1_I IY1_I IY1_I IY1_I IY1_I IY1_I N_E N_E N_E N_E N_E N_E D_B D_B D_B D_B D_B D_B D_B D_B D_B D_B D_B D_B D_B D_B EH1_I EH1_I EH1_I K_I K_I K_I K_I K_I K_I K_I K_I K_I K_I K_I K_I R_I R_I R_I R_I R_I R_I R_I R_I R_I R_I R_I R_I AH0_I AH0_I AH0_I AH0_I AH0_I AH0_I AH0_I AH0_I AH0_I T_I T_I T_I T_I T_I T_I IH0_I IH0_I IH0_I IH0_I IH0_I V_E V_E V_E V_E V_E V_E AA1_B AA1_B AA1_B AA1_B AA1_B AA1_B AA1_B AA1_B AA1_B AA1_B AA1_B AA1_B AA1_B AA1_B AA1_B AA1_B R_I R_I R_I R_I T_E T_E T_E T_E T_E T_E T_E T_E SIL SIL SIL SIL SIL SIL SIL SIL AH0_B AH0_B AH0_B AH0_B AH0_B N_I N_I N_I N_I N_I N_I N_I N_I N_I N_I N_I N_I N_I N_I N_I N_I N_I N_I N_I N_I N_I N_I N_I N_I N_I N_I D_E D_E D_E D_E D_E D_E D_E SIL SIL SIL SIL SIL SIL SIL SIL SIL SIL SIL SIL SIL SIL SIL SIL SIL SIL SIL SIL SIL SIL SIL SIL SIL SIL SIL SIL SIL SIL SIL SIL SIL SIL SIL SIL SIL SIL SIL SIL SIL SIL SIL SIL SIL SIL SIL SIL SIL SIL SIL SIL SIL SIL SIL SIL SIL SIL SIL SIL SIL SIL SIL SIL SIL SIL SIL SIL W_B W_B W_B W_B W_B W_B W_B W_B W_B W_B AH1_I AH1_I AH1_I T_E T_E T_E W_B W_B W_B W_B W_B W_B W_B W_B W_B W_B IY1_E IY1_E IY1_E IY1_E IY1_E Y_B Y_B Y_B Y_B Y_B Y_B Y_B Y_B Y_B Y_B Y_B Y_B Y_B Y_B Y_B Y_B Y_B Y_B Y_B Y_B Y_B Y_B UW1_I UW1_I UW1_I ZH_I ZH_I ZH_I ZH_I ZH_I ZH_I AH0_I AH0_I AH0_I AH0_I L_I L_I L_I L_I L_I IY0_E IY0_E IY0_E IY0_E IY0_E K_B K_B K_B K_B K_B K_B K_B K_B K_B K_B K_B K_B K_B K_B AO1_I AO1_I AO1_I AO1_I AO1_I AO1_I AO1_I AO1_I AO1_I AO1_I AO1_I AO1_I AO1_I AO1_I AO1_I AO1_I AO1_I AO1_I AO1_I AO1_I L_E L_E L_E L_E P_B P_B P_B P_B P_B P_B P_B P_B P_B P_B P_B P_B P_B IH1_I IH1_I IH1_I IH1_I K_I K_I K_I K_I CH_I CH_I CH_I CH_I CH_I CH_I CH_I CH_I CH_I ER0_I ER0_I ER0_I ER0_I ER0_I ER0_I ER0_I ER0_I ER0_I ER0_I ER0_I ER0_I ER0_I ER0_I ER0_I ER0_I ER0_I ER0_I ER0_I ER0_I ER0_I ER0_I ER0_I ER0_I ER0_I Z_E Z_E Z_E Z_E Z_E Z_E Z_E Z_E Z_E Z_E Z_E Z_E Z_E Z_E Z_E Z_E Z_E Z_E Z_E Z_E Z_E Z_E Z_E Z_E Z_E Z_E SIL SIL SIL SIL SIL SIL SIL SIL SIL SIL SIL SIL SIL SIL SIL SIL SIL SIL SIL SIL SIL SIL SIL SIL SIL SIL SIL SIL SIL SIL SIL SIL SIL SIL SIL SIL SIL SIL SIL SIL SIL SIL SIL SIL SIL SIL SIL SIL SIL SIL SIL SIL SIL SIL SIL SIL SIL SIL SIL SIL SIL SIL SIL SIL SIL SIL M_B M_B M_B M_B M_B M_B M_B EY1_I EY1_I EY1_I EY1_I K_I K_I K_I K_I K_I K_I S_E S_E S_E S_E S_E S_E DH_B DH_B DH_B AH0_E AH0_E AH0_E K_B K_B K_B K_B K_B K_B K_B K_B K_B K_B K_B AH1_I AH1_I AH1_I AH1_I AH1_I S_I S_I S_I S_I T_I T_I T_I T_I T_I T_I T_I T_I T_I T_I AH0_I AH0_I AH0_I AH0_I M_I M_I M_I M_I M_I EH2_I EH2_I EH2_I EH2_I EH2_I EH2_I EH2_I EH2_I EH2_I EH2_I EH2_I EH2_I EH2_I EH2_I EH2_I EH2_I EH2_I EH2_I EH2_I EH2_I EH2_I EH2_I EH2_I EH2_I EH2_I EH2_I EH2_I EH2_I EH2_I EH2_I EH2_I EH2_I EH2_I EH2_I EH2_I EH2_I EH2_I EH2_I R_I R_I R_I IY0_E IY0_E IY0_E AH0_B AH0_B AH0_B AH0_B AH0_B AH0_B AH0_B P_I P_I P_I P_I P_I P_I P_I P_I P_I P_I P_I P_I P_I P_I P_I P_I IY1_I IY1_I IY1_I IY1_I IY1_I IY1_I IY1_I IY1_I IY1_I IY1_I IY1_I IY1_I L_E L_E L_E L_E L_E L_E L_E L_E L_E L_E L_E L_E T_B T_B T_B T_B T_B T_B T_B T_B T_B AH0_E AH0_E AH0_E AH0_E DH_B DH_B DH_B DH_B DH_B AH1_E AH1_E AH1_E AH1_E L_B L_B L_B L_B L_B L_B L_B L_B L_B L_B L_B L_B L_B L_B AO1_I AO1_I AO1_I AO1_I AO1_I AO1_I AO1_I AO1_I AO1_I AO1_I S_I S_I S_I S_I S_I S_I S_I S_I S_I S_I S_I S_I T_E T_E T_E T_E JH_B JH_B JH_B JH_B JH_B JH_B JH_B JH_B JH_B JH_B AH1_I AH1_I AH1_I AH1_I AH1_I JH_I JH_I JH_I JH_I JH_I JH_I JH_I JH_I JH_I JH_I JH_I JH_I JH_I M_I M_I M_I M_I M_I M_I M_I AH0_I AH0_I AH0_I N_I N_I N_I N_I T_E T_E T_E T_E T_E T_E T_E T_E T_E T_E T_E AH0_B AH0_B AH0_B AH0_B AH0_B AH0_B AH0_B N_I N_I N_I N_I D_E D_E D_E D_E D_E R_B R_B R_B R_B R_B R_B R_B IY0_I IY0_I IY0_I IY0_I M_I M_I M_I M_I M_I M_I M_I M_I M_I M_I M_I M_I M_I AY1_I AY1_I AY1_I AY1_I AY1_I AY1_I AY1_I AY1_I AY1_I AY1_I AY1_I AY1_I AY1_I AY1_I AY1_I N_I N_I N_I N_I N_I D_I D_I D_I Z_E Z_E Z_E Z_E Z_E Z_E Z_E Z_E AH1_B AH1_B AH1_B AH1_B AH1_B AH1_B AH1_B AH1_B AH1_B AH1_B AH1_B AH1_B AH1_B S_E S_E S_E S_E S_E S_E S_E S_E S_E S_E S_E S_E S_E S_E SIL SIL SIL SIL SIL DH_B DH_B DH_B DH_B DH_B DH_B DH_B AE1_I AE1_I AE1_I AE1_I AE1_I AE1_I T_E T_E T_E T_E T_E T_E IH0_B IH0_B IH0_B IH0_B IH0_B IH0_B IH0_B IH0_B IH0_B N_E N_E N_E N_E N_E N_E N_E N_E N_E N_E DH_B DH_B DH_B DH_B DH_B AH0_E AH0_E AH0_E AH0_E G_B G_B G_B G_B G_B G_B G_B R_I R_I R_I R_I R_I R_I R_I R_I R_I R_I R_I R_I R_I R_I EY1_I EY1_I EY1_I EY1_I EY1_I EY1_I T_E T_E T_E T_E T_E T_E T_E T_E T_E SIL SIL SIL SIL SIL SIL SIL SIL D_B D_B D_B D_B D_B D_B EY1_I EY1_I EY1_I EY1_I EY1_I EY1_I EY1_I EY1_I EY1_I EY1_I EY1_I EY1_I EY1_I EY1_I EY1_I EY1_I EY1_I EY1_I EY1_I EY1_I EY1_I EY1_I EY1_I EY1_I Z_E Z_E Z_E Z_E Z_E Z_E Z_E AH0_B AH0_B AH0_B AH0_B AH0_B AH0_B V_E V_E V_E V_E SIL SIL SIL SIL SIL SIL SIL SIL SIL SIL AA1_B AA1_B AA1_B AA1_B AA1_B AA1_B AA1_B AA1_B AA1_B AA1_B AA1_B AA1_B AA1_B AA1_B AA1_B AA1_B AA1_B AA1_B R_I R_I R_I R_I R_I R_I T_E T_E T_E T_E T_E T_E T_E T_E T_E T_E T_E T_E T_E T_E T_E T_E T_E T_E M_B M_B M_B M_B M_B M_B M_B AY1_I AY1_I AY1_I AY1_I K_I K_I K_I K_I K_I K_I K_I K_I K_I K_I AH0_I AH0_I AH0_I AH0_I AH0_I L_E L_E L_E L_E L_E L_E L_E L_E L_E L_E L_E L_E L_E L_E AE1_B AE1_B AE1_B AE1_B AE1_B N_I N_I N_I N_I N_I N_I N_I JH_I JH_I JH_I JH_I JH_I JH_I JH_I JH_I AH0_I AH0_I AH0_I L_I L_I L_I L_I L_I L_I L_I L_I L_I L_I L_I L_I L_I L_I L_I L_I L_I L_I L_I L_I L_I L_I L_I L_I L_I L_I OW2_E OW2_E OW2_E OW2_E OW2_E SIL SIL SIL SIL SIL W_B W_B W_B W_B W_B W_B W_B W_B W_B W_B W_B W_B W_B W_B W_B AH0_I AH0_I AH0_I AH0_I Z_E Z_E Z_E Z_E Z_E Z_E Z_E Z_E Z_E Z_E Z_E Z_E Z_E Z_E Z_E DH_B DH_B DH_B IY0_E IY0_E IY0_E IY0_E IY0_E IY0_E IY0_E IY0_E IY0_E IY0_E IY0_E IY0_E IY0_E IY0_E IY0_E IY0_E IY0_E IY0_E IY0_E IY0_E SIL SIL SIL SIL SIL SIL SIL SIL SIL SIL SIL SIL SIL SIL SIL SIL SIL SIL SIL SIL SIL SIL F_B F_B F_B F_B F_B F_B F_B F_B F_B F_B F_B ER1_I ER1_I ER1_I ER1_I ER1_I ER1_I ER1_I N_I N_I N_I N_I IH0_I IH0_I IH0_I IH0_I IH0_I IH0_I IH0_I SH_I SH_I SH_I SH_I SH_I SH_I SH_I SH_I SH_I SH_I SH_I SH_I SH_I SH_I IH0_I IH0_I IH0_I IH0_I NG_E NG_E NG_E NG_E NG_E NG_E NG_E NG_E NG_E NG_E NG_E NG_E NG_E NG_E NG_E NG_E NG_E AH0_B AH0_B AH0_B AH0_B AH0_B AH0_B AH0_B AH0_B AH0_B AH0_B AH0_B AH0_B P_I P_I P_I P_I P_I P_I P_I P_I P_I P_I P_I P_I P_I P_I OW1_I OW1_I OW1_I OW1_I OW1_I L_I L_I L_I L_I L_I S_I S_I S_I S_I S_I S_I S_I S_I S_I S_I T_I T_I T_I ER0_I ER0_I ER0_I ER0_I ER0_I ER0_I ER0_I ER0_I ER0_I ER0_I ER0_I ER0_I ER0_I ER0_I ER0_I ER0_I ER0_I ER0_E ER0_E ER0_E ER0_E ER0_E ER0_E ER0_E ER0_E ER0_E ER0_E ER0_E ER0_E ER0_E SIL SIL SIL SIL SIL SIL SIL SIL SIL SIL SIL SIL SIL SIL SIL SIL SIL SIL SIL SIL SIL SIL SIL SIL SIL SIL SIL SIL SIL SIL SIL SIL SIL SIL SIL SIL SIL SIL SIL SIL SIL SIL SIL SIL SIL SIL SIL SIL \n"
     ]
    },
    {
     "name": "stdout",
     "output_type": "stream",
     "text": [
      "LOG (ali-to-phones[5.2.191~1-48be1]:main():ali-to-phones.cc:134) Done 68 utterances.\n"
     ]
    }
   ],
   "source": [
    "ali-to-phones \\\n",
    "    --per-frame=true \\\n",
    "    exp/monophones/final.mdl \\\n",
    "    \"ark:gzip -cd exp/monophones/ali.1.gz|\" \\\n",
    "    \"ark,t:|int2sym.pl -f 2- data/lang/phones.txt\" \\\n",
    "    | head -n1"
   ]
  },
  {
   "cell_type": "markdown",
   "metadata": {},
   "source": [
    "### `tree`\n",
    "\n",
    "This file is a representation of the decision tree that will be used to cluster the phones.  We will go into much more detail about this later and we will look at a visual representation of this tree generated by `draw-tree`."
   ]
  },
  {
   "cell_type": "code",
   "execution_count": 96,
   "metadata": {},
   "outputs": [
    {
     "name": "stdout",
     "output_type": "stream",
     "text": [
      "draw-tree \n",
      "\n",
      "Outputs a decision tree description in GraphViz format\n",
      "Usage: draw-tree [options] <phone-symbols> <tree>\n",
      "e.g.: draw-tree phones.txt tree | dot -Gsize=8,10.5 -Tps | ps2pdf - tree.pdf\n",
      "\n",
      "Options:\n",
      "  --gen-html                  : generates HTML boilerplate(useful with SVG) (bool, default = false)\n",
      "  --query                     : a query to trace through the tree(format: pdf-class/ctx-phone1/.../ctx-phoneN) (string, default = \"\")\n",
      "  --use-tooltips              : use tooltips instead of labels (bool, default = false)\n",
      "\n",
      "Standard options:\n",
      "  --config                    : Configuration file to read (this option may be repeated) (string, default = \"\")\n",
      "  --help                      : Print out usage message (bool, default = false)\n",
      "  --print-args                : Print the command line arguments (to stderr) (bool, default = true)\n",
      "  --verbose                   : Verbose level (higher->more logging) (int, default = 0)\n",
      "\n"
     ]
    },
    {
     "ename": "",
     "evalue": "255",
     "output_type": "error",
     "traceback": []
    }
   ],
   "source": [
    "draw-tree"
   ]
  },
  {
   "cell_type": "markdown",
   "metadata": {},
   "source": [
    "The command below will save a `.png` of the tree to `exp/monphones/tree`, and the next cell will render that `.png` using `Markdown` (if you want to see how to render images in `Markdown`, click on the next cell and the `Markdown` command will be revealed).  Obviously, it's not to easy to see.  We'll look at some close-ups in the next notebook."
   ]
  },
  {
   "cell_type": "code",
   "execution_count": 105,
   "metadata": {},
   "outputs": [
    {
     "name": "stdout",
     "output_type": "stream",
     "text": [
      "draw-tree --query=0/SIL_B data/lang/phones.txt exp/monophones/tree \n"
     ]
    }
   ],
   "source": [
    "draw-tree \\\n",
    "    data/lang/phones.txt \\\n",
    "    exp/monophones/tree \\\n",
    "    | dot -Tpng -Gsize=8,10.5 > exp/monophones/tree.png"
   ]
  },
  {
   "cell_type": "markdown",
   "metadata": {},
   "source": [
    "![tree](exp/monophones/tree.png)"
   ]
  }
 ],
 "metadata": {
  "kernelspec": {
   "display_name": "Bash",
   "language": "bash",
   "name": "bash"
  },
  "language_info": {
   "codemirror_mode": "shell",
   "file_extension": ".sh",
   "mimetype": "text/x-sh",
   "name": "bash"
  }
 },
 "nbformat": 4,
 "nbformat_minor": 2
}
