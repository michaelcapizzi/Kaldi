{
 "cells": [
  {
   "cell_type": "markdown",
   "metadata": {},
   "source": [
    "# 6.3: Inspecting the `exp` directories"
   ]
  },
  {
   "cell_type": "markdown",
   "metadata": {},
   "source": [
    "`run_train_phones.sh` will generate a new directory for each layer of the acoustic model in `exp`.  We will inspect their contents below."
   ]
  },
  {
   "cell_type": "code",
   "execution_count": 1,
   "metadata": {},
   "outputs": [
    {
     "name": "stdout",
     "output_type": "stream",
     "text": [
      "\u001b[0m\u001b[01;34mmonophones\u001b[0m          \u001b[01;34mtriphones\u001b[0m          \u001b[01;34mtriphones_lda\u001b[0m          \u001b[01;34mtriphones_sat\u001b[0m\n",
      "\u001b[01;34mmonophones_aligned\u001b[0m  \u001b[01;34mtriphones_aligned\u001b[0m  \u001b[01;34mtriphones_lda_aligned\u001b[0m\n"
     ]
    }
   ],
   "source": [
    "ls exp"
   ]
  }
 ],
 "metadata": {
  "kernelspec": {
   "display_name": "Bash",
   "language": "bash",
   "name": "bash"
  },
  "language_info": {
   "codemirror_mode": "shell",
   "file_extension": ".sh",
   "mimetype": "text/x-sh",
   "name": "bash"
  }
 },
 "nbformat": 4,
 "nbformat_minor": 2
}
