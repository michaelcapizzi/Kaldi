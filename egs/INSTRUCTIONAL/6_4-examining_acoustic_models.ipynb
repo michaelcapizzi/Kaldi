{
 "cells": [
  {
   "cell_type": "markdown",
   "metadata": {},
   "source": [
    "# 6.4: Examining the acoustic models"
   ]
  },
  {
   "cell_type": "code",
   "execution_count": 2,
   "metadata": {},
   "outputs": [],
   "source": [
    ". ${KALDI_INSTRUCTIONAL_PATH}/path.sh"
   ]
  },
  {
   "cell_type": "markdown",
   "metadata": {},
   "source": [
    "## understanding the `.mdl` files"
   ]
  },
  {
   "cell_type": "code",
   "execution_count": 4,
   "metadata": {},
   "outputs": [
    {
     "name": "stdout",
     "output_type": "stream",
     "text": [
      "show-transitions data/lang/phones.txt exp/monophones/final.mdl \n",
      "Transition-state 1: phone = SIL hmm-state = 0 pdf = 0\n",
      " Transition-id = 1 p = 0.825838 [self-loop]\n",
      " Transition-id = 2 p = 0.01 [0 -> 1]\n",
      " Transition-id = 3 p = 0.154166 [0 -> 2]\n",
      " Transition-id = 4 p = 0.01 [0 -> 3]\n",
      "Transition-state 2: phone = SIL hmm-state = 1 pdf = 1\n",
      " Transition-id = 5 p = 0.951921 [self-loop]\n",
      " Transition-id = 6 p = 0.01 [1 -> 2]\n",
      " Transition-id = 7 p = 0.01 [1 -> 3]\n",
      " Transition-id = 8 p = 0.0280863 [1 -> 4]\n"
     ]
    }
   ],
   "source": [
    "show-transitions data/lang/phones.txt exp/monophones/final.mdl | head"
   ]
  }
 ],
 "metadata": {
  "kernelspec": {
   "display_name": "Bash",
   "language": "bash",
   "name": "bash"
  },
  "language_info": {
   "codemirror_mode": "shell",
   "file_extension": ".sh",
   "mimetype": "text/x-sh",
   "name": "bash"
  }
 },
 "nbformat": 4,
 "nbformat_minor": 2
}
