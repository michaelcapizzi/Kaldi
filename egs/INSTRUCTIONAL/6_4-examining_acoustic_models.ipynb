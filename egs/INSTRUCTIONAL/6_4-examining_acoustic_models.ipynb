{
 "cells": [
  {
   "cell_type": "markdown",
   "metadata": {},
   "source": [
    "# 6.4: Examining the acoustic models"
   ]
  },
  {
   "cell_type": "code",
   "execution_count": 1,
   "metadata": {},
   "outputs": [],
   "source": [
    ". ${KALDI_INSTRUCTIONAL_PATH}/path.sh"
   ]
  },
  {
   "cell_type": "markdown",
   "metadata": {},
   "source": [
    "## understanding the `tree` file\n",
    "\n",
    "The `tree` file is a `binary` representation of the decision tree built during the acoustic training.  This `tree` contains information about which phones were clustered together (*e.g.* \"state-tied\") to reduce the space of possibilities we need to model.\n",
    "\n",
    "In the end, each `leaf` of the tree will represent a probability distribution (`pdf`), and the `tree`'s job is to decide which phones contexts can be grouped together appropriately."
   ]
  },
  {
   "cell_type": "markdown",
   "metadata": {},
   "source": [
    "### `tree-info`\n",
    "\n",
    "We can use `tree-info` to get a few useful pieces of information about the `decision` tree."
   ]
  },
  {
   "cell_type": "code",
   "execution_count": 10,
   "metadata": {},
   "outputs": [
    {
     "name": "stdout",
     "output_type": "stream",
     "text": [
      "tree-info \n",
      "\n",
      "Print information about decision tree (mainly the number of pdfs), to stdout\n",
      "Usage:  tree-info <tree-in>\n",
      "\n",
      "Standard options:\n",
      "  --config                    : Configuration file to read (this option may be repeated) (string, default = \"\")\n",
      "  --help                      : Print out usage message (bool, default = false)\n",
      "  --print-args                : Print the command line arguments (to stderr) (bool, default = true)\n",
      "  --verbose                   : Verbose level (higher->more logging) (int, default = 0)\n",
      "\n"
     ]
    },
    {
     "ename": "",
     "evalue": "1",
     "output_type": "error",
     "traceback": []
    }
   ],
   "source": [
    "tree-info"
   ]
  },
  {
   "cell_type": "code",
   "execution_count": 8,
   "metadata": {},
   "outputs": [
    {
     "name": "stdout",
     "output_type": "stream",
     "text": [
      "tree-info exp/monophones/tree \n",
      "num-pdfs 212\n",
      "context-width 1\n",
      "central-position 0\n"
     ]
    }
   ],
   "source": [
    "tree-info exp/monophones/tree"
   ]
  },
  {
   "cell_type": "markdown",
   "metadata": {},
   "source": [
    "`num-pdfs` is the number of distributions that we end up with in the `tree`.  Remember, these are the `leaves`.  \n",
    "\n",
    "`context-width` refers to how many phones of \"context\" we included.  `central-position` refers to which item is the \"central\" phone (and which are the \"context\" phones).  Since the tree above was built from `monophones` the width was `1` and the `central-position` was `0`.  But compare to the `tree` from the `triphones`."
   ]
  },
  {
   "cell_type": "code",
   "execution_count": 11,
   "metadata": {},
   "outputs": [
    {
     "name": "stdout",
     "output_type": "stream",
     "text": [
      "tree-info exp/triphones/tree \n",
      "num-pdfs 2678\n",
      "context-width 3\n",
      "central-position 1\n"
     ]
    }
   ],
   "source": [
    "tree-info exp/triphones/tree"
   ]
  },
  {
   "cell_type": "markdown",
   "metadata": {},
   "source": [
    "Now we have a `width` of 3, meaning one phone of \"context\" on each side, and thus the `central-position` is the second phone (remember, we're using `0-indexing` here)."
   ]
  },
  {
   "cell_type": "markdown",
   "metadata": {},
   "source": [
    "Also not surprising here should be the fact that we have significantly more `pdf`s in the `triphone` `tree`.  \n",
    "\n",
    "Because every combination of phones with context on each side needed to be modeled we started with `num_phones^3` possible combinations."
   ]
  },
  {
   "cell_type": "code",
   "execution_count": 18,
   "metadata": {},
   "outputs": [
    {
     "name": "stdout",
     "output_type": "stream",
     "text": [
      "70\n"
     ]
    }
   ],
   "source": [
    "cat raw_data/librispeech-phones.txt | wc -l"
   ]
  },
  {
   "cell_type": "markdown",
   "metadata": {},
   "source": [
    "Since we started off with 70 possible phones, we could have up to 343000 total combinations.  The purpose of the decision tree is to cluster together as many phones as possible **without losing our modeling power**.  In our case, the `triphones` `tree` reduceed that significantly."
   ]
  },
  {
   "cell_type": "markdown",
   "metadata": {},
   "source": [
    "## understanding the `.mdl` file"
   ]
  },
  {
   "cell_type": "markdown",
   "metadata": {},
   "source": [
    "The `.mdl` file is the final `HMM` representing the acoustic model.  We can get some general information about this model by using a few `C++` methods (assuming we `sourc`ed `path.sh`)."
   ]
  },
  {
   "cell_type": "markdown",
   "metadata": {},
   "source": [
    "### `gmm-info`\n",
    "\n",
    "`gmm-info` will give use some very general statistics about the model, including some information about the `Gaussian Mixture Model` (`GMM`) and some information about the `HMM`."
   ]
  },
  {
   "cell_type": "code",
   "execution_count": 2,
   "metadata": {},
   "outputs": [
    {
     "name": "stdout",
     "output_type": "stream",
     "text": [
      "gmm-info \n",
      "\n",
      "Write to standard output various properties of GMM-based model\n",
      "Usage:  gmm-info [options] <model-in>\n",
      "e.g.:\n",
      " gmm-info 1.mdl\n",
      "See also: gmm-global-info, am-info\n",
      "\n",
      "Standard options:\n",
      "  --config                    : Configuration file to read (this option may be repeated) (string, default = \"\")\n",
      "  --help                      : Print out usage message (bool, default = false)\n",
      "  --print-args                : Print the command line arguments (to stderr) (bool, default = true)\n",
      "  --verbose                   : Verbose level (higher->more logging) (int, default = 0)\n",
      "\n"
     ]
    },
    {
     "ename": "",
     "evalue": "1",
     "output_type": "error",
     "traceback": []
    }
   ],
   "source": [
    "gmm-info"
   ]
  },
  {
   "cell_type": "code",
   "execution_count": 3,
   "metadata": {},
   "outputs": [
    {
     "name": "stdout",
     "output_type": "stream",
     "text": [
      "gmm-info exp/monophones/final.mdl \n",
      "number of phones 281\n",
      "number of pdfs 212\n",
      "number of transition-ids 1746\n",
      "number of transition-states 853\n",
      "feature dimension 39\n",
      "number of gaussians 9658\n"
     ]
    }
   ],
   "source": [
    "gmm-info exp/monophones/final.mdl"
   ]
  },
  {
   "cell_type": "markdown",
   "metadata": {},
   "source": [
    "So we can see:\n",
    " - `number of phones` = how many phones this model represents\n",
    " - `number of pdfs` = how many representations of the phones were generated; this **SHOULD** be less than the number of `phones` because our decision tree grouped some phones together\n",
    " - `number_of_transition_ids` = ...\n",
    "    TODO finish"
   ]
  },
  {
   "cell_type": "code",
   "execution_count": 5,
   "metadata": {},
   "outputs": [
    {
     "name": "stdout",
     "output_type": "stream",
     "text": [
      "gmm-info exp/triphones/final.mdl \n",
      "number of phones 281\n",
      "number of pdfs 2678\n",
      "number of transition-ids 21686\n",
      "number of transition-states 10823\n",
      "feature dimension 39\n",
      "number of gaussians 10019\n"
     ]
    }
   ],
   "source": [
    "gmm-info exp/triphones/final.mdl"
   ]
  },
  {
   "cell_type": "markdown",
   "metadata": {},
   "source": [
    "### `gmm-copy`\n",
    "\n",
    "TODO here"
   ]
  },
  {
   "cell_type": "code",
   "execution_count": 16,
   "metadata": {},
   "outputs": [
    {
     "name": "stdout",
     "output_type": "stream",
     "text": [
      "gmm-copy \n",
      "\n",
      "Copy GMM based model (and possibly change binary/text format)\n",
      "Usage:  gmm-copy [options] <model-in> <model-out>\n",
      "e.g.:\n",
      " gmm-copy --binary=false 1.mdl 1_txt.mdl\n",
      "\n",
      "Options:\n",
      "  --binary                    : Write output in binary mode (bool, default = true)\n",
      "  --copy-am                   : Copy the acoustic model (AmDiagGmm object) (bool, default = true)\n",
      "  --copy-tm                   : Copy the transition model (bool, default = true)\n",
      "\n",
      "Standard options:\n",
      "  --config                    : Configuration file to read (this option may be repeated) (string, default = \"\")\n",
      "  --help                      : Print out usage message (bool, default = false)\n",
      "  --print-args                : Print the command line arguments (to stderr) (bool, default = true)\n",
      "  --verbose                   : Verbose level (higher->more logging) (int, default = 0)\n",
      "\n"
     ]
    },
    {
     "ename": "",
     "evalue": "1",
     "output_type": "error",
     "traceback": []
    }
   ],
   "source": [
    "gmm-copy"
   ]
  },
  {
   "cell_type": "code",
   "execution_count": 8,
   "metadata": {},
   "outputs": [
    {
     "name": "stdout",
     "output_type": "stream",
     "text": [
      "gmm-copy --binary=false exp/monophones/final.mdl - \n",
      "<TransitionModel> \n",
      "<Topology> \n",
      "<TopologyEntry> \n",
      "<ForPhones> \n",
      "6 7 8 9 10 11 12 13 14 15 16 17 18 19 20 21 22 23 24 25 26 27 28 29 30 31 32 33 34 35 36 37 38 39 40 41 42 43 44 45 46 47 48 49 50 51 52 53 54 55 56 57 58 59 60 61 62 63 64 65 66 67 68 69 70 71 72 73 74 75 76 77 78 79 80 81 82 83 84 85 86 87 88 89 90 91 92 93 94 95 96 97 98 99 100 101 102 103 104 105 106 107 108 109 110 111 112 113 114 115 116 117 118 119 120 121 122 123 124 125 126 127 128 129 130 131 132 133 134 135 136 137 138 139 140 141 142 143 144 145 146 147 148 149 150 151 152 153 154 155 156 157 158 159 160 161 162 163 164 165 166 167 168 169 170 171 172 173 174 175 176 177 178 179 180 181 182 183 184 185 186 187 188 189 190 191 192 193 194 195 196 197 198 199 200 201 202 203 204 205 206 207 208 209 210 211 212 213 214 215 216 217 218 219 220 221 222 223 224 225 226 227 228 229 230 231 232 233 234 235 236 237 238 239 240 241 242 243 244 245 246 247 248 249 250 251 252 253 254 255 256 257 258 259 260 261 262 263 264 265 266 267 268 269 270 271 272 273 274 275 276 277 278 279 280 281 \n",
      "</ForPhones> \n",
      "<State> 0 <PdfClass> 0 <Transition> 0 0.75 <Transition> 1 0.25 </State> \n",
      "<State> 1 <PdfClass> 1 <Transition> 1 0.75 <Transition> 2 0.25 </State> \n",
      "<State> 2 <PdfClass> 2 <Transition> 2 0.75 <Transition> 3 0.25 </State> \n",
      "<State> 3 </State> \n",
      "</TopologyEntry> \n",
      "<TopologyEntry> \n",
      "<ForPhones> \n",
      "1 2 3 4 5 \n",
      "</ForPhones> \n",
      "<State> 0 <PdfClass> 0 <Transition> 0 0.25 <Transition> 1 0.25 <Transition> 2 0.25 <Transition> 3 0.25 </State> \n",
      "<State> 1 <PdfClass> 1 <Transition> 1 0.25 <Transition> 2 0.25 <Transition> 3 0.25 <Transition> 4 0.25 </State> \n",
      "<State> 2 <PdfClass> 2 <Transition> 1 0.25 <Transition> 2 0.25 <Transition> 3 0.25 <Transition> 4 0.25 </State> \n",
      "<State> 3 <PdfClass> 3 <Transition> 1 0.25 <Transition> 2 0.25 <Transition> 3 0.25 <Transition> 4 0.25 </State> \n",
      "<State> 4 <PdfClass> 4 <Transition> 4 0.75 <Transition> 5 0.25 </State> \n",
      "<State> 5 </State> \n",
      "</TopologyEntry> \n",
      "</Topology> \n",
      "<Triples> 853 \n",
      "1 0 0 \n",
      "1 1 1 \n",
      "1 2 2 \n",
      "1 3 3 \n",
      "1 4 4 \n",
      "2 0 0 \n",
      "ERROR (gmm-copy[5.2.191~1-48be1]:~Output():kaldi-io.cc:680) Error closing output file standard output\n",
      "\n",
      "[ Stack-Trace: ]\n",
      "\n",
      "kaldi::MessageLogger::HandleMessage(kaldi::LogMessageEnvelope const&, char const*)\n",
      "kaldi::MessageLogger::~MessageLogger()\n",
      "kaldi::Output::~Output()\n",
      "main\n",
      "__libc_start_main\n",
      "_start\n",
      "\n"
     ]
    }
   ],
   "source": [
    "gmm-copy \\\n",
    "    --binary=false \\\n",
    "    exp/monophones/final.mdl \\\n",
    "    - \\\n",
    "    | head -n30"
   ]
  },
  {
   "cell_type": "code",
   "execution_count": null,
   "metadata": {},
   "outputs": [],
   "source": [
    "TODO explain"
   ]
  },
  {
   "cell_type": "markdown",
   "metadata": {},
   "source": [
    "We can also look more closely at the transitions for each state of the `HMM` by using `show-transitions`."
   ]
  },
  {
   "cell_type": "markdown",
   "metadata": {},
   "source": [
    "### `show-transitions`\n",
    "\n",
    "TODO here"
   ]
  },
  {
   "cell_type": "code",
   "execution_count": 8,
   "metadata": {},
   "outputs": [
    {
     "name": "stdout",
     "output_type": "stream",
     "text": [
      "show-transitions \n",
      "\n",
      "Print debugging info from transition model, in human-readable form\n",
      "Usage:  show-transitions <phones-symbol-table> <transition/model-file> [<occs-file>]\n",
      "e.g.: \n",
      " show-transitions phones.txt 1.mdl 1.occs\n",
      "\n",
      "Standard options:\n",
      "  --config                    : Configuration file to read (this option may be repeated) (string, default = \"\")\n",
      "  --help                      : Print out usage message (bool, default = false)\n",
      "  --print-args                : Print the command line arguments (to stderr) (bool, default = true)\n",
      "  --verbose                   : Verbose level (higher->more logging) (int, default = 0)\n",
      "\n"
     ]
    },
    {
     "ename": "",
     "evalue": "1",
     "output_type": "error",
     "traceback": []
    }
   ],
   "source": [
    "show-transitions"
   ]
  },
  {
   "cell_type": "code",
   "execution_count": 9,
   "metadata": {},
   "outputs": [
    {
     "name": "stdout",
     "output_type": "stream",
     "text": [
      "show-transitions data/lang/phones.txt exp/monophones/final.mdl \n",
      "Transition-state 1: phone = SIL hmm-state = 0 pdf = 0\n",
      " Transition-id = 1 p = 0.825838 [self-loop]\n",
      " Transition-id = 2 p = 0.01 [0 -> 1]\n",
      " Transition-id = 3 p = 0.154166 [0 -> 2]\n",
      " Transition-id = 4 p = 0.01 [0 -> 3]\n",
      "Transition-state 2: phone = SIL hmm-state = 1 pdf = 1\n",
      " Transition-id = 5 p = 0.951921 [self-loop]\n",
      " Transition-id = 6 p = 0.01 [1 -> 2]\n",
      " Transition-id = 7 p = 0.01 [1 -> 3]\n",
      " Transition-id = 8 p = 0.0280863 [1 -> 4]\n"
     ]
    }
   ],
   "source": [
    "show-transitions \\\n",
    "    data/lang/phones.txt \\\n",
    "    exp/monophones/final.mdl \\\n",
    "    | head"
   ]
  },
  {
   "cell_type": "code",
   "execution_count": null,
   "metadata": {},
   "outputs": [],
   "source": [
    "Phone = SIL\n",
    "state = 0\n",
    "pdf = 0\n",
    "arc = self-loop"
   ]
  },
  {
   "cell_type": "code",
   "execution_count": 12,
   "metadata": {},
   "outputs": [
    {
     "name": "stdout",
     "output_type": "stream",
     "text": [
      "copy-int-vector 'ark:gunzip -c exp/monophones/ali.1.gz|' ark,t:- \n",
      "1272-128104-0009 3 1 1 1 1 1 1 12 10 10 10 10 10 10 10 10 10 10 10 10 10 10 10 10 10 10 10 10 10 10 10 10 10 10 10 10 10 10 10 10 10 10 10 10 10 10 10 10 10 10 10 18 17 884 883 883 883 883 883 883 883 883 883 886 885 885 888 887 1010 1009 1012 1011 1014 1013 1013 1100 1099 1099 1099 1099 1099 1099 1099 1099 1102 1101 1104 248 250 249 252 1136 1135 1135 1135 1135 1135 1138 1137 1137 1137 1140 656 658 657 657 660 1160 1162 1161 1164 1163 1163 1448 1450 1452 1394 1393 1396 1395 1395 1395 1398 1397 1397 1397 1397 1124 1123 1123 1123 1123 1123 1126 1125 1125 1125 1128 1232 1234 1236 1235 1235 1235 1235 1235 1235 1235 1235 1235 1235 1400 1399 1399 1399 1399 1402 1401 1401 1404 1403 1403 1403 1403 1403 1403 1442 1441 1441 1444 1446 3 1 1 1 1 1 1 12 18 524 523 526 525 525 528 527 527 944 946 945 948 1448 1450 1449 1449 1452 1451 704 706 705 708 707 707 1112 1111 1111 1111 1111 1114 1113 1113 1113 1113 1116 986 985 985 985 985 988 987 990 989 989 989 596 595 595 595 595 595 595 598 600 242 244 243 246 572 571 574 573 576 575 575 920 922 921 924 1640 1639 1639 1639 1639 1639 1642 1641 1644 1643 1643 344 343 346 345 345 345 345 345 348 347 1376 1375 1375 1375 1378 1377 1380 1394 1393 1393 1396 1398 1397 1397 1397 1397 1397 1397 596 595 595 595 598 600 599 599 248 250 252 1442 1444 1446 884 886 885 885 888 248 247 247 247 250 249 249 252 1706 1705 1705 1705 1708 1707 1710 1709 1709 1709 524 523 523 523 523 523 523 526 525 528 527 944 946 948 1154 1156 1158 1124 1123 1126 1125 1125 1125 1125 1125 1125 1125 1128 1127 800 799 799 799 799 799 799 799 799 799 799 799 799 799 799 802 801 801 804 803 578 580 579 582 524 523 523 523 523 523 523 526 528 920 922 924 1448 1450 1452 1451 1451 1451 1451 1451 1451 1451 1451 1451 1451 1664 1663 1666 1668 1016 1015 1015 1018 1017 1017 1020 1154 1156 1155 1158 1157 1157 572 571 571 574 573 573 576 575 575 575 575 575 575 575 656 658 660 1088 1087 1087 1087 1087 1090 1092 1091 1091 1091 1091 1091 1376 1375 1375 1375 1375 1375 1375 1375 1378 1380 1379 1379 248 247 247 250 252 251 251 251 251 1448 1450 1449 1452 1451 1451 920 922 921 921 924 1634 1636 1635 1638 1637 1637 116 115 115 115 115 118 120 119 119 119 119 119 119 119 119 119 1376 1375 1378 1380 1442 1444 1443 1443 1446 1445 1445 1445 3 1 12 18 17 17 17 17 236 235 238 237 240 1160 1159 1159 1159 1159 1159 1159 1159 1159 1159 1159 1159 1159 1159 1159 1159 1159 1159 1159 1159 1159 1159 1162 1161 1164 1163 578 577 580 582 581 581 581 4 16 15 15 15 15 15 15 15 15 15 15 15 15 15 15 15 15 15 15 15 15 15 15 15 15 15 15 15 15 15 15 15 15 15 15 15 15 15 15 15 15 15 15 15 15 15 15 15 15 15 15 15 15 15 15 15 15 15 15 15 18 17 17 17 17 17 17 1652 1651 1651 1651 1651 1651 1651 1654 1653 1656 272 274 276 1442 1444 1446 1652 1651 1651 1651 1651 1654 1653 1653 1653 1656 1010 1009 1009 1012 1014 1676 1678 1680 1679 1679 1679 1679 1679 1679 1679 1679 1679 1679 1679 1679 1679 1679 1679 1679 1679 1679 1679 1592 1594 1596 1736 1738 1740 1739 1739 1739 248 247 250 252 1112 1114 1113 1116 1115 986 985 985 988 990 1076 1075 1075 1075 1075 1078 1077 1080 1079 1079 1079 1079 1079 1079 344 343 343 343 343 343 343 343 343 343 343 343 343 343 343 343 343 343 346 348 1106 1108 1110 1109 1340 1339 1339 1339 1339 1339 1339 1339 1342 1341 1344 1343 1343 944 946 948 947 1088 1090 1089 1092 560 559 562 561 561 561 564 563 563 704 703 706 705 705 705 708 707 707 707 707 707 707 707 707 707 707 707 707 707 707 707 707 707 707 1706 1708 1707 1707 1710 1709 1709 1709 1709 1709 1709 1709 1709 1709 1709 1709 1709 1709 1709 1709 1709 1709 1709 1709 1709 1709 3 1 11 10 10 10 10 14 15 15 15 15 15 15 15 15 15 15 15 15 15 15 15 15 15 15 15 15 15 15 15 15 15 15 15 15 15 15 15 15 15 12 10 10 10 10 10 10 10 10 10 10 10 10 10 10 18 17 17 17 17 17 17 17 17 17 1124 1123 1123 1126 1125 1125 1128 800 802 804 803 1088 1090 1092 1091 1091 1091 1394 1393 1396 1398 1397 1397 596 598 600 242 244 246 1076 1075 1078 1077 1080 1079 1079 1079 1079 1079 1079 272 271 271 274 276 1400 1399 1402 1404 1448 1450 1449 1452 1451 1451 1451 1451 1451 1451 248 250 249 252 1136 1135 1135 1138 1140 680 682 684 683 683 683 683 683 683 683 683 683 683 683 683 683 683 683 683 683 683 683 683 683 683 683 683 683 683 683 683 683 683 683 683 683 683 683 1376 1378 1380 986 988 990 236 238 237 237 237 237 240 1352 1351 1351 1351 1351 1351 1351 1354 1353 1353 1353 1353 1353 1353 1353 1356 1016 1015 1015 1015 1015 1015 1015 1015 1018 1017 1020 1019 1106 1105 1105 1105 1105 1105 1105 1108 1107 1107 1110 1109 1436 1438 1437 1440 1439 1439 1439 1439 1439 242 244 246 245 596 595 595 598 600 266 265 268 270 1100 1099 1099 1099 1099 1099 1099 1099 1099 1099 1099 1102 1101 1104 344 343 343 343 343 343 346 345 348 347 1400 1399 1399 1399 1399 1399 1402 1404 1403 1403 1403 1403 1442 1444 1443 1446 1052 1054 1056 1055 1055 1055 1055 1055 1055 1055 272 271 271 274 276 1064 1063 1063 1063 1063 1063 1066 1065 1068 1067 1067 1067 1067 1136 1135 1135 1138 1140 1139 1139 248 250 252 1160 1162 1164 1163 1442 1444 1443 1446 1445 1445 1445 1445 1445 1445 1445 236 235 238 237 237 237 240 1160 1162 1161 1164 578 580 579 582 581 1364 1363 1363 1363 1363 1366 1368 992 994 993 996 1136 1135 1135 1135 1135 1135 1135 1138 1137 1137 1140 1139 1139 488 490 489 489 489 489 489 489 489 489 492 491 491 491 491 1160 1159 1162 1161 1164 584 586 588 1706 1708 1707 1707 1710 1709 1709 1709 260 259 259 259 259 259 259 259 259 259 262 261 264 1394 1393 1393 1393 1393 1396 1395 1398 1397 1397 1397 1397 1397 1397 3 12 18 17 17 596 595 595 595 598 600 599 200 199 202 204 203 203 1442 1444 1446 1445 1445 1445 908 907 910 912 911 911 911 911 911 1154 1153 1156 1155 1158 1157 1157 1157 1157 1157 596 595 595 598 600 242 244 246 245 860 859 859 859 859 862 864 1376 1375 1375 1375 1378 1377 1377 1377 1377 1377 1380 1379 1379 1379 800 802 801 804 803 803 1442 1444 1443 1446 1445 1445 1445 1445 1445 3 1 1 1 12 18 17 17 572 574 576 575 575 575 800 799 799 799 799 799 799 799 799 799 799 799 799 799 799 799 799 799 802 801 804 803 803 803 1706 1708 1707 1707 1707 1710 1709 236 235 238 237 237 240 1634 1633 1636 1638 3 1 1 1 1 12 18 17 17 17 116 115 115 115 115 118 117 117 120 119 119 119 119 119 119 119 119 119 1376 1375 1375 1375 1378 1380 1442 1441 1444 1443 1443 1443 1443 1446 1445 1445 1445 1445 1445 1445 1445 1445 1445 1445 1124 1123 1126 1125 1125 1128 1127 488 490 489 492 1088 1087 1087 1087 1087 1090 1089 1089 1092 1091 248 247 250 252 251 1106 1105 1105 1105 1105 1105 1105 1108 1107 1107 1107 1107 1110 1109 188 187 187 190 192 1160 1162 1161 1164 1163 1163 1163 1064 1063 1066 1068 1067 1067 1067 1067 248 250 252 1112 1111 1111 1111 1111 1111 1111 1111 1114 1116 1115 1115 1115 1115 1115 1115 1115 1115 1115 1115 1115 1115 1115 1115 1115 1115 1250 1252 1251 1251 1254 3 1 12 18 17 1652 1651 1651 1651 1651 1651 1651 1651 1651 1651 1651 1654 1653 1656 1655 248 250 252 251 1706 1705 1705 1705 1708 1707 1707 1707 1710 1709 1709 1709 1709 1709 1709 596 598 600 986 985 985 985 985 985 985 985 985 985 985 985 985 985 988 987 990 989 989 989 3 1 1 12 10 10 10 10 10 10 10 10 10 10 10 10 10 10 10 18 17 17 836 835 835 835 835 835 835 835 838 837 840 728 730 729 729 729 729 732 1160 1162 1164 1163 920 922 924 923 923 923 923 1424 1423 1423 1423 1423 1423 1423 1423 1423 1423 1426 1425 1425 1428 920 922 924 923 1178 1177 1177 1180 1179 1182 1181 1181 1181 1181 1181 1181 1181 1181 1181 1181 1181 236 235 235 235 235 235 235 235 238 240 239 239 1352 1351 1351 1351 1351 1354 1353 1353 1353 1353 1353 1353 1353 1356 1232 1231 1234 1236 1235 1112 1114 1113 1116 1115 1400 1399 1399 1399 1402 1404 1403 1403 1403 1403 1448 1450 1452 704 703 706 705 705 705 708 707 707 707 707 707 707 707 707 707 707 698 700 702 701 701 701 701 701 701 701 701 701 701 3 1 1 1 1 1 1 1 12 10 10 10 10 10 10 10 10 10 10 10 10 10 10 10 10 10 10 10 10 10 10 10 10 10 10 10 10 10 10 10 10 10 10 10 10 10 10 18 \n",
      "WARNING (copy-int-vector[5.2.191~1-48be1]:Write():util/kaldi-holder-inl.h:252) Exception caught writing Table object (BasicVector). Write failure in WriteBasicType.\n",
      "WARNING (copy-int-vector[5.2.191~1-48be1]:Write():util/kaldi-table-inl.h:1057) Write failure to standard output\n"
     ]
    },
    {
     "name": "stdout",
     "output_type": "stream",
     "text": [
      "ERROR (copy-int-vector[5.2.191~1-48be1]:Write():util/kaldi-table-inl.h:1515) Error in TableWriter::Write\n",
      "\n",
      "[ Stack-Trace: ]\n",
      "\n",
      "kaldi::MessageLogger::HandleMessage(kaldi::LogMessageEnvelope const&, char const*)\n",
      "kaldi::MessageLogger::~MessageLogger()\n",
      "kaldi::TableWriter<kaldi::BasicVectorHolder<int> >::Write(std::__cxx11::basic_string<char, std::char_traits<char>, std::allocator<char> > const&, std::vector<int, std::allocator<int> > const&) const\n",
      "main\n",
      "__libc_start_main\n",
      "_start\n",
      "\n",
      "\n",
      "gzip: stdout: Broken pipe\n",
      "WARNING (copy-int-vector[5.2.191~1-48be1]:Close():kaldi-io.cc:501) Pipe gunzip -c exp/monophones/ali.1.gz| had nonzero return status 256\n",
      "WARNING (copy-int-vector[5.2.191~1-48be1]:Close():util/kaldi-table-inl.h:1089) Error closing stream: wspecifier is ark,t:-\n",
      "ERROR (copy-int-vector[5.2.191~1-48be1]:~TableWriter():util/kaldi-table-inl.h:1539) Error closing TableWriter [in destructor].\n",
      "\n",
      "[ Stack-Trace: ]\n",
      "\n",
      "kaldi::MessageLogger::HandleMessage(kaldi::LogMessageEnvelope const&, char const*)\n",
      "kaldi::MessageLogger::~MessageLogger()\n",
      "kaldi::TableWriter<kaldi::BasicVectorHolder<int> >::~TableWriter()\n",
      "main\n",
      "__libc_start_main\n",
      "_start\n",
      "\n"
     ]
    }
   ],
   "source": [
    "copy-int-vector \"ark:gunzip -c exp/monophones/ali.1.gz|\" \\\n",
    "ark,t:- | head -n 1"
   ]
  },
  {
   "cell_type": "code",
   "execution_count": 11,
   "metadata": {},
   "outputs": [
    {
     "name": "stdout",
     "output_type": "stream",
     "text": [
      "show-alignments data/lang/phones.txt exp/monophones/final.mdl 'ark:gunzip -c exp/monophones/ali.1.gz |' \n",
      "1272-128104-0009  [ 3 1 1 1 1 1 1 12 10 10 10 10 10 10 10 10 10 10 10 10 10 10 10 10 10 10 10 10 10 10 10 10 10 10 10 10 10 10 10 10 10 10 10 10 10 10 10 10 10 10 10 18 17 ] [ 884 883 883 883 883 883 883 883 883 883 886 885 885 888 887 ] [ 1010 1009 1012 1011 1014 1013 1013 ] [ 1100 1099 1099 1099 1099 1099 1099 1099 1099 1102 1101 1104 ] [ 248 250 249 252 ] [ 1136 1135 1135 1135 1135 1135 1138 1137 1137 1137 1140 ] [ 656 658 657 657 660 ] [ 1160 1162 1161 1164 1163 1163 ] [ 1448 1450 1452 ] [ 1394 1393 1396 1395 1395 1395 1398 1397 1397 1397 1397 ] [ 1124 1123 1123 1123 1123 1123 1126 1125 1125 1125 1128 ] [ 1232 1234 1236 1235 1235 1235 1235 1235 1235 1235 1235 1235 1235 ] [ 1400 1399 1399 1399 1399 1402 1401 1401 1404 1403 1403 1403 1403 1403 1403 ] [ 1442 1441 1441 1444 1446 ] [ 3 1 1 1 1 1 1 12 18 ] [ 524 523 526 525 525 528 527 527 ] [ 944 946 945 948 ] [ 1448 1450 1449 1449 1452 1451 ] [ 704 706 705 708 707 707 ] [ 1112 1111 1111 1111 1111 1114 1113 1113 1113 1113 1116 ] [ 986 985 985 985 985 988 987 990 989 989 989 ] [ 596 595 595 595 595 595 595 598 600 ] [ 242 244 243 246 ] [ 572 571 574 573 576 575 575 ] [ 920 922 921 924 ] [ 1640 1639 1639 1639 1639 1639 1642 1641 1644 1643 1643 ] [ 344 343 346 345 345 345 345 345 348 347 ] [ 1376 1375 1375 1375 1378 1377 1380 ] [ 1394 1393 1393 1396 1398 1397 1397 1397 1397 1397 1397 ] [ 596 595 595 595 598 600 599 599 ] [ 248 250 252 ] [ 1442 1444 1446 ] [ 884 886 885 885 888 ] [ 248 247 247 247 250 249 249 252 ] [ 1706 1705 1705 1705 1708 1707 1710 1709 1709 1709 ] [ 524 523 523 523 523 523 523 526 525 528 527 ] [ 944 946 948 ] [ 1154 1156 1158 ] [ 1124 1123 1126 1125 1125 1125 1125 1125 1125 1125 1128 1127 ] [ 800 799 799 799 799 799 799 799 799 799 799 799 799 799 799 802 801 801 804 803 ] [ 578 580 579 582 ] [ 524 523 523 523 523 523 523 526 528 ] [ 920 922 924 ] [ 1448 1450 1452 1451 1451 1451 1451 1451 1451 1451 1451 1451 1451 ] [ 1664 1663 1666 1668 ] [ 1016 1015 1015 1018 1017 1017 1020 ] [ 1154 1156 1155 1158 1157 1157 ] [ 572 571 571 574 573 573 576 575 575 575 575 575 575 575 ] [ 656 658 660 ] [ 1088 1087 1087 1087 1087 1090 1092 1091 1091 1091 1091 1091 ] [ 1376 1375 1375 1375 1375 1375 1375 1375 1378 1380 1379 1379 ] [ 248 247 247 250 252 251 251 251 251 ] [ 1448 1450 1449 1452 1451 1451 ] [ 920 922 921 921 924 ] [ 1634 1636 1635 1638 1637 1637 ] [ 116 115 115 115 115 118 120 119 119 119 119 119 119 119 119 119 ] [ 1376 1375 1378 1380 ] [ 1442 1444 1443 1443 1446 1445 1445 1445 ] [ 3 1 12 18 17 17 17 17 ] [ 236 235 238 237 240 ] [ 1160 1159 1159 1159 1159 1159 1159 1159 1159 1159 1159 1159 1159 1159 1159 1159 1159 1159 1159 1159 1159 1159 1162 1161 1164 1163 ] [ 578 577 580 582 581 581 581 ] [ 4 16 15 15 15 15 15 15 15 15 15 15 15 15 15 15 15 15 15 15 15 15 15 15 15 15 15 15 15 15 15 15 15 15 15 15 15 15 15 15 15 15 15 15 15 15 15 15 15 15 15 15 15 15 15 15 15 15 15 15 15 18 17 17 17 17 17 17 ] [ 1652 1651 1651 1651 1651 1651 1651 1654 1653 1656 ] [ 272 274 276 ] [ 1442 1444 1446 ] [ 1652 1651 1651 1651 1651 1654 1653 1653 1653 1656 ] [ 1010 1009 1009 1012 1014 ] [ 1676 1678 1680 1679 1679 1679 1679 1679 1679 1679 1679 1679 1679 1679 1679 1679 1679 1679 1679 1679 1679 1679 ] [ 1592 1594 1596 ] [ 1736 1738 1740 1739 1739 1739 ] [ 248 247 250 252 ] [ 1112 1114 1113 1116 1115 ] [ 986 985 985 988 990 ] [ 1076 1075 1075 1075 1075 1078 1077 1080 1079 1079 1079 1079 1079 1079 ] [ 344 343 343 343 343 343 343 343 343 343 343 343 343 343 343 343 343 343 346 348 ] [ 1106 1108 1110 1109 ] [ 1340 1339 1339 1339 1339 1339 1339 1339 1342 1341 1344 1343 1343 ] [ 944 946 948 947 ] [ 1088 1090 1089 1092 ] [ 560 559 562 561 561 561 564 563 563 ] [ 704 703 706 705 705 705 708 707 707 707 707 707 707 707 707 707 707 707 707 707 707 707 707 707 707 ] [ 1706 1708 1707 1707 1710 1709 1709 1709 1709 1709 1709 1709 1709 1709 1709 1709 1709 1709 1709 1709 1709 1709 1709 1709 1709 1709 ] [ 3 1 11 10 10 10 10 14 15 15 15 15 15 15 15 15 15 15 15 15 15 15 15 15 15 15 15 15 15 15 15 15 15 15 15 15 15 15 15 15 15 12 10 10 10 10 10 10 10 10 10 10 10 10 10 10 18 17 17 17 17 17 17 17 17 17 ] [ 1124 1123 1123 1126 1125 1125 1128 ] [ 800 802 804 803 ] [ 1088 1090 1092 1091 1091 1091 ] [ 1394 1393 1396 1398 1397 1397 ] [ 596 598 600 ] [ 242 244 246 ] [ 1076 1075 1078 1077 1080 1079 1079 1079 1079 1079 1079 ] [ 272 271 271 274 276 ] [ 1400 1399 1402 1404 ] [ 1448 1450 1449 1452 1451 1451 1451 1451 1451 1451 ] [ 248 250 249 252 ] [ 1136 1135 1135 1138 1140 ] [ 680 682 684 683 683 683 683 683 683 683 683 683 683 683 683 683 683 683 683 683 683 683 683 683 683 683 683 683 683 683 683 683 683 683 683 683 683 683 ] [ 1376 1378 1380 ] [ 986 988 990 ] [ 236 238 237 237 237 237 240 ] [ 1352 1351 1351 1351 1351 1351 1351 1354 1353 1353 1353 1353 1353 1353 1353 1356 ] [ 1016 1015 1015 1015 1015 1015 1015 1015 1018 1017 1020 1019 ] [ 1106 1105 1105 1105 1105 1105 1105 1108 1107 1107 1110 1109 ] [ 1436 1438 1437 1440 1439 1439 1439 1439 1439 ] [ 242 244 246 245 ] [ 596 595 595 598 600 ] [ 266 265 268 270 ] [ 1100 1099 1099 1099 1099 1099 1099 1099 1099 1099 1099 1102 1101 1104 ] [ 344 343 343 343 343 343 346 345 348 347 ] [ 1400 1399 1399 1399 1399 1399 1402 1404 1403 1403 1403 1403 ] [ 1442 1444 1443 1446 ] [ 1052 1054 1056 1055 1055 1055 1055 1055 1055 1055 ] [ 272 271 271 274 276 ] [ 1064 1063 1063 1063 1063 1063 1066 1065 1068 1067 1067 1067 1067 ] [ 1136 1135 1135 1138 1140 1139 1139 ] [ 248 250 252 ] [ 1160 1162 1164 1163 ] [ 1442 1444 1443 1446 1445 1445 1445 1445 1445 1445 1445 ] [ 236 235 238 237 237 237 240 ] [ 1160 1162 1161 1164 ] [ 578 580 579 582 581 ] [ 1364 1363 1363 1363 1363 1366 1368 ] [ 992 994 993 996 ] [ 1136 1135 1135 1135 1135 1135 1135 1138 1137 1137 1140 1139 1139 ] [ 488 490 489 489 489 489 489 489 489 489 492 491 491 491 491 ] [ 1160 1159 1162 1161 1164 ] [ 584 586 588 ] [ 1706 1708 1707 1707 1710 1709 1709 1709 ] [ 260 259 259 259 259 259 259 259 259 259 262 261 264 ] [ 1394 1393 1393 1393 1393 1396 1395 1398 1397 1397 1397 1397 1397 1397 ] [ 3 12 18 17 17 ] [ 596 595 595 595 598 600 599 ] [ 200 199 202 204 203 203 ] [ 1442 1444 1446 1445 1445 1445 ] [ 908 907 910 912 911 911 911 911 911 ] [ 1154 1153 1156 1155 1158 1157 1157 1157 1157 1157 ] [ 596 595 595 598 600 ] [ 242 244 246 245 ] [ 860 859 859 859 859 862 864 ] [ 1376 1375 1375 1375 1378 1377 1377 1377 1377 1377 1380 1379 1379 1379 ] [ 800 802 801 804 803 803 ] [ 1442 1444 1443 1446 1445 1445 1445 1445 1445 ] [ 3 1 1 1 12 18 17 17 ] [ 572 574 576 575 575 575 ] [ 800 799 799 799 799 799 799 799 799 799 799 799 799 799 799 799 799 799 802 801 804 803 803 803 ] [ 1706 1708 1707 1707 1707 1710 1709 ] [ 236 235 238 237 237 240 ] [ 1634 1633 1636 1638 ] [ 3 1 1 1 1 12 18 17 17 17 ] [ 116 115 115 115 115 118 117 117 120 119 119 119 119 119 119 119 119 119 ] [ 1376 1375 1375 1375 1378 1380 ] [ 1442 1441 1444 1443 1443 1443 1443 1446 1445 1445 1445 1445 1445 1445 1445 1445 1445 1445 ] [ 1124 1123 1126 1125 1125 1128 1127 ] [ 488 490 489 492 ] [ 1088 1087 1087 1087 1087 1090 1089 1089 1092 1091 ] [ 248 247 250 252 251 ] [ 1106 1105 1105 1105 1105 1105 1105 1108 1107 1107 1107 1107 1110 1109 ] [ 188 187 187 190 192 ] [ 1160 1162 1161 1164 1163 1163 1163 ] [ 1064 1063 1066 1068 1067 1067 1067 1067 ] [ 248 250 252 ] [ 1112 1111 1111 1111 1111 1111 1111 1111 1114 1116 1115 1115 1115 1115 1115 1115 1115 1115 1115 1115 1115 1115 1115 1115 1115 1115 ] [ 1250 1252 1251 1251 1254 ] [ 3 1 12 18 17 ] [ 1652 1651 1651 1651 1651 1651 1651 1651 1651 1651 1651 1654 1653 1656 1655 ] [ 248 250 252 251 ] [ 1706 1705 1705 1705 1708 1707 1707 1707 1710 1709 1709 1709 1709 1709 1709 ] [ 596 598 600 ] [ 986 985 985 985 985 985 985 985 985 985 985 985 985 985 988 987 990 989 989 989 ] [ 3 1 1 12 10 10 10 10 10 10 10 10 10 10 10 10 10 10 10 18 17 17 ] [ 836 835 835 835 835 835 835 835 838 837 840 ] [ 728 730 729 729 729 729 732 ] [ 1160 1162 1164 1163 ] [ 920 922 924 923 923 923 923 ] [ 1424 1423 1423 1423 1423 1423 1423 1423 1423 1423 1426 1425 1425 1428 ] [ 920 922 924 923 ] [ 1178 1177 1177 1180 1179 1182 1181 1181 1181 1181 1181 1181 1181 1181 1181 1181 1181 ] [ 236 235 235 235 235 235 235 235 238 240 239 239 ] [ 1352 1351 1351 1351 1351 1354 1353 1353 1353 1353 1353 1353 1353 1356 ] [ 1232 1231 1234 1236 1235 ] [ 1112 1114 1113 1116 1115 ] [ 1400 1399 1399 1399 1402 1404 1403 1403 1403 1403 ] [ 1448 1450 1452 ] [ 704 703 706 705 705 705 708 707 707 707 707 707 707 707 707 707 707 ] [ 698 700 702 701 701 701 701 701 701 701 701 701 701 ] [ 3 1 1 1 1 1 1 1 12 10 10 10 10 10 10 10 10 10 10 10 10 10 10 10 10 10 10 10 10 10 10 10 10 10 10 10 10 10 10 10 10 10 10 10 10 10 10 18 ] \n"
     ]
    },
    {
     "name": "stdout",
     "output_type": "stream",
     "text": [
      "1272-128104-0009  SIL                                                                                                                                                         HH_B                                                            IY1_E                                  L_B                                                             AH0_I               M_I                                                        EH1_I                   N_I                               T_I                S_E                                                        M_B                                                        OW1_I                                                                S_I                                                                            T_E                          SIL                     B_B                                 IH1_I               T_I                               ER0_I                       L_I                                                        IY0_E                                           DH_B                                    AH0_E               D_B                             IH0_I               V_I                                                        AO1_I                                       R_I                                    S_E                                                        DH_B                                AH0_I           T_E                HH_B                    AH0_I                               Z_E                                                   B_B                                             IH1_I           N_E                M_B                                                             EY1_I                                                                               D_E                 B_B                                     IH0_I           T_I                                                                  W_I                     IY1_I                                  N_E                               D_B                                                         EH1_I           K_I                                                             R_I                                                             AH0_I                                   T_I                               IH0_I                   V_E                               AA1_B                                                               R_I                     T_E                                         SIL                       AH0_B                   N_I                                                                                                                                   D_E                             SIL                                                                                                                                                                                                            W_B                                                   AH1_I           T_E                W_B                                                   IY1_E                        Y_B                                                                                                               UW1_I              ZH_I                              AH0_I               L_I                          IY0_E                   K_B                                                                       AO1_I                                                                               L_E                     P_B                                                                  IH1_I               K_I                     CH_I                                    ER0_I                                                                                                   Z_E                                                                                                                                   SIL                                                                                                                                                                                                     M_B                                    EY1_I               K_I                               S_E                               DH_B            AH0_E           K_B                                                        AH1_I                   S_I                     T_I                                                   AH0_I               M_I                          EH2_I                                                                                                                                                       R_I                IY0_E           AH0_B                           P_I                                                                                 IY1_I                                                           L_E                                                             T_B                                              AH0_E               DH_B                    AH1_E               L_B                                                                       AO1_I                                       S_I                                                             T_E                     JH_B                                                  AH1_I                   JH_I                                                                 M_I                                    AH0_I           N_I                     T_E                                                        AH0_B                           N_I                     D_E                     R_B                                    IY0_I               M_I                                                                  AY1_I                                                           N_I                          D_I             Z_E                                         AH1_B                                                   S_E                                                                       SIL               DH_B                            AE1_I                       T_E                               IH0_B                                   N_E                                                   DH_B                    AH0_E               G_B                             R_I                                                                       EY1_I                       T_E                                              SIL                     D_B                         EY1_I                                                                                               Z_E                                    AH0_B                       V_E                     SIL                          AA1_B                                                                       R_I                               T_E                                                                                           M_B                                    AY1_I               K_I                                                   AH0_I                   L_E                                                                       AE1_B                   N_I                                    JH_I                                        AH0_I           L_I                                                                                                                                   OW2_E                        SIL              W_B                                                                            AH0_I               Z_E                                                                            DH_B            IY0_E                                                                               SIL                                                                F_B                                             ER1_I                           N_I                     IH0_I                           SH_I                                                                      IH0_I               NG_E                                                                                     AH0_B                                               P_I                                                                       OW1_I                        L_I                          S_I                                                   T_I                ER0_I                                                                   ER0_E                                                   SIL                                                                                                                                         \n"
     ]
    }
   ],
   "source": [
    "show-alignments data/lang/phones.txt exp/monophones/final.mdl \\\n",
    "\"ark:gunzip -c exp/monophones/ali.1.gz |\" | head -n 2"
   ]
  }
 ],
 "metadata": {
  "kernelspec": {
   "display_name": "Bash",
   "language": "bash",
   "name": "bash"
  },
  "language_info": {
   "codemirror_mode": "shell",
   "file_extension": ".sh",
   "mimetype": "text/x-sh",
   "name": "bash"
  }
 },
 "nbformat": 4,
 "nbformat_minor": 2
}
