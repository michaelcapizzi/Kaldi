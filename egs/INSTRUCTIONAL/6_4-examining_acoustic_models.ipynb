{
 "cells": [
  {
   "cell_type": "code",
   "execution_count": 3,
   "metadata": {},
   "outputs": [],
   "source": [
    ". ${KALDI_INSTRUCTIONAL_PATH}/path.sh"
   ]
  },
  {
   "cell_type": "markdown",
   "metadata": {},
   "source": [
    "# 6.4: Examining the acoustic models"
   ]
  },
  {
   "cell_type": "markdown",
   "metadata": {},
   "source": [
    "Unfortunately, there isn't an easy way to evaluate the quality of an acoustic model in isolation.  The best we will try to do in this notebook is gather some intuition on two aspects of our model:\n",
    " 1. the relationship between the number of phones and the size and shape of our `decision` `tree`\n",
    " 2. the impact of the two hyperparameters, `num_leaves`, and `num_gaussians`."
   ]
  },
  {
   "cell_type": "markdown",
   "metadata": {},
   "source": [
    "We will do this by looking at the two primary files generated at each layer of the acoustic training: `tree` and `*.mdl`."
   ]
  },
  {
   "cell_type": "markdown",
   "metadata": {},
   "source": [
    "## understanding the `tree` file\n",
    "\n",
    "The `tree` file is a `binary` representation of the decision tree built during the acoustic training.  This `tree` contains information about which phones were clustered together (*e.g.* \"state-tied\") to reduce the space of possibilities we need to model.\n",
    "\n",
    "In the end, each `leaf` of the tree will represent a probability distribution (`pdf`), and the `tree`'s job is to decide which phones can be grouped together appropriately."
   ]
  },
  {
   "cell_type": "markdown",
   "metadata": {},
   "source": [
    "### `tree-info`\n",
    "\n",
    "We can use `tree-info` to get a few useful pieces of information about the `decision` tree."
   ]
  },
  {
   "cell_type": "code",
   "execution_count": 2,
   "metadata": {},
   "outputs": [
    {
     "name": "stdout",
     "output_type": "stream",
     "text": [
      "tree-info \n",
      "\n",
      "Print information about decision tree (mainly the number of pdfs), to stdout\n",
      "Usage:  tree-info <tree-in>\n",
      "\n",
      "Standard options:\n",
      "  --config                    : Configuration file to read (this option may be repeated) (string, default = \"\")\n",
      "  --help                      : Print out usage message (bool, default = false)\n",
      "  --print-args                : Print the command line arguments (to stderr) (bool, default = true)\n",
      "  --verbose                   : Verbose level (higher->more logging) (int, default = 0)\n",
      "\n"
     ]
    },
    {
     "ename": "",
     "evalue": "1",
     "output_type": "error",
     "traceback": []
    }
   ],
   "source": [
    "tree-info"
   ]
  },
  {
   "cell_type": "code",
   "execution_count": 4,
   "metadata": {},
   "outputs": [
    {
     "name": "stdout",
     "output_type": "stream",
     "text": [
      "tree-info exp/monophones/tree \n",
      "num-pdfs 212\n",
      "context-width 1\n",
      "central-position 0\n"
     ]
    }
   ],
   "source": [
    "tree-info exp/monophones/tree"
   ]
  },
  {
   "cell_type": "markdown",
   "metadata": {},
   "source": [
    "`num-pdfs` is the number of distributions that we end up with in the `tree`.  Remember, these are the `leaves`.  \n",
    "\n",
    "`context-width` refers to how many phones of \"context\" we included.  `central-position` refers to which item is the \"central\" phone (and which are the \"context\" phones).  Since the tree above was built from `monophones` the width was `1` and the `central-position` was `0`.  But compare to the `tree` from the `triphones`."
   ]
  },
  {
   "cell_type": "code",
   "execution_count": 5,
   "metadata": {},
   "outputs": [
    {
     "name": "stdout",
     "output_type": "stream",
     "text": [
      "tree-info exp/triphones/tree \n",
      "num-pdfs 2678\n",
      "context-width 3\n",
      "central-position 1\n"
     ]
    }
   ],
   "source": [
    "tree-info exp/triphones/tree"
   ]
  },
  {
   "cell_type": "markdown",
   "metadata": {},
   "source": [
    "Now we have a `width` of 3, meaning one phone of \"context\" on each side, and thus the `central-position` is the second phone (remember, we're using `0-indexing` here)."
   ]
  },
  {
   "cell_type": "markdown",
   "metadata": {},
   "source": [
    "#### `num_leaves` in relation to `num-pdfs`"
   ]
  },
  {
   "cell_type": "markdown",
   "metadata": {},
   "source": [
    "If you recall, one of our hyperparameters was called `num_leaves`.  This was the approximate number of leaves we wanted to allow our `tree` to generate.  \n",
    "\n",
    "In general, there is a trade-off between generalization and over-fitting in decision trees.  If you end up with a tree that has the same number of leaves as number of data points, then you achieved no generalization.  In the opposite case, if you end up with a tree that only has one leaf, then you maximized your generalization.  Neither case is ideal.  \n",
    "\n",
    "**Note**: We'll capture this relationship in a ratio later in the notebook."
   ]
  },
  {
   "cell_type": "markdown",
   "metadata": {},
   "source": [
    "In our case, one thing we *can* easily inspect is how well our `tree` did in clustering similar phones together.\n",
    "\n",
    "Each phone is represented by a 3-state `HMM` (techinally, `SIL` is often modeled by a 5-state `HMM`, but we'll assume 3-states for the sake of this discussion).  And so in the case of `monophone` training, that means we have $num\\_phones * 3$ different states to model.  "
   ]
  },
  {
   "cell_type": "code",
   "execution_count": 6,
   "metadata": {},
   "outputs": [
    {
     "name": "stdout",
     "output_type": "stream",
     "text": [
      "70\n"
     ]
    }
   ],
   "source": [
    "cat raw_data/librispeech-phones.txt | wc -l"
   ]
  },
  {
   "cell_type": "markdown",
   "metadata": {},
   "source": [
    "Our setup has 70 phones (this is a lot but it's because the `Librispeech` datset chose to model different forms of the same vowel).  And so our `monophone` model needs to handle 210 total conditions."
   ]
  },
  {
   "cell_type": "markdown",
   "metadata": {},
   "source": [
    "##### `monophone` model"
   ]
  },
  {
   "cell_type": "code",
   "execution_count": 7,
   "metadata": {},
   "outputs": [
    {
     "name": "stdout",
     "output_type": "stream",
     "text": [
      "tree-info exp/monophones/tree \n",
      "\u001b[01;31m\u001b[Knum-pdfs\u001b[m\u001b[K 212\n"
     ]
    }
   ],
   "source": [
    "tree-info exp/monophones/tree | grep num-pdfs"
   ]
  },
  {
   "cell_type": "markdown",
   "metadata": {},
   "source": [
    "You'll notice the `monophone` `tree` ended up with 212 leaves.  This is because `SIL` was modeled by 5-states instead of 3.\n",
    "\n",
    "This also means that **no** clustering was done.  In other words, we have the same number of leaves as possible states.  The `tree` is used here **only** to be consistent with the other layers of acoustic training, but it really doesn't do anything."
   ]
  },
  {
   "cell_type": "markdown",
   "metadata": {},
   "source": [
    "This can be verified by looking more closely at the `monophone` tree itself.  There are close-ups of the output from `draw-tree` that we ran in the previous notebook in `resource_files/tree_viz`.  They are rendered below."
   ]
  },
  {
   "cell_type": "markdown",
   "metadata": {},
   "source": [
    "![tree_out](resource_files/tree_viz/monophone_tree_zoom_out.png)"
   ]
  },
  {
   "cell_type": "markdown",
   "metadata": {},
   "source": [
    "![tree_in](resource_files/tree_viz/monophone_tree_zoom_in.png)"
   ]
  },
  {
   "cell_type": "markdown",
   "metadata": {},
   "source": [
    "You'll notice that each split of the tree is simply splitting by phone.  In the closeup above, you'll see that the top split shown sends all the `SIL` phones to the left and all the `AA1` phones to the right.\n",
    "\n",
    "The final split (before reaching the leaves) decides which state of the `HMM` we are in.  And here you'll see confirmation that the `SIL` phone is modeled by a `5-state` `HMM` while the others are `3-state` `HMM`s."
   ]
  },
  {
   "cell_type": "markdown",
   "metadata": {},
   "source": [
    "We can also get a `text`-version of any `tree` by using `copy-tree` and the `--binary=false` flag."
   ]
  },
  {
   "cell_type": "code",
   "execution_count": 8,
   "metadata": {},
   "outputs": [
    {
     "name": "stdout",
     "output_type": "stream",
     "text": [
      "copy-tree \n",
      "\n",
      "Copy decision tree (possibly changing binary/text format)\n",
      "Usage:  copy-tree [--binary=false] <tree-in> <tree-out>\n",
      "\n",
      "Options:\n",
      "  --binary                    : Write output in binary mode (bool, default = true)\n",
      "\n",
      "Standard options:\n",
      "  --config                    : Configuration file to read (this option may be repeated) (string, default = \"\")\n",
      "  --help                      : Print out usage message (bool, default = false)\n",
      "  --print-args                : Print the command line arguments (to stderr) (bool, default = true)\n",
      "  --verbose                   : Verbose level (higher->more logging) (int, default = 0)\n",
      "\n"
     ]
    },
    {
     "ename": "",
     "evalue": "1",
     "output_type": "error",
     "traceback": []
    }
   ],
   "source": [
    "copy-tree"
   ]
  },
  {
   "cell_type": "code",
   "execution_count": 9,
   "metadata": {},
   "outputs": [
    {
     "name": "stdout",
     "output_type": "stream",
     "text": [
      "copy-tree --binary=false exp/triphones/tree - \n",
      "ContextDependency 3 1 ToPdf SE 1 [ 1 2 3 4 5 6 7 8 9 10 11 12 13 14 15 16 17 18 19 20 21 22 23 24 25 26 27 28 29 30 31 32 33 34 35 36 37 38 39 40 41 42 43 44 45 46 47 48 49 50 51 52 53 54 55 56 57 58 59 60 61 62 63 64 65 66 67 68 69 70 71 72 73 74 75 76 77 78 79 80 81 82 83 84 85 86 87 88 89 90 91 92 93 94 95 96 97 98 99 100 101 102 103 104 105 106 107 108 109 110 111 112 113 114 115 116 117 118 119 120 121 122 123 124 125 126 127 128 129 130 131 132 133 134 135 136 137 138 139 140 141 ]\n",
      "{ SE 1 [ 1 2 3 4 5 6 7 8 9 10 11 12 13 14 15 16 17 18 19 20 21 22 23 24 25 26 27 28 29 30 31 32 33 34 35 36 37 38 39 40 41 42 43 44 45 46 47 48 49 50 51 52 53 54 55 56 57 58 59 60 61 62 63 64 65 66 67 68 69 ]\n",
      "{ SE 1 [ 1 2 3 4 5 6 7 8 9 10 11 12 13 14 15 16 17 18 19 20 21 22 23 24 25 26 27 28 29 30 31 32 33 ]\n",
      "{ SE 1 [ 1 2 3 4 5 6 7 8 9 10 11 12 13 14 15 16 17 ]\n",
      "{ SE 1 [ 1 2 3 4 5 6 7 8 9 ]\n",
      "{ SE 1 [ 1 2 3 4 5 ]\n",
      "{ SE -1 [ 0 1 2 ]\n",
      "{ SE -1 [ 0 ]\n",
      "{ SE 1 [ 1 ]\n",
      "{ CE 0 CE 535 } \n",
      "ERROR (copy-tree[5.2.380~1-8e7d2]:~Output():kaldi-io.cc:680) Error closing output file standard output\n",
      "\n",
      "[ Stack-Trace: ]\n",
      "\n",
      "kaldi::MessageLogger::HandleMessage(kaldi::LogMessageEnvelope const&, char const*)\n",
      "kaldi::MessageLogger::~MessageLogger()\n",
      "kaldi::Output::~Output()\n",
      "void kaldi::WriteKaldiObject<kaldi::ContextDependency>(kaldi::ContextDependency const&, std::__cxx11::basic_string<char, std::char_traits<char>, std::allocator<char> > const&, bool)\n",
      "main\n",
      "__libc_start_main\n",
      "_start\n",
      "\n"
     ]
    }
   ],
   "source": [
    "copy-tree --binary=false exp/triphones/tree - | head"
   ]
  },
  {
   "cell_type": "markdown",
   "metadata": {},
   "source": [
    "A line that starts with `SE` (which stands for `SplitEventMap`) indicates a place where we are splitting the branches of the tree.  And a line with `CE` (which stands for `ConstantEventMap`) means we have hit a terminal node (or a `leaf`).  So the number of `CE`s will equal `num-pdfs` that we saw from `tree-info`,and the number of `SE`s will equal the total number of splits we made."
   ]
  },
  {
   "cell_type": "markdown",
   "metadata": {},
   "source": [
    "In the visualization below, each `oval` is an `SE` and each `double-circle` is a `CE`."
   ]
  },
  {
   "cell_type": "markdown",
   "metadata": {},
   "source": [
    "![tree_in](resource_files/tree_viz/monophone_tree_zoom_in.png)"
   ]
  },
  {
   "cell_type": "code",
   "execution_count": 10,
   "metadata": {},
   "outputs": [
    {
     "name": "stdout",
     "output_type": "stream",
     "text": [
      "tree-info exp/monophones/tree \n",
      "num-\u001b[01;31m\u001b[Kpdf\u001b[m\u001b[Ks 212\n"
     ]
    }
   ],
   "source": [
    "tree-info exp/monophones/tree | grep pdf"
   ]
  },
  {
   "cell_type": "code",
   "execution_count": 11,
   "metadata": {},
   "outputs": [
    {
     "name": "stdout",
     "output_type": "stream",
     "text": [
      "copy-tree --binary=false exp/monophones/tree - \n",
      "LOG (copy-tree[5.2.380~1-8e7d2]:main():copy-tree.cc:55) Copied tree\n",
      "69\n"
     ]
    }
   ],
   "source": [
    "copy-tree --binary=false exp/monophones/tree - | grep SE | wc -l"
   ]
  },
  {
   "cell_type": "markdown",
   "metadata": {},
   "source": [
    "Our `monophone` tree only made 69 total splits.  In other words, it only needed `69` splits to handle the `70` total possible phones. Not surprising since, in the end, our `monophone` tree did no \"real\" clustering, and just deposited each `phone` on its own `leaf`.  This is essentially a `1-to-1` ratio of `number_of_phones-to-number_of_leaves`."
   ]
  },
  {
   "cell_type": "markdown",
   "metadata": {},
   "source": [
    "We can calculate this ratio by capturing two values:\n",
    " - `num_phones` (just counting the number of lines in our `phones.txt` file) \n",
    " - `num_splits` (counting the number of `SE`s in the `text` version of the `tree`)"
   ]
  },
  {
   "cell_type": "code",
   "execution_count": 12,
   "metadata": {},
   "outputs": [
    {
     "name": "stdout",
     "output_type": "stream",
     "text": [
      "copy-tree --binary=false exp/monophones/tree - \n",
      "LOG (copy-tree[5.2.380~1-8e7d2]:main():copy-tree.cc:55) Copied tree\n"
     ]
    }
   ],
   "source": [
    "num_phones_mono=$(cat raw_data/librispeech-phones.txt | wc -l)\n",
    "num_splits_mono=$(( $(copy-tree --binary=false exp/monophones/tree - | grep SE | wc -l) ))  "
   ]
  },
  {
   "cell_type": "markdown",
   "metadata": {},
   "source": [
    "Then we'll just divide the two values."
   ]
  },
  {
   "cell_type": "code",
   "execution_count": 13,
   "metadata": {},
   "outputs": [
    {
     "name": "stdout",
     "output_type": "stream",
     "text": [
      "1.01449275362319"
     ]
    }
   ],
   "source": [
    "echo print ${num_phones_mono}/${num_splits_mono}. | perl"
   ]
  },
  {
   "cell_type": "markdown",
   "metadata": {},
   "source": [
    "##### `triphone` model"
   ]
  },
  {
   "cell_type": "markdown",
   "metadata": {},
   "source": [
    "Now we should expect two characteristics of our `triphone` tree.\n",
    " 1. more `pdf`s (*i.e.* `leaves`) than the `monophone` tree because we are now modeling \"context\" which means `num_phones^3` possible phones (in our case, `70*70*70` possible combinations)\n",
    " 2. less than `70*70*70` `pdf`s since we are expecting our `tree` to have succeeded in some generalization."
   ]
  },
  {
   "cell_type": "code",
   "execution_count": 14,
   "metadata": {},
   "outputs": [
    {
     "name": "stdout",
     "output_type": "stream",
     "text": [
      "tree-info exp/triphones/tree \n",
      "\u001b[01;31m\u001b[Knum-pdfs\u001b[m\u001b[K 2678\n"
     ]
    }
   ],
   "source": [
    "tree-info exp/triphones/tree | grep num-pdfs"
   ]
  },
  {
   "cell_type": "markdown",
   "metadata": {},
   "source": [
    "Since we started off with `70` possible phones, we could have up to `343,000` total combinations.  Above you can see that our `triphones` `tree` reduced that significantly, and so if we were to look at a visualization of the tree, we'd expect to see \"better\" clustering going on.  How \"good\" the clustering is can be approximated by that `num_phones-to-num_splits` ratio we calculated earlier.  The *smaller* that number is the \"better\" the clustering we were able to accomplish."
   ]
  },
  {
   "cell_type": "markdown",
   "metadata": {},
   "source": [
    "This time, though, we can't just count the number of lines in our `phones.txt` file, we have to take that number to the third power."
   ]
  },
  {
   "cell_type": "code",
   "execution_count": 15,
   "metadata": {},
   "outputs": [
    {
     "name": "stdout",
     "output_type": "stream",
     "text": [
      "copy-tree --binary=false exp/triphones/tree - \n",
      "LOG (copy-tree[5.2.380~1-8e7d2]:main():copy-tree.cc:55) Copied tree\n"
     ]
    }
   ],
   "source": [
    "num_phones_in_context=$(( ${num_phones_mono} * ${num_phones_mono} * ${num_phones_mono} ))\n",
    "num_splits_tri=$(( $(copy-tree --binary=false exp/triphones/tree - | grep SE | wc -l) ))  "
   ]
  },
  {
   "cell_type": "code",
   "execution_count": 16,
   "metadata": {},
   "outputs": [
    {
     "name": "stdout",
     "output_type": "stream",
     "text": [
      "91.2476722532588"
     ]
    }
   ],
   "source": [
    "echo print ${num_phones_in_context}/${num_splits_tri}. | perl"
   ]
  },
  {
   "cell_type": "markdown",
   "metadata": {},
   "source": [
    "This means that we were able to, on average, cluster about `90` phones in context into one `leaf` of our tree. "
   ]
  },
  {
   "cell_type": "markdown",
   "metadata": {},
   "source": [
    "**Note:** We discussed before the \"fine line\" we try to balance with `decision tree`s.  We want to generalize, but not too much.  And we want to cluster, but not too much.  So let's not make the mistake of thinking that the goal is to get the largest possible `num_phones-to-num_splits` ratio possible."
   ]
  },
  {
   "cell_type": "markdown",
   "metadata": {},
   "source": [
    "We *do* have *some* control over this, however, with the `num_leaves` hyperparameter.  This value tells `kaldi` the approximate maximum number of `leaves` we wanted in our tree.  For the `triphone` `tree` and in our code, that was set to `num_leaves=5000`."
   ]
  },
  {
   "cell_type": "code",
   "execution_count": 18,
   "metadata": {},
   "outputs": [
    {
     "name": "stdout",
     "output_type": "stream",
     "text": [
      "{u'parameters': {u'num_leaves': {u'flag': u'-l', u'value': 5000}, u'num_processors': {u'flag': u'-j', u'value': 4}, u'training_type': {u'flag': u'-i', u'value': u'deltas'}, u'non_vanilla_train_mono_hyperparameters': {u'flag': u'-q', u'value': None}, u'non_vanilla_sat_align_hyperparameters': {u'flag': u'-z', u'value': None}, u'non_vanilla_train_sat_hyperparameters': {u'flag': u'-y', u'value': None}, u'non_vanilla_train_lda_mllt_hyperparameters': {u'flag': u'-w', u'value': None}, u'data_reduction_rate': {u'flag': u'-p', u'value': 10}, u'non_vanilla_lda_align_fmllr_hyperparameters': {u'flag': u'-x', u'value': None}, u'num_gaussians': {u'flag': u'-g', u'value': 10000}, u'non_vanilla_deltas_align_hyperparameters': {u'flag': u'-t', u'value': None}, u'non_vanilla_mono_align_hyperparameters': {u'flag': u'-r', u'value': None}, u'non_vanilla_train_deltas_hyperparameters': {u'flag': u'-s', u'value': None}}}\n"
     ]
    }
   ],
   "source": [
    "cat exp/triphones/kaldi_config_args.json"
   ]
  },
  {
   "cell_type": "markdown",
   "metadata": {},
   "source": [
    "It's not easy to figure out how `kaldi` decides exactly how many `leaves` it needs.  But it turns out the `triphone` `tree` didn't require `5000 leaves` at all."
   ]
  },
  {
   "cell_type": "markdown",
   "metadata": {},
   "source": [
    "##### `triphone_lda` model"
   ]
  },
  {
   "cell_type": "markdown",
   "metadata": {},
   "source": [
    "One of the things that the `run_train_phones.sh` script does is *double* the number of `leaves` for the `LDA` model.  So even though our `config` says `num_leaves=5000`, the code will make that `10000`"
   ]
  },
  {
   "cell_type": "code",
   "execution_count": 19,
   "metadata": {},
   "outputs": [
    {
     "name": "stdout",
     "output_type": "stream",
     "text": [
      "tree-info exp/triphones_lda/tree \n",
      "num-\u001b[01;31m\u001b[Kpdf\u001b[m\u001b[Ks 4003\n"
     ]
    }
   ],
   "source": [
    "tree-info exp/triphones_lda/tree | grep pdf"
   ]
  },
  {
   "cell_type": "markdown",
   "metadata": {},
   "source": [
    "And so it's shouldn't be surprising that our `lda` `tree` ended up with more `leaves` than the `triphone` `tree`.  And since the number of `phones` in context didn't change (still `70*70*70`), this tree should have a *smaller* `num_leaves-to-num_splits` ratio."
   ]
  },
  {
   "cell_type": "code",
   "execution_count": 22,
   "metadata": {},
   "outputs": [
    {
     "name": "stdout",
     "output_type": "stream",
     "text": [
      "copy-tree --binary=false exp/triphones_lda/tree - \n",
      "LOG (copy-tree[5.2.380~1-8e7d2]:main():copy-tree.cc:55) Copied tree\n"
     ]
    }
   ],
   "source": [
    "num_splits_lda=$(( $(copy-tree --binary=false exp/triphones_lda/tree - | grep SE | wc -l) ))  "
   ]
  },
  {
   "cell_type": "code",
   "execution_count": 23,
   "metadata": {},
   "outputs": [
    {
     "name": "stdout",
     "output_type": "stream",
     "text": [
      "63.5891731553578"
     ]
    }
   ],
   "source": [
    "echo print ${num_phones_in_context}/${num_splits_lda}. | perl"
   ]
  },
  {
   "cell_type": "markdown",
   "metadata": {},
   "source": [
    "In this case, a *smaller* ratio means that were allowed to make *smaller* clusters (fewer phones in the same `leaf`) in this `tree`.  The hope is that translates to more accurate clustering.  Unfortunately, there's no easy way, at this point in our ASR pipeline, to test that assumption.  "
   ]
  },
  {
   "cell_type": "markdown",
   "metadata": {},
   "source": [
    "## understanding the `.mdl` file\n",
    "\n",
    "The `.mdl` file is the final `HMM` representing the acoustic model.  But it also gives us some information about the `Gaussian Mixture Model`s we built to represent the different phones."
   ]
  },
  {
   "cell_type": "markdown",
   "metadata": {},
   "source": [
    "### `gmm-info`\n",
    "\n",
    "`gmm-info` will give use some very general statistics about the model, including some information about the `Gaussian Mixture Model` (`GMM`) and some information about the `HMM`.  "
   ]
  },
  {
   "cell_type": "code",
   "execution_count": 24,
   "metadata": {},
   "outputs": [
    {
     "name": "stdout",
     "output_type": "stream",
     "text": [
      "gmm-info \n",
      "\n",
      "Write to standard output various properties of GMM-based model\n",
      "Usage:  gmm-info [options] <model-in>\n",
      "e.g.:\n",
      " gmm-info 1.mdl\n",
      "See also: gmm-global-info, am-info\n",
      "\n",
      "Standard options:\n",
      "  --config                    : Configuration file to read (this option may be repeated) (string, default = \"\")\n",
      "  --help                      : Print out usage message (bool, default = false)\n",
      "  --print-args                : Print the command line arguments (to stderr) (bool, default = true)\n",
      "  --verbose                   : Verbose level (higher->more logging) (int, default = 0)\n",
      "\n"
     ]
    },
    {
     "ename": "",
     "evalue": "1",
     "output_type": "error",
     "traceback": []
    }
   ],
   "source": [
    "gmm-info"
   ]
  },
  {
   "cell_type": "code",
   "execution_count": 31,
   "metadata": {},
   "outputs": [
    {
     "name": "stdout",
     "output_type": "stream",
     "text": [
      "gmm-info exp/monophones/final.mdl \n",
      "number of phones 281\n",
      "number of pdfs 212\n",
      "number of transition-ids 1746\n",
      "number of transition-states 853\n",
      "feature dimension 39\n",
      "number of gaussians 9658\n"
     ]
    }
   ],
   "source": [
    "gmm-info exp/monophones/final.mdl "
   ]
  },
  {
   "cell_type": "markdown",
   "metadata": {},
   "source": [
    "#### `num_leaves` in relation to `num_gaussians`\n",
    "\n",
    "We already looked at the relationship between `num_phones` and `num-pdfs`, so now we'll look at the relationship between `num_leaves` and `num_gaussians`."
   ]
  },
  {
   "cell_type": "markdown",
   "metadata": {},
   "source": [
    "Each `pdf` is a probability distribution that looks like some version of a bell-curve (*i.e.* a `Gaussian` distribution).  A `GMM` is a \"mixture-model\" meaning, we combine *multiple* `Gaussian` distributions to get a \"more sophisticated\" representation.  But the same warning arises here as we had for `decision tree`s.  We want to find the \"sweet spot\" between generalization (*i.e.* *one* `Gaussian` distribution) and over-fitting (*i.e.* *too many* `Guassian` distributions)."
   ]
  },
  {
   "cell_type": "markdown",
   "metadata": {},
   "source": [
    "We have another hyperparameter, called `num_gaussians` that we set."
   ]
  },
  {
   "cell_type": "code",
   "execution_count": 56,
   "metadata": {},
   "outputs": [
    {
     "name": "stdout",
     "output_type": "stream",
     "text": [
      "{u'parameters': {u'num_leaves': {u'flag': u'-l', u'value': 5000}, u'num_processors': {u'flag': u'-j', u'value': 4}, u'training_type': {u'flag': u'-i', u'value': u'mono'}, u'non_vanilla_train_mono_hyperparameters': {u'flag': u'-q', u'value': None}, u'non_vanilla_sat_align_hyperparameters': {u'flag': u'-z', u'value': None}, u'non_vanilla_train_sat_hyperparameters': {u'flag': u'-y', u'value': None}, u'non_vanilla_train_lda_mllt_hyperparameters': {u'flag': u'-w', u'value': None}, u'data_reduction_rate': {u'flag': u'-p', u'value': 10}, u'non_vanilla_lda_align_fmllr_hyperparameters': {u'flag': u'-x', u'value': None}, u'num_gaussians': {u'flag': u'-g', u'value': 10000}, u'non_vanilla_deltas_align_hyperparameters': {u'flag': u'-t', u'value': None}, u'non_vanilla_mono_align_hyperparameters': {u'flag': u'-r', u'value': None}, u'non_vanilla_train_deltas_hyperparameters': {u'flag': u'-s', u'value': None}}}\n"
     ]
    }
   ],
   "source": [
    "cat exp/monophones/kaldi_config_args.json"
   ]
  },
  {
   "cell_type": "markdown",
   "metadata": {},
   "source": [
    "In general, we can create a ratio (similar to what we did for our `decision` `tree`) of, on average, how many `Gaussian`s we used for each `pdf`.\n",
    "\n",
    "We simply need to divide the `number of gaussians` by the `number of pdfs`."
   ]
  },
  {
   "cell_type": "markdown",
   "metadata": {},
   "source": [
    "#### `monophone` tree"
   ]
  },
  {
   "cell_type": "code",
   "execution_count": 51,
   "metadata": {},
   "outputs": [
    {
     "name": "stdout",
     "output_type": "stream",
     "text": [
      "gmm-info exp/monophones/final.mdl \n",
      "gmm-info exp/monophones/final.mdl \n",
      "\n",
      "number of gaussians: 9658\n",
      "number of pdfs: 212\n"
     ]
    }
   ],
   "source": [
    "num_gaussians_mono=$(gmm-info exp/monophones/final.mdl | grep -Po \"(?<=number of gaussians )[0-9]+\")\n",
    "num_pdfs_mono=$(gmm-info exp/monophones/final.mdl | grep -Po \"(?<=number of pdfs )[0-9]+\")\n",
    "\n",
    "echo \"\"\n",
    "echo \"number of gaussians: ${num_gaussians_mono}\"\n",
    "echo \"number of pdfs: ${num_pdfs_mono}\""
   ]
  },
  {
   "cell_type": "code",
   "execution_count": 47,
   "metadata": {},
   "outputs": [
    {
     "name": "stdout",
     "output_type": "stream",
     "text": [
      "45.5566037735849"
     ]
    }
   ],
   "source": [
    "echo print ${num_gaussians_mono}/${num_pdfs_mono}. | perl"
   ]
  },
  {
   "cell_type": "markdown",
   "metadata": {},
   "source": [
    "This relatively high ratio value, means that, on average, we were able to use about `45` `Gaussian`s to model each `phone`."
   ]
  },
  {
   "cell_type": "markdown",
   "metadata": {},
   "source": [
    "#### `triphone` tree"
   ]
  },
  {
   "cell_type": "code",
   "execution_count": 52,
   "metadata": {},
   "outputs": [
    {
     "name": "stdout",
     "output_type": "stream",
     "text": [
      "gmm-info exp/triphones/final.mdl \n",
      "gmm-info exp/triphones/final.mdl \n",
      "\n",
      "number of gaussians: 10019\n",
      "number of pdfs: 2678\n"
     ]
    }
   ],
   "source": [
    "num_gaussians_tri=$(gmm-info exp/triphones/final.mdl | grep -Po \"(?<=number of gaussians )[0-9]+\")\n",
    "num_pdfs_tri=$(gmm-info exp/triphones/final.mdl | grep -Po \"(?<=number of pdfs )[0-9]+\")\n",
    "\n",
    "echo \"\"\n",
    "echo \"number of gaussians: ${num_gaussians_tri}\"\n",
    "echo \"number of pdfs: ${num_pdfs_tri}\""
   ]
  },
  {
   "cell_type": "code",
   "execution_count": 53,
   "metadata": {},
   "outputs": [
    {
     "name": "stdout",
     "output_type": "stream",
     "text": [
      "3.74122479462285"
     ]
    }
   ],
   "source": [
    "echo print ${num_gaussians_tri}/${num_pdfs_tri}. | perl"
   ]
  },
  {
   "cell_type": "markdown",
   "metadata": {},
   "source": [
    "This ratio drops significantly when we have to model phones in context, and we're still given the same number of `Gaussian`s."
   ]
  },
  {
   "cell_type": "markdown",
   "metadata": {},
   "source": [
    "#### `triphone_lda` tree"
   ]
  },
  {
   "cell_type": "markdown",
   "metadata": {},
   "source": [
    "Just like the `run_train_phones.sh` code doubled the `num_leaves` for the `triphone_lda` `tree`, it also doubled the `num_gaussians` for the `triphone_lda` `.mdl`."
   ]
  },
  {
   "cell_type": "code",
   "execution_count": 57,
   "metadata": {},
   "outputs": [
    {
     "name": "stdout",
     "output_type": "stream",
     "text": [
      "gmm-info exp/triphones_lda/final.mdl \n",
      "gmm-info exp/triphones_lda/final.mdl \n",
      "\n",
      "number of gaussians: 20049\n",
      "number of pdfs: 4003\n"
     ]
    }
   ],
   "source": [
    "num_gaussians_lda=$(gmm-info exp/triphones_lda/final.mdl | grep -Po \"(?<=number of gaussians )[0-9]+\")\n",
    "num_pdfs_lda=$(gmm-info exp/triphones_lda/final.mdl | grep -Po \"(?<=number of pdfs )[0-9]+\")\n",
    "\n",
    "echo \"\"\n",
    "echo \"number of gaussians: ${num_gaussians_lda}\"\n",
    "echo \"number of pdfs: ${num_pdfs_lda}\""
   ]
  },
  {
   "cell_type": "code",
   "execution_count": 58,
   "metadata": {},
   "outputs": [
    {
     "name": "stdout",
     "output_type": "stream",
     "text": [
      "5.00849362977767"
     ]
    }
   ],
   "source": [
    "echo print ${num_gaussians_lda}/${num_pdfs_lda}. | perl"
   ]
  },
  {
   "cell_type": "markdown",
   "metadata": {},
   "source": [
    "And so even though the number of `pdfs` we had increased from the `triphones` `tree`, because we were given twice as many `Gaussian`s, we were able to increase the ratio value for the `triphon_lda` `.mdl`."
   ]
  },
  {
   "cell_type": "markdown",
   "metadata": {},
   "source": [
    "## \"best\" settings for these hyperparameters"
   ]
  },
  {
   "cell_type": "markdown",
   "metadata": {},
   "source": [
    "Again, since we have no easy way of assessing the quality of our acoustic models at this point in the ASR pipeline, we are unable to empirically find the \"sweet spot\" for this ration."
   ]
  },
  {
   "cell_type": "markdown",
   "metadata": {},
   "source": [
    "In the case of setting these two specific hyperparameters (`num_leaves` and `num_gaussians`), the only option we have is to look at the downstream metric of `Word Error Rate` (`WER`) of the whole system to get an idea of what the perfect ratio is."
   ]
  },
  {
   "cell_type": "markdown",
   "metadata": {},
   "source": [
    "But we *can* come up with a general intuition:\n",
    "\n",
    "TODO put here"
   ]
  }
 ],
 "metadata": {
  "kernelspec": {
   "display_name": "Bash",
   "language": "bash",
   "name": "bash"
  },
  "language_info": {
   "codemirror_mode": "shell",
   "file_extension": ".sh",
   "mimetype": "text/x-sh",
   "name": "bash"
  }
 },
 "nbformat": 4,
 "nbformat_minor": 2
}
