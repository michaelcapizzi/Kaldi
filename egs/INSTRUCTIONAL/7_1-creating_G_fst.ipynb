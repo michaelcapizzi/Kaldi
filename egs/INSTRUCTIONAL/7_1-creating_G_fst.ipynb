{
 "cells": [
  {
   "cell_type": "markdown",
   "metadata": {},
   "source": [
    "# 7.1: Creating `G.fst`"
   ]
  },
  {
   "cell_type": "markdown",
   "metadata": {},
   "source": [
    "Decoding in `kaldi` (when we actually predict what words we \"heard\") is simply a traversal through a large graph that represents most of our learned model.  We will go into this in much more detail later, but for now, we will focus on converting our language model into an `FST`.\n",
    "\n",
    "### **TODO** add resources"
   ]
  },
  {
   "cell_type": "markdown",
   "metadata": {},
   "source": [
    "We need to `source` `path.sh` so that we can call `C++` functions without full paths."
   ]
  },
  {
   "cell_type": "code",
   "execution_count": 1,
   "metadata": {},
   "outputs": [],
   "source": [
    ". path.sh"
   ]
  },
  {
   "cell_type": "markdown",
   "metadata": {},
   "source": [
    "And we'll use the aptly-named `arpa2fst` to convert our `ARPA`-formatted language model into an `FST`."
   ]
  },
  {
   "cell_type": "code",
   "execution_count": 2,
   "metadata": {},
   "outputs": [
    {
     "name": "stdout",
     "output_type": "stream",
     "text": [
      "arpa2fst \n",
      "\n",
      "Convert an ARPA format language model into an FST\n",
      "Usage: arpa2fst [opts] <input-arpa> <output-fst>\n",
      " e.g.: arpa2fst --disambig-symbol=#0 --read-symbol-table=data/lang/words.txt lm/input.arpa G.fst\n",
      "\n",
      "Note: When called without switches, the output G.fst will contain\n",
      "an embedded symbol table. This is compatible with the way a previous\n",
      "version of arpa2fst worked.\n",
      "\n",
      "Options:\n",
      "  --bos-symbol                : Beginning of sentence symbol (string, default = \"<s>\")\n",
      "  --disambig-symbol           : Disambiguator. If provided (e. g. #0), used on input side of backoff links, and <s> and </s> are replaced with epsilons (string, default = \"\")\n",
      "  --eos-symbol                : End of sentence symbol (string, default = \"</s>\")\n",
      "  --ilabel-sort               : Ilabel-sort the output FST (bool, default = true)\n",
      "  --keep-symbols              : Store symbol table with FST. Symbols always saved to FST if symbol tables are neither read or written (otherwise symbols would be lost entirely) (bool, default = false)\n",
      "  --max-arpa-warnings         : Maximum warnings to report on ARPA parsing, 0 to disable, -1 to show all (int, default = 30)\n",
      "  --read-symbol-table         : Use existing symbol table (string, default = \"\")\n",
      "  --write-symbol-table        : Write generated symbol table to a file (string, default = \"\")\n",
      "\n",
      "Standard options:\n",
      "  --config                    : Configuration file to read (this option may be repeated) (string, default = \"\")\n",
      "  --help                      : Print out usage message (bool, default = false)\n",
      "  --print-args                : Print the command line arguments (to stderr) (bool, default = true)\n",
      "  --verbose                   : Verbose level (higher->more logging) (int, default = 0)\n",
      "\n"
     ]
    },
    {
     "ename": "",
     "evalue": "1",
     "output_type": "error",
     "traceback": []
    }
   ],
   "source": [
    "arpa2fst"
   ]
  },
  {
   "cell_type": "code",
   "execution_count": 5,
   "metadata": {},
   "outputs": [],
   "source": [
    "mkdir resource_files/fst"
   ]
  },
  {
   "cell_type": "markdown",
   "metadata": {},
   "source": [
    "### TODO redo with \"\"--disambig-symbol #0\""
   ]
  },
  {
   "cell_type": "code",
   "execution_count": 6,
   "metadata": {},
   "outputs": [
    {
     "name": "stdout",
     "output_type": "stream",
     "text": [
      "arpa2fst resource_files/language_model/animal_lm-2_gram.arpa resource_files/fst/animal_fst-2_gram.fst \n",
      "LOG (arpa2fst[5.2.191~1-48be1]:Read():arpa-file-parser.cc:98) Reading \\data\\ section.\n",
      "LOG (arpa2fst[5.2.191~1-48be1]:Read():arpa-file-parser.cc:153) Reading \\1-grams: section.\n",
      "LOG (arpa2fst[5.2.191~1-48be1]:Read():arpa-file-parser.cc:153) Reading \\2-grams: section.\n",
      "WARNING (arpa2fst[5.2.191~1-48be1]:ConsumeNGram():arpa-lm-compiler.cc:313) line 25 [-0.692536\t<s> <s>] skipped: n-gram has invalid BOS/EOS placement\n"
     ]
    }
   ],
   "source": [
    "arpa2fst resource_files/language_model/animal_lm-2_gram.arpa resource_files/fst/animal_fst-2_gram.fst"
   ]
  },
  {
   "cell_type": "markdown",
   "metadata": {},
   "source": [
    "`kaldi` will use [`openFST`](http://www.openfst.org/twiki/bin/view/FST/WebHome) for some steps of this process in addition to some \"homemade\" functions (like `arpa2fst`).  We will use a `python` wrapper for `openFST` to inspect this `FST` in more detail in the next notebook.  But for now, we can confirm the building of the `FST` and get some of its properties by using the `openFST` function `fstinfo` \n",
    "\n",
    "**Note:** Because we `sourc`ed `path.sh` above, we can also call `openFST` functions without full paths."
   ]
  },
  {
   "cell_type": "code",
   "execution_count": 9,
   "metadata": {},
   "outputs": [
    {
     "name": "stdout",
     "output_type": "stream",
     "text": [
      "Prints out information about an FST.\n",
      "\n",
      "  Usage: fstinfo [in.fst]\n",
      "\n",
      "PROGRAM FLAGS:\n",
      "\n",
      "  --arc_filter: type = string, default = \"any\"\n",
      "  Arc filter: one of: \"any\", \"epsilon\", \"iepsilon\", \"oepsilon\"; this only affects the counts of (co)accessible states, connected states, and (strongly) connected components\n",
      "  --fst_verify: type = bool, default = true\n",
      "  Verify FST sanity\n",
      "  --info_type: type = string, default = \"auto\"\n",
      "  Info format: one of: \"auto\", \"long\", \"short\"\n",
      "  --pipe: type = bool, default = false\n",
      "  Send info to stderr, input to stdout\n",
      "  --test_properties: type = bool, default = true\n",
      "  Compute property values (if unknown to FST)\n",
      "\n",
      "LIBRARY FLAGS:\n",
      "\n",
      "Flags from: flags.cc\n",
      "  --help: type = bool, default = false\n",
      "  show usage information\n",
      "  --helpshort: type = bool, default = false\n",
      "  show brief usage information\n",
      "  --tmpdir: type = string, default = \"/tmp\"\n",
      "  temporary directory\n",
      "  --v: type = int32, default = 0\n",
      "  verbosity level\n",
      "\n",
      "Flags from: fst.cc\n",
      "  --fst_align: type = bool, default = false\n",
      "  Write FST data aligned where appropriate\n",
      "  --fst_default_cache_gc: type = bool, default = true\n",
      "  Enable garbage collection of cache\n",
      "  --fst_default_cache_gc_limit: type = int64, default = 1048576\n",
      "  Cache byte size that triggers garbage collection\n",
      "  --fst_read_mode: type = string, default = \"read\"\n",
      "  Default file reading mode for mappable files\n",
      "  --fst_verify_properties: type = bool, default = false\n",
      "  Verify FST properties queried by TestProperties\n",
      "  --save_relabel_ipairs: type = string, default = \"\"\n",
      "  Save input relabel pairs to file\n",
      "  --save_relabel_opairs: type = string, default = \"\"\n",
      "  Save output relabel pairs to file\n",
      "\n",
      "Flags from: symbol-table.cc\n",
      "  --fst_compat_symbols: type = bool, default = true\n",
      "  Require symbol tables to match when appropriate\n",
      "  --fst_field_separator: type = string, default = \"\t \"\n",
      "  Set of characters used as a separator between printed fields\n",
      "\n",
      "Flags from: util.cc\n",
      "  --fst_error_fatal: type = bool, default = true\n",
      "  FST errors are fatal; o.w. return objects flagged as bad: e.g., FSTs: kError property set, FST weights: not a Member()\n",
      "\n",
      "Flags from: weight.cc\n",
      "  --fst_weight_parentheses: type = string, default = \"\"\n",
      "  Characters enclosing the first weight of a printed composite weight (e.g., pair weight, tuple weight and derived classes) to ensure proper I/O of nested composite weights; must have size 0 (none) or 2 (open and close parenthesis)\n",
      "  --fst_weight_separator: type = string, default = \",\"\n",
      "  Character separator between printed composite weights; must be a single character\n",
      "\n"
     ]
    },
    {
     "ename": "",
     "evalue": "1",
     "output_type": "error",
     "traceback": []
    }
   ],
   "source": [
    "fstinfo --help"
   ]
  },
  {
   "cell_type": "markdown",
   "metadata": {},
   "source": [
    "We'll put the resulting `FST` in a new directory, `resource_files/fst`."
   ]
  },
  {
   "cell_type": "code",
   "execution_count": 8,
   "metadata": {},
   "outputs": [
    {
     "name": "stdout",
     "output_type": "stream",
     "text": [
      "fst type                                          vector\n",
      "arc type                                          standard\n",
      "input symbol table                                resource_files/fst/animal_fst-2_gram.fst\n",
      "output symbol table                               resource_files/fst/animal_fst-2_gram.fst\n",
      "# of states                                       17\n",
      "# of arcs                                         61\n",
      "initial state                                     3\n",
      "# of final states                                 1\n",
      "# of input/output epsilons                        14\n",
      "# of input epsilons                               14\n",
      "# of output epsilons                              14\n",
      "input label multiplicity                          1\n",
      "output label multiplicity                         1\n",
      "# of accessible states                            17\n",
      "# of coaccessible states                          17\n",
      "# of connected states                             17\n",
      "# of connected components                         1\n",
      "# of strongly conn components                     4\n",
      "input matcher                                     y\n",
      "output matcher                                    y\n",
      "input lookahead                                   n\n",
      "output lookahead                                  n\n",
      "expanded                                          y\n",
      "mutable                                           y\n",
      "error                                             n\n",
      "acceptor                                          y\n",
      "input deterministic                               y\n",
      "output deterministic                              y\n",
      "input/output epsilons                             y\n",
      "input epsilons                                    y\n",
      "output epsilons                                   y\n",
      "input label sorted                                y\n",
      "output label sorted                               y\n",
      "weighted                                          y\n",
      "cyclic                                            y\n",
      "cyclic at initial state                           n\n",
      "top sorted                                        n\n",
      "accessible                                        y\n",
      "coaccessible                                      y\n",
      "string                                            n\n",
      "weighted cycles                                   y\n"
     ]
    }
   ],
   "source": [
    "fstinfo resource_files/fst/animal_fst-2_gram.fst"
   ]
  },
  {
   "cell_type": "markdown",
   "metadata": {},
   "source": [
    "In the next notebook, we'll examine this `FST` in more detail."
   ]
  },
  {
   "cell_type": "code",
   "execution_count": 11,
   "metadata": {},
   "outputs": [
    {
     "name": "stdout",
     "output_type": "stream",
     "text": [
      "0\t1\t<s>\n",
      "1\t2\t<eps>\n",
      "2\t3\t<unk>\n",
      "3\t4\t<eps>\n",
      "4\t5\tate\n",
      "5\t6\tthe\n",
      "6\t7\tlion\n",
      "7\t8\tate\n",
      "8\t9\t<eps>\n",
      "9\t10\t</s>\n",
      "10\n"
     ]
    }
   ],
   "source": [
    "# random valid sentence\n",
    "fstrandgen resource_files/fst/animal_fst-2_gram.fst | fstproject --project_output |\n",
    "fstprint --acceptor"
   ]
  }
 ],
 "metadata": {
  "kernelspec": {
   "display_name": "Bash",
   "language": "bash",
   "name": "bash"
  },
  "language_info": {
   "codemirror_mode": "shell",
   "file_extension": ".sh",
   "mimetype": "text/x-sh",
   "name": "bash"
  }
 },
 "nbformat": 4,
 "nbformat_minor": 2
}
