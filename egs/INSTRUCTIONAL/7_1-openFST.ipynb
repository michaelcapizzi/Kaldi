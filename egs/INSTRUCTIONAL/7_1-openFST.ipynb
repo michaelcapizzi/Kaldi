{
 "cells": [
  {
   "cell_type": "markdown",
   "metadata": {},
   "source": [
    "# 7.1: `openFST`"
   ]
  },
  {
   "cell_type": "code",
   "execution_count": 4,
   "metadata": {},
   "outputs": [],
   "source": [
    ". path.sh"
   ]
  },
  {
   "cell_type": "code",
   "execution_count": 1,
   "metadata": {},
   "outputs": [],
   "source": [
    "cat >text.fst <<EOF\n",
    "0 1 a x .5\n",
    "0 1 b y 1.5\n",
    "1 2 c z 2.5\n",
    "2 3.5\n",
    "EOF"
   ]
  },
  {
   "cell_type": "code",
   "execution_count": 2,
   "metadata": {},
   "outputs": [
    {
     "name": "stdout",
     "output_type": "stream",
     "text": [
      "0 1 a x .5\n",
      "0 1 b y 1.5\n",
      "1 2 c z 2.5\n",
      "2 3.5\n"
     ]
    }
   ],
   "source": [
    "cat text.fst"
   ]
  },
  {
   "cell_type": "code",
   "execution_count": 7,
   "metadata": {},
   "outputs": [],
   "source": [
    "cat >isyms.txt <<EOF\n",
    "<eps> 0\n",
    "a 1\n",
    "b 2\n",
    "c 3\n",
    "EOF"
   ]
  },
  {
   "cell_type": "code",
   "execution_count": 8,
   "metadata": {},
   "outputs": [
    {
     "name": "stdout",
     "output_type": "stream",
     "text": [
      "<eps> 0\n",
      "a 1\n",
      "b 2\n",
      "c 3\n"
     ]
    }
   ],
   "source": [
    "cat isyms.txt"
   ]
  },
  {
   "cell_type": "code",
   "execution_count": 9,
   "metadata": {},
   "outputs": [],
   "source": [
    "cat >osyms.txt <<EOF\n",
    "<eps> 0\n",
    "x 1\n",
    "y 2\n",
    "z 3\n",
    "EOF"
   ]
  },
  {
   "cell_type": "code",
   "execution_count": 10,
   "metadata": {},
   "outputs": [
    {
     "name": "stdout",
     "output_type": "stream",
     "text": [
      "<eps> 0\n",
      "x 1\n",
      "y 2\n",
      "z 3\n"
     ]
    }
   ],
   "source": [
    "cat osyms.txt"
   ]
  },
  {
   "cell_type": "code",
   "execution_count": 12,
   "metadata": {},
   "outputs": [],
   "source": [
    "fstcompile --isymbols=isyms.txt --osymbols=osyms.txt text.fst binary.fst"
   ]
  },
  {
   "cell_type": "code",
   "execution_count": 14,
   "metadata": {},
   "outputs": [],
   "source": [
    "fstprint --isymbols=isyms.txt --osymbols=osyms.txt binary.fst text_2.fst"
   ]
  },
  {
   "cell_type": "code",
   "execution_count": 16,
   "metadata": {},
   "outputs": [
    {
     "name": "stdout",
     "output_type": "stream",
     "text": [
      "0\t1\ta\tx\t0.5\n",
      "0\t1\tb\ty\t1.5\n",
      "1\t2\tc\tz\t2.5\n",
      "2\t3.5\n"
     ]
    }
   ],
   "source": [
    "cat text_2.fst"
   ]
  },
  {
   "cell_type": "code",
   "execution_count": 17,
   "metadata": {},
   "outputs": [],
   "source": [
    "fstdraw --isymbols=isyms.txt --osymbols=osyms.txt binary.fst binary.dot"
   ]
  },
  {
   "cell_type": "code",
   "execution_count": 18,
   "metadata": {},
   "outputs": [
    {
     "name": "stdout",
     "output_type": "stream",
     "text": [
      "digraph FST {\n",
      "rankdir = LR;\n",
      "size = \"8.5,11\";\n",
      "label = \"\";\n",
      "center = 1;\n",
      "orientation = Landscape;\n",
      "ranksep = \"0.4\";\n",
      "nodesep = \"0.25\";\n",
      "0 [label = \"0\", shape = circle, style = bold, fontsize = 14]\n",
      "\t0 -> 1 [label = \"a:x/0.5\", fontsize = 14];\n",
      "\t0 -> 1 [label = \"b:y/1.5\", fontsize = 14];\n",
      "1 [label = \"1\", shape = circle, style = solid, fontsize = 14]\n",
      "\t1 -> 2 [label = \"c:z/2.5\", fontsize = 14];\n",
      "2 [label = \"2/3.5\", shape = doublecircle, style = solid, fontsize = 14]\n",
      "}\n"
     ]
    }
   ],
   "source": [
    "cat binary.dot"
   ]
  },
  {
   "cell_type": "code",
   "execution_count": 20,
   "metadata": {},
   "outputs": [
    {
     "name": "stdout",
     "output_type": "stream",
     "text": [
      "/usr/bin/python: No module named print('hello')\n"
     ]
    },
    {
     "ename": "",
     "evalue": "1",
     "output_type": "error",
     "traceback": []
    }
   ],
   "source": []
  }
 ],
 "metadata": {
  "kernelspec": {
   "display_name": "Bash",
   "language": "bash",
   "name": "bash"
  },
  "language_info": {
   "codemirror_mode": "shell",
   "file_extension": ".sh",
   "mimetype": "text/x-sh",
   "name": "bash"
  }
 },
 "nbformat": 4,
 "nbformat_minor": 2
}
