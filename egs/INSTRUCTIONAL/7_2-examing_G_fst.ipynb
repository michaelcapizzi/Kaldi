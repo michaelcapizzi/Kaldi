{
 "cells": [
  {
   "cell_type": "markdown",
   "metadata": {},
   "source": [
    "# 7.2: Examining `G.fst` with `openFST` \n",
    "## (in `python` with `pywrapfst`)"
   ]
  },
  {
   "cell_type": "markdown",
   "metadata": {},
   "source": [
    "`openFST` has a `python` wrapper called [`pywrapfst`](http://www.openfst.org/twiki/bin/view/FST/PythonExtension) that gives us *most* of the functionality of `openFST` but from inside `python`."
   ]
  },
  {
   "cell_type": "code",
   "execution_count": 2,
   "metadata": {},
   "outputs": [
    {
     "ename": "ImportError",
     "evalue": "No module named pywrapfst",
     "output_type": "error",
     "traceback": [
      "\u001b[0;31m---------------------------------------------------------------------------\u001b[0m",
      "\u001b[0;31mImportError\u001b[0m                               Traceback (most recent call last)",
      "\u001b[0;32m<ipython-input-2-f587a9651bae>\u001b[0m in \u001b[0;36m<module>\u001b[0;34m()\u001b[0m\n\u001b[1;32m      3\u001b[0m \u001b[0msys\u001b[0m\u001b[0;34m.\u001b[0m\u001b[0mpath\u001b[0m\u001b[0;34m.\u001b[0m\u001b[0mappend\u001b[0m\u001b[0;34m(\u001b[0m\u001b[0;34m\"/home/kaldi/tools/openfst-1.6.2/lib/python2.7/site-packages\"\u001b[0m\u001b[0;34m)\u001b[0m\u001b[0;34m\u001b[0m\u001b[0m\n\u001b[1;32m      4\u001b[0m \u001b[0;34m\u001b[0m\u001b[0m\n\u001b[0;32m----> 5\u001b[0;31m \u001b[0;32mimport\u001b[0m \u001b[0mpywrapfst\u001b[0m \u001b[0;32mas\u001b[0m \u001b[0mfst\u001b[0m  \u001b[0;31m# the wrapper module\u001b[0m\u001b[0;34m\u001b[0m\u001b[0m\n\u001b[0m\u001b[1;32m      6\u001b[0m \u001b[0;32mimport\u001b[0m \u001b[0mgraphviz\u001b[0m \u001b[0;32mas\u001b[0m \u001b[0mdot\u001b[0m   \u001b[0;31m# a wrapper for graphviz, which will allow us to visualize\u001b[0m\u001b[0;34m\u001b[0m\u001b[0m\n",
      "\u001b[0;31mImportError\u001b[0m: No module named pywrapfst"
     ]
    }
   ],
   "source": [
    "# because of the way `kaldi` installed `openFST` we have to add the path to the python functions here\n",
    "import sys\n",
    "sys.path.append(\"/home/kaldi/tools/openfst-1.6.2/lib/python2.7/site-packages\")    \n",
    "\n",
    "import pywrapfst as fst  # the wrapper module\n",
    "import graphviz as dot   # a wrapper for graphviz, which will allow us to visualize"
   ]
  },
  {
   "cell_type": "code",
   "execution_count": 3,
   "metadata": {},
   "outputs": [
    {
     "ename": "NameError",
     "evalue": "name 'fst' is not defined",
     "output_type": "error",
     "traceback": [
      "\u001b[0;31m---------------------------------------------------------------------------\u001b[0m",
      "\u001b[0;31mNameError\u001b[0m                                 Traceback (most recent call last)",
      "\u001b[0;32m<ipython-input-3-577d5bd53ae4>\u001b[0m in \u001b[0;36m<module>\u001b[0;34m()\u001b[0m\n\u001b[0;32m----> 1\u001b[0;31m \u001b[0mv\u001b[0m \u001b[0;34m=\u001b[0m \u001b[0mfst\u001b[0m\u001b[0;34m.\u001b[0m\u001b[0mFst\u001b[0m\u001b[0;34m.\u001b[0m\u001b[0mread\u001b[0m\u001b[0;34m(\u001b[0m\u001b[0;34m\"resource_files/fst/animal_fst-2_gram.fst\"\u001b[0m\u001b[0;34m)\u001b[0m\u001b[0;34m\u001b[0m\u001b[0m\n\u001b[0m\u001b[1;32m      2\u001b[0m \u001b[0;32mprint\u001b[0m\u001b[0;34m(\u001b[0m\u001b[0mv\u001b[0m\u001b[0;34m)\u001b[0m\u001b[0;34m\u001b[0m\u001b[0m\n",
      "\u001b[0;31mNameError\u001b[0m: name 'fst' is not defined"
     ]
    }
   ],
   "source": [
    "v = fst.Fst.read(\"resource_files/fst/animal_fst-2_gram.fst\")\n",
    "print(v)"
   ]
  },
  {
   "cell_type": "code",
   "execution_count": null,
   "metadata": {},
   "outputs": [],
   "source": []
  },
  {
   "cell_type": "code",
   "execution_count": null,
   "metadata": {},
   "outputs": [],
   "source": []
  },
  {
   "cell_type": "code",
   "execution_count": null,
   "metadata": {},
   "outputs": [],
   "source": []
  },
  {
   "cell_type": "code",
   "execution_count": null,
   "metadata": {},
   "outputs": [],
   "source": []
  },
  {
   "cell_type": "code",
   "execution_count": null,
   "metadata": {},
   "outputs": [],
   "source": []
  },
  {
   "cell_type": "markdown",
   "metadata": {},
   "source": [
    "## creating `fst`"
   ]
  },
  {
   "cell_type": "code",
   "execution_count": 14,
   "metadata": {},
   "outputs": [
    {
     "data": {
      "text/plain": [
       "True"
      ]
     },
     "execution_count": 14,
     "metadata": {},
     "output_type": "execute_result"
    }
   ],
   "source": [
    "f = fst.Fst()\n",
    "s = f.add_state()\n",
    "f.set_start(s)\n",
    "n = f.add_state()\n",
    "f.verify()"
   ]
  },
  {
   "cell_type": "code",
   "execution_count": 15,
   "metadata": {},
   "outputs": [
    {
     "name": "stdout",
     "output_type": "stream",
     "text": [
      "0\tInfinity\n",
      "1\tInfinity\n",
      "\n"
     ]
    }
   ],
   "source": [
    "print(f)"
   ]
  },
  {
   "cell_type": "markdown",
   "metadata": {},
   "source": [
    "## loading `fst`"
   ]
  },
  {
   "cell_type": "code",
   "execution_count": 17,
   "metadata": {},
   "outputs": [
    {
     "name": "stdout",
     "output_type": "stream",
     "text": [
      "0\t1\t1\t0.5\n",
      "0\t1\t2\t1.5\n",
      "1\t2\t3\t2.5\n",
      "2\t3.5\n",
      "\n"
     ]
    }
   ],
   "source": [
    "v = fst.Fst.read(\"binary.fst\")\n",
    "print(v)"
   ]
  },
  {
   "cell_type": "markdown",
   "metadata": {},
   "source": [
    "## drawing `fst` in `dot`"
   ]
  },
  {
   "cell_type": "code",
   "execution_count": 20,
   "metadata": {},
   "outputs": [],
   "source": [
    "v.draw(\"binary.gv\")"
   ]
  },
  {
   "cell_type": "code",
   "execution_count": 38,
   "metadata": {},
   "outputs": [
    {
     "name": "stdout",
     "output_type": "stream",
     "text": [
      "digraph FST {\n",
      "rankdir = LR;\n",
      "size = \"8.5,11\";\n",
      "label = \"\";\n",
      "center = 1;\n",
      "orientation = Landscape;\n",
      "ranksep = \"0.4\";\n",
      "nodesep = \"0.25\";\n",
      "0 [label = \"0\", shape = circle, style = bold, fontsize = 14]\n",
      "\t0 -> 1 [label = \"1:1/0.5\", fontsize = 14];\n",
      "\t0 -> 1 [label = \"2:2/1.5\", fontsize = 14];\n",
      "1 [label = \"1\", shape = circle, style = solid, fontsize = 14]\n",
      "\t1 -> 2 [label = \"3:3/2.5\", fontsize = 14];\n",
      "2 [label = \"2/3.5\", shape = doublecircle, style = solid, fontsize = 14]\n",
      "}\n"
     ]
    }
   ],
   "source": [
    "%%bash\n",
    "cat binary.gv"
   ]
  },
  {
   "cell_type": "markdown",
   "metadata": {},
   "source": [
    "## loading `.dot` from file"
   ]
  },
  {
   "cell_type": "code",
   "execution_count": 10,
   "metadata": {
    "scrolled": false
   },
   "outputs": [
    {
     "data": {
      "image/svg+xml": [
       "<?xml version=\"1.0\" encoding=\"UTF-8\" standalone=\"no\"?>\n",
       "<!DOCTYPE svg PUBLIC \"-//W3C//DTD SVG 1.1//EN\"\n",
       " \"http://www.w3.org/Graphics/SVG/1.1/DTD/svg11.dtd\">\n",
       "<!-- Generated by graphviz version 2.38.0 (20140413.2041)\n",
       " -->\n",
       "<!-- Title: FST Pages: 1 -->\n",
       "<svg width=\"85pt\" height=\"314pt\"\n",
       " viewBox=\"0.00 0.00 313.89 84.89\" xmlns=\"http://www.w3.org/2000/svg\" xmlns:xlink=\"http://www.w3.org/1999/xlink\">\n",
       "<g id=\"graph0\" class=\"graph\" transform=\"scale(1 1) rotate(-90) translate(-309.894 80.8939)\">\n",
       "<title>FST</title>\n",
       "<polygon fill=\"white\" stroke=\"none\" points=\"-4,4 -4,-80.8939 309.894,-80.8939 309.894,4 -4,4\"/>\n",
       "<!-- 0 -->\n",
       "<g id=\"node1\" class=\"node\"><title>0</title>\n",
       "<ellipse fill=\"none\" stroke=\"black\" stroke-width=\"2\" cx=\"18\" cy=\"-38.4469\" rx=\"18\" ry=\"18\"/>\n",
       "<text text-anchor=\"middle\" x=\"18\" y=\"-34.7469\" font-family=\"Times,serif\" font-size=\"14.00\">0</text>\n",
       "</g>\n",
       "<!-- 1 -->\n",
       "<g id=\"node2\" class=\"node\"><title>1</title>\n",
       "<ellipse fill=\"none\" stroke=\"black\" cx=\"133\" cy=\"-38.4469\" rx=\"18\" ry=\"18\"/>\n",
       "<text text-anchor=\"middle\" x=\"133\" y=\"-34.7469\" font-family=\"Times,serif\" font-size=\"14.00\">1</text>\n",
       "</g>\n",
       "<!-- 0&#45;&gt;1 -->\n",
       "<g id=\"edge1\" class=\"edge\"><title>0&#45;&gt;1</title>\n",
       "<path fill=\"none\" stroke=\"black\" d=\"M36.1623,-38.4469C54.3315,-38.4469 83.2753,-38.4469 104.606,-38.4469\"/>\n",
       "<polygon fill=\"black\" stroke=\"black\" points=\"104.676,-41.947 114.676,-38.4469 104.676,-34.947 104.676,-41.947\"/>\n",
       "<text text-anchor=\"middle\" x=\"75.5\" y=\"-42.2469\" font-family=\"Times,serif\" font-size=\"14.00\">a:x/0.5</text>\n",
       "</g>\n",
       "<!-- 0&#45;&gt;1 -->\n",
       "<g id=\"edge2\" class=\"edge\"><title>0&#45;&gt;1</title>\n",
       "<path fill=\"none\" stroke=\"black\" d=\"M32.9086,-27.9861C38.2739,-24.5621 44.6448,-21.1915 51,-19.4469 72.0009,-13.6821 78.9991,-13.6821 100,-19.4469 103.078,-20.2919 106.16,-21.5185 109.13,-22.9478\"/>\n",
       "<polygon fill=\"black\" stroke=\"black\" points=\"107.659,-26.1362 118.091,-27.9861 111.09,-20.0344 107.659,-26.1362\"/>\n",
       "<text text-anchor=\"middle\" x=\"75.5\" y=\"-23.2469\" font-family=\"Times,serif\" font-size=\"14.00\">b:y/1.5</text>\n",
       "</g>\n",
       "<!-- 2 -->\n",
       "<g id=\"node3\" class=\"node\"><title>2</title>\n",
       "<ellipse fill=\"none\" stroke=\"black\" cx=\"267.447\" cy=\"-38.4469\" rx=\"34.3995\" ry=\"34.3995\"/>\n",
       "<ellipse fill=\"none\" stroke=\"black\" cx=\"267.447\" cy=\"-38.4469\" rx=\"38.394\" ry=\"38.394\"/>\n",
       "<text text-anchor=\"middle\" x=\"267.447\" y=\"-34.7469\" font-family=\"Times,serif\" font-size=\"14.00\">2/3.5</text>\n",
       "</g>\n",
       "<!-- 1&#45;&gt;2 -->\n",
       "<g id=\"edge3\" class=\"edge\"><title>1&#45;&gt;2</title>\n",
       "<path fill=\"none\" stroke=\"black\" d=\"M151.044,-38.4469C168.085,-38.4469 195.079,-38.4469 218.676,-38.4469\"/>\n",
       "<polygon fill=\"black\" stroke=\"black\" points=\"218.886,-41.947 228.886,-38.4469 218.886,-34.947 218.886,-41.947\"/>\n",
       "<text text-anchor=\"middle\" x=\"190\" y=\"-42.2469\" font-family=\"Times,serif\" font-size=\"14.00\">c:z/2.5</text>\n",
       "</g>\n",
       "</g>\n",
       "</svg>\n"
      ],
      "text/plain": [
       "<graphviz.files.Source at 0x7f54029e0750>"
      ]
     },
     "execution_count": 10,
     "metadata": {},
     "output_type": "execute_result"
    }
   ],
   "source": [
    "dot.Source.from_file(\"binary.dot\")"
   ]
  },
  {
   "cell_type": "code",
   "execution_count": 35,
   "metadata": {},
   "outputs": [
    {
     "name": "stdout",
     "output_type": "stream",
     "text": [
      "digraph FST {\n",
      "rankdir = LR;\n",
      "size = \"8.5,11\";\n",
      "label = \"\";\n",
      "center = 1;\n",
      "orientation = Landscape;\n",
      "ranksep = \"0.4\";\n",
      "nodesep = \"0.25\";\n",
      "0 [label = \"0\", shape = circle, style = bold, fontsize = 14]\n",
      "\t0 -> 1 [label = \"a:x/0.5\", fontsize = 14];\n",
      "\t0 -> 1 [label = \"b:y/1.5\", fontsize = 14];\n",
      "1 [label = \"1\", shape = circle, style = solid, fontsize = 14]\n",
      "\t1 -> 2 [label = \"c:z/2.5\", fontsize = 14];\n",
      "2 [label = \"2/3.5\", shape = doublecircle, style = solid, fontsize = 14]\n",
      "}\n"
     ]
    }
   ],
   "source": [
    "%%bash\n",
    "# orientation = Landscape ruins the image here\n",
    "cat binary.dot"
   ]
  },
  {
   "cell_type": "code",
   "execution_count": 36,
   "metadata": {},
   "outputs": [],
   "source": [
    "raw_dot_string = \"\"\"\n",
    "digraph FST {\n",
    "rankdir = LR;\n",
    "size = \"8.5,11\";\n",
    "label = \"\";\n",
    "center = 1;\n",
    "ranksep = \"0.4\";\n",
    "nodesep = \"0.25\";\n",
    "0 [label = \"0\", shape = circle, style = bold, fontsize = 14]\n",
    "        0 -> 1 [label = \"1:1/0.5\", fontsize = 14];\n",
    "        0 -> 1 [label = \"2:2/1.5\", fontsize = 14];\n",
    "1 [label = \"1\", shape = circle, style = solid, fontsize = 14]\n",
    "        1 -> 2 [label = \"3:3/2.5\", fontsize = 14];\n",
    "2 [label = \"2/3.5\", shape = doublecircle, style = solid, fontsize = 14]\n",
    "}\n",
    "\"\"\""
   ]
  },
  {
   "cell_type": "code",
   "execution_count": 37,
   "metadata": {},
   "outputs": [
    {
     "data": {
      "image/svg+xml": [
       "<?xml version=\"1.0\" encoding=\"UTF-8\" standalone=\"no\"?>\n",
       "<!DOCTYPE svg PUBLIC \"-//W3C//DTD SVG 1.1//EN\"\n",
       " \"http://www.w3.org/Graphics/SVG/1.1/DTD/svg11.dtd\">\n",
       "<!-- Generated by graphviz version 2.38.0 (20140413.2041)\n",
       " -->\n",
       "<!-- Title: FST Pages: 1 -->\n",
       "<svg width=\"317pt\" height=\"85pt\"\n",
       " viewBox=\"0.00 0.00 316.89 84.89\" xmlns=\"http://www.w3.org/2000/svg\" xmlns:xlink=\"http://www.w3.org/1999/xlink\">\n",
       "<g id=\"graph0\" class=\"graph\" transform=\"scale(1 1) rotate(0) translate(4 80.8939)\">\n",
       "<title>FST</title>\n",
       "<polygon fill=\"white\" stroke=\"none\" points=\"-4,4 -4,-80.8939 312.894,-80.8939 312.894,4 -4,4\"/>\n",
       "<!-- 0 -->\n",
       "<g id=\"node1\" class=\"node\"><title>0</title>\n",
       "<ellipse fill=\"none\" stroke=\"black\" stroke-width=\"2\" cx=\"18\" cy=\"-38.4469\" rx=\"18\" ry=\"18\"/>\n",
       "<text text-anchor=\"middle\" x=\"18\" y=\"-34.7469\" font-family=\"Times,serif\" font-size=\"14.00\">0</text>\n",
       "</g>\n",
       "<!-- 1 -->\n",
       "<g id=\"node2\" class=\"node\"><title>1</title>\n",
       "<ellipse fill=\"none\" stroke=\"black\" cx=\"134\" cy=\"-38.4469\" rx=\"18\" ry=\"18\"/>\n",
       "<text text-anchor=\"middle\" x=\"134\" y=\"-34.7469\" font-family=\"Times,serif\" font-size=\"14.00\">1</text>\n",
       "</g>\n",
       "<!-- 0&#45;&gt;1 -->\n",
       "<g id=\"edge1\" class=\"edge\"><title>0&#45;&gt;1</title>\n",
       "<path fill=\"none\" stroke=\"black\" d=\"M36.3141,-38.4469C54.7507,-38.4469 84.184,-38.4469 105.738,-38.4469\"/>\n",
       "<polygon fill=\"black\" stroke=\"black\" points=\"105.896,-41.947 115.896,-38.4469 105.896,-34.947 105.896,-41.947\"/>\n",
       "<text text-anchor=\"middle\" x=\"76\" y=\"-42.2469\" font-family=\"Times,serif\" font-size=\"14.00\">1:1/0.5</text>\n",
       "</g>\n",
       "<!-- 0&#45;&gt;1 -->\n",
       "<g id=\"edge2\" class=\"edge\"><title>0&#45;&gt;1</title>\n",
       "<path fill=\"none\" stroke=\"black\" d=\"M32.9086,-27.9861C38.2739,-24.5621 44.6448,-21.1915 51,-19.4469 72.4295,-13.5644 79.5705,-13.5644 101,-19.4469 104.078,-20.2919 107.16,-21.5185 110.13,-22.9478\"/>\n",
       "<polygon fill=\"black\" stroke=\"black\" points=\"108.659,-26.1362 119.091,-27.9861 112.09,-20.0344 108.659,-26.1362\"/>\n",
       "<text text-anchor=\"middle\" x=\"76\" y=\"-23.2469\" font-family=\"Times,serif\" font-size=\"14.00\">2:2/1.5</text>\n",
       "</g>\n",
       "<!-- 2 -->\n",
       "<g id=\"node3\" class=\"node\"><title>2</title>\n",
       "<ellipse fill=\"none\" stroke=\"black\" cx=\"270.447\" cy=\"-38.4469\" rx=\"34.3995\" ry=\"34.3995\"/>\n",
       "<ellipse fill=\"none\" stroke=\"black\" cx=\"270.447\" cy=\"-38.4469\" rx=\"38.394\" ry=\"38.394\"/>\n",
       "<text text-anchor=\"middle\" x=\"270.447\" y=\"-34.7469\" font-family=\"Times,serif\" font-size=\"14.00\">2/3.5</text>\n",
       "</g>\n",
       "<!-- 1&#45;&gt;2 -->\n",
       "<g id=\"edge3\" class=\"edge\"><title>1&#45;&gt;2</title>\n",
       "<path fill=\"none\" stroke=\"black\" d=\"M152.028,-38.4469C169.525,-38.4469 197.563,-38.4469 221.853,-38.4469\"/>\n",
       "<polygon fill=\"black\" stroke=\"black\" points=\"221.992,-41.947 231.992,-38.4469 221.992,-34.947 221.992,-41.947\"/>\n",
       "<text text-anchor=\"middle\" x=\"192\" y=\"-42.2469\" font-family=\"Times,serif\" font-size=\"14.00\">3:3/2.5</text>\n",
       "</g>\n",
       "</g>\n",
       "</svg>\n"
      ],
      "text/plain": [
       "<graphviz.files.Source at 0x7f540298ab90>"
      ]
     },
     "execution_count": 37,
     "metadata": {},
     "output_type": "execute_result"
    }
   ],
   "source": [
    "dot_string = dot.Source(raw_dot_string)\n",
    "dot_string"
   ]
  }
 ],
 "metadata": {
  "kernelspec": {
   "display_name": "Python 2",
   "language": "python",
   "name": "python2"
  },
  "language_info": {
   "codemirror_mode": {
    "name": "ipython",
    "version": 2
   },
   "file_extension": ".py",
   "mimetype": "text/x-python",
   "name": "python",
   "nbconvert_exporter": "python",
   "pygments_lexer": "ipython2",
   "version": "2.7.12"
  }
 },
 "nbformat": 4,
 "nbformat_minor": 2
}
