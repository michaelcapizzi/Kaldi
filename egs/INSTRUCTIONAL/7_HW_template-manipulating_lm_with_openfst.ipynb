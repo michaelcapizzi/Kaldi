{
 "cells": [
  {
   "cell_type": "markdown",
   "metadata": {},
   "source": [
    "# 7.HW: Manipulating language model with `openFST`"
   ]
  },
  {
   "cell_type": "markdown",
   "metadata": {},
   "source": [
    "## Task\n",
    "\n",
    "Using the ??? section of `7_1-openFST.ipynb` as an example, develop a case study that analyzes some manipulation of the language model using `openFST`.\n",
    "\n",
    "### Suggestions\n",
    "\n",
    "- ???\n"
   ]
  },
  {
   "cell_type": "markdown",
   "metadata": {},
   "source": [
    "## Procedure\n",
    "\n",
    "  1. Copy this notebook and rename it `7_HW_[your-last-name]-examining_mfccs.ipynb`.  This is **vital** so as not to create `git conflict`s!\n",
    "  2. Add your case study to the section below\n",
    "  3. Save your finished `notebook` as `html`: `File` - `Download As` - `HTML`.\n",
    "  4. Post your `html` file to http://uakaldiinstructional.mybb.us/viewtopic.php?id=6#p6 **BEFORE** our next Friday meeting."
   ]
  },
  {
   "cell_type": "markdown",
   "metadata": {},
   "source": [
    "## Case Study: ???"
   ]
  }
 ],
 "metadata": {
  "kernelspec": {
   "display_name": "Python 2",
   "language": "python",
   "name": "python2"
  },
  "language_info": {
   "codemirror_mode": {
    "name": "ipython",
    "version": 2
   },
   "file_extension": ".py",
   "mimetype": "text/x-python",
   "name": "python",
   "nbconvert_exporter": "python",
   "pygments_lexer": "ipython2",
   "version": "2.7.12"
  }
 },
 "nbformat": 4,
 "nbformat_minor": 2
}
