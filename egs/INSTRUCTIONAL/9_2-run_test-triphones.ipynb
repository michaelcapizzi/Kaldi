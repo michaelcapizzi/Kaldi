{
 "cells": [
  {
   "cell_type": "markdown",
   "metadata": {},
   "source": [
    "# 9.2: `run_test.sh` - Decoding the `test` set using `triphones` acoustic model\n",
    "\n",
    "This time will use our `triphone` acoustic model for decoding."
   ]
  },
  {
   "cell_type": "markdown",
   "metadata": {},
   "source": [
    "## Setting `kaldi_config.json`\n",
    "\n",
    "Edit the **last** section (`run_test`) of `kaldi_config.json` to use the following arguments:\n",
    " - `graph_dir`=`exp/triphones/graph`  # will use the HCLG from the triphones acoustic model\n",
    " - `data_test_dir`=`data/test_dir`     # location of already-processed (during run_prepare_data.sh) test data\n",
    " - `decode_dir`=`exp/triphones/decode_test_dir`         # location to house all logs and output files\n",
    " - `weight`=`10`         # default value for language modeling weight\n",
    " - `beam`=`6.0`          # default value for beam search \n",
    " - `max_active`=`7000`   # default value for max_active nodes\n",
    " - `save_to`=`exp/experiments/default_experiment_triphones`   # location to save results and predicted transcripts\n",
    " - `non_vanilla_lda_mllt_align_hyperparameters`=`null`"
   ]
  },
  {
   "cell_type": "code",
   "execution_count": null,
   "metadata": {},
   "outputs": [],
   "source": [
    "head -n22 run_test.sh"
   ]
  },
  {
   "cell_type": "markdown",
   "metadata": {},
   "source": [
    "## Running `run_test.sh`\n",
    "\n",
    "Run `run_test.sh`.  If you set `n=250` in the first notebook, this step should take about 10 minutes.\n",
    "\n",
    "**Note**:  You will see a warning describing a mismatch in the number of lines in some files.  \n",
    "\n",
    "```\n",
    "** split_data.sh: warning, #lines is (utt2spk,feats.scp) is (500,2620); you can \n",
    "**  use utils/fix_data_dir.sh data/test_dir/ to fix this.\n",
    "** split_data.sh: warning, #lines is (utt2spk,text) is (500,2620); you can \n",
    "** use utils/fix_data_dir.sh to fix this.\n",
    "```\n",
    "\n",
    "This is because we took a subset of the `utt2spk` file in an earlier notebook.  You do **NOT** need to worry about the warning."
   ]
  },
  {
   "cell_type": "code",
   "execution_count": 3,
   "metadata": {},
   "outputs": [
    {
     "name": "stdout",
     "output_type": "stream",
     "text": [
      "Timestamp in HH:MM:SS (24 hour format)\n",
      "21:13:17\n",
      "\n",
      "/scratch/kaldi/egs/INSTRUCTIONAL/steps/decode.sh --model exp/triphones/final.mdl --nj 4 --beam 13.0 --max_active 7000 --scoring-opts --min-lmwt 8 --max-lmwt 12 exp/triphones/graph data/test_dir/ exp/triphones/decode_test_dir\n",
      "decode.sh: feature type is delta\n",
      "Timestamp in HH:MM:SS (24 hour format)\n",
      "21:26:14\n",
      "\n",
      "exp/triphones/decode_test_dir/wer_10:%WER 99.38 [ 5773 / 5809, 2 ins, 2099 del, 3672 sub ] [PARTIAL]\n",
      "exp/triphones/decode_test_dir/wer_11:%WER 99.36 [ 5772 / 5809, 2 ins, 2131 del, 3639 sub ] [PARTIAL]\n",
      "exp/triphones/decode_test_dir/wer_12:%WER 99.33 [ 5770 / 5809, 0 ins, 2164 del, 3606 sub ] [PARTIAL]\n",
      "exp/triphones/decode_test_dir/wer_8:%WER 99.47 [ 5778 / 5809, 7 ins, 2034 del, 3737 sub ] [PARTIAL]\n",
      "exp/triphones/decode_test_dir/wer_9:%WER 99.41 [ 5775 / 5809, 4 ins, 2067 del, 3704 sub ] [PARTIAL]\n",
      "\n",
      "exp/triphones/decode_test_dir/wer_10:%SER 100.00 [ 250 / 250 ]\n",
      "exp/triphones/decode_test_dir/wer_11:%SER 100.00 [ 250 / 250 ]\n",
      "exp/triphones/decode_test_dir/wer_12:%SER 100.00 [ 250 / 250 ]\n",
      "exp/triphones/decode_test_dir/wer_8:%SER 100.00 [ 250 / 250 ]\n",
      "exp/triphones/decode_test_dir/wer_9:%SER 100.00 [ 250 / 250 ]\n"
     ]
    }
   ],
   "source": [
    "./run_test.sh kaldi_config.json"
   ]
  }
 ],
 "metadata": {
  "kernelspec": {
   "display_name": "Bash",
   "language": "bash",
   "name": "bash"
  },
  "language_info": {
   "codemirror_mode": "shell",
   "file_extension": ".sh",
   "mimetype": "text/x-sh",
   "name": "bash"
  }
 },
 "nbformat": 4,
 "nbformat_minor": 2
}
