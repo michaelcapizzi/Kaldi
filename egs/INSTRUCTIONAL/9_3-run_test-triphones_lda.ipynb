{
 "cells": [
  {
   "cell_type": "markdown",
   "metadata": {},
   "source": [
    "# 9.3: `run_test.sh` - Decoding the `test` set using `triphones_lda` acoustic model\n",
    "\n",
    "This time will use our `triphone_lda` acoustic model for decoding."
   ]
  },
  {
   "cell_type": "markdown",
   "metadata": {},
   "source": [
    "## Setting `kaldi_config.json`\n",
    "\n",
    "Edit the **last** section (`run_test`) of `kaldi_config.json` to use the following arguments:\n",
    " - `graph_dir`=`exp/triphones_lda/graph`  # will use the HCLG from the triphones_lda acoustic model\n",
    " - `data_test_dir`=`data/test_dir`     # location of already-processed (during run_prepare_data.sh) test data\n",
    " - `decode_dir`=`exp/triphones_lda/decode_test_dir`         # location to house all logs and output files\n",
    " - `weight`=`10`         # default value for language modeling weight\n",
    " - `beam`=`6.0`          # default value for beam search \n",
    " - `max_active`=`7000`   # default value for max_active nodes\n",
    " - `save_to`=`exp/experiments/default_experiment_triphones_lda`   # location to save results and predicted transcripts\n",
    " - `non_vanilla_lda_mllt_align_hyperparameters`=`null`"
   ]
  },
  {
   "cell_type": "code",
   "execution_count": null,
   "metadata": {},
   "outputs": [],
   "source": [
    "head -n22 run_test.sh"
   ]
  },
  {
   "cell_type": "markdown",
   "metadata": {},
   "source": [
    "## Running `run_test.sh`\n",
    "\n",
    "Run `run_test.sh`."
   ]
  },
  {
   "cell_type": "code",
   "execution_count": 1,
   "metadata": {},
   "outputs": [
    {
     "name": "stdout",
     "output_type": "stream",
     "text": [
      "Timestamp in HH:MM:SS (24 hour format)\n",
      "19:14:26\n",
      "\n",
      "/scratch/kaldi/egs/INSTRUCTIONAL/steps/decode.sh --model exp/triphones_lda/final.mdl --nj 4 --beam 13.0 --max_active 7000 --scoring-opts --min-lmwt 8 --max-lmwt 12 exp/triphones_lda/graph data/test_dir/ exp/triphones_lda/decode_test_dir\n",
      "decode.sh: feature type is lda\n",
      "/scratch/kaldi/egs/INSTRUCTIONAL/steps/diagnostic/analyze_lats.sh --acwt 0.12 exp/triphones_lda/graph exp/triphones_lda/decode_test_dir\n",
      "/scratch/kaldi/egs/INSTRUCTIONAL/steps/diagnostic/analyze_lats.sh: see stats in exp/triphones_lda/decode_test_dir/log/analyze_alignments.log\n",
      "Overall, lattice depth (10,50,90-percentile)=(1,6,32) and mean=13.3\n",
      "/scratch/kaldi/egs/INSTRUCTIONAL/steps/diagnostic/analyze_lats.sh: see stats in exp/triphones_lda/decode_test_dir/log/analyze_lattice_depth_stats.log\n",
      "/scratch/kaldi/egs/INSTRUCTIONAL/steps/diagnostic/analyze_lats.sh --acwt 0.11 exp/triphones_lda/graph exp/triphones_lda/decode_test_dir\n",
      "/scratch/kaldi/egs/INSTRUCTIONAL/steps/diagnostic/analyze_lats.sh: see stats in exp/triphones_lda/decode_test_dir/log/analyze_alignments.log\n",
      "Overall, lattice depth (10,50,90-percentile)=(1,6,32) and mean=13.3\n",
      "/scratch/kaldi/egs/INSTRUCTIONAL/steps/diagnostic/analyze_lats.sh: see stats in exp/triphones_lda/decode_test_dir/log/analyze_lattice_depth_stats.log\n",
      "/scratch/kaldi/egs/INSTRUCTIONAL/steps/diagnostic/analyze_lats.sh --acwt 0.10 exp/triphones_lda/graph exp/triphones_lda/decode_test_dir\n",
      "/scratch/kaldi/egs/INSTRUCTIONAL/steps/diagnostic/analyze_lats.sh: see stats in exp/triphones_lda/decode_test_dir/log/analyze_alignments.log\n",
      "Overall, lattice depth (10,50,90-percentile)=(1,6,32) and mean=13.3\n",
      "/scratch/kaldi/egs/INSTRUCTIONAL/steps/diagnostic/analyze_lats.sh: see stats in exp/triphones_lda/decode_test_dir/log/analyze_lattice_depth_stats.log\n",
      "/scratch/kaldi/egs/INSTRUCTIONAL/steps/diagnostic/analyze_lats.sh --acwt 0.09 exp/triphones_lda/graph exp/triphones_lda/decode_test_dir\n",
      "/scratch/kaldi/egs/INSTRUCTIONAL/steps/diagnostic/analyze_lats.sh: see stats in exp/triphones_lda/decode_test_dir/log/analyze_alignments.log\n",
      "Overall, lattice depth (10,50,90-percentile)=(1,6,32) and mean=13.3\n",
      "/scratch/kaldi/egs/INSTRUCTIONAL/steps/diagnostic/analyze_lats.sh: see stats in exp/triphones_lda/decode_test_dir/log/analyze_lattice_depth_stats.log\n",
      "/scratch/kaldi/egs/INSTRUCTIONAL/steps/diagnostic/analyze_lats.sh --acwt 0.08 exp/triphones_lda/graph exp/triphones_lda/decode_test_dir\n",
      "/scratch/kaldi/egs/INSTRUCTIONAL/steps/diagnostic/analyze_lats.sh: see stats in exp/triphones_lda/decode_test_dir/log/analyze_alignments.log\n",
      "Overall, lattice depth (10,50,90-percentile)=(1,6,32) and mean=13.3\n",
      "/scratch/kaldi/egs/INSTRUCTIONAL/steps/diagnostic/analyze_lats.sh: see stats in exp/triphones_lda/decode_test_dir/log/analyze_lattice_depth_stats.log\n",
      "\n",
      "Time to decode and score in MM:SS\n",
      "8:38\n",
      "\n",
      "exp/triphones_lda/decode_test_dir/wer_10:%WER 29.64 [ 1722 / 5809, 261 ins, 145 del, 1316 sub ] [PARTIAL]\n",
      "exp/triphones_lda/decode_test_dir/wer_11:%WER 28.70 [ 1667 / 5809, 241 ins, 149 del, 1277 sub ] [PARTIAL]\n",
      "exp/triphones_lda/decode_test_dir/wer_12:%WER 27.66 [ 1607 / 5809, 212 ins, 154 del, 1241 sub ] [PARTIAL]\n",
      "exp/triphones_lda/decode_test_dir/wer_8:%WER 33.16 [ 1926 / 5809, 333 ins, 128 del, 1465 sub ] [PARTIAL]\n",
      "exp/triphones_lda/decode_test_dir/wer_9:%WER 31.52 [ 1831 / 5809, 293 ins, 141 del, 1397 sub ] [PARTIAL]\n",
      "\n",
      "exp/triphones_lda/decode_test_dir/wer_10:%SER 94.80 [ 237 / 250 ]\n",
      "exp/triphones_lda/decode_test_dir/wer_11:%SER 94.40 [ 236 / 250 ]\n",
      "exp/triphones_lda/decode_test_dir/wer_12:%SER 94.00 [ 235 / 250 ]\n",
      "exp/triphones_lda/decode_test_dir/wer_8:%SER 95.60 [ 239 / 250 ]\n",
      "exp/triphones_lda/decode_test_dir/wer_9:%SER 95.60 [ 239 / 250 ]\n"
     ]
    }
   ],
   "source": [
    "./run_test.sh kaldi_config.json"
   ]
  }
 ],
 "metadata": {
  "kernelspec": {
   "display_name": "Bash",
   "language": "bash",
   "name": "bash"
  },
  "language_info": {
   "codemirror_mode": "shell",
   "file_extension": ".sh",
   "mimetype": "text/x-sh",
   "name": "bash"
  }
 },
 "nbformat": 4,
 "nbformat_minor": 2
}
